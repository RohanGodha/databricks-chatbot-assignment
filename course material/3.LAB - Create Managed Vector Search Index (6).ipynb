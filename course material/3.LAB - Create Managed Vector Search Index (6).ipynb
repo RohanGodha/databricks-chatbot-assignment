{
 "cells": [
  {
   "cell_type": "markdown",
   "metadata": {
    "application/vnd.databricks.v1+cell": {
     "cellMetadata": {
      "byteLimit": 2048000,
      "rowLimit": 10000
     },
     "inputWidgets": {},
     "nuid": "d7fecf59-4153-4553-96d2-d54733c5a97b",
     "showTitle": false,
     "tableResultSettingsMap": {},
     "title": ""
    }
   },
   "source": [
    "\n",
    "<div style=\"text-align: center; line-height: 0; padding-top: 9px;\">\n",
    "  <img src=\"https://databricks.com/wp-content/uploads/2018/03/db-academy-rgb-1200px.png\" alt=\"Databricks Learning\">\n",
    "</div>\n"
   ]
  },
  {
   "cell_type": "markdown",
   "metadata": {
    "application/vnd.databricks.v1+cell": {
     "cellMetadata": {
      "byteLimit": 2048000,
      "rowLimit": 10000
     },
     "inputWidgets": {},
     "nuid": "aace5fb2-751f-4746-81af-177744f80010",
     "showTitle": false,
     "tableResultSettingsMap": {},
     "title": ""
    }
   },
   "source": [
    "\n",
    "# LAB - Create Managed Vector Search Index\n",
    "\n",
    "The objective of this lab is to demonstrate the process of creating a **managed** Vector Search index for retrieval-augmented generation (RAG) applications. This involves configuring Databricks Vector Search to ingest data from a Delta table containing text embeddings and metadata.\n",
    "\n",
    "\n",
    "\n",
    "**Lab Outline:**\n",
    "\n",
    "In this lab, you will need to complete the following tasks;\n",
    "\n",
    "* **Task 1 :** Create a Vector Search endpoint to serve the index.\n",
    "\n",
    "* **Task 2 :** Connect Delta table with Vector Search endpoint\n",
    "\n",
    "* **Task 3 :** Test the Vector Search index\n",
    "\n",
    "* **Task 4 :** Re-rank search results\n",
    "\n",
    "**\uD83D\uDCDD Your task:** Complete the **`<FILL_IN>`** sections in the code blocks and follow the other steps as instructed."
   ]
  },
  {
   "cell_type": "markdown",
   "metadata": {
    "application/vnd.databricks.v1+cell": {
     "cellMetadata": {
      "byteLimit": 2048000,
      "rowLimit": 10000
     },
     "inputWidgets": {},
     "nuid": "64e11f39-0a31-42d3-af22-865ead19d577",
     "showTitle": false,
     "tableResultSettingsMap": {},
     "title": ""
    }
   },
   "source": [
    "## REQUIRED - SELECT CLASSIC COMPUTE\n",
    "Before executing cells in this notebook, please select your classic compute cluster in the lab. Be aware that **Serverless** is enabled by default.\n",
    "\n",
    "Follow these steps to select the classic compute cluster:\n",
    "1. Navigate to the top-right of this notebook and click the drop-down menu to select your cluster. By default, the notebook will use **Serverless**.\n",
    "\n",
    "2. If your cluster is available, select it and continue to the next cell. If the cluster is not shown:\n",
    "\n",
    "   - Click **More** in the drop-down.\n",
    "   \n",
    "   - In the **Attach to an existing compute resource** window, use the first drop-down to select your unique cluster.\n",
    "\n",
    "**NOTE:** If your cluster has terminated, you might need to restart it in order to select it. To do this:\n",
    "\n",
    "1. Right-click on **Compute** in the left navigation pane and select *Open in new tab*.\n",
    "\n",
    "2. Find the triangle icon to the right of your compute cluster name and click it.\n",
    "\n",
    "3. Wait a few minutes for the cluster to start.\n",
    "\n",
    "4. Once the cluster is running, complete the steps above to select your cluster."
   ]
  },
  {
   "cell_type": "markdown",
   "metadata": {
    "application/vnd.databricks.v1+cell": {
     "cellMetadata": {
      "byteLimit": 2048000,
      "rowLimit": 10000
     },
     "inputWidgets": {},
     "nuid": "d211c1a1-2f31-4afd-a7d4-dacb8f4f9023",
     "showTitle": false,
     "tableResultSettingsMap": {},
     "title": ""
    }
   },
   "source": [
    "## Requirements\n",
    "\n",
    "Please review the following requirements before starting the lesson:\n",
    "\n",
    "* To run this notebook, you need to use one of the following Databricks runtime(s): **15.4.x-cpu-ml-scala2.12**\n",
    "\n",
    "**\uD83D\uDEA8 Important: This lab relies on the resources created in the previous Lab. Please ensure you have completed the prior lab before starting this lab.**"
   ]
  },
  {
   "cell_type": "markdown",
   "metadata": {
    "application/vnd.databricks.v1+cell": {
     "cellMetadata": {
      "byteLimit": 2048000,
      "rowLimit": 10000
     },
     "inputWidgets": {},
     "nuid": "a141f4c5-1db1-4e87-b28b-5466946afed5",
     "showTitle": false,
     "tableResultSettingsMap": {},
     "title": ""
    }
   },
   "source": [
    "\n",
    "## Classroom Setup\n",
    "\n",
    "Before starting the lab, run the provided classroom setup script. This script will define configuration variables necessary for the lab. Execute the following cell:"
   ]
  },
  {
   "cell_type": "code",
   "execution_count": 0,
   "metadata": {
    "application/vnd.databricks.v1+cell": {
     "cellMetadata": {
      "byteLimit": 2048000,
      "rowLimit": 10000
     },
     "inputWidgets": {},
     "nuid": "eb5a20d1-d4f9-4816-8654-32433e30769c",
     "showTitle": false,
     "tableResultSettingsMap": {},
     "title": ""
    }
   },
   "outputs": [
    {
     "output_type": "stream",
     "name": "stdout",
     "output_type": "stream",
     "text": [
      "\u001B[43mNote: you may need to restart the kernel using %restart_python or dbutils.library.restartPython() to use updated packages.\u001B[0m\n"
     ]
    }
   ],
   "source": [
    "%pip install -U -qq databricks-vectorsearch databricks-sdk flashrank PyPDF2\n",
    "dbutils.library.restartPython()"
   ]
  },
  {
   "cell_type": "code",
   "execution_count": 0,
   "metadata": {
    "application/vnd.databricks.v1+cell": {
     "cellMetadata": {
      "byteLimit": 2048000,
      "rowLimit": 10000
     },
     "inputWidgets": {},
     "nuid": "94bb47fc-9eea-461d-a3d2-a5e883cecc7d",
     "showTitle": false,
     "tableResultSettingsMap": {},
     "title": ""
    }
   },
   "outputs": [
    {
     "output_type": "stream",
     "name": "stdout",
     "output_type": "stream",
     "text": [
      "\u001B[43mNote: you may need to restart the kernel using %restart_python or dbutils.library.restartPython() to use updated packages.\u001B[0m\n"
     ]
    },
    {
     "output_type": "stream",
     "name": "stdout",
     "output_type": "stream",
     "text": [
      "\nThe examples and models presented in this course are intended solely for demonstration and educational purposes.\n Please note that the models and prompt examples may sometimes contain offensive, inaccurate, biased, or harmful content.\n"
     ]
    }
   ],
   "source": [
    "%run ../Includes/Classroom-Setup-03"
   ]
  },
  {
   "cell_type": "markdown",
   "metadata": {
    "application/vnd.databricks.v1+cell": {
     "cellMetadata": {
      "byteLimit": 2048000,
      "rowLimit": 10000
     },
     "inputWidgets": {},
     "nuid": "f7198006-86bd-4201-b8c9-8d20c0be6576",
     "showTitle": false,
     "tableResultSettingsMap": {},
     "title": ""
    }
   },
   "source": [
    "**Other Conventions:**\n",
    "\n",
    "Throughout this demo, we'll refer to the object `DA`. This object, provided by Databricks Academy, contains variables such as your username, catalog name, schema name, working directory, and dataset locations. Run the code block below to view these details:"
   ]
  },
  {
   "cell_type": "code",
   "execution_count": 0,
   "metadata": {
    "application/vnd.databricks.v1+cell": {
     "cellMetadata": {
      "byteLimit": 2048000,
      "rowLimit": 10000
     },
     "inputWidgets": {},
     "nuid": "14470fd4-5f94-4203-b524-033407905851",
     "showTitle": false,
     "tableResultSettingsMap": {},
     "title": ""
    }
   },
   "outputs": [
    {
     "output_type": "stream",
     "name": "stdout",
     "output_type": "stream",
     "text": [
      "Username:          labuser11131632_1754970105@vocareum.com\nCatalog Name:      dbacademy\nSchema Name:       labuser11131632_1754970105\nWorking Directory: /Volumes/dbacademy/ops/labuser11131632_1754970105@vocareum_com\nDataset Location:  NestedNamespace (arxiv='/Volumes/dbacademy_arxiv/v01', dais='/Volumes/dbacademy_dais/v01', news='/Volumes/dbacademy_news/v01', docs='/Volumes/dbacademy_docs/v01')\n"
     ]
    }
   ],
   "source": [
    "print(f\"Username:          {DA.username}\")\n",
    "print(f\"Catalog Name:      {DA.catalog_name}\")\n",
    "print(f\"Schema Name:       {DA.schema_name}\")\n",
    "print(f\"Working Directory: {DA.paths.working_dir}\")\n",
    "print(f\"Dataset Location:  {DA.paths.datasets}\")"
   ]
  },
  {
   "cell_type": "markdown",
   "metadata": {
    "application/vnd.databricks.v1+cell": {
     "cellMetadata": {
      "byteLimit": 2048000,
      "rowLimit": 10000
     },
     "inputWidgets": {},
     "nuid": "fb5b859b-979a-4af9-9b41-67e656a54561",
     "showTitle": false,
     "tableResultSettingsMap": {},
     "title": ""
    }
   },
   "source": [
    "## Task 1: Create a Vector Search Endpoint\n",
    "\n",
    "To start, you need to create a Vector Search endpoint to serve the index.\n",
    "\n",
    "**\uD83D\uDEA8IMPORTANT: Vector Search endpoints must be created before running the rest of the demo. These are already created for you in Databricks Lab environment. See instructions in the demo notebook if you run this notebook in another environment.**\n",
    "\n",
    "**\uD83D\uDCA1 Instructions:**\n",
    "\n",
    "1. Define the endpoint that you will use if you don't have endpoint creation permissions. \n",
    "1. [Optional]: Create a new endpoint. Check if the vector search endpoint exists, if not, create it.\n",
    "1. Wait for the endpoint to be ready.\n"
   ]
  },
  {
   "cell_type": "markdown",
   "metadata": {
    "application/vnd.databricks.v1+cell": {
     "cellMetadata": {
      "byteLimit": 2048000,
      "rowLimit": 10000
     },
     "inputWidgets": {},
     "nuid": "3f0ee81f-f23f-4f49-a951-adb433d870df",
     "showTitle": false,
     "tableResultSettingsMap": {},
     "title": ""
    }
   },
   "source": [
    "### Step-by-Step Instructions:\n",
    "\n",
    "\n",
    "**Vector Search Endpoint**: The first step for creating a Vector Search index is to create a compute endpoint. This endpoint is already created in this lab environment.\n",
    "\n",
    "**Wait for Endpoint to be Ready**: After defining the endpoint name, check the status of the endpoint using the provided function `wait_for_vs_endpoint_to_be_ready`.\n",
    "\n",
    "Additionally, you can check the endpoint status in the Databricks workspace [Vector Search Endpoints in Compute section](#/setting/clusters/vector-search)."
   ]
  },
  {
   "cell_type": "code",
   "execution_count": 0,
   "metadata": {
    "application/vnd.databricks.v1+cell": {
     "cellMetadata": {
      "byteLimit": 2048000,
      "rowLimit": 10000
     },
     "inputWidgets": {},
     "nuid": "d59a313a-470b-4ead-becb-96795920b439",
     "showTitle": false,
     "tableResultSettingsMap": {},
     "title": ""
    }
   },
   "outputs": [
    {
     "output_type": "stream",
     "name": "stdout",
     "output_type": "stream",
     "text": [
      "Assigned Vector Search endpoint name: vs_endpoint_2.\n"
     ]
    }
   ],
   "source": [
    "## assign vs search endpoint by username\n",
    "vs_endpoint_prefix = \"vs_endpoint_\"\n",
    "vs_endpoint_name = vs_endpoint_prefix + str(get_fixed_integer(DA.unique_name(\"_\")))\n",
    "print(f\"Assigned Vector Search endpoint name: {vs_endpoint_name}.\")"
   ]
  },
  {
   "cell_type": "code",
   "execution_count": 0,
   "metadata": {
    "application/vnd.databricks.v1+cell": {
     "cellMetadata": {
      "byteLimit": 2048000,
      "rowLimit": 10000
     },
     "inputWidgets": {},
     "nuid": "690bfb54-0550-423b-bc90-c8aa896551fb",
     "showTitle": false,
     "tableResultSettingsMap": {},
     "title": ""
    }
   },
   "outputs": [
    {
     "output_type": "stream",
     "name": "stdout",
     "output_type": "stream",
     "text": [
      "Endpoint named vs_endpoint_2 is ready.\n"
     ]
    }
   ],
   "source": [
    "import databricks.sdk.service.catalog as c\n",
    "from databricks.vector_search.client import VectorSearchClient\n",
    "from databricks.sdk import WorkspaceClient\n",
    "\n",
    "vsc = VectorSearchClient(disable_notice=True)\n",
    "\n",
    "## check the status of the endpoint.\n",
    "wait_for_vs_endpoint_to_be_ready(vsc, vs_endpoint_name)\n",
    "print(f\"Endpoint named {vs_endpoint_name} is ready.\")"
   ]
  },
  {
   "cell_type": "markdown",
   "metadata": {
    "application/vnd.databricks.v1+cell": {
     "cellMetadata": {
      "byteLimit": 2048000,
      "rowLimit": 10000
     },
     "inputWidgets": {},
     "nuid": "3e3beedc-d0fd-444c-831b-1e44ceeb7194",
     "showTitle": false,
     "tableResultSettingsMap": {},
     "title": ""
    }
   },
   "source": [
    "## Task 2: Create a Managed Vector Search Index\n",
    "\n",
    "Now, connect the Delta table containing text and metadata with the Vector Search endpoint. In this lab, you will create a **managed** index, which means you don't need to create the embeddings manually. For API details, check the [documentation page](https://docs.databricks.com/en/generative-ai/create-query-vector-search.html#create-index-using-the-python-sdk).\n",
    "\n",
    "\n",
    "**\uD83D\uDCCC Note 1: You will use the embeddings table that you created in the previous lab. If you haven't completed that lab, stop here and complete it first.**\n",
    "\n",
    "**\uD83D\uDCCC Note 2:** Although the source table already has the embedding column precomputed, we are not going to use it here to test the managed vector search capability to populate embeddings on the fly during data ingestion and query.\n",
    "\n",
    "**\uD83D\uDCA1 Instructions:**\n",
    "\n",
    "1. Define the source Delta table containing the text to be indexed.\n",
    "\n",
    "1. Create a Vector Search index. Use these parameters; source column as `content` and `databricks-gte-large-en` as embedding model. Also, the sync process should be  `manually triggered`.\n",
    "\n",
    "1. Create or synchronize the Vector Search index based on the source Delta table.\n"
   ]
  },
  {
   "cell_type": "code",
   "execution_count": 0,
   "metadata": {
    "application/vnd.databricks.v1+cell": {
     "cellMetadata": {
      "byteLimit": 2048000,
      "rowLimit": 10000
     },
     "inputWidgets": {},
     "nuid": "509fe22f-2048-4c91-a514-b9f6c971a774",
     "showTitle": false,
     "tableResultSettingsMap": {},
     "title": ""
    }
   },
   "outputs": [
    {
     "output_type": "stream",
     "name": "stdout",
     "output_type": "stream",
     "text": [
      "dbacademy.labuser11131632_1754970105.lab_pdf_text_embeddings\n"
     ]
    }
   ],
   "source": [
    "## the Delta table containing the text embeddings and metadata.\n",
    "source_table_fullname = f\"{DA.catalog_name}.{DA.schema_name}.lab_pdf_text_embeddings\"\n",
    "print(source_table_fullname)\n",
    "\n",
    "## the Delta table to store the Vector Search index.\n",
    "vs_index_fullname = f\"{DA.catalog_name}.{DA.schema_name}.lab_pdf_text_managed_vs_index\"\n",
    "\n",
    "## create or sync the index\n",
    "if not index_exists(vsc, vs_endpoint_name, vs_index_fullname):\n",
    "  print(f\"Creating index {vs_index_fullname} on endpoint {vs_endpoint_name}...\")\n",
    "\n",
    "  vsc.create_delta_sync_index(\n",
    "    endpoint_name=vs_endpoint_name,\n",
    "    index_name=vs_index_fullname,\n",
    "    source_table_name=source_table_fullname,\n",
    "    pipeline_type=\"TRIGGERED\",\n",
    "    primary_key=\"id\",\n",
    "    embedding_source_column=\"content\",\n",
    "    embedding_model_endpoint_name=\"databricks-gte-large-en\"\n",
    "  )\n",
    "else:\n",
    "  ## trigger a sync to update our vs content with the new data saved in the table\n",
    "  vsc.get_index(vs_endpoint_name, vs_index_fullname).sync()\n",
    "\n",
    "## let's wait for the index to be ready and all our embeddings to be created and indexed\n",
    "wait_for_index_to_be_ready(vsc, vs_endpoint_name, vs_index_fullname)"
   ]
  },
  {
   "cell_type": "markdown",
   "metadata": {
    "application/vnd.databricks.v1+cell": {
     "cellMetadata": {
      "byteLimit": 2048000,
      "rowLimit": 10000
     },
     "inputWidgets": {},
     "nuid": "12d70b7a-4f22-4818-bc80-1f23db6a62f5",
     "showTitle": false,
     "tableResultSettingsMap": {},
     "title": ""
    }
   },
   "source": [
    "## Task 3: Search Documents Similar to the Query\n",
    "\n",
    "Test the Vector Search index by searching for similar content based on a sample query.\n",
    "\n",
    "**\uD83D\uDCA1 Instructions:**\n",
    "\n",
    "1. Get the index instance that we created.\n",
    "\n",
    "1. Send a sample query to the language model endpoint using **query text**. \uD83D\uDEA8 Note: As you created a managed index, you will use plain text for similarity search using `query_text` parameter.\n",
    "\n",
    "1. Use the embeddings to search for similar content in the Vector Search index."
   ]
  },
  {
   "cell_type": "code",
   "execution_count": 0,
   "metadata": {
    "application/vnd.databricks.v1+cell": {
     "cellMetadata": {
      "byteLimit": 2048000,
      "rowLimit": 10000
     },
     "inputWidgets": {},
     "nuid": "09bec314-b572-4e0c-a78f-7edba75bc5e3",
     "showTitle": false,
     "tableResultSettingsMap": {},
     "title": ""
    }
   },
   "outputs": [
    {
     "output_type": "stream",
     "name": "stdout",
     "output_type": "stream",
     "text": [
      "[NOTICE] Using a notebook authentication token. Recommended for development only. For improved performance, please use Service Principal based authentication. To disable this message, pass disable_notice=True.\nRESULTS {'manifest': {'column_count': 3, 'columns': [{'name': 'pdf_name'}, {'name': 'content'}, {'name': 'score'}]}, 'result': {'row_count': 4, 'data_array': [['dbfs:/Volumes/dbacademy_arxiv/v01/arxiv-articles/2302.09419.pdf', 'Some defense approaches have been pro-\\nposed to defend against such attacks. [268] designs an auxiliary anomaly detection classiﬁer and uses a\\nmulti-task learning procedure to defend against adversarial samples. On the other hand, some defects in the\\nPFM may be inherited by the custom models in transfer learning, such as the adversarial vulnerabilities and\\nbackdoors mentioned above. To mitigate this issue, [269] proposes a relevant model slicing technique to\\nreduce defect inheritance during transfer learning while retaining useful knowledge from the PFM.\\nData Privacy in PFMs LLMs and other PFMs have been trained on private datasets [270]. The re-\\nsearchers have discovered that by querying the massive LMs, it is feasible to recover speciﬁc training sam-\\nples. An adversary may, for instance, obtain IRC discussions and personally identiﬁable information. Even\\nworse, because large models have so many parameters, it is simple for PFM to memorize or learn private\\ninformation, making larger models more prone to attack than smaller ones. Many PFMs such as the LLMs\\nhave been trained on private datasets. The researchers have found that it is possible to recover individual\\ntraining examples by querying the LLMs. For instance, an adversary can extract examples including per-\\nsonally identiﬁable information, and Internet Relay Chat (IRC) conversations. Even worse, because of the\\nbillion parameters of large models, it is easy for PFM to learn private information, making the larger model\\nmore vulnerable than smaller models. We must take privacy-preserving measures into account during all\\nPFM processes, including data processing, model training, model inference, and system deployment, in\\norder to reduce the risks of privacy leakage.\\n8 Future Research Challenges and Open Problems\\nThe PFM can avoid training models from the scratch, which is a breakthrough from weak AI to general AI.', 0.002824258], ['dbfs:/Volumes/dbacademy_arxiv/v01/arxiv-articles/2302.09419.pdf', 'Knowledge distillation refers to the transfer of knowledge from the larger teacher model to the smaller\\nstudent model through the use of a soft label, etc. DistilBERT [261], for example, uses the knowledge dis-\\ntillation method to compress BERT, reducing the size of the BERT model by 40% while retaining 97% of\\nits language comprehension.\\n7.3 Security and Privacy\\nThe security risks, social bias, and data privacy in PFMs become an important research topic. Qiu et al. [5]\\nrecognize that deep neural networks can be attacked by adversarial samples, which mislead the model to\\nproduce false predictions. Due to the excellent portability of pretraining models, they have been widely used\\nin NLP, CV , and GL. However, it has been found that the pretraining model is susceptible to the inﬂuence of\\nadversarial samples. A tiny interference of the original input may mislead the pretraining model to produce\\nspeciﬁc false predictions. Meanwhile, it is possible to recover the data samples by querying the PFMs which\\ncan cause privacy leakage.\\nGeneration Adversarial Samples The adversarial sample originates from the image. The adversarial\\nsamples of the image are hard to recognize with an invisible change. For example, only one pixel of the\\nimage is modiﬁed. Human beings do not easily detect such disturbance, but the neural network can identify\\nthe modiﬁed image, which is the original purpose of the adversarial sample. Some work has found that pre-\\ntrained LMs are vulnerable in some scenarios. Jin et al. [262] successfully attack the three target models of\\nBERT, CNN, and RNN by generating natural adversarial samples, which indicates that the current language\\nprocessing model still has a large room for improvement in terms of security. However, it is difﬁcult to\\nachieve due to the distinct discreteness of languages in NLP.', 0.0026647118], ['dbfs:/Volumes/dbacademy_arxiv/v01/arxiv-articles/2311.15732.pdf', 'or instance, the DTD dataset’s\\ntop-1 accuracy soared to 98% with original filenames but\\nnormalized to 57% when filenames were anonymized. To\\naddress this, we hashed sample names to ensure GPT-4V\\nfocuses on visuals over filename cues.\\nSafety system in GPT-4V . Throughout our dataset evalua-\\n8\\ntions, we stumbled upon specific instances, as depicted in\\nFigure 9, where GPT-4V refused to generate predictions,\\nstating: “ Your input image may contain content that is not\\nallowed by our safety system. ” We surmise that this pre-\\ncautionary mechanism is designed to ensure that GPT-4V\\nadheres to ethical guidelines by avoiding engagement with\\npotentially sensitive or inappropriate content.\\nGPT-4V API Costs. We offer an estimate that using the\\nGPT-4V API for one testing round across all datasets costs\\nabout $4000 for reader’s reference.\\n6. Conclusion and Limitation\\nThis work aims to quantitatively evaluating the linguistic\\nand visual capabilities of the current state-of-the-art large\\nmultimodal model GPT-4 in zero-shot visual recognition\\ntasks. To ensure a comprehensive evaluation, we have\\nconducted experiments across three modalities—images,\\nvideos, and point clouds—spanning a total of 16 bench-\\nmarks. We hope our empirical study and experience will\\nbenefit the community, fostering the evolution of future\\nmultimodal models.\\nLimitations: 1) This study has focused solely on funda-\\nmental visual recognition tasks. A comprehensive quanti-\\ntative analysis of other tasks, such as object detection, is\\nnecessary to truly gauge the breadth of these models’ ca-\\npabilities in analyzing complex visual information. 2) This\\nwork is limited to the evaluation of GPT-4 alone.', 0.0023497415], ['dbfs:/Volumes/dbacademy_arxiv/v01/arxiv-articles/2302.09419.pdf', 'The models cannot reach a better level of stability and match different downstream\\ntasks. This means that the model cannot serve the real purpose of human language use.\\n8.3 Challenges on Model Design\\nMost existing structures of PFMs are tried for text, image, and graph. The primary method is to increase\\ndata, improve computation power, and design training procedures to achieve better results. How to make a\\ntrade-off between data, computing resources, and predictive performance is worth studying.\\nModel Variety There are many attempts at model design, such as generation-based models in the CV\\narea. However, GAN-based approaches are not popular for the following two reasons: 1) the discriminator\\nhas learned meaningful feature representations, but they are forgotten during training [273]; 2) the mode\\ncollapse causes the generator to output samples in singular mode to cheat the discriminator. As a result,\\nalthough researchers attempt to apply GAN-based approaches on SSL for pretraining, the difﬁculties in the\\nconvergence of discriminator and divergence of generator hinder development and progress in this area.\\nModel Compression With the wide application of the Transformer and the pretraining model showing a\\ngeneral trend of growth, the computational complexity of the pretraining model has become the focus of\\nattention. Due to the huge hardware requirements of model training and other reasons, the high threshold\\nmakes it difﬁcult for researchers to train from scratch. BERT-base and GPT-3 contain about 108 million\\nparameters and 175 billion parameters, respectively. It is not conducive to the development of relevant\\nresearch work. There are some works for pretraining model compression, such as ALBERT having fewer\\nparameters and better effect than BERT-base. The improvement models still require powerful computing\\nequipment, making them difﬁcult to apply universally. Reducing the high computing cost is one of the main\\nchallenges in future research.', 0.0022753063]]}, 'debug_info': {'response_time': 161.0, 'ann_time': 44.0, 'embedding_gen_time': 111.0}}\n[['dbfs:/Volumes/dbacademy_arxiv/v01/arxiv-articles/2302.09419.pdf',\n  'Some defense approaches have been pro-\\n'\n  'posed to defend against such attacks. [268] designs an auxiliary anomaly detection classiﬁer '\n  'and uses a\\n'\n  'multi-task learning procedure to defend against adversarial samples. On the other hand, some '\n  'defects in the\\n'\n  'PFM may be inherited by the custom models in transfer learning, such as the adversarial '\n  'vulnerabilities and\\n'\n  'backdoors mentioned above. To mitigate this issue, [269] proposes a relevant model slicing '\n  'technique to\\n'\n  'reduce defect inheritance during transfer learning while retaining useful knowledge from the '\n  'PFM.\\n'\n  'Data Privacy in PFMs LLMs and other PFMs have been trained on private datasets [270]. The re-\\n'\n  'searchers have discovered that by querying the massive LMs, it is feasible to recover speciﬁc '\n  'training sam-\\n'\n  'ples. An adversary may, for instance, obtain IRC discussions and personally identiﬁable '\n  'information. Even\\n'\n  'worse, because large models have so many parameters, it is simple for PFM to memorize or learn '\n  'private\\n'\n  'information, making larger models more prone to attack than smaller ones. Many PFMs such as the '\n  'LLMs\\n'\n  'have been trained on private datasets. The researchers have found that it is possible to '\n  'recover individual\\n'\n  'training examples by querying the LLMs. For instance, an adversary can extract examples '\n  'including per-\\n'\n  'sonally identiﬁable information, and Internet Relay Chat (IRC) conversations. Even worse, '\n  'because of the\\n'\n  'billion parameters of large models, it is easy for PFM to learn private information, making the '\n  'larger model\\n'\n  'more vulnerable than smaller models. We must take privacy-preserving measures into account '\n  'during all\\n'\n  'PFM processes, including data processing, model training, model inference, and system '\n  'deployment, in\\n'\n  'order to reduce the risks of privacy leakage.\\n'\n  '8 Future Research Challenges and Open Problems\\n'\n  'The PFM can avoid training models from the scratch, which is a breakthrough from weak AI to '\n  'general AI.',\n  0.002824258],\n ['dbfs:/Volumes/dbacademy_arxiv/v01/arxiv-articles/2302.09419.pdf',\n  'Knowledge distillation refers to the transfer of knowledge from the larger teacher model to the '\n  'smaller\\n'\n  'student model through the use of a soft label, etc. DistilBERT [261], for example, uses the '\n  'knowledge dis-\\n'\n  'tillation method to compress BERT, reducing the size of the BERT model by 40% while retaining '\n  '97% of\\n'\n  'its language comprehension.\\n'\n  '7.3 Security and Privacy\\n'\n  'The security risks, social bias, and data privacy in PFMs become an important research topic. '\n  'Qiu et al. [5]\\n'\n  'recognize that deep neural networks can be attacked by adversarial samples, which mislead the '\n  'model to\\n'\n  'produce false predictions. Due to the excellent portability of pretraining models, they have '\n  'been widely used\\n'\n  'in NLP, CV , and GL. However, it has been found that the pretraining model is susceptible to '\n  'the inﬂuence of\\n'\n  'adversarial samples. A tiny interference of the original input may mislead the pretraining '\n  'model to produce\\n'\n  'speciﬁc false predictions. Meanwhile, it is possible to recover the data samples by querying '\n  'the PFMs which\\n'\n  'can cause privacy leakage.\\n'\n  'Generation Adversarial Samples The adversarial sample originates from the image. The '\n  'adversarial\\n'\n  'samples of the image are hard to recognize with an invisible change. For example, only one '\n  'pixel of the\\n'\n  'image is modiﬁed. Human beings do not easily detect such disturbance, but the neural network '\n  'can identify\\n'\n  'the modiﬁed image, which is the original purpose of the adversarial sample. Some work has found '\n  'that pre-\\n'\n  'trained LMs are vulnerable in some scenarios. Jin et al. [262] successfully attack the three '\n  'target models of\\n'\n  'BERT, CNN, and RNN by generating natural adversarial samples, which indicates that the current '\n  'language\\n'\n  'processing model still has a large room for improvement in terms of security. However, it is '\n  'difﬁcult to\\n'\n  'achieve due to the distinct discreteness of languages in NLP.',\n  0.0026647118],\n ['dbfs:/Volumes/dbacademy_arxiv/v01/arxiv-articles/2311.15732.pdf',\n  'or instance, the DTD dataset’s\\n'\n  'top-1 accuracy soared to 98% with original filenames but\\n'\n  'normalized to 57% when filenames were anonymized. To\\n'\n  'address this, we hashed sample names to ensure GPT-4V\\n'\n  'focuses on visuals over filename cues.\\n'\n  'Safety system in GPT-4V . Throughout our dataset evalua-\\n'\n  '8\\n'\n  'tions, we stumbled upon specific instances, as depicted in\\n'\n  'Figure 9, where GPT-4V refused to generate predictions,\\n'\n  'stating: “ Your input image may contain content that is not\\n'\n  'allowed by our safety system. ” We surmise that this pre-\\n'\n  'cautionary mechanism is designed to ensure that GPT-4V\\n'\n  'adheres to ethical guidelines by avoiding engagement with\\n'\n  'potentially sensitive or inappropriate content.\\n'\n  'GPT-4V API Costs. We offer an estimate that using the\\n'\n  'GPT-4V API for one testing round across all datasets costs\\n'\n  'about $4000 for reader’s reference.\\n'\n  '6. Conclusion and Limitation\\n'\n  'This work aims to quantitatively evaluating the linguistic\\n'\n  'and visual capabilities of the current state-of-the-art large\\n'\n  'multimodal model GPT-4 in zero-shot visual recognition\\n'\n  'tasks. To ensure a comprehensive evaluation, we have\\n'\n  'conducted experiments across three modalities—images,\\n'\n  'videos, and point clouds—spanning a total of 16 bench-\\n'\n  'marks. We hope our empirical study and experience will\\n'\n  'benefit the community, fostering the evolution of future\\n'\n  'multimodal models.\\n'\n  'Limitations: 1) This study has focused solely on funda-\\n'\n  'mental visual recognition tasks. A comprehensive quanti-\\n'\n  'tative analysis of other tasks, such as object detection, is\\n'\n  'necessary to truly gauge the breadth of these models’ ca-\\n'\n  'pabilities in analyzing complex visual information. 2) This\\n'\n  'work is limited to the evaluation of GPT-4 alone.',\n  0.0023497415],\n ['dbfs:/Volumes/dbacademy_arxiv/v01/arxiv-articles/2302.09419.pdf',\n  'The models cannot reach a better level of stability and match different downstream\\n'\n  'tasks. This means that the model cannot serve the real purpose of human language use.\\n'\n  '8.3 Challenges on Model Design\\n'\n  'Most existing structures of PFMs are tried for text, image, and graph. The primary method is to '\n  'increase\\n'\n  'data, improve computation power, and design training procedures to achieve better results. How '\n  'to make a\\n'\n  'trade-off between data, computing resources, and predictive performance is worth studying.\\n'\n  'Model Variety There are many attempts at model design, such as generation-based models in the '\n  'CV\\n'\n  'area. However, GAN-based approaches are not popular for the following two reasons: 1) the '\n  'discriminator\\n'\n  'has learned meaningful feature representations, but they are forgotten during training [273]; '\n  '2) the mode\\n'\n  'collapse causes the generator to output samples in singular mode to cheat the discriminator. As '\n  'a result,\\n'\n  'although researchers attempt to apply GAN-based approaches on SSL for pretraining, the '\n  'difﬁculties in the\\n'\n  'convergence of discriminator and divergence of generator hinder development and progress in '\n  'this area.\\n'\n  'Model Compression With the wide application of the Transformer and the pretraining model '\n  'showing a\\n'\n  'general trend of growth, the computational complexity of the pretraining model has become the '\n  'focus of\\n'\n  'attention. Due to the huge hardware requirements of model training and other reasons, the high '\n  'threshold\\n'\n  'makes it difﬁcult for researchers to train from scratch. BERT-base and GPT-3 contain about 108 '\n  'million\\n'\n  'parameters and 175 billion parameters, respectively. It is not conducive to the development of '\n  'relevant\\n'\n  'research work. There are some works for pretraining model compression, such as ALBERT having '\n  'fewer\\n'\n  'parameters and better effect than BERT-base. The improvement models still require powerful '\n  'computing\\n'\n  'equipment, making them difﬁcult to apply universally. Reducing the high computing cost is one '\n  'of the main\\n'\n  'challenges in future research.',\n  0.0022753063]]\n[['dbfs:/Volumes/dbacademy_arxiv/v01/arxiv-articles/2302.09419.pdf', 'Some defense approaches have been pro-\\nposed to defend against such attacks. [268] designs an auxiliary anomaly detection classiﬁer and uses a\\nmulti-task learning procedure to defend against adversarial samples. On the other hand, some defects in the\\nPFM may be inherited by the custom models in transfer learning, such as the adversarial vulnerabilities and\\nbackdoors mentioned above. To mitigate this issue, [269] proposes a relevant model slicing technique to\\nreduce defect inheritance during transfer learning while retaining useful knowledge from the PFM.\\nData Privacy in PFMs LLMs and other PFMs have been trained on private datasets [270]. The re-\\nsearchers have discovered that by querying the massive LMs, it is feasible to recover speciﬁc training sam-\\nples. An adversary may, for instance, obtain IRC discussions and personally identiﬁable information. Even\\nworse, because large models have so many parameters, it is simple for PFM to memorize or learn private\\ninformation, making larger models more prone to attack than smaller ones. Many PFMs such as the LLMs\\nhave been trained on private datasets. The researchers have found that it is possible to recover individual\\ntraining examples by querying the LLMs. For instance, an adversary can extract examples including per-\\nsonally identiﬁable information, and Internet Relay Chat (IRC) conversations. Even worse, because of the\\nbillion parameters of large models, it is easy for PFM to learn private information, making the larger model\\nmore vulnerable than smaller models. We must take privacy-preserving measures into account during all\\nPFM processes, including data processing, model training, model inference, and system deployment, in\\norder to reduce the risks of privacy leakage.\\n8 Future Research Challenges and Open Problems\\nThe PFM can avoid training models from the scratch, which is a breakthrough from weak AI to general AI.', 0.002824258], ['dbfs:/Volumes/dbacademy_arxiv/v01/arxiv-articles/2302.09419.pdf', 'Knowledge distillation refers to the transfer of knowledge from the larger teacher model to the smaller\\nstudent model through the use of a soft label, etc. DistilBERT [261], for example, uses the knowledge dis-\\ntillation method to compress BERT, reducing the size of the BERT model by 40% while retaining 97% of\\nits language comprehension.\\n7.3 Security and Privacy\\nThe security risks, social bias, and data privacy in PFMs become an important research topic. Qiu et al. [5]\\nrecognize that deep neural networks can be attacked by adversarial samples, which mislead the model to\\nproduce false predictions. Due to the excellent portability of pretraining models, they have been widely used\\nin NLP, CV , and GL. However, it has been found that the pretraining model is susceptible to the inﬂuence of\\nadversarial samples. A tiny interference of the original input may mislead the pretraining model to produce\\nspeciﬁc false predictions. Meanwhile, it is possible to recover the data samples by querying the PFMs which\\ncan cause privacy leakage.\\nGeneration Adversarial Samples The adversarial sample originates from the image. The adversarial\\nsamples of the image are hard to recognize with an invisible change. For example, only one pixel of the\\nimage is modiﬁed. Human beings do not easily detect such disturbance, but the neural network can identify\\nthe modiﬁed image, which is the original purpose of the adversarial sample. Some work has found that pre-\\ntrained LMs are vulnerable in some scenarios. Jin et al. [262] successfully attack the three target models of\\nBERT, CNN, and RNN by generating natural adversarial samples, which indicates that the current language\\nprocessing model still has a large room for improvement in terms of security. However, it is difﬁcult to\\nachieve due to the distinct discreteness of languages in NLP.', 0.0026647118], ['dbfs:/Volumes/dbacademy_arxiv/v01/arxiv-articles/2311.15732.pdf', 'or instance, the DTD dataset’s\\ntop-1 accuracy soared to 98% with original filenames but\\nnormalized to 57% when filenames were anonymized. To\\naddress this, we hashed sample names to ensure GPT-4V\\nfocuses on visuals over filename cues.\\nSafety system in GPT-4V . Throughout our dataset evalua-\\n8\\ntions, we stumbled upon specific instances, as depicted in\\nFigure 9, where GPT-4V refused to generate predictions,\\nstating: “ Your input image may contain content that is not\\nallowed by our safety system. ” We surmise that this pre-\\ncautionary mechanism is designed to ensure that GPT-4V\\nadheres to ethical guidelines by avoiding engagement with\\npotentially sensitive or inappropriate content.\\nGPT-4V API Costs. We offer an estimate that using the\\nGPT-4V API for one testing round across all datasets costs\\nabout $4000 for reader’s reference.\\n6. Conclusion and Limitation\\nThis work aims to quantitatively evaluating the linguistic\\nand visual capabilities of the current state-of-the-art large\\nmultimodal model GPT-4 in zero-shot visual recognition\\ntasks. To ensure a comprehensive evaluation, we have\\nconducted experiments across three modalities—images,\\nvideos, and point clouds—spanning a total of 16 bench-\\nmarks. We hope our empirical study and experience will\\nbenefit the community, fostering the evolution of future\\nmultimodal models.\\nLimitations: 1) This study has focused solely on funda-\\nmental visual recognition tasks. A comprehensive quanti-\\ntative analysis of other tasks, such as object detection, is\\nnecessary to truly gauge the breadth of these models’ ca-\\npabilities in analyzing complex visual information. 2) This\\nwork is limited to the evaluation of GPT-4 alone.', 0.0023497415], ['dbfs:/Volumes/dbacademy_arxiv/v01/arxiv-articles/2302.09419.pdf', 'The models cannot reach a better level of stability and match different downstream\\ntasks. This means that the model cannot serve the real purpose of human language use.\\n8.3 Challenges on Model Design\\nMost existing structures of PFMs are tried for text, image, and graph. The primary method is to increase\\ndata, improve computation power, and design training procedures to achieve better results. How to make a\\ntrade-off between data, computing resources, and predictive performance is worth studying.\\nModel Variety There are many attempts at model design, such as generation-based models in the CV\\narea. However, GAN-based approaches are not popular for the following two reasons: 1) the discriminator\\nhas learned meaningful feature representations, but they are forgotten during training [273]; 2) the mode\\ncollapse causes the generator to output samples in singular mode to cheat the discriminator. As a result,\\nalthough researchers attempt to apply GAN-based approaches on SSL for pretraining, the difﬁculties in the\\nconvergence of discriminator and divergence of generator hinder development and progress in this area.\\nModel Compression With the wide application of the Transformer and the pretraining model showing a\\ngeneral trend of growth, the computational complexity of the pretraining model has become the focus of\\nattention. Due to the huge hardware requirements of model training and other reasons, the high threshold\\nmakes it difﬁcult for researchers to train from scratch. BERT-base and GPT-3 contain about 108 million\\nparameters and 175 billion parameters, respectively. It is not conducive to the development of relevant\\nresearch work. There are some works for pretraining model compression, such as ALBERT having fewer\\nparameters and better effect than BERT-base. The improvement models still require powerful computing\\nequipment, making them difﬁcult to apply universally. Reducing the high computing cost is one of the main\\nchallenges in future research.', 0.0022753063]]\n"
     ]
    }
   ],
   "source": [
    "## get VS index\n",
    "index = vsc.get_index(vs_endpoint_name, vs_index_fullname)\n",
    "\n",
    "question = \"What are the security and privacy concerns when training generative models?\"\n",
    "\n",
    "## search for similar documents\n",
    "results = index.similarity_search(\n",
    "    query_text = question,\n",
    "    columns=[\"pdf_name\", \"content\"],\n",
    "    num_results=4\n",
    "    )\n",
    "\n",
    "print(\"RESULTS\",results)\n",
    "\n",
    "## show the results\n",
    "docs = results.get('result', {}).get('data_array', [])\n",
    "\n",
    "pprint(docs)\n",
    "print(docs)"
   ]
  },
  {
   "cell_type": "markdown",
   "metadata": {
    "application/vnd.databricks.v1+cell": {
     "cellMetadata": {
      "byteLimit": 2048000,
      "rowLimit": 10000
     },
     "inputWidgets": {},
     "nuid": "d757d6d2-a01b-47d2-8d10-2b613d2e92c5",
     "showTitle": false,
     "tableResultSettingsMap": {},
     "title": ""
    }
   },
   "source": [
    "## Task 4: Re-rank Search Results\n",
    "\n",
    "You have retrieved some documents that are similar to the query text. However, the question of which documents are the most relevant is not done by the vector search results. Use `flashrank` library to re-rank the results and show the most relevant top 3 documents. \n",
    "\n",
    "**\uD83D\uDCA1 Instructions:**\n",
    "\n",
    "1. Define `flashrank` with **`rank-T5-flan`** model.\n",
    "\n",
    "1. Re-rank the search results.\n",
    "\n",
    "1. Show the most relevant **top 3** documents.\n"
   ]
  },
  {
   "cell_type": "code",
   "execution_count": 0,
   "metadata": {
    "application/vnd.databricks.v1+cell": {
     "cellMetadata": {
      "byteLimit": 2048000,
      "rowLimit": 10000
     },
     "inputWidgets": {},
     "nuid": "56be9ed6-c756-43ae-b534-c88320777929",
     "showTitle": false,
     "tableResultSettingsMap": {},
     "title": ""
    }
   },
   "outputs": [
    {
     "output_type": "stream",
     "name": "stdout",
     "output_type": "stream",
     "text": [
      "{'file': 'dbfs:/Volumes/dbacademy_arxiv/v01/arxiv-articles/2302.09419.pdf', 'text': 'Knowledge distillation refers to the transfer of knowledge from the larger teacher model to the smaller\\nstudent model through the use of a soft label, etc. DistilBERT [261], for example, uses the knowledge dis-\\ntillation method to compress BERT, reducing the size of the BERT model by 40% while retaining 97% of\\nits language comprehension.\\n7.3 Security and Privacy\\nThe security risks, social bias, and data privacy in PFMs become an important research topic. Qiu et al. [5]\\nrecognize that deep neural networks can be attacked by adversarial samples, which mislead the model to\\nproduce false predictions. Due to the excellent portability of pretraining models, they have been widely used\\nin NLP, CV , and GL. However, it has been found that the pretraining model is susceptible to the inﬂuence of\\nadversarial samples. A tiny interference of the original input may mislead the pretraining model to produce\\nspeciﬁc false predictions. Meanwhile, it is possible to recover the data samples by querying the PFMs which\\ncan cause privacy leakage.\\nGeneration Adversarial Samples The adversarial sample originates from the image. The adversarial\\nsamples of the image are hard to recognize with an invisible change. For example, only one pixel of the\\nimage is modiﬁed. Human beings do not easily detect such disturbance, but the neural network can identify\\nthe modiﬁed image, which is the original purpose of the adversarial sample. Some work has found that pre-\\ntrained LMs are vulnerable in some scenarios. Jin et al. [262] successfully attack the three target models of\\nBERT, CNN, and RNN by generating natural adversarial samples, which indicates that the current language\\nprocessing model still has a large room for improvement in terms of security. However, it is difﬁcult to\\nachieve due to the distinct discreteness of languages in NLP.', 'score': 0.6079372}\n\n{'file': 'dbfs:/Volumes/dbacademy_arxiv/v01/arxiv-articles/2302.09419.pdf', 'text': 'The models cannot reach a better level of stability and match different downstream\\ntasks. This means that the model cannot serve the real purpose of human language use.\\n8.3 Challenges on Model Design\\nMost existing structures of PFMs are tried for text, image, and graph. The primary method is to increase\\ndata, improve computation power, and design training procedures to achieve better results. How to make a\\ntrade-off between data, computing resources, and predictive performance is worth studying.\\nModel Variety There are many attempts at model design, such as generation-based models in the CV\\narea. However, GAN-based approaches are not popular for the following two reasons: 1) the discriminator\\nhas learned meaningful feature representations, but they are forgotten during training [273]; 2) the mode\\ncollapse causes the generator to output samples in singular mode to cheat the discriminator. As a result,\\nalthough researchers attempt to apply GAN-based approaches on SSL for pretraining, the difﬁculties in the\\nconvergence of discriminator and divergence of generator hinder development and progress in this area.\\nModel Compression With the wide application of the Transformer and the pretraining model showing a\\ngeneral trend of growth, the computational complexity of the pretraining model has become the focus of\\nattention. Due to the huge hardware requirements of model training and other reasons, the high threshold\\nmakes it difﬁcult for researchers to train from scratch. BERT-base and GPT-3 contain about 108 million\\nparameters and 175 billion parameters, respectively. It is not conducive to the development of relevant\\nresearch work. There are some works for pretraining model compression, such as ALBERT having fewer\\nparameters and better effect than BERT-base. The improvement models still require powerful computing\\nequipment, making them difﬁcult to apply universally. Reducing the high computing cost is one of the main\\nchallenges in future research.', 'score': 0.5752995}\n\n{'file': 'dbfs:/Volumes/dbacademy_arxiv/v01/arxiv-articles/2302.09419.pdf', 'text': 'Some defense approaches have been pro-\\nposed to defend against such attacks. [268] designs an auxiliary anomaly detection classiﬁer and uses a\\nmulti-task learning procedure to defend against adversarial samples. On the other hand, some defects in the\\nPFM may be inherited by the custom models in transfer learning, such as the adversarial vulnerabilities and\\nbackdoors mentioned above. To mitigate this issue, [269] proposes a relevant model slicing technique to\\nreduce defect inheritance during transfer learning while retaining useful knowledge from the PFM.\\nData Privacy in PFMs LLMs and other PFMs have been trained on private datasets [270]. The re-\\nsearchers have discovered that by querying the massive LMs, it is feasible to recover speciﬁc training sam-\\nples. An adversary may, for instance, obtain IRC discussions and personally identiﬁable information. Even\\nworse, because large models have so many parameters, it is simple for PFM to memorize or learn private\\ninformation, making larger models more prone to attack than smaller ones. Many PFMs such as the LLMs\\nhave been trained on private datasets. The researchers have found that it is possible to recover individual\\ntraining examples by querying the LLMs. For instance, an adversary can extract examples including per-\\nsonally identiﬁable information, and Internet Relay Chat (IRC) conversations. Even worse, because of the\\nbillion parameters of large models, it is easy for PFM to learn private information, making the larger model\\nmore vulnerable than smaller models. We must take privacy-preserving measures into account during all\\nPFM processes, including data processing, model training, model inference, and system deployment, in\\norder to reduce the risks of privacy leakage.\\n8 Future Research Challenges and Open Problems\\nThe PFM can avoid training models from the scratch, which is a breakthrough from weak AI to general AI.', 'score': 0.5703862}\n"
     ]
    }
   ],
   "source": [
    "from flashrank import Ranker, RerankRequest\n",
    " \n",
    "## define the ranker.\n",
    "cache_dir = f\"{DA.paths.working_dir}/opt\"\n",
    "ranker = Ranker(model_name=\"rank-T5-flan\", cache_dir=cache_dir)\n",
    " \n",
    "## format the result to align with reranker library format\n",
    "passages = []\n",
    "for doc in docs:\n",
    "   new_doc = {\"file\": doc[0], \"text\": doc[1]}\n",
    "   passages.append(new_doc)\n",
    " \n",
    "## rerank the passages.\n",
    "rerankrequest = RerankRequest(query=question, passages=passages)\n",
    "ranked_passages = ranker.rerank(rerankrequest)\n",
    " \n",
    "## show the top 3 results.\n",
    "print(*ranked_passages[:3], sep=\"\\n\\n\")\n",
    "\n",
    "# from flashrank import Ranker, RerankRequest\n",
    "\n",
    "# ## define the ranker.\n",
    "# cache_dir = f\"{DA.paths.working_dir}/opt\"\n",
    "# ranker = Ranker(model_name=\"rank-T5-flan\", cache_dir=cache_dir)\n",
    "\n",
    "# ## format the result to align with reranker library format \n",
    "# passages = []\n",
    "# for doc in docs:\n",
    "#    new_doc = {\"file\": doc[0], \"text\": doc[1]}\n",
    "#    passages.append(new_doc)\n",
    "\n",
    "# ## rerank the passages.\n",
    "# rerankrequest = RerankRequest(query=question, passages=passages)\n",
    "# ranked_passages = ranker.rerank(rerankrequest)\n",
    "\n",
    "# ## show the top 3 results.\n",
    "# print(*ranked_passages[:3], sep=\"\\n\\n\")"
   ]
  },
  {
   "cell_type": "markdown",
   "metadata": {
    "application/vnd.databricks.v1+cell": {
     "cellMetadata": {
      "byteLimit": 2048000,
      "rowLimit": 10000
     },
     "inputWidgets": {},
     "nuid": "abaa2851-5880-4314-98ae-646f522b29af",
     "showTitle": false,
     "tableResultSettingsMap": {},
     "title": ""
    }
   },
   "source": [
    "\n",
    "## Clean up Classroom\n",
    "\n",
    "**\uD83D\uDEA8 Warning:** Please don't delete the catalog and tables created in this lab as next labs depend on these resources. To clean-up the classroom assets, run the classroom clean-up script in the last lab."
   ]
  },
  {
   "cell_type": "markdown",
   "metadata": {
    "application/vnd.databricks.v1+cell": {
     "cellMetadata": {
      "byteLimit": 2048000,
      "rowLimit": 10000
     },
     "inputWidgets": {},
     "nuid": "4cb81c2b-d5bb-4c9f-a6a4-5a0885f2565e",
     "showTitle": false,
     "tableResultSettingsMap": {},
     "title": ""
    }
   },
   "source": [
    "\n",
    "## Conclusion\n",
    "\n",
    "In this lab, you learned how to set up a Vector Search index using Databricks Vector Search for retrieval-augmented generation (RAG) applications. By following the tasks, you successfully created a Vector Search endpoint, connected a Delta table containing text embeddings, and tested the search functionality. Furthermore, using a re-ranking library, you re-ordered the search results from the most relevant to least relevant documents. This lab provided hands-on experience in configuring and utilizing Vector Search, empowering you to enhance content retrieval and recommendation systems in your projects."
   ]
  },
  {
   "cell_type": "markdown",
   "metadata": {
    "application/vnd.databricks.v1+cell": {
     "cellMetadata": {
      "byteLimit": 2048000,
      "rowLimit": 10000
     },
     "inputWidgets": {},
     "nuid": "5822821e-3b63-4045-930e-86242b7f46c2",
     "showTitle": false,
     "tableResultSettingsMap": {},
     "title": ""
    }
   },
   "source": [
    "\n",
    "&copy; 2025 Databricks, Inc. All rights reserved. Apache, Apache Spark, Spark, the Spark Logo, Apache Iceberg, Iceberg, and the Apache Iceberg logo are trademarks of the <a href=\"https://www.apache.org/\" target=\"blank\">Apache Software Foundation</a>.<br/>\n",
    "<br/><a href=\"https://databricks.com/privacy-policy\" target=\"blank\">Privacy Policy</a> | \n",
    "<a href=\"https://databricks.com/terms-of-use\" target=\"blank\">Terms of Use</a> | \n",
    "<a href=\"https://help.databricks.com/\" target=\"blank\">Support</a>"
   ]
  }
 ],
 "metadata": {
  "application/vnd.databricks.v1+notebook": {
   "computePreferences": null,
   "dashboards": [],
   "environmentMetadata": null,
   "inputWidgetPreferences": null,
   "language": "python",
   "notebookMetadata": {
    "pythonIndentUnit": 4
   },
   "notebookName": "3.LAB - Create Managed Vector Search Index",
   "widgets": {}
  },
  "language_info": {
   "name": "python"
  }
 },
 "nbformat": 4,
 "nbformat_minor": 0
}