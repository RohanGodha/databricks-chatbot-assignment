{
 "cells": [
  {
   "cell_type": "markdown",
   "metadata": {
    "application/vnd.databricks.v1+cell": {
     "cellMetadata": {
      "byteLimit": 2048000,
      "rowLimit": 10000
     },
     "inputWidgets": {},
     "nuid": "83a8f646-02e4-4f15-bed1-df6208b38b54",
     "showTitle": false,
     "tableResultSettingsMap": {},
     "title": ""
    }
   },
   "source": [
    "\n",
    "<div style=\"text-align: center; line-height: 0; padding-top: 9px;\">\n",
    "  <img src=\"https://databricks.com/wp-content/uploads/2018/03/db-academy-rgb-1200px.png\" alt=\"Databricks Learning\">\n",
    "</div>\n"
   ]
  },
  {
   "cell_type": "markdown",
   "metadata": {
    "application/vnd.databricks.v1+cell": {
     "cellMetadata": {
      "byteLimit": 2048000,
      "rowLimit": 10000
     },
     "inputWidgets": {},
     "nuid": "4c458185-f9d9-4360-9a99-2b8a351e9b0c",
     "showTitle": false,
     "tableResultSettingsMap": {},
     "title": ""
    }
   },
   "source": [
    "\n",
    "# LAB: Batch Inference Using SLM\n",
    "\n",
    "In this lab, you will learn how to implement a batch inference pipeline using a Small Language Model (SLM) in a production environment. The objective is to follow a structured approach to develop, test, and deploy a language model-based pipeline using tools such as MLflow, and Unity Catalog. This process focuses on effective model management and operational strategies, facilitating batch inference using Spark DataFrames, and managing model life cycles via model registration and querying.\n",
    "\n",
    "\n",
    "**Lab Outline:**\n",
    "\n",
    "*In this lab, you will need to complete the following tasks:*\n",
    "\n",
    "1. **Task 1:** Create a Hugging Face question-answering pipeline and test it.\n",
    "2. **Task 2:** Track and register the model using MLflow and Unity Catalog.\n",
    "3. **Task 3:** Manage the registered model's state.\n",
    "4. **Task 4:** Perform single-node and multi-node batch inference.\n",
    "5. **Task 5:** Perform batch inference using SQL `ai_query`."
   ]
  },
  {
   "cell_type": "markdown",
   "metadata": {
    "application/vnd.databricks.v1+cell": {
     "cellMetadata": {
      "byteLimit": 2048000,
      "rowLimit": 10000
     },
     "inputWidgets": {},
     "nuid": "acd37135-92ea-41c5-8071-5c6b9b89d36f",
     "showTitle": false,
     "tableResultSettingsMap": {},
     "title": ""
    }
   },
   "source": [
    "## REQUIRED - SELECT CLASSIC COMPUTE\n",
    "Before executing cells in this notebook, please select your classic compute cluster in the lab. Be aware that **Serverless** is enabled by default.\n",
    "\n",
    "Follow these steps to select the classic compute cluster:\n",
    "1. Navigate to the top-right of this notebook and click the drop-down menu to select your cluster. By default, the notebook will use **Serverless**.\n",
    "\n",
    "2. If your cluster is available, select it and continue to the next cell. If the cluster is not shown:\n",
    "\n",
    "   - Click **More** in the drop-down.\n",
    "   \n",
    "   - In the **Attach to an existing compute resource** window, use the first drop-down to select your unique cluster.\n",
    "\n",
    "**NOTE:** If your cluster has terminated, you might need to restart it in order to select it. To do this:\n",
    "\n",
    "1. Right-click on **Compute** in the left navigation pane and select *Open in new tab*.\n",
    "\n",
    "2. Find the triangle icon to the right of your compute cluster name and click it.\n",
    "\n",
    "3. Wait a few minutes for the cluster to start.\n",
    "\n",
    "4. Once the cluster is running, complete the steps above to select your cluster."
   ]
  },
  {
   "cell_type": "markdown",
   "metadata": {
    "application/vnd.databricks.v1+cell": {
     "cellMetadata": {
      "byteLimit": 2048000,
      "rowLimit": 10000
     },
     "inputWidgets": {},
     "nuid": "c259468f-a4e8-493e-be4e-63ee8d4ebe57",
     "showTitle": false,
     "tableResultSettingsMap": {},
     "title": ""
    }
   },
   "source": [
    "## Requirements\n",
    "\n",
    "Please review the following requirements before starting the lesson:\n",
    "\n",
    "* To run this notebook, you need to use one of the following Databricks runtime(s): **15.4.x-cpu-ml-scala2.12**"
   ]
  },
  {
   "cell_type": "markdown",
   "metadata": {
    "application/vnd.databricks.v1+cell": {
     "cellMetadata": {
      "byteLimit": 2048000,
      "rowLimit": 10000
     },
     "inputWidgets": {},
     "nuid": "c3b9240e-517a-45b8-b781-8e9ba8974bc9",
     "showTitle": false,
     "tableResultSettingsMap": {},
     "title": ""
    }
   },
   "source": [
    "\n",
    "## Classroom Setup\n",
    "\n",
    "Install required libraries."
   ]
  },
  {
   "cell_type": "code",
   "execution_count": 0,
   "metadata": {
    "application/vnd.databricks.v1+cell": {
     "cellMetadata": {
      "byteLimit": 2048000,
      "rowLimit": 10000
     },
     "inputWidgets": {},
     "nuid": "fe49350c-941e-4bee-b6e4-e06a35075145",
     "showTitle": false,
     "tableResultSettingsMap": {},
     "title": ""
    }
   },
   "outputs": [
    {
     "output_type": "stream",
     "name": "stdout",
     "output_type": "stream",
     "text": [
      "\u001B[43mNote: you may need to restart the kernel using %restart_python or dbutils.library.restartPython() to use updated packages.\u001B[0m\n"
     ]
    }
   ],
   "source": [
    "%pip install -qq -U huggingface-hub\n",
    "dbutils.library.restartPython()"
   ]
  },
  {
   "cell_type": "markdown",
   "metadata": {
    "application/vnd.databricks.v1+cell": {
     "cellMetadata": {
      "byteLimit": 2048000,
      "rowLimit": 10000
     },
     "inputWidgets": {},
     "nuid": "9a953a39-a49f-489c-8ff2-0acd8f709ec8",
     "showTitle": false,
     "tableResultSettingsMap": {},
     "title": ""
    }
   },
   "source": [
    "Before starting the Lab, run the provided classroom setup script. This script will define configuration variables necessary for the lab. Execute the following cell:"
   ]
  },
  {
   "cell_type": "code",
   "execution_count": 0,
   "metadata": {
    "application/vnd.databricks.v1+cell": {
     "cellMetadata": {
      "byteLimit": 2048000,
      "rowLimit": 10000
     },
     "inputWidgets": {},
     "nuid": "0a9edb1c-42b2-4dd5-a935-c148a3a336eb",
     "showTitle": false,
     "tableResultSettingsMap": {},
     "title": ""
    }
   },
   "outputs": [
    {
     "output_type": "stream",
     "name": "stdout",
     "output_type": "stream",
     "text": [
      "\u001B[43mNote: you may need to restart the kernel using %restart_python or dbutils.library.restartPython() to use updated packages.\u001B[0m\n"
     ]
    },
    {
     "output_type": "stream",
     "name": "stdout",
     "output_type": "stream",
     "text": [
      "\nThe examples and models presented in this course are intended solely for demonstration and educational purposes.\n Please note that the models and prompt examples may sometimes contain offensive, inaccurate, biased, or harmful content.\n"
     ]
    }
   ],
   "source": [
    "%run ../Includes/Classroom-Setup-01"
   ]
  },
  {
   "cell_type": "markdown",
   "metadata": {
    "application/vnd.databricks.v1+cell": {
     "cellMetadata": {
      "byteLimit": 2048000,
      "rowLimit": 10000
     },
     "inputWidgets": {},
     "nuid": "327a1a0d-3662-4bbd-886d-da3eb669250b",
     "showTitle": false,
     "tableResultSettingsMap": {},
     "title": ""
    }
   },
   "source": [
    "**Other Conventions:**\n",
    "\n",
    "Throughout this lab, we'll refer to the object `DA`. This object, provided by Databricks Academy, contains variables such as your username, catalog name, schema name, working directory, and dataset locations. Run the code block below to view these details:"
   ]
  },
  {
   "cell_type": "code",
   "execution_count": 0,
   "metadata": {
    "application/vnd.databricks.v1+cell": {
     "cellMetadata": {
      "byteLimit": 2048000,
      "rowLimit": 10000
     },
     "inputWidgets": {},
     "nuid": "8481d63b-377e-4d87-bb3d-5b7661135e80",
     "showTitle": false,
     "tableResultSettingsMap": {},
     "title": ""
    }
   },
   "outputs": [
    {
     "output_type": "stream",
     "name": "stdout",
     "output_type": "stream",
     "text": [
      "Username:          labuser11195156_1755057414@vocareum.com\nCatalog Name:      dbacademy\nSchema Name:       labuser11195156_1755057414\nWorking Directory: /Volumes/dbacademy/ops/labuser11195156_1755057414@vocareum_com\nDataset Location:  NestedNamespace (arxiv='/Volumes/dbacademy_arxiv/v01')\n"
     ]
    }
   ],
   "source": [
    "print(f\"Username:          {DA.username}\")\n",
    "print(f\"Catalog Name:      {DA.catalog_name}\")\n",
    "print(f\"Schema Name:       {DA.schema_name}\")\n",
    "print(f\"Working Directory: {DA.paths.working_dir}\")\n",
    "print(f\"Dataset Location:  {DA.paths.datasets}\")"
   ]
  },
  {
   "cell_type": "markdown",
   "metadata": {
    "application/vnd.databricks.v1+cell": {
     "cellMetadata": {
      "byteLimit": 2048000,
      "rowLimit": 10000
     },
     "inputWidgets": {},
     "nuid": "566d5be7-6b88-4d96-9622-3bcdbb7e67c1",
     "showTitle": false,
     "tableResultSettingsMap": {},
     "title": ""
    }
   },
   "source": [
    "## Dataset Overview\n",
    "\n",
    "In this Lab, you will be using the SQuAD dataset hosted on HuggingFace. This is a reading comprehension dataset which consists of questions and answers based on the provided context. Let's load and inspect the structure of the SQuAD dataset."
   ]
  },
  {
   "cell_type": "code",
   "execution_count": 0,
   "metadata": {
    "application/vnd.databricks.v1+cell": {
     "cellMetadata": {
      "byteLimit": 2048000,
      "rowLimit": 10000
     },
     "inputWidgets": {},
     "nuid": "3317905b-1f4d-4d4d-8ad2-a66fb3702fb8",
     "showTitle": false,
     "tableResultSettingsMap": {},
     "title": ""
    }
   },
   "outputs": [
    {
     "output_type": "stream",
     "name": "stderr",
     "output_type": "stream",
     "text": [
      "/databricks/python_shell/lib/dbruntime/huggingface_patches/datasets.py:45: UserWarning: The cache_dir for this dataset is /root/.cache, which is not a persistent path.Therefore, if/when the cluster restarts, the downloaded dataset will be lost.The persistent storage options for this workspace/cluster config are: [DBFS, UC Volumes].Please update either `cache_dir` or the environment variable `HF_DATASETS_CACHE`to be under one of the following root directories: ['/dbfs/', '/Volumes/']\n  warnings.warn(warning_message)\n/databricks/python_shell/lib/dbruntime/huggingface_patches/datasets.py:14: UserWarning: During large dataset downloads, there could be multiple progress bar widgets that can cause performance issues for your notebook or browser. To avoid these issues, use `datasets.utils.logging.disable_progress_bar()` to turn off the progress bars.\n  warnings.warn(\n"
     ]
    }
   ],
   "source": [
    "from datasets import load_dataset\n",
    "from delta.tables import DeltaTable\n",
    "\n",
    "prod_data_table_name = f\"{DA.catalog_name}.{DA.schema_name}.m4_1_lab_prod_data\"\n",
    "squad_dataset = load_dataset(\"squad\")\n",
    "test_spark_df = spark.createDataFrame(squad_dataset[\"validation\"].to_pandas())\n",
    "test_spark_df.write.mode(\"overwrite\").saveAsTable(prod_data_table_name)"
   ]
  },
  {
   "cell_type": "markdown",
   "metadata": {
    "application/vnd.databricks.v1+cell": {
     "cellMetadata": {
      "byteLimit": 2048000,
      "rowLimit": 10000
     },
     "inputWidgets": {},
     "nuid": "21ea8904-e2be-4d1c-906b-6fb7de685da5",
     "showTitle": false,
     "tableResultSettingsMap": {},
     "title": ""
    }
   },
   "source": [
    "\n",
    "## Task 1: Develop a LLM Pipeline\n",
    "\n",
    "Create a language model pipeline that efficiently answers questions by leveraging pre-trained model."
   ]
  },
  {
   "cell_type": "markdown",
   "metadata": {
    "application/vnd.databricks.v1+cell": {
     "cellMetadata": {
      "byteLimit": 2048000,
      "rowLimit": 10000
     },
     "inputWidgets": {},
     "nuid": "dd9cab47-9d1c-40da-91f2-955b3030dc45",
     "showTitle": false,
     "tableResultSettingsMap": {},
     "title": ""
    }
   },
   "source": [
    "###1.1: Create a Hugging Face Q&A Pipeline\n",
    "Initialize a QA pipeline using a specified model tailored for question answering. This step involves selecting a model that has been optimized for the \"`question-answering`\" task."
   ]
  },
  {
   "cell_type": "code",
   "execution_count": 0,
   "metadata": {
    "application/vnd.databricks.v1+cell": {
     "cellMetadata": {
      "byteLimit": 2048000,
      "rowLimit": 10000
     },
     "inputWidgets": {},
     "nuid": "d16ae798-6efb-475e-9da9-6294e4fecac6",
     "showTitle": false,
     "tableResultSettingsMap": {},
     "title": ""
    }
   },
   "outputs": [
    {
     "output_type": "stream",
     "name": "stderr",
     "output_type": "stream",
     "text": [
      "2025-08-13 04:14:57.035030: I external/local_tsl/tsl/cuda/cudart_stub.cc:32] Could not find cuda drivers on your machine, GPU will not be used.\n2025-08-13 04:14:57.039721: I external/local_tsl/tsl/cuda/cudart_stub.cc:32] Could not find cuda drivers on your machine, GPU will not be used.\n2025-08-13 04:14:57.090679: I tensorflow/core/platform/cpu_feature_guard.cc:210] This TensorFlow binary is optimized to use available CPU instructions in performance-critical operations.\nTo enable the following instructions: AVX2 FMA, in other operations, rebuild TensorFlow with the appropriate compiler flags.\n2025-08-13 04:14:57.866819: W tensorflow/compiler/tf2tensorrt/utils/py_utils.cc:38] TF-TRT Warning: Could not find TensorRT\n"
     ]
    }
   ],
   "source": [
    "##\n",
    "## Import the pipeline function from the transformers library\n",
    "from transformers import pipeline  \n",
    "## Define variables for the model name, device mapping, and cache directory\n",
    "hf_model_name = \"distilbert-base-cased-distilled-squad\"  \n",
    "device_map = \"auto\"  ## Automatically use the best available device (CPU or GPU)\n",
    "cache_dir = \"/hf_cache\"  ## Path for caching data\n",
    "\n",
    "## Initialize a question-answering pipeline with the specified model\n",
    "qa_pipeline = pipeline(\n",
    "    task=\"question-answering\",  ## Specify the task type as 'question-answering'\n",
    "    model=hf_model_name,  ## Model to be loaded\n",
    "    model_kwargs={\"cache_dir\": cache_dir},  \n",
    ")"
   ]
  },
  {
   "cell_type": "markdown",
   "metadata": {
    "application/vnd.databricks.v1+cell": {
     "cellMetadata": {
      "byteLimit": 2048000,
      "rowLimit": 10000
     },
     "inputWidgets": {},
     "nuid": "861a2008-8468-48ff-bc26-7f7240f828b0",
     "showTitle": false,
     "tableResultSettingsMap": {},
     "title": ""
    }
   },
   "source": [
    "\n",
    "###1.2: Test Question-Answering Pipeline\n",
    "Validate the pipeline's functionality by running a predefined question and context to observe how the model interprets and responds."
   ]
  },
  {
   "cell_type": "code",
   "execution_count": 0,
   "metadata": {
    "application/vnd.databricks.v1+cell": {
     "cellMetadata": {
      "byteLimit": 2048000,
      "rowLimit": 10000
     },
     "inputWidgets": {},
     "nuid": "1f631e8c-a9ad-4507-b678-0547ed9bd56b",
     "showTitle": false,
     "tableResultSettingsMap": {},
     "title": ""
    }
   },
   "outputs": [
    {
     "output_type": "stream",
     "name": "stdout",
     "output_type": "stream",
     "text": [
      "Question: Why is Marie Curie famous?\nAnswer: conducted pioneering research on radioactivity\n===============================================\nContext: Marie Curie was a Polish and naturalized-French physicist and chemist who conducted pioneering research on radioactivity. She was the first woman to win a Nobel Prize and the first person and only woman to win the Nobel prize twice in different scientific fields.\n"
     ]
    }
   ],
   "source": [
    "##\n",
    "## Define the context string where the model will search for answers\n",
    "context = \"\"\"Marie Curie was a Polish and naturalized-French physicist and chemist who conducted pioneering research on radioactivity. She was the first woman to win a Nobel Prize and the first person and only woman to win the Nobel prize twice in different scientific fields.\"\"\"\n",
    "\n",
    "## Define the question to be answered based on the given context\n",
    "question = \"Why is Marie Curie famous?\"\n",
    "\n",
    "## Use the question-answering pipeline to find an answer to the question from the context\n",
    "answer = qa_pipeline(question=question, context=context, token_type_ids=None)\n",
    "\n",
    "## Print the question and answer\n",
    "print(f\"Question: {question}\")\n",
    "\n",
    "print(f\"Answer: {answer['answer']}\")\n",
    "print(\"===============================================\")\n",
    "\n",
    "## Print the context to show the content the model used to find the answer\n",
    "print(f\"Context: {context}\")"
   ]
  },
  {
   "cell_type": "markdown",
   "metadata": {
    "application/vnd.databricks.v1+cell": {
     "cellMetadata": {
      "byteLimit": 2048000,
      "rowLimit": 10000
     },
     "inputWidgets": {},
     "nuid": "e88fb902-aed1-4460-b822-c8f013f140cd",
     "showTitle": false,
     "tableResultSettingsMap": {},
     "title": ""
    }
   },
   "source": [
    "## Task 2: Model Development and Registering\n",
    "Track the developed model using MLflow and register it in the Unity Catalog for lifecycle management."
   ]
  },
  {
   "cell_type": "markdown",
   "metadata": {
    "application/vnd.databricks.v1+cell": {
     "cellMetadata": {
      "byteLimit": 2048000,
      "rowLimit": 10000
     },
     "inputWidgets": {},
     "nuid": "e025b173-eff2-40ff-8b1c-9396652b005f",
     "showTitle": false,
     "tableResultSettingsMap": {},
     "title": ""
    }
   },
   "source": [
    "### 2.1: Track LLM Development with MLflow\n",
    "\n",
    "Log the model's parameters, configuration, and outputs to MLflow for tracking experiments, versioning, and reproducibility."
   ]
  },
  {
   "cell_type": "code",
   "execution_count": 0,
   "metadata": {
    "application/vnd.databricks.v1+cell": {
     "cellMetadata": {
      "byteLimit": 2048000,
      "rowLimit": 10000
     },
     "inputWidgets": {},
     "nuid": "d0c42471-46f2-4b47-8685-444eaa927f8d",
     "showTitle": false,
     "tableResultSettingsMap": {},
     "title": ""
    }
   },
   "outputs": [
    {
     "output_type": "stream",
     "name": "stdout",
     "output_type": "stream",
     "text": [
      "[2025-08-13 04:15:02,629] [WARNING] [real_accelerator.py:162:get_accelerator] Setting accelerator to CPU. If you have GPU or other accelerator, we were unable to detect it.\n[2025-08-13 04:15:02,632] [INFO] [real_accelerator.py:203:get_accelerator] Setting ds_accelerator to cpu (auto detect)\n"
     ]
    },
    {
     "output_type": "stream",
     "name": "stderr",
     "output_type": "stream",
     "text": [
      "2025/08/13 04:15:03 WARNING mlflow.transformers: Indicating `inference_config` is deprecated and will be removed in a future version of MLflow. Use `model_config` instead.\n"
     ]
    },
    {
     "output_type": "display_data",
     "data": {
      "application/vnd.jupyter.widget-view+json": {
       "model_id": "58088e90fc014bf6a675615696461d94",
       "version_major": 2,
       "version_minor": 0
      },
      "text/plain": [
       "Uploading artifacts:   0%|          | 0/20 [00:00<?, ?it/s]"
      ]
     },
     "metadata": {},
     "output_type": "display_data"
    },
    {
     "output_type": "stream",
     "name": "stdout",
     "output_type": "stream",
     "text": [
      "\uD83C\uDFC3 View run thoughtful-vole-186 at: https://dbc-ef7c3468-ef98.cloud.databricks.com/ml/experiments/198782775599319/runs/856cd2bf78134468bacf6ca078862cb7\n\uD83E\uDDEA View experiment at: https://dbc-ef7c3468-ef98.cloud.databricks.com/ml/experiments/198782775599319\n"
     ]
    }
   ],
   "source": [
    "##\n",
    "\n",
    "## Import necessary MLflow and related library modules for model tracking\n",
    "import mlflow\n",
    "from mlflow.models import infer_signature\n",
    "from mlflow.transformers import generate_signature_output\n",
    "\n",
    "## Generate a model output using the QA pipeline for a given input to use in the model signature\n",
    "output = generate_signature_output(qa_pipeline, {\"question\": question, \"context\": context})\n",
    "\n",
    "## Infer a model signature that defines the input and output schema of the model\n",
    "signature = infer_signature({\"question\": question, \"context\": context}, output)\n",
    "\n",
    "## Set the name of the experiment in MLflow\n",
    "experiment_name = f\"/Users/{DA.username}/GenAI-As-04-Batch-Demo\"\n",
    "mlflow.set_experiment(experiment_name)\n",
    "\n",
    "## Define a path within the MLflow Artifacts repository to store the model\n",
    "model_artifact_path = \"qa_pipeline\"\n",
    "\n",
    "## Start an MLflow run to log parameters, artifacts, and models\n",
    "with mlflow.start_run():\n",
    "    ## Log parameters used in the model; here, the model name\n",
    "    mlflow.log_params({\n",
    "        \"hf_model_name\": hf_model_name,\n",
    "    })\n",
    "\n",
    "    ## Define inference configuration for logging purposes, could include other configurations\n",
    "    inference_config = {\n",
    "        \"hf_model_name\": hf_model_name,\n",
    "    }\n",
    "\n",
    "    ## Log the model along with its configuration, signature, and an example for use\n",
    "    model_info = mlflow.transformers.log_model(\n",
    "        transformers_model=qa_pipeline,\n",
    "        artifact_path=model_artifact_path,\n",
    "        task=\"question-answering\",  ## Type of task for the model\n",
    "        inference_config=inference_config,  ## Configuration used for inference\n",
    "        signature=signature,  ## Signature that defines model input and output\n",
    "        input_example={\"question\": \"Why is Marie Curie famous?\", \"context\": context},  ## Example of input\n",
    "    )"
   ]
  },
  {
   "cell_type": "markdown",
   "metadata": {
    "application/vnd.databricks.v1+cell": {
     "cellMetadata": {
      "byteLimit": 2048000,
      "rowLimit": 10000
     },
     "inputWidgets": {},
     "nuid": "12e355a8-6eff-4057-9be5-8accbe6098dc",
     "showTitle": false,
     "tableResultSettingsMap": {},
     "title": ""
    }
   },
   "source": [
    "### 2.2: Query the MLflow Tracking Server\n",
    "Retrieve information about the model's performance and other metrics from the MLflow tracking server."
   ]
  },
  {
   "cell_type": "code",
   "execution_count": 0,
   "metadata": {
    "application/vnd.databricks.v1+cell": {
     "cellMetadata": {
      "byteLimit": 2048000,
      "rowLimit": 10000
     },
     "inputWidgets": {},
     "nuid": "4cd2740e-19ba-411d-93e7-6801b1e5f9ea",
     "showTitle": false,
     "tableResultSettingsMap": {},
     "title": ""
    }
   },
   "outputs": [],
   "source": [
    "##\n",
    "## Retrieve the experiment ID using the experiment name\n",
    "experiment_id = mlflow.get_experiment_by_name(experiment_name).experiment_id\n",
    "## Search for all runs in the experiment using the experiment ID\n",
    "runs = mlflow.search_runs([experiment_id])\n",
    "## Sort the runs by their start time in descending order and get the run ID of the latest run\n",
    "last_run_id = runs.sort_values(\"start_time\", ascending=False).iloc[0].run_id\n",
    "## Construct the model URI using the last run ID and the specified artifact path\n",
    "model_uri = f\"runs:/{last_run_id}/{model_artifact_path}\""
   ]
  },
  {
   "cell_type": "markdown",
   "metadata": {
    "application/vnd.databricks.v1+cell": {
     "cellMetadata": {
      "byteLimit": 2048000,
      "rowLimit": 10000
     },
     "inputWidgets": {},
     "nuid": "abe64aa9-1778-4ded-92ce-2ca5b0263e01",
     "showTitle": false,
     "tableResultSettingsMap": {},
     "title": ""
    }
   },
   "source": [
    "###2.3: Load Model Back as a Pipeline\n",
    "Load the registered model from MLflow to verify its performance and integration capabilities post-registration.\n"
   ]
  },
  {
   "cell_type": "code",
   "execution_count": 0,
   "metadata": {
    "application/vnd.databricks.v1+cell": {
     "cellMetadata": {
      "byteLimit": 2048000,
      "rowLimit": 10000
     },
     "inputWidgets": {},
     "nuid": "0ade889a-9315-41ac-b40e-7d84a3115c9f",
     "showTitle": false,
     "tableResultSettingsMap": {},
     "title": ""
    }
   },
   "outputs": [
    {
     "output_type": "display_data",
     "data": {
      "application/vnd.jupyter.widget-view+json": {
       "model_id": "29912e1e3d8d4b598121046b80cf8691",
       "version_major": 2,
       "version_minor": 0
      },
      "text/plain": [
       "Downloading artifacts:   0%|          | 0/20 [00:00<?, ?it/s]"
      ]
     },
     "metadata": {},
     "output_type": "display_data"
    },
    {
     "output_type": "execute_result",
     "data": {
      "text/plain": [
       "['conducted pioneering research on radioactivity']"
      ]
     },
     "execution_count": 11,
     "metadata": {},
     "output_type": "execute_result"
    }
   ],
   "source": [
    "##\n",
    "loaded_qa_pipeline = mlflow.pyfunc.load_model(model_uri=model_uri)\n",
    "loaded_qa_pipeline.predict({\"question\": question, \"context\": context})"
   ]
  },
  {
   "cell_type": "markdown",
   "metadata": {
    "application/vnd.databricks.v1+cell": {
     "cellMetadata": {
      "byteLimit": 2048000,
      "rowLimit": 10000
     },
     "inputWidgets": {},
     "nuid": "36026672-ca95-4f1e-84cc-42280a84078c",
     "showTitle": false,
     "tableResultSettingsMap": {},
     "title": ""
    }
   },
   "source": [
    "### 2.4: Register the Model to Unity Catalog\n",
    "Register the model in the Unity Catalog for better version control and to facilitate the deployment process."
   ]
  },
  {
   "cell_type": "code",
   "execution_count": 0,
   "metadata": {
    "application/vnd.databricks.v1+cell": {
     "cellMetadata": {
      "byteLimit": 2048000,
      "rowLimit": 10000
     },
     "inputWidgets": {},
     "nuid": "64b4d04e-f551-46b9-9d07-ed530f64c55f",
     "showTitle": false,
     "tableResultSettingsMap": {},
     "title": ""
    }
   },
   "outputs": [
    {
     "output_type": "stream",
     "name": "stderr",
     "output_type": "stream",
     "text": [
      "Successfully registered model 'dbacademy.labuser11195156_1755057414.qa_pipeline'.\n"
     ]
    },
    {
     "output_type": "display_data",
     "data": {
      "application/vnd.jupyter.widget-view+json": {
       "model_id": "7542de901e0e484b9cc9575376a1c385",
       "version_major": 2,
       "version_minor": 0
      },
      "text/plain": [
       "Downloading artifacts:   0%|          | 0/20 [00:00<?, ?it/s]"
      ]
     },
     "metadata": {},
     "output_type": "display_data"
    },
    {
     "output_type": "display_data",
     "data": {
      "application/vnd.jupyter.widget-view+json": {
       "model_id": "409c9d6402dc45f09401acf70c8945bd",
       "version_major": 2,
       "version_minor": 0
      },
      "text/plain": [
       "Uploading artifacts:   0%|          | 0/20 [00:00<?, ?it/s]"
      ]
     },
     "metadata": {},
     "output_type": "display_data"
    },
    {
     "output_type": "stream",
     "name": "stderr",
     "output_type": "stream",
     "text": [
      "Created version '1' of model 'dbacademy.labuser11195156_1755057414.qa_pipeline'.\n"
     ]
    },
    {
     "output_type": "execute_result",
     "data": {
      "text/plain": [
       "<ModelVersion: aliases=[], creation_timestamp=1755058530346, current_stage=None, description='', last_updated_timestamp=1755058533145, name='dbacademy.labuser11195156_1755057414.qa_pipeline', run_id='856cd2bf78134468bacf6ca078862cb7', run_link=None, source='dbfs:/databricks/mlflow-tracking/198782775599319/856cd2bf78134468bacf6ca078862cb7/artifacts/qa_pipeline', status='READY', status_message='', tags={}, user_id='labuser11195156_1755057414@vocareum.com', version='1'>"
      ]
     },
     "execution_count": 12,
     "metadata": {},
     "output_type": "execute_result"
    }
   ],
   "source": [
    "##\n",
    "from mlflow import MlflowClient\n",
    "## Define the model name\n",
    "model_name = f\"{DA.catalog_name}.{DA.schema_name}.qa_pipeline\"\n",
    "## Set the MLflow registry URI\n",
    "mlflow.set_registry_uri(\"databricks-uc\")\n",
    "## Register the model in the MLflow model registry under the specified name and model URI\n",
    "mlflow.register_model(model_uri=model_uri, name=model_name)"
   ]
  },
  {
   "cell_type": "markdown",
   "metadata": {
    "application/vnd.databricks.v1+cell": {
     "cellMetadata": {
      "byteLimit": 2048000,
      "rowLimit": 10000
     },
     "inputWidgets": {},
     "nuid": "92626c47-b826-4c50-9957-b7ae6ccc5649",
     "showTitle": false,
     "tableResultSettingsMap": {},
     "title": ""
    }
   },
   "source": [
    "## Task 3: LLM Model State Management\n",
    "In this task, you'll manage your model's lifecycle across different stages using MLflow and Unity Catalog. By leveraging MLflow's Model Registry, you will update and maintain the model's state to enhance tracking, version control, and deployment efficiency."
   ]
  },
  {
   "cell_type": "markdown",
   "metadata": {
    "application/vnd.databricks.v1+cell": {
     "cellMetadata": {
      "byteLimit": 2048000,
      "rowLimit": 10000
     },
     "inputWidgets": {},
     "nuid": "32384428-3def-4649-86b8-a1c4c510b406",
     "showTitle": false,
     "tableResultSettingsMap": {},
     "title": ""
    }
   },
   "source": [
    "###3.1: Search and Inspect Registered Model\n",
    "Identify and inspect the latest version of your registered model to ensure you are managing the most current and relevant iteration. This step is crucial as it determines the baseline for setting model stages or aliases.\n",
    "\n",
    "- Retrieve the Latest Model Version\n",
    "- Set Model Alias"
   ]
  },
  {
   "cell_type": "code",
   "execution_count": 0,
   "metadata": {
    "application/vnd.databricks.v1+cell": {
     "cellMetadata": {
      "byteLimit": 2048000,
      "rowLimit": 10000
     },
     "inputWidgets": {},
     "nuid": "ba55c833-e1a1-4d1f-b5ca-cd4bc4a8e28b",
     "showTitle": false,
     "tableResultSettingsMap": {},
     "title": ""
    }
   },
   "outputs": [],
   "source": [
    "##\n",
    "def get_latest_model_version(model_name_in):\n",
    "    ## Initialize the MLflow Client to interact with the MLflow server\n",
    "    client = MlflowClient()\n",
    "    \n",
    "    ## Search for all versions of the specified model in the Model Registry\n",
    "    model_version_infos = client.search_model_versions(\"name = '%s'\" % model_name_in)\n",
    "    \n",
    "    ## Extract the version numbers and return the highest (latest) version\n",
    "    return max([model_version_info.version for model_version_info in model_version_infos])\n",
    "\n",
    "## Initialize the MLflow Client for further operations\n",
    "client = mlflow.tracking.MlflowClient()\n",
    "\n",
    "## Get the latest version number of the specified model\n",
    "current_model_version = get_latest_model_version(model_name)\n",
    "\n",
    "## Set an alias 'champion' for the latest version of the model\n",
    "client.set_registered_model_alias(\n",
    "    name=model_name, \n",
    "    alias=\"champion\", \n",
    "    version=current_model_version\n",
    ")"
   ]
  },
  {
   "cell_type": "markdown",
   "metadata": {
    "application/vnd.databricks.v1+cell": {
     "cellMetadata": {
      "byteLimit": 2048000,
      "rowLimit": 10000
     },
     "inputWidgets": {},
     "nuid": "09069f85-0cd5-45e2-b7b0-d8a211f18613",
     "showTitle": false,
     "tableResultSettingsMap": {},
     "title": ""
    }
   },
   "source": [
    "## Task 4: Batch Inference\n",
    "Perform inference using the registered model on new data, both in single-node and multi-node environments."
   ]
  },
  {
   "cell_type": "markdown",
   "metadata": {
    "application/vnd.databricks.v1+cell": {
     "cellMetadata": {
      "byteLimit": 2048000,
      "rowLimit": 10000
     },
     "inputWidgets": {},
     "nuid": "294ec302-a73f-4587-b515-dcffdefd835e",
     "showTitle": false,
     "tableResultSettingsMap": {},
     "title": ""
    }
   },
   "source": [
    "###4.1: Load the Model for Batch Inference\n",
    "Prepare the environment and load the model from Unity Catalog for batch processing."
   ]
  },
  {
   "cell_type": "code",
   "execution_count": 0,
   "metadata": {
    "application/vnd.databricks.v1+cell": {
     "cellMetadata": {
      "byteLimit": 2048000,
      "rowLimit": 10000
     },
     "inputWidgets": {},
     "nuid": "1c8e5eaf-c4b1-4fce-bc14-997fe9938b62",
     "showTitle": false,
     "tableResultSettingsMap": {},
     "title": ""
    }
   },
   "outputs": [
    {
     "output_type": "display_data",
     "data": {
      "text/html": [
       "<style scoped>\n",
       "  .table-result-container {\n",
       "    max-height: 300px;\n",
       "    overflow: auto;\n",
       "  }\n",
       "  table, th, td {\n",
       "    border: 1px solid black;\n",
       "    border-collapse: collapse;\n",
       "  }\n",
       "  th, td {\n",
       "    padding: 5px;\n",
       "  }\n",
       "  th {\n",
       "    text-align: left;\n",
       "  }\n",
       "</style><div class='table-result-container'><table class='table-result'><thead style='background-color: white'><tr><th>id</th><th>title</th><th>context</th><th>question</th><th>answers</th></tr></thead><tbody><tr><td>56be4db0acb8001400a502ec</td><td>Super_Bowl_50</td><td>Super Bowl 50 was an American football game to determine the champion of the National Football League (NFL) for the 2015 season. The American Football Conference (AFC) champion Denver Broncos defeated the National Football Conference (NFC) champion Carolina Panthers 24–10 to earn their third Super Bowl title. The game was played on February 7, 2016, at Levi's Stadium in the San Francisco Bay Area at Santa Clara, California. As this was the 50th Super Bowl, the league emphasized the \"golden anniversary\" with various gold-themed initiatives, as well as temporarily suspending the tradition of naming each Super Bowl game with Roman numerals (under which the game would have been known as \"Super Bowl L\"), so that the logo could prominently feature the Arabic numerals 50.</td><td>Which NFL team represented the AFC at Super Bowl 50?</td><td>List(List(177, 177, 177), List(Denver Broncos, Denver Broncos, Denver Broncos))</td></tr><tr><td>56be4db0acb8001400a502ed</td><td>Super_Bowl_50</td><td>Super Bowl 50 was an American football game to determine the champion of the National Football League (NFL) for the 2015 season. The American Football Conference (AFC) champion Denver Broncos defeated the National Football Conference (NFC) champion Carolina Panthers 24–10 to earn their third Super Bowl title. The game was played on February 7, 2016, at Levi's Stadium in the San Francisco Bay Area at Santa Clara, California. As this was the 50th Super Bowl, the league emphasized the \"golden anniversary\" with various gold-themed initiatives, as well as temporarily suspending the tradition of naming each Super Bowl game with Roman numerals (under which the game would have been known as \"Super Bowl L\"), so that the logo could prominently feature the Arabic numerals 50.</td><td>Which NFL team represented the NFC at Super Bowl 50?</td><td>List(List(249, 249, 249), List(Carolina Panthers, Carolina Panthers, Carolina Panthers))</td></tr><tr><td>56be4db0acb8001400a502ee</td><td>Super_Bowl_50</td><td>Super Bowl 50 was an American football game to determine the champion of the National Football League (NFL) for the 2015 season. The American Football Conference (AFC) champion Denver Broncos defeated the National Football Conference (NFC) champion Carolina Panthers 24–10 to earn their third Super Bowl title. The game was played on February 7, 2016, at Levi's Stadium in the San Francisco Bay Area at Santa Clara, California. As this was the 50th Super Bowl, the league emphasized the \"golden anniversary\" with various gold-themed initiatives, as well as temporarily suspending the tradition of naming each Super Bowl game with Roman numerals (under which the game would have been known as \"Super Bowl L\"), so that the logo could prominently feature the Arabic numerals 50.</td><td>Where did Super Bowl 50 take place?</td><td>List(List(403, 355, 355), List(Santa Clara, California, Levi's Stadium, Levi's Stadium in the San Francisco Bay Area at Santa Clara, California.))</td></tr><tr><td>56be4db0acb8001400a502ef</td><td>Super_Bowl_50</td><td>Super Bowl 50 was an American football game to determine the champion of the National Football League (NFL) for the 2015 season. The American Football Conference (AFC) champion Denver Broncos defeated the National Football Conference (NFC) champion Carolina Panthers 24–10 to earn their third Super Bowl title. The game was played on February 7, 2016, at Levi's Stadium in the San Francisco Bay Area at Santa Clara, California. As this was the 50th Super Bowl, the league emphasized the \"golden anniversary\" with various gold-themed initiatives, as well as temporarily suspending the tradition of naming each Super Bowl game with Roman numerals (under which the game would have been known as \"Super Bowl L\"), so that the logo could prominently feature the Arabic numerals 50.</td><td>Which NFL team won Super Bowl 50?</td><td>List(List(177, 177, 177), List(Denver Broncos, Denver Broncos, Denver Broncos))</td></tr><tr><td>56be4db0acb8001400a502f0</td><td>Super_Bowl_50</td><td>Super Bowl 50 was an American football game to determine the champion of the National Football League (NFL) for the 2015 season. The American Football Conference (AFC) champion Denver Broncos defeated the National Football Conference (NFC) champion Carolina Panthers 24–10 to earn their third Super Bowl title. The game was played on February 7, 2016, at Levi's Stadium in the San Francisco Bay Area at Santa Clara, California. As this was the 50th Super Bowl, the league emphasized the \"golden anniversary\" with various gold-themed initiatives, as well as temporarily suspending the tradition of naming each Super Bowl game with Roman numerals (under which the game would have been known as \"Super Bowl L\"), so that the logo could prominently feature the Arabic numerals 50.</td><td>What color was used to emphasize the 50th anniversary of the Super Bowl?</td><td>List(List(488, 488, 521), List(gold, gold, gold))</td></tr><tr><td>56be8e613aeaaa14008c90d1</td><td>Super_Bowl_50</td><td>Super Bowl 50 was an American football game to determine the champion of the National Football League (NFL) for the 2015 season. The American Football Conference (AFC) champion Denver Broncos defeated the National Football Conference (NFC) champion Carolina Panthers 24–10 to earn their third Super Bowl title. The game was played on February 7, 2016, at Levi's Stadium in the San Francisco Bay Area at Santa Clara, California. As this was the 50th Super Bowl, the league emphasized the \"golden anniversary\" with various gold-themed initiatives, as well as temporarily suspending the tradition of naming each Super Bowl game with Roman numerals (under which the game would have been known as \"Super Bowl L\"), so that the logo could prominently feature the Arabic numerals 50.</td><td>What was the theme of Super Bowl 50?</td><td>List(List(487, 521, 487), List(\"golden anniversary\", gold-themed, \"golden anniversary))</td></tr><tr><td>56be8e613aeaaa14008c90d2</td><td>Super_Bowl_50</td><td>Super Bowl 50 was an American football game to determine the champion of the National Football League (NFL) for the 2015 season. The American Football Conference (AFC) champion Denver Broncos defeated the National Football Conference (NFC) champion Carolina Panthers 24–10 to earn their third Super Bowl title. The game was played on February 7, 2016, at Levi's Stadium in the San Francisco Bay Area at Santa Clara, California. As this was the 50th Super Bowl, the league emphasized the \"golden anniversary\" with various gold-themed initiatives, as well as temporarily suspending the tradition of naming each Super Bowl game with Roman numerals (under which the game would have been known as \"Super Bowl L\"), so that the logo could prominently feature the Arabic numerals 50.</td><td>What day was the game played on?</td><td>List(List(334, 334, 334), List(February 7, 2016, February 7, February 7, 2016))</td></tr><tr><td>56be8e613aeaaa14008c90d3</td><td>Super_Bowl_50</td><td>Super Bowl 50 was an American football game to determine the champion of the National Football League (NFL) for the 2015 season. The American Football Conference (AFC) champion Denver Broncos defeated the National Football Conference (NFC) champion Carolina Panthers 24–10 to earn their third Super Bowl title. The game was played on February 7, 2016, at Levi's Stadium in the San Francisco Bay Area at Santa Clara, California. As this was the 50th Super Bowl, the league emphasized the \"golden anniversary\" with various gold-themed initiatives, as well as temporarily suspending the tradition of naming each Super Bowl game with Roman numerals (under which the game would have been known as \"Super Bowl L\"), so that the logo could prominently feature the Arabic numerals 50.</td><td>What is the AFC short for?</td><td>List(List(133, 133, 133), List(American Football Conference, American Football Conference, American Football Conference))</td></tr><tr><td>56bea9923aeaaa14008c91b9</td><td>Super_Bowl_50</td><td>Super Bowl 50 was an American football game to determine the champion of the National Football League (NFL) for the 2015 season. The American Football Conference (AFC) champion Denver Broncos defeated the National Football Conference (NFC) champion Carolina Panthers 24–10 to earn their third Super Bowl title. The game was played on February 7, 2016, at Levi's Stadium in the San Francisco Bay Area at Santa Clara, California. As this was the 50th Super Bowl, the league emphasized the \"golden anniversary\" with various gold-themed initiatives, as well as temporarily suspending the tradition of naming each Super Bowl game with Roman numerals (under which the game would have been known as \"Super Bowl L\"), so that the logo could prominently feature the Arabic numerals 50.</td><td>What was the theme of Super Bowl 50?</td><td>List(List(487, 521, 521), List(\"golden anniversary\", gold-themed, gold))</td></tr><tr><td>56bea9923aeaaa14008c91ba</td><td>Super_Bowl_50</td><td>Super Bowl 50 was an American football game to determine the champion of the National Football League (NFL) for the 2015 season. The American Football Conference (AFC) champion Denver Broncos defeated the National Football Conference (NFC) champion Carolina Panthers 24–10 to earn their third Super Bowl title. The game was played on February 7, 2016, at Levi's Stadium in the San Francisco Bay Area at Santa Clara, California. As this was the 50th Super Bowl, the league emphasized the \"golden anniversary\" with various gold-themed initiatives, as well as temporarily suspending the tradition of naming each Super Bowl game with Roman numerals (under which the game would have been known as \"Super Bowl L\"), so that the logo could prominently feature the Arabic numerals 50.</td><td>What does AFC stand for?</td><td>List(List(133, 133, 133), List(American Football Conference, American Football Conference, American Football Conference))</td></tr><tr><td>56bea9923aeaaa14008c91bb</td><td>Super_Bowl_50</td><td>Super Bowl 50 was an American football game to determine the champion of the National Football League (NFL) for the 2015 season. The American Football Conference (AFC) champion Denver Broncos defeated the National Football Conference (NFC) champion Carolina Panthers 24–10 to earn their third Super Bowl title. The game was played on February 7, 2016, at Levi's Stadium in the San Francisco Bay Area at Santa Clara, California. As this was the 50th Super Bowl, the league emphasized the \"golden anniversary\" with various gold-themed initiatives, as well as temporarily suspending the tradition of naming each Super Bowl game with Roman numerals (under which the game would have been known as \"Super Bowl L\"), so that the logo could prominently feature the Arabic numerals 50.</td><td>What day was the Super Bowl played on?</td><td>List(List(334, 334, 334), List(February 7, 2016, February 7, February 7, 2016))</td></tr><tr><td>56beace93aeaaa14008c91df</td><td>Super_Bowl_50</td><td>Super Bowl 50 was an American football game to determine the champion of the National Football League (NFL) for the 2015 season. The American Football Conference (AFC) champion Denver Broncos defeated the National Football Conference (NFC) champion Carolina Panthers 24–10 to earn their third Super Bowl title. The game was played on February 7, 2016, at Levi's Stadium in the San Francisco Bay Area at Santa Clara, California. As this was the 50th Super Bowl, the league emphasized the \"golden anniversary\" with various gold-themed initiatives, as well as temporarily suspending the tradition of naming each Super Bowl game with Roman numerals (under which the game would have been known as \"Super Bowl L\"), so that the logo could prominently feature the Arabic numerals 50.</td><td>Who won Super Bowl 50?</td><td>List(List(177, 177, 177), List(Denver Broncos, Denver Broncos, Denver Broncos))</td></tr><tr><td>56beace93aeaaa14008c91e0</td><td>Super_Bowl_50</td><td>Super Bowl 50 was an American football game to determine the champion of the National Football League (NFL) for the 2015 season. The American Football Conference (AFC) champion Denver Broncos defeated the National Football Conference (NFC) champion Carolina Panthers 24–10 to earn their third Super Bowl title. The game was played on February 7, 2016, at Levi's Stadium in the San Francisco Bay Area at Santa Clara, California. As this was the 50th Super Bowl, the league emphasized the \"golden anniversary\" with various gold-themed initiatives, as well as temporarily suspending the tradition of naming each Super Bowl game with Roman numerals (under which the game would have been known as \"Super Bowl L\"), so that the logo could prominently feature the Arabic numerals 50.</td><td>What venue did Super Bowl 50 take place in?</td><td>List(List(355, 355, 355), List(Levi's Stadium, Levi's Stadium, Levi's Stadium in the San Francisco Bay Area at Santa Clara))</td></tr><tr><td>56beace93aeaaa14008c91e1</td><td>Super_Bowl_50</td><td>Super Bowl 50 was an American football game to determine the champion of the National Football League (NFL) for the 2015 season. The American Football Conference (AFC) champion Denver Broncos defeated the National Football Conference (NFC) champion Carolina Panthers 24–10 to earn their third Super Bowl title. The game was played on February 7, 2016, at Levi's Stadium in the San Francisco Bay Area at Santa Clara, California. As this was the 50th Super Bowl, the league emphasized the \"golden anniversary\" with various gold-themed initiatives, as well as temporarily suspending the tradition of naming each Super Bowl game with Roman numerals (under which the game would have been known as \"Super Bowl L\"), so that the logo could prominently feature the Arabic numerals 50.</td><td>What city did Super Bowl 50 take place in?</td><td>List(List(403, 403, 403), List(Santa Clara, Santa Clara, Santa Clara))</td></tr><tr><td>56beace93aeaaa14008c91e2</td><td>Super_Bowl_50</td><td>Super Bowl 50 was an American football game to determine the champion of the National Football League (NFL) for the 2015 season. The American Football Conference (AFC) champion Denver Broncos defeated the National Football Conference (NFC) champion Carolina Panthers 24–10 to earn their third Super Bowl title. The game was played on February 7, 2016, at Levi's Stadium in the San Francisco Bay Area at Santa Clara, California. As this was the 50th Super Bowl, the league emphasized the \"golden anniversary\" with various gold-themed initiatives, as well as temporarily suspending the tradition of naming each Super Bowl game with Roman numerals (under which the game would have been known as \"Super Bowl L\"), so that the logo could prominently feature the Arabic numerals 50.</td><td>If Roman numerals were used, what would Super Bowl 50 have been called?</td><td>List(List(693, 704, 693), List(Super Bowl L, L, Super Bowl L))</td></tr><tr><td>56beace93aeaaa14008c91e3</td><td>Super_Bowl_50</td><td>Super Bowl 50 was an American football game to determine the champion of the National Football League (NFL) for the 2015 season. The American Football Conference (AFC) champion Denver Broncos defeated the National Football Conference (NFC) champion Carolina Panthers 24–10 to earn their third Super Bowl title. The game was played on February 7, 2016, at Levi's Stadium in the San Francisco Bay Area at Santa Clara, California. As this was the 50th Super Bowl, the league emphasized the \"golden anniversary\" with various gold-themed initiatives, as well as temporarily suspending the tradition of naming each Super Bowl game with Roman numerals (under which the game would have been known as \"Super Bowl L\"), so that the logo could prominently feature the Arabic numerals 50.</td><td>Super Bowl 50 decided the NFL champion for what season?</td><td>List(List(116, 112, 116), List(2015, the 2015 season, 2015))</td></tr><tr><td>56bf10f43aeaaa14008c94fd</td><td>Super_Bowl_50</td><td>Super Bowl 50 was an American football game to determine the champion of the National Football League (NFL) for the 2015 season. The American Football Conference (AFC) champion Denver Broncos defeated the National Football Conference (NFC) champion Carolina Panthers 24–10 to earn their third Super Bowl title. The game was played on February 7, 2016, at Levi's Stadium in the San Francisco Bay Area at Santa Clara, California. As this was the 50th Super Bowl, the league emphasized the \"golden anniversary\" with various gold-themed initiatives, as well as temporarily suspending the tradition of naming each Super Bowl game with Roman numerals (under which the game would have been known as \"Super Bowl L\"), so that the logo could prominently feature the Arabic numerals 50.</td><td>What year did the Denver Broncos secure a Super Bowl title for the third time?</td><td>List(List(116, 346, 116), List(2015, 2016, 2015))</td></tr><tr><td>56bf10f43aeaaa14008c94fe</td><td>Super_Bowl_50</td><td>Super Bowl 50 was an American football game to determine the champion of the National Football League (NFL) for the 2015 season. The American Football Conference (AFC) champion Denver Broncos defeated the National Football Conference (NFC) champion Carolina Panthers 24–10 to earn their third Super Bowl title. The game was played on February 7, 2016, at Levi's Stadium in the San Francisco Bay Area at Santa Clara, California. As this was the 50th Super Bowl, the league emphasized the \"golden anniversary\" with various gold-themed initiatives, as well as temporarily suspending the tradition of naming each Super Bowl game with Roman numerals (under which the game would have been known as \"Super Bowl L\"), so that the logo could prominently feature the Arabic numerals 50.</td><td>What city did Super Bowl 50 take place in?</td><td>List(List(403, 403, 403), List(Santa Clara, Santa Clara, Santa Clara))</td></tr><tr><td>56bf10f43aeaaa14008c94ff</td><td>Super_Bowl_50</td><td>Super Bowl 50 was an American football game to determine the champion of the National Football League (NFL) for the 2015 season. The American Football Conference (AFC) champion Denver Broncos defeated the National Football Conference (NFC) champion Carolina Panthers 24–10 to earn their third Super Bowl title. The game was played on February 7, 2016, at Levi's Stadium in the San Francisco Bay Area at Santa Clara, California. As this was the 50th Super Bowl, the league emphasized the \"golden anniversary\" with various gold-themed initiatives, as well as temporarily suspending the tradition of naming each Super Bowl game with Roman numerals (under which the game would have been known as \"Super Bowl L\"), so that the logo could prominently feature the Arabic numerals 50.</td><td>What stadium did Super Bowl 50 take place in?</td><td>List(List(355, 355, 355), List(Levi's Stadium, Levi's Stadium, Levi's Stadium))</td></tr><tr><td>56bf10f43aeaaa14008c9500</td><td>Super_Bowl_50</td><td>Super Bowl 50 was an American football game to determine the champion of the National Football League (NFL) for the 2015 season. The American Football Conference (AFC) champion Denver Broncos defeated the National Football Conference (NFC) champion Carolina Panthers 24–10 to earn their third Super Bowl title. The game was played on February 7, 2016, at Levi's Stadium in the San Francisco Bay Area at Santa Clara, California. As this was the 50th Super Bowl, the league emphasized the \"golden anniversary\" with various gold-themed initiatives, as well as temporarily suspending the tradition of naming each Super Bowl game with Roman numerals (under which the game would have been known as \"Super Bowl L\"), so that the logo could prominently feature the Arabic numerals 50.</td><td>What was the final score of Super Bowl 50? </td><td>List(List(267, 267, 267), List(24–10, 24–10, 24–10))</td></tr><tr><td>56bf10f43aeaaa14008c9501</td><td>Super_Bowl_50</td><td>Super Bowl 50 was an American football game to determine the champion of the National Football League (NFL) for the 2015 season. The American Football Conference (AFC) champion Denver Broncos defeated the National Football Conference (NFC) champion Carolina Panthers 24–10 to earn their third Super Bowl title. The game was played on February 7, 2016, at Levi's Stadium in the San Francisco Bay Area at Santa Clara, California. As this was the 50th Super Bowl, the league emphasized the \"golden anniversary\" with various gold-themed initiatives, as well as temporarily suspending the tradition of naming each Super Bowl game with Roman numerals (under which the game would have been known as \"Super Bowl L\"), so that the logo could prominently feature the Arabic numerals 50.</td><td>What month, day and year did Super Bowl 50 take place? </td><td>List(List(334, 334, 334), List(February 7, 2016, February 7, 2016, February 7, 2016))</td></tr><tr><td>56d20362e7d4791d009025e8</td><td>Super_Bowl_50</td><td>Super Bowl 50 was an American football game to determine the champion of the National Football League (NFL) for the 2015 season. The American Football Conference (AFC) champion Denver Broncos defeated the National Football Conference (NFC) champion Carolina Panthers 24–10 to earn their third Super Bowl title. The game was played on February 7, 2016, at Levi's Stadium in the San Francisco Bay Area at Santa Clara, California. As this was the 50th Super Bowl, the league emphasized the \"golden anniversary\" with various gold-themed initiatives, as well as temporarily suspending the tradition of naming each Super Bowl game with Roman numerals (under which the game would have been known as \"Super Bowl L\"), so that the logo could prominently feature the Arabic numerals 50.</td><td>What year was Super Bowl 50?</td><td>List(List(116, 346, 346), List(2015, 2016, 2016))</td></tr><tr><td>56d20362e7d4791d009025e9</td><td>Super_Bowl_50</td><td>Super Bowl 50 was an American football game to determine the champion of the National Football League (NFL) for the 2015 season. The American Football Conference (AFC) champion Denver Broncos defeated the National Football Conference (NFC) champion Carolina Panthers 24–10 to earn their third Super Bowl title. The game was played on February 7, 2016, at Levi's Stadium in the San Francisco Bay Area at Santa Clara, California. As this was the 50th Super Bowl, the league emphasized the \"golden anniversary\" with various gold-themed initiatives, as well as temporarily suspending the tradition of naming each Super Bowl game with Roman numerals (under which the game would have been known as \"Super Bowl L\"), so that the logo could prominently feature the Arabic numerals 50.</td><td>What team was the AFC champion?</td><td>List(List(177, 177, 177), List(Denver Broncos, Denver Broncos, Denver Broncos))</td></tr><tr><td>56d20362e7d4791d009025ea</td><td>Super_Bowl_50</td><td>Super Bowl 50 was an American football game to determine the champion of the National Football League (NFL) for the 2015 season. The American Football Conference (AFC) champion Denver Broncos defeated the National Football Conference (NFC) champion Carolina Panthers 24–10 to earn their third Super Bowl title. The game was played on February 7, 2016, at Levi's Stadium in the San Francisco Bay Area at Santa Clara, California. As this was the 50th Super Bowl, the league emphasized the \"golden anniversary\" with various gold-themed initiatives, as well as temporarily suspending the tradition of naming each Super Bowl game with Roman numerals (under which the game would have been known as \"Super Bowl L\"), so that the logo could prominently feature the Arabic numerals 50.</td><td>What team was the NFC champion?</td><td>List(List(249, 249, 249), List(Carolina Panthers, Carolina Panthers, Carolina Panthers))</td></tr><tr><td>56d20362e7d4791d009025eb</td><td>Super_Bowl_50</td><td>Super Bowl 50 was an American football game to determine the champion of the National Football League (NFL) for the 2015 season. The American Football Conference (AFC) champion Denver Broncos defeated the National Football Conference (NFC) champion Carolina Panthers 24–10 to earn their third Super Bowl title. The game was played on February 7, 2016, at Levi's Stadium in the San Francisco Bay Area at Santa Clara, California. As this was the 50th Super Bowl, the league emphasized the \"golden anniversary\" with various gold-themed initiatives, as well as temporarily suspending the tradition of naming each Super Bowl game with Roman numerals (under which the game would have been known as \"Super Bowl L\"), so that the logo could prominently feature the Arabic numerals 50.</td><td>Who won Super Bowl 50?</td><td>List(List(177, 177, 177), List(Denver Broncos, Denver Broncos, Denver Broncos))</td></tr><tr><td>56d600e31c85041400946eae</td><td>Super_Bowl_50</td><td>Super Bowl 50 was an American football game to determine the champion of the National Football League (NFL) for the 2015 season. The American Football Conference (AFC) champion Denver Broncos defeated the National Football Conference (NFC) champion Carolina Panthers 24–10 to earn their third Super Bowl title. The game was played on February 7, 2016, at Levi's Stadium in the San Francisco Bay Area at Santa Clara, California. As this was the 50th Super Bowl, the league emphasized the \"golden anniversary\" with various gold-themed initiatives, as well as temporarily suspending the tradition of naming each Super Bowl game with Roman numerals (under which the game would have been known as \"Super Bowl L\"), so that the logo could prominently feature the Arabic numerals 50.</td><td>Super Bowl 50 determined the NFL champion for what season?</td><td>List(List(116, 112, 116), List(2015, the 2015 season, 2015))</td></tr><tr><td>56d600e31c85041400946eb0</td><td>Super_Bowl_50</td><td>Super Bowl 50 was an American football game to determine the champion of the National Football League (NFL) for the 2015 season. The American Football Conference (AFC) champion Denver Broncos defeated the National Football Conference (NFC) champion Carolina Panthers 24–10 to earn their third Super Bowl title. The game was played on February 7, 2016, at Levi's Stadium in the San Francisco Bay Area at Santa Clara, California. As this was the 50th Super Bowl, the league emphasized the \"golden anniversary\" with various gold-themed initiatives, as well as temporarily suspending the tradition of naming each Super Bowl game with Roman numerals (under which the game would have been known as \"Super Bowl L\"), so that the logo could prominently feature the Arabic numerals 50.</td><td>Which team won Super Bowl 50.</td><td>List(List(177, 177, 177), List(Denver Broncos, Denver Broncos, Denver Broncos))</td></tr><tr><td>56d600e31c85041400946eb1</td><td>Super_Bowl_50</td><td>Super Bowl 50 was an American football game to determine the champion of the National Football League (NFL) for the 2015 season. The American Football Conference (AFC) champion Denver Broncos defeated the National Football Conference (NFC) champion Carolina Panthers 24–10 to earn their third Super Bowl title. The game was played on February 7, 2016, at Levi's Stadium in the San Francisco Bay Area at Santa Clara, California. As this was the 50th Super Bowl, the league emphasized the \"golden anniversary\" with various gold-themed initiatives, as well as temporarily suspending the tradition of naming each Super Bowl game with Roman numerals (under which the game would have been known as \"Super Bowl L\"), so that the logo could prominently feature the Arabic numerals 50.</td><td>Where was Super Bowl 50 held?</td><td>List(List(403, 355, 355), List(Santa Clara, California., Levi's Stadium, Levi's Stadium))</td></tr><tr><td>56d9895ddc89441400fdb50e</td><td>Super_Bowl_50</td><td>Super Bowl 50 was an American football game to determine the champion of the National Football League (NFL) for the 2015 season. The American Football Conference (AFC) champion Denver Broncos defeated the National Football Conference (NFC) champion Carolina Panthers 24–10 to earn their third Super Bowl title. The game was played on February 7, 2016, at Levi's Stadium in the San Francisco Bay Area at Santa Clara, California. As this was the 50th Super Bowl, the league emphasized the \"golden anniversary\" with various gold-themed initiatives, as well as temporarily suspending the tradition of naming each Super Bowl game with Roman numerals (under which the game would have been known as \"Super Bowl L\"), so that the logo could prominently feature the Arabic numerals 50.</td><td>The name of the NFL championship game is?</td><td>List(List(0, 0, 0), List(Super Bowl, Super Bowl, Super Bowl))</td></tr><tr><td>56d9895ddc89441400fdb510</td><td>Super_Bowl_50</td><td>Super Bowl 50 was an American football game to determine the champion of the National Football League (NFL) for the 2015 season. The American Football Conference (AFC) champion Denver Broncos defeated the National Football Conference (NFC) champion Carolina Panthers 24–10 to earn their third Super Bowl title. The game was played on February 7, 2016, at Levi's Stadium in the San Francisco Bay Area at Santa Clara, California. As this was the 50th Super Bowl, the league emphasized the \"golden anniversary\" with various gold-themed initiatives, as well as temporarily suspending the tradition of naming each Super Bowl game with Roman numerals (under which the game would have been known as \"Super Bowl L\"), so that the logo could prominently feature the Arabic numerals 50.</td><td>What 2015 NFL team one the AFC playoff?</td><td>List(List(177, 177, 177), List(Denver Broncos, Denver Broncos, Denver Broncos))</td></tr><tr><td>56be4e1facb8001400a502f6</td><td>Super_Bowl_50</td><td>The Panthers finished the regular season with a 15–1 record, and quarterback Cam Newton was named the NFL Most Valuable Player (MVP). They defeated the Arizona Cardinals 49–15 in the NFC Championship Game and advanced to their second Super Bowl appearance since the franchise was founded in 1995. The Broncos finished the regular season with a 12–4 record, and denied the New England Patriots a chance to defend their title from Super Bowl XLIX by defeating them 20–18 in the AFC Championship Game. They joined the Patriots, Dallas Cowboys, and Pittsburgh Steelers as one of four teams that have made eight appearances in the Super Bowl.</td><td>Which Carolina Panthers player was named Most Valuable Player?</td><td>List(List(77, 77, 77), List(Cam Newton, Cam Newton, Cam Newton))</td></tr><tr><td>56be4e1facb8001400a502f9</td><td>Super_Bowl_50</td><td>The Panthers finished the regular season with a 15–1 record, and quarterback Cam Newton was named the NFL Most Valuable Player (MVP). They defeated the Arizona Cardinals 49–15 in the NFC Championship Game and advanced to their second Super Bowl appearance since the franchise was founded in 1995. The Broncos finished the regular season with a 12–4 record, and denied the New England Patriots a chance to defend their title from Super Bowl XLIX by defeating them 20–18 in the AFC Championship Game. They joined the Patriots, Dallas Cowboys, and Pittsburgh Steelers as one of four teams that have made eight appearances in the Super Bowl.</td><td>How many appearances have the Denver Broncos made in the Super Bowl?</td><td>List(List(467, 601, 601), List(8, eight, eight))</td></tr><tr><td>56be4e1facb8001400a502fa</td><td>Super_Bowl_50</td><td>The Panthers finished the regular season with a 15–1 record, and quarterback Cam Newton was named the NFL Most Valuable Player (MVP). They defeated the Arizona Cardinals 49–15 in the NFC Championship Game and advanced to their second Super Bowl appearance since the franchise was founded in 1995. The Broncos finished the regular season with a 12–4 record, and denied the New England Patriots a chance to defend their title from Super Bowl XLIX by defeating them 20–18 in the AFC Championship Game. They joined the Patriots, Dallas Cowboys, and Pittsburgh Steelers as one of four teams that have made eight appearances in the Super Bowl.</td><td>What year was the Carolina Panthers franchise founded?</td><td>List(List(291, 291, 291), List(1995, 1995, 1995))</td></tr><tr><td>56beaa4a3aeaaa14008c91c2</td><td>Super_Bowl_50</td><td>The Panthers finished the regular season with a 15–1 record, and quarterback Cam Newton was named the NFL Most Valuable Player (MVP). They defeated the Arizona Cardinals 49–15 in the NFC Championship Game and advanced to their second Super Bowl appearance since the franchise was founded in 1995. The Broncos finished the regular season with a 12–4 record, and denied the New England Patriots a chance to defend their title from Super Bowl XLIX by defeating them 20–18 in the AFC Championship Game. They joined the Patriots, Dallas Cowboys, and Pittsburgh Steelers as one of four teams that have made eight appearances in the Super Bowl.</td><td>What team did the Panthers defeat?</td><td>List(List(152, 148, 152), List(Arizona Cardinals, the Arizona Cardinals, Arizona Cardinals))</td></tr><tr><td>56beaa4a3aeaaa14008c91c3</td><td>Super_Bowl_50</td><td>The Panthers finished the regular season with a 15–1 record, and quarterback Cam Newton was named the NFL Most Valuable Player (MVP). They defeated the Arizona Cardinals 49–15 in the NFC Championship Game and advanced to their second Super Bowl appearance since the franchise was founded in 1995. The Broncos finished the regular season with a 12–4 record, and denied the New England Patriots a chance to defend their title from Super Bowl XLIX by defeating them 20–18 in the AFC Championship Game. They joined the Patriots, Dallas Cowboys, and Pittsburgh Steelers as one of four teams that have made eight appearances in the Super Bowl.</td><td>Who did the Broncos prevent from going to the Super Bowl?</td><td>List(List(372, 368, 372), List(New England Patriots, the New England Patriots, New England Patriots))</td></tr><tr><td>56bead5a3aeaaa14008c91e9</td><td>Super_Bowl_50</td><td>The Panthers finished the regular season with a 15–1 record, and quarterback Cam Newton was named the NFL Most Valuable Player (MVP). They defeated the Arizona Cardinals 49–15 in the NFC Championship Game and advanced to their second Super Bowl appearance since the franchise was founded in 1995. The Broncos finished the regular season with a 12–4 record, and denied the New England Patriots a chance to defend their title from Super Bowl XLIX by defeating them 20–18 in the AFC Championship Game. They joined the Patriots, Dallas Cowboys, and Pittsburgh Steelers as one of four teams that have made eight appearances in the Super Bowl.</td><td>Who did the Panthers beat in the NFC Championship Game?</td><td>List(List(152, 148, 152), List(Arizona Cardinals, the Arizona Cardinals, Arizona Cardinals))</td></tr><tr><td>56bead5a3aeaaa14008c91ea</td><td>Super_Bowl_50</td><td>The Panthers finished the regular season with a 15–1 record, and quarterback Cam Newton was named the NFL Most Valuable Player (MVP). They defeated the Arizona Cardinals 49–15 in the NFC Championship Game and advanced to their second Super Bowl appearance since the franchise was founded in 1995. The Broncos finished the regular season with a 12–4 record, and denied the New England Patriots a chance to defend their title from Super Bowl XLIX by defeating them 20–18 in the AFC Championship Game. They joined the Patriots, Dallas Cowboys, and Pittsburgh Steelers as one of four teams that have made eight appearances in the Super Bowl.</td><td>Who lost to the Broncos in the AFC Championship?</td><td>List(List(372, 368, 372), List(New England Patriots, the New England Patriots, New England Patriots))</td></tr><tr><td>56bead5a3aeaaa14008c91eb</td><td>Super_Bowl_50</td><td>The Panthers finished the regular season with a 15–1 record, and quarterback Cam Newton was named the NFL Most Valuable Player (MVP). They defeated the Arizona Cardinals 49–15 in the NFC Championship Game and advanced to their second Super Bowl appearance since the franchise was founded in 1995. The Broncos finished the regular season with a 12–4 record, and denied the New England Patriots a chance to defend their title from Super Bowl XLIX by defeating them 20–18 in the AFC Championship Game. They joined the Patriots, Dallas Cowboys, and Pittsburgh Steelers as one of four teams that have made eight appearances in the Super Bowl.</td><td>Who were the defending Super Bowl champions?</td><td>List(List(372, 368, 372), List(New England Patriots, the New England Patriots, New England Patriots))</td></tr><tr><td>56bead5a3aeaaa14008c91ec</td><td>Super_Bowl_50</td><td>The Panthers finished the regular season with a 15–1 record, and quarterback Cam Newton was named the NFL Most Valuable Player (MVP). They defeated the Arizona Cardinals 49–15 in the NFC Championship Game and advanced to their second Super Bowl appearance since the franchise was founded in 1995. The Broncos finished the regular season with a 12–4 record, and denied the New England Patriots a chance to defend their title from Super Bowl XLIX by defeating them 20–18 in the AFC Championship Game. They joined the Patriots, Dallas Cowboys, and Pittsburgh Steelers as one of four teams that have made eight appearances in the Super Bowl.</td><td>How many teams have been in the Super Bowl eight times?</td><td>List(List(575, 575, 575), List(four, four, four))</td></tr><tr><td>56bead5a3aeaaa14008c91ed</td><td>Super_Bowl_50</td><td>The Panthers finished the regular season with a 15–1 record, and quarterback Cam Newton was named the NFL Most Valuable Player (MVP). They defeated the Arizona Cardinals 49–15 in the NFC Championship Game and advanced to their second Super Bowl appearance since the franchise was founded in 1995. The Broncos finished the regular season with a 12–4 record, and denied the New England Patriots a chance to defend their title from Super Bowl XLIX by defeating them 20–18 in the AFC Championship Game. They joined the Patriots, Dallas Cowboys, and Pittsburgh Steelers as one of four teams that have made eight appearances in the Super Bowl.</td><td>Who was this season's NFL MVP?</td><td>List(List(77, 77, 77), List(Cam Newton, Cam Newton, Cam Newton))</td></tr><tr><td>56bf159b3aeaaa14008c9507</td><td>Super_Bowl_50</td><td>The Panthers finished the regular season with a 15–1 record, and quarterback Cam Newton was named the NFL Most Valuable Player (MVP). They defeated the Arizona Cardinals 49–15 in the NFC Championship Game and advanced to their second Super Bowl appearance since the franchise was founded in 1995. The Broncos finished the regular season with a 12–4 record, and denied the New England Patriots a chance to defend their title from Super Bowl XLIX by defeating them 20–18 in the AFC Championship Game. They joined the Patriots, Dallas Cowboys, and Pittsburgh Steelers as one of four teams that have made eight appearances in the Super Bowl.</td><td>What was the win/loss ratio in 2015 for the Carolina Panthers during their regular season?</td><td>List(List(48, 48, 48), List(15–1, 15–1, 15–1))</td></tr><tr><td>56bf159b3aeaaa14008c9508</td><td>Super_Bowl_50</td><td>The Panthers finished the regular season with a 15–1 record, and quarterback Cam Newton was named the NFL Most Valuable Player (MVP). They defeated the Arizona Cardinals 49–15 in the NFC Championship Game and advanced to their second Super Bowl appearance since the franchise was founded in 1995. The Broncos finished the regular season with a 12–4 record, and denied the New England Patriots a chance to defend their title from Super Bowl XLIX by defeating them 20–18 in the AFC Championship Game. They joined the Patriots, Dallas Cowboys, and Pittsburgh Steelers as one of four teams that have made eight appearances in the Super Bowl.</td><td>Which Carolina Panthers team member was picked as the team's MVP in 2015? </td><td>List(List(77, 77, 77), List(Cam Newton, Cam Newton, Cam Newton))</td></tr><tr><td>56bf159b3aeaaa14008c9509</td><td>Super_Bowl_50</td><td>The Panthers finished the regular season with a 15–1 record, and quarterback Cam Newton was named the NFL Most Valuable Player (MVP). They defeated the Arizona Cardinals 49–15 in the NFC Championship Game and advanced to their second Super Bowl appearance since the franchise was founded in 1995. The Broncos finished the regular season with a 12–4 record, and denied the New England Patriots a chance to defend their title from Super Bowl XLIX by defeating them 20–18 in the AFC Championship Game. They joined the Patriots, Dallas Cowboys, and Pittsburgh Steelers as one of four teams that have made eight appearances in the Super Bowl.</td><td>What were the win/loss game stats for the Denver Bronco's regular season in 2015?</td><td>List(List(344, 344, 344), List(12–4, 12–4, 12–4))</td></tr><tr><td>56bf159b3aeaaa14008c950a</td><td>Super_Bowl_50</td><td>The Panthers finished the regular season with a 15–1 record, and quarterback Cam Newton was named the NFL Most Valuable Player (MVP). They defeated the Arizona Cardinals 49–15 in the NFC Championship Game and advanced to their second Super Bowl appearance since the franchise was founded in 1995. The Broncos finished the regular season with a 12–4 record, and denied the New England Patriots a chance to defend their title from Super Bowl XLIX by defeating them 20–18 in the AFC Championship Game. They joined the Patriots, Dallas Cowboys, and Pittsburgh Steelers as one of four teams that have made eight appearances in the Super Bowl.</td><td>How many teams have played in the Super Bowl eight times?</td><td>List(List(170, 575, 575), List(4, four, four))</td></tr><tr><td>56bf159b3aeaaa14008c950b</td><td>Super_Bowl_50</td><td>The Panthers finished the regular season with a 15–1 record, and quarterback Cam Newton was named the NFL Most Valuable Player (MVP). They defeated the Arizona Cardinals 49–15 in the NFC Championship Game and advanced to their second Super Bowl appearance since the franchise was founded in 1995. The Broncos finished the regular season with a 12–4 record, and denied the New England Patriots a chance to defend their title from Super Bowl XLIX by defeating them 20–18 in the AFC Championship Game. They joined the Patriots, Dallas Cowboys, and Pittsburgh Steelers as one of four teams that have made eight appearances in the Super Bowl.</td><td>Which team did not get a chance to defend their Super Bowl XLIX win in Super Bowl 50?</td><td>List(List(372, 368, 372), List(New England Patriots, the New England Patriots, New England Patriots))</td></tr><tr><td>56d2045de7d4791d009025f3</td><td>Super_Bowl_50</td><td>The Panthers finished the regular season with a 15–1 record, and quarterback Cam Newton was named the NFL Most Valuable Player (MVP). They defeated the Arizona Cardinals 49–15 in the NFC Championship Game and advanced to their second Super Bowl appearance since the franchise was founded in 1995. The Broncos finished the regular season with a 12–4 record, and denied the New England Patriots a chance to defend their title from Super Bowl XLIX by defeating them 20–18 in the AFC Championship Game. They joined the Patriots, Dallas Cowboys, and Pittsburgh Steelers as one of four teams that have made eight appearances in the Super Bowl.</td><td>Who is the quarterback for the Panthers?</td><td>List(List(77, 77, 77), List(Cam Newton, Cam Newton, Cam Newton))</td></tr><tr><td>56d2045de7d4791d009025f4</td><td>Super_Bowl_50</td><td>The Panthers finished the regular season with a 15–1 record, and quarterback Cam Newton was named the NFL Most Valuable Player (MVP). They defeated the Arizona Cardinals 49–15 in the NFC Championship Game and advanced to their second Super Bowl appearance since the franchise was founded in 1995. The Broncos finished the regular season with a 12–4 record, and denied the New England Patriots a chance to defend their title from Super Bowl XLIX by defeating them 20–18 in the AFC Championship Game. They joined the Patriots, Dallas Cowboys, and Pittsburgh Steelers as one of four teams that have made eight appearances in the Super Bowl.</td><td>Who did Carolina beat in the NFC championship game?</td><td>List(List(152, 148, 152), List(Arizona Cardinals, the Arizona Cardinals, Arizona Cardinals))</td></tr><tr><td>56d2045de7d4791d009025f5</td><td>Super_Bowl_50</td><td>The Panthers finished the regular season with a 15–1 record, and quarterback Cam Newton was named the NFL Most Valuable Player (MVP). They defeated the Arizona Cardinals 49–15 in the NFC Championship Game and advanced to their second Super Bowl appearance since the franchise was founded in 1995. The Broncos finished the regular season with a 12–4 record, and denied the New England Patriots a chance to defend their title from Super Bowl XLIX by defeating them 20–18 in the AFC Championship Game. They joined the Patriots, Dallas Cowboys, and Pittsburgh Steelers as one of four teams that have made eight appearances in the Super Bowl.</td><td>How many times have the Panthers been in the Super Bowl?</td><td>List(List(345, 227, 227), List(2, second, second))</td></tr><tr><td>56d2045de7d4791d009025f6</td><td>Super_Bowl_50</td><td>The Panthers finished the regular season with a 15–1 record, and quarterback Cam Newton was named the NFL Most Valuable Player (MVP). They defeated the Arizona Cardinals 49–15 in the NFC Championship Game and advanced to their second Super Bowl appearance since the franchise was founded in 1995. The Broncos finished the regular season with a 12–4 record, and denied the New England Patriots a chance to defend their title from Super Bowl XLIX by defeating them 20–18 in the AFC Championship Game. They joined the Patriots, Dallas Cowboys, and Pittsburgh Steelers as one of four teams that have made eight appearances in the Super Bowl.</td><td>Who did Denver beat in the AFC championship?</td><td>List(List(372, 368, 372), List(New England Patriots, the New England Patriots, New England Patriots))</td></tr><tr><td>56d6017d1c85041400946ebe</td><td>Super_Bowl_50</td><td>The Panthers finished the regular season with a 15–1 record, and quarterback Cam Newton was named the NFL Most Valuable Player (MVP). They defeated the Arizona Cardinals 49–15 in the NFC Championship Game and advanced to their second Super Bowl appearance since the franchise was founded in 1995. The Broncos finished the regular season with a 12–4 record, and denied the New England Patriots a chance to defend their title from Super Bowl XLIX by defeating them 20–18 in the AFC Championship Game. They joined the Patriots, Dallas Cowboys, and Pittsburgh Steelers as one of four teams that have made eight appearances in the Super Bowl.</td><td>Who was the Most Valuable Player for the 2015 NFL season?</td><td>List(List(77, 77, 77), List(Cam Newton, Cam Newton, Cam Newton))</td></tr><tr><td>56d6017d1c85041400946ec1</td><td>Super_Bowl_50</td><td>The Panthers finished the regular season with a 15–1 record, and quarterback Cam Newton was named the NFL Most Valuable Player (MVP). They defeated the Arizona Cardinals 49–15 in the NFC Championship Game and advanced to their second Super Bowl appearance since the franchise was founded in 1995. The Broncos finished the regular season with a 12–4 record, and denied the New England Patriots a chance to defend their title from Super Bowl XLIX by defeating them 20–18 in the AFC Championship Game. They joined the Patriots, Dallas Cowboys, and Pittsburgh Steelers as one of four teams that have made eight appearances in the Super Bowl.</td><td>Who did Denver beat in the 2015 AFC Championship game?</td><td>List(List(372, 368, 372), List(New England Patriots, the New England Patriots, New England Patriots))</td></tr><tr><td>56d6017d1c85041400946ec2</td><td>Super_Bowl_50</td><td>The Panthers finished the regular season with a 15–1 record, and quarterback Cam Newton was named the NFL Most Valuable Player (MVP). They defeated the Arizona Cardinals 49–15 in the NFC Championship Game and advanced to their second Super Bowl appearance since the franchise was founded in 1995. The Broncos finished the regular season with a 12–4 record, and denied the New England Patriots a chance to defend their title from Super Bowl XLIX by defeating them 20–18 in the AFC Championship Game. They joined the Patriots, Dallas Cowboys, and Pittsburgh Steelers as one of four teams that have made eight appearances in the Super Bowl.</td><td>Who did the Carolina Panthers beat in the 2015 NFC Championship game?</td><td>List(List(152, 148, 152), List(Arizona Cardinals, the Arizona Cardinals, Arizona Cardinals))</td></tr><tr><td>56d98a59dc89441400fdb52a</td><td>Super_Bowl_50</td><td>The Panthers finished the regular season with a 15–1 record, and quarterback Cam Newton was named the NFL Most Valuable Player (MVP). They defeated the Arizona Cardinals 49–15 in the NFC Championship Game and advanced to their second Super Bowl appearance since the franchise was founded in 1995. The Broncos finished the regular season with a 12–4 record, and denied the New England Patriots a chance to defend their title from Super Bowl XLIX by defeating them 20–18 in the AFC Championship Game. They joined the Patriots, Dallas Cowboys, and Pittsburgh Steelers as one of four teams that have made eight appearances in the Super Bowl.</td><td>Who was the 2015 NFL MVP?</td><td>List(List(77, 77, 77), List(Cam Newton, Cam Newton, Cam Newton))</td></tr><tr><td>56d98a59dc89441400fdb52b</td><td>Super_Bowl_50</td><td>The Panthers finished the regular season with a 15–1 record, and quarterback Cam Newton was named the NFL Most Valuable Player (MVP). They defeated the Arizona Cardinals 49–15 in the NFC Championship Game and advanced to their second Super Bowl appearance since the franchise was founded in 1995. The Broncos finished the regular season with a 12–4 record, and denied the New England Patriots a chance to defend their title from Super Bowl XLIX by defeating them 20–18 in the AFC Championship Game. They joined the Patriots, Dallas Cowboys, and Pittsburgh Steelers as one of four teams that have made eight appearances in the Super Bowl.</td><td>Who did the Panthers beat to become the NFC champs?</td><td>List(List(152, 148, 152), List(Arizona Cardinals, the Arizona Cardinals, Arizona Cardinals))</td></tr><tr><td>56d98a59dc89441400fdb52e</td><td>Super_Bowl_50</td><td>The Panthers finished the regular season with a 15–1 record, and quarterback Cam Newton was named the NFL Most Valuable Player (MVP). They defeated the Arizona Cardinals 49–15 in the NFC Championship Game and advanced to their second Super Bowl appearance since the franchise was founded in 1995. The Broncos finished the regular season with a 12–4 record, and denied the New England Patriots a chance to defend their title from Super Bowl XLIX by defeating them 20–18 in the AFC Championship Game. They joined the Patriots, Dallas Cowboys, and Pittsburgh Steelers as one of four teams that have made eight appearances in the Super Bowl.</td><td>What year did the Carolina Panthers form?</td><td>List(List(291, 291, 291), List(1995., 1995, 1995))</td></tr><tr><td>56be4eafacb8001400a50302</td><td>Super_Bowl_50</td><td>The Broncos took an early lead in Super Bowl 50 and never trailed. Newton was limited by Denver's defense, which sacked him seven times and forced him into three turnovers, including a fumble which they recovered for a touchdown. Denver linebacker Von Miller was named Super Bowl MVP, recording five solo tackles, 2½ sacks, and two forced fumbles.</td><td>Who was the Super Bowl 50 MVP?</td><td>List(List(248, 248, 252), List(Von Miller, Von Miller, Miller))</td></tr><tr><td>56be4eafacb8001400a50303</td><td>Super_Bowl_50</td><td>The Broncos took an early lead in Super Bowl 50 and never trailed. Newton was limited by Denver's defense, which sacked him seven times and forced him into three turnovers, including a fumble which they recovered for a touchdown. Denver linebacker Von Miller was named Super Bowl MVP, recording five solo tackles, 2½ sacks, and two forced fumbles.</td><td>How many fumbles did Von Miller force in Super Bowl 50?</td><td>List(List(314, 328, 328), List(2, two, two))</td></tr><tr><td>56be4eafacb8001400a50304</td><td>Super_Bowl_50</td><td>The Broncos took an early lead in Super Bowl 50 and never trailed. Newton was limited by Denver's defense, which sacked him seven times and forced him into three turnovers, including a fumble which they recovered for a touchdown. Denver linebacker Von Miller was named Super Bowl MVP, recording five solo tackles, 2½ sacks, and two forced fumbles.</td><td>Which team held the scoring lead throughout the entire game?</td><td>List(List(4, 0, 4), List(Broncos, The Broncos, Broncos))</td></tr><tr><td>56beab833aeaaa14008c91d2</td><td>Super_Bowl_50</td><td>The Broncos took an early lead in Super Bowl 50 and never trailed. Newton was limited by Denver's defense, which sacked him seven times and forced him into three turnovers, including a fumble which they recovered for a touchdown. Denver linebacker Von Miller was named Super Bowl MVP, recording five solo tackles, 2½ sacks, and two forced fumbles.</td><td>Which Denver linebacker was named Super Bowl MVP?</td><td>List(List(237, 248, 252), List(linebacker Von Miller, Von Miller, Miller))</td></tr><tr><td>56beab833aeaaa14008c91d3</td><td>Super_Bowl_50</td><td>The Broncos took an early lead in Super Bowl 50 and never trailed. Newton was limited by Denver's defense, which sacked him seven times and forced him into three turnovers, including a fumble which they recovered for a touchdown. Denver linebacker Von Miller was named Super Bowl MVP, recording five solo tackles, 2½ sacks, and two forced fumbles.</td><td>How many solo tackles did Von Miller make at Super Bowl 50?</td><td>List(List(295, 295, 295), List(five solo tackles, five, five))</td></tr><tr><td>56beab833aeaaa14008c91d4</td><td>Super_Bowl_50</td><td>The Broncos took an early lead in Super Bowl 50 and never trailed. Newton was limited by Denver's defense, which sacked him seven times and forced him into three turnovers, including a fumble which they recovered for a touchdown. Denver linebacker Von Miller was named Super Bowl MVP, recording five solo tackles, 2½ sacks, and two forced fumbles.</td><td>Who was limited by Denver's defense?</td><td>List(List(67, 67, 67), List(Newton was limited by Denver's defense, Newton, Newton))</td></tr><tr><td>56beae423aeaaa14008c91f4</td><td>Super_Bowl_50</td><td>The Broncos took an early lead in Super Bowl 50 and never trailed. Newton was limited by Denver's defense, which sacked him seven times and forced him into three turnovers, including a fumble which they recovered for a touchdown. Denver linebacker Von Miller was named Super Bowl MVP, recording five solo tackles, 2½ sacks, and two forced fumbles.</td><td>How many times was Cam Newton sacked?</td><td>List(List(124, 124, 124), List(seven, seven, seven))</td></tr><tr><td>56beae423aeaaa14008c91f5</td><td>Super_Bowl_50</td><td>The Broncos took an early lead in Super Bowl 50 and never trailed. Newton was limited by Denver's defense, which sacked him seven times and forced him into three turnovers, including a fumble which they recovered for a touchdown. Denver linebacker Von Miller was named Super Bowl MVP, recording five solo tackles, 2½ sacks, and two forced fumbles.</td><td>Who won the Super Bowl MVP?</td><td>List(List(248, 0, 252), List(Von Miller, The Broncos, Miller))</td></tr><tr><td>56beae423aeaaa14008c91f6</td><td>Super_Bowl_50</td><td>The Broncos took an early lead in Super Bowl 50 and never trailed. Newton was limited by Denver's defense, which sacked him seven times and forced him into three turnovers, including a fumble which they recovered for a touchdown. Denver linebacker Von Miller was named Super Bowl MVP, recording five solo tackles, 2½ sacks, and two forced fumbles.</td><td>How many turnovers did Cam Newton have?</td><td>List(List(156, 156, 156), List(three, three, three))</td></tr><tr><td>56beae423aeaaa14008c91f7</td><td>Super_Bowl_50</td><td>The Broncos took an early lead in Super Bowl 50 and never trailed. Newton was limited by Denver's defense, which sacked him seven times and forced him into three turnovers, including a fumble which they recovered for a touchdown. Denver linebacker Von Miller was named Super Bowl MVP, recording five solo tackles, 2½ sacks, and two forced fumbles.</td><td>How many fumbles did Von Miller force?</td><td>List(List(328, 328, 328), List(two, two, two))</td></tr><tr><td>56bf17653aeaaa14008c9511</td><td>Super_Bowl_50</td><td>The Broncos took an early lead in Super Bowl 50 and never trailed. Newton was limited by Denver's defense, which sacked him seven times and forced him into three turnovers, including a fumble which they recovered for a touchdown. Denver linebacker Von Miller was named Super Bowl MVP, recording five solo tackles, 2½ sacks, and two forced fumbles.</td><td>Who was given the esteemed status of MVP for Super Bowl 50?</td><td>List(List(248, 248, 252), List(Von Miller, Von Miller, Miller))</td></tr><tr><td>56bf17653aeaaa14008c9513</td><td>Super_Bowl_50</td><td>The Broncos took an early lead in Super Bowl 50 and never trailed. Newton was limited by Denver's defense, which sacked him seven times and forced him into three turnovers, including a fumble which they recovered for a touchdown. Denver linebacker Von Miller was named Super Bowl MVP, recording five solo tackles, 2½ sacks, and two forced fumbles.</td><td>What position does Von Miller play for the Denver Broncos?</td><td>List(List(237, 237, 237), List(linebacker, linebacker, linebacker))</td></tr><tr><td>56bf17653aeaaa14008c9514</td><td>Super_Bowl_50</td><td>The Broncos took an early lead in Super Bowl 50 and never trailed. Newton was limited by Denver's defense, which sacked him seven times and forced him into three turnovers, including a fumble which they recovered for a touchdown. Denver linebacker Von Miller was named Super Bowl MVP, recording five solo tackles, 2½ sacks, and two forced fumbles.</td><td>What was the number of solo tackles that Von Miller had in Super Bowl 50?</td><td>List(List(45, 295, 295), List(5, five, five))</td></tr><tr><td>56bf17653aeaaa14008c9515</td><td>Super_Bowl_50</td><td>The Broncos took an early lead in Super Bowl 50 and never trailed. Newton was limited by Denver's defense, which sacked him seven times and forced him into three turnovers, including a fumble which they recovered for a touchdown. Denver linebacker Von Miller was named Super Bowl MVP, recording five solo tackles, 2½ sacks, and two forced fumbles.</td><td>How many forced fumbles did Von Miller have during the Super Bowl 50 game?</td><td>List(List(314, 328, 328), List(2, two, two))</td></tr><tr><td>56d204ade7d4791d00902603</td><td>Super_Bowl_50</td><td>The Broncos took an early lead in Super Bowl 50 and never trailed. Newton was limited by Denver's defense, which sacked him seven times and forced him into three turnovers, including a fumble which they recovered for a touchdown. Denver linebacker Von Miller was named Super Bowl MVP, recording five solo tackles, 2½ sacks, and two forced fumbles.</td><td>Who won the MVP for the Super Bowl?</td><td>List(List(248, 248, 248), List(Von Miller, Von Miller, Von Miller))</td></tr><tr><td>56d204ade7d4791d00902604</td><td>Super_Bowl_50</td><td>The Broncos took an early lead in Super Bowl 50 and never trailed. Newton was limited by Denver's defense, which sacked him seven times and forced him into three turnovers, including a fumble which they recovered for a touchdown. Denver linebacker Von Miller was named Super Bowl MVP, recording five solo tackles, 2½ sacks, and two forced fumbles.</td><td>How many tackles did Von Miller get during the game?</td><td>List(List(45, 295, 295), List(5, five, five))</td></tr><tr><td>56d601e41c85041400946ece</td><td>Super_Bowl_50</td><td>The Broncos took an early lead in Super Bowl 50 and never trailed. Newton was limited by Denver's defense, which sacked him seven times and forced him into three turnovers, including a fumble which they recovered for a touchdown. Denver linebacker Von Miller was named Super Bowl MVP, recording five solo tackles, 2½ sacks, and two forced fumbles.</td><td>How many times was Cam Newton sacked in Super Bowl 50?</td><td>List(List(124, 124, 124), List(seven, seven, seven))</td></tr><tr><td>56d601e41c85041400946ecf</td><td>Super_Bowl_50</td><td>The Broncos took an early lead in Super Bowl 50 and never trailed. Newton was limited by Denver's defense, which sacked him seven times and forced him into three turnovers, including a fumble which they recovered for a touchdown. Denver linebacker Von Miller was named Super Bowl MVP, recording five solo tackles, 2½ sacks, and two forced fumbles.</td><td>How many times did the Denver defense force Newton into turnovers?</td><td>List(List(156, 156, 156), List(three, three, three))</td></tr><tr><td>56d601e41c85041400946ed0</td><td>Super_Bowl_50</td><td>The Broncos took an early lead in Super Bowl 50 and never trailed. Newton was limited by Denver's defense, which sacked him seven times and forced him into three turnovers, including a fumble which they recovered for a touchdown. Denver linebacker Von Miller was named Super Bowl MVP, recording five solo tackles, 2½ sacks, and two forced fumbles.</td><td>Which Newton turnover resulted in seven points for Denver?</td><td>List(List(183, 183, 185), List(a fumble, a fumble, fumble))</td></tr><tr><td>56d601e41c85041400946ed1</td><td>Super_Bowl_50</td><td>The Broncos took an early lead in Super Bowl 50 and never trailed. Newton was limited by Denver's defense, which sacked him seven times and forced him into three turnovers, including a fumble which they recovered for a touchdown. Denver linebacker Von Miller was named Super Bowl MVP, recording five solo tackles, 2½ sacks, and two forced fumbles.</td><td>Who was the Most Valuable Player of Super Bowl 50?</td><td>List(List(248, 248, 248), List(Von Miller, Von Miller, Von Miller))</td></tr><tr><td>56d601e41c85041400946ed2</td><td>Super_Bowl_50</td><td>The Broncos took an early lead in Super Bowl 50 and never trailed. Newton was limited by Denver's defense, which sacked him seven times and forced him into three turnovers, including a fumble which they recovered for a touchdown. Denver linebacker Von Miller was named Super Bowl MVP, recording five solo tackles, 2½ sacks, and two forced fumbles.</td><td>What position does Von Miller play?</td><td>List(List(237, 237, 237), List(linebacker, linebacker, linebacker))</td></tr><tr><td>56d98b33dc89441400fdb53b</td><td>Super_Bowl_50</td><td>The Broncos took an early lead in Super Bowl 50 and never trailed. Newton was limited by Denver's defense, which sacked him seven times and forced him into three turnovers, including a fumble which they recovered for a touchdown. Denver linebacker Von Miller was named Super Bowl MVP, recording five solo tackles, 2½ sacks, and two forced fumbles.</td><td>How many times was the Panthers' quarterback sacked?</td><td>List(List(124, 124, 124), List(seven, seven, seven))</td></tr><tr><td>56d98b33dc89441400fdb53c</td><td>Super_Bowl_50</td><td>The Broncos took an early lead in Super Bowl 50 and never trailed. Newton was limited by Denver's defense, which sacked him seven times and forced him into three turnovers, including a fumble which they recovered for a touchdown. Denver linebacker Von Miller was named Super Bowl MVP, recording five solo tackles, 2½ sacks, and two forced fumbles.</td><td>How many times did the Broncos cause turnovers in the game?</td><td>List(List(156, 156, 156), List(three, three, three))</td></tr><tr><td>56d98b33dc89441400fdb53d</td><td>Super_Bowl_50</td><td>The Broncos took an early lead in Super Bowl 50 and never trailed. Newton was limited by Denver's defense, which sacked him seven times and forced him into three turnovers, including a fumble which they recovered for a touchdown. Denver linebacker Von Miller was named Super Bowl MVP, recording five solo tackles, 2½ sacks, and two forced fumbles.</td><td>What Denver player caused two fumbles for the Panthers?</td><td>List(List(248, 248, 248), List(Von Miller, Von Miller, Von Miller))</td></tr><tr><td>56d98b33dc89441400fdb53e</td><td>Super_Bowl_50</td><td>The Broncos took an early lead in Super Bowl 50 and never trailed. Newton was limited by Denver's defense, which sacked him seven times and forced him into three turnovers, including a fumble which they recovered for a touchdown. Denver linebacker Von Miller was named Super Bowl MVP, recording five solo tackles, 2½ sacks, and two forced fumbles.</td><td>How many tackles did Von Miller accomlish by himself in the game?</td><td>List(List(295, 295, 295), List(five, five, five))</td></tr><tr><td>56be5333acb8001400a5030a</td><td>Super_Bowl_50</td><td>CBS broadcast Super Bowl 50 in the U.S., and charged an average of $5 million for a 30-second commercial during the game. The Super Bowl 50 halftime show was headlined by the British rock group Coldplay with special guest performers Beyoncé and Bruno Mars, who headlined the Super Bowl XLVII and Super Bowl XLVIII halftime shows, respectively. It was the third-most watched U.S. broadcast ever.</td><td>Which network broadcasted Super Bowl 50 in the U.S.?</td><td>List(List(0, 0, 0), List(CBS, CBS, CBS))</td></tr><tr><td>56be5333acb8001400a5030b</td><td>Super_Bowl_50</td><td>CBS broadcast Super Bowl 50 in the U.S., and charged an average of $5 million for a 30-second commercial during the game. The Super Bowl 50 halftime show was headlined by the British rock group Coldplay with special guest performers Beyoncé and Bruno Mars, who headlined the Super Bowl XLVII and Super Bowl XLVIII halftime shows, respectively. It was the third-most watched U.S. broadcast ever.</td><td>What was the average cost for a 30 second commercial during Super Bowl 50?</td><td>List(List(67, 67, 67), List($5 million, $5 million, $5 million))</td></tr><tr><td>56be5333acb8001400a5030c</td><td>Super_Bowl_50</td><td>CBS broadcast Super Bowl 50 in the U.S., and charged an average of $5 million for a 30-second commercial during the game. The Super Bowl 50 halftime show was headlined by the British rock group Coldplay with special guest performers Beyoncé and Bruno Mars, who headlined the Super Bowl XLVII and Super Bowl XLVIII halftime shows, respectively. It was the third-most watched U.S. broadcast ever.</td><td>Which group headlined the Super Bowl 50 halftime show?</td><td>List(List(194, 194, 194), List(Coldplay, Coldplay, Coldplay))</td></tr><tr><td>56be5333acb8001400a5030d</td><td>Super_Bowl_50</td><td>CBS broadcast Super Bowl 50 in the U.S., and charged an average of $5 million for a 30-second commercial during the game. The Super Bowl 50 halftime show was headlined by the British rock group Coldplay with special guest performers Beyoncé and Bruno Mars, who headlined the Super Bowl XLVII and Super Bowl XLVIII halftime shows, respectively. It was the third-most watched U.S. broadcast ever.</td><td>Which performers joined the headliner during the Super Bowl 50 halftime show?</td><td>List(List(233, 233, 233), List(Beyoncé and Bruno Mars, Beyoncé and Bruno Mars, Beyoncé and Bruno Mars))</td></tr><tr><td>56be5333acb8001400a5030e</td><td>Super_Bowl_50</td><td>CBS broadcast Super Bowl 50 in the U.S., and charged an average of $5 million for a 30-second commercial during the game. The Super Bowl 50 halftime show was headlined by the British rock group Coldplay with special guest performers Beyoncé and Bruno Mars, who headlined the Super Bowl XLVII and Super Bowl XLVIII halftime shows, respectively. It was the third-most watched U.S. broadcast ever.</td><td>At which Super Bowl did Beyonce headline the halftime show?</td><td>List(List(275, 275, 286), List(Super Bowl XLVII, Super Bowl XLVII, XLVII))</td></tr><tr><td>56beaf5e3aeaaa14008c91fd</td><td>Super_Bowl_50</td><td>CBS broadcast Super Bowl 50 in the U.S., and charged an average of $5 million for a 30-second commercial during the game. The Super Bowl 50 halftime show was headlined by the British rock group Coldplay with special guest performers Beyoncé and Bruno Mars, who headlined the Super Bowl XLVII and Super Bowl XLVIII halftime shows, respectively. It was the third-most watched U.S. broadcast ever.</td><td>Who was the broadcaster for Super Bowl 50 in the United States?</td><td>List(List(0, 0, 0), List(CBS, CBS, CBS))</td></tr><tr><td>56beaf5e3aeaaa14008c91fe</td><td>Super_Bowl_50</td><td>CBS broadcast Super Bowl 50 in the U.S., and charged an average of $5 million for a 30-second commercial during the game. The Super Bowl 50 halftime show was headlined by the British rock group Coldplay with special guest performers Beyoncé and Bruno Mars, who headlined the Super Bowl XLVII and Super Bowl XLVIII halftime shows, respectively. It was the third-most watched U.S. broadcast ever.</td><td>What was the average cost of a 30-second commercial?</td><td>List(List(67, 67, 67), List($5 million, $5 million, $5 million))</td></tr><tr><td>56beaf5e3aeaaa14008c91ff</td><td>Super_Bowl_50</td><td>CBS broadcast Super Bowl 50 in the U.S., and charged an average of $5 million for a 30-second commercial during the game. The Super Bowl 50 halftime show was headlined by the British rock group Coldplay with special guest performers Beyoncé and Bruno Mars, who headlined the Super Bowl XLVII and Super Bowl XLVIII halftime shows, respectively. It was the third-most watched U.S. broadcast ever.</td><td>What halftime performer previously headlined Super Bowl XLVII?</td><td>List(List(233, 233, 233), List(Beyoncé, Beyoncé, Beyoncé))</td></tr><tr><td>56beaf5e3aeaaa14008c9200</td><td>Super_Bowl_50</td><td>CBS broadcast Super Bowl 50 in the U.S., and charged an average of $5 million for a 30-second commercial during the game. The Super Bowl 50 halftime show was headlined by the British rock group Coldplay with special guest performers Beyoncé and Bruno Mars, who headlined the Super Bowl XLVII and Super Bowl XLVIII halftime shows, respectively. It was the third-most watched U.S. broadcast ever.</td><td>What halftime performer previously headlined Super Bowl XLVIII?</td><td>List(List(245, 245, 251), List(Bruno Mars, Bruno Mars, Mars))</td></tr><tr><td>56beaf5e3aeaaa14008c9201</td><td>Super_Bowl_50</td><td>CBS broadcast Super Bowl 50 in the U.S., and charged an average of $5 million for a 30-second commercial during the game. The Super Bowl 50 halftime show was headlined by the British rock group Coldplay with special guest performers Beyoncé and Bruno Mars, who headlined the Super Bowl XLVII and Super Bowl XLVIII halftime shows, respectively. It was the third-most watched U.S. broadcast ever.</td><td>Who was the main performer at this year's halftime show?</td><td>List(List(194, 194, 194), List(Coldplay, Coldplay, Coldplay))</td></tr><tr><td>56bf1ae93aeaaa14008c951b</td><td>Super_Bowl_50</td><td>CBS broadcast Super Bowl 50 in the U.S., and charged an average of $5 million for a 30-second commercial during the game. The Super Bowl 50 halftime show was headlined by the British rock group Coldplay with special guest performers Beyoncé and Bruno Mars, who headlined the Super Bowl XLVII and Super Bowl XLVIII halftime shows, respectively. It was the third-most watched U.S. broadcast ever.</td><td>Which network broadcasted the 50th Super Bowl game? </td><td>List(List(0, 0, 0), List(CBS, CBS, CBS))</td></tr><tr><td>56bf1ae93aeaaa14008c951c</td><td>Super_Bowl_50</td><td>CBS broadcast Super Bowl 50 in the U.S., and charged an average of $5 million for a 30-second commercial during the game. The Super Bowl 50 halftime show was headlined by the British rock group Coldplay with special guest performers Beyoncé and Bruno Mars, who headlined the Super Bowl XLVII and Super Bowl XLVIII halftime shows, respectively. It was the third-most watched U.S. broadcast ever.</td><td>What was the average cost for a TV ad lasting 30 seconds during Super Bowl 50?</td><td>List(List(67, 67, 67), List($5 million, $5 million, $5 million))</td></tr><tr><td>56bf1ae93aeaaa14008c951e</td><td>Super_Bowl_50</td><td>CBS broadcast Super Bowl 50 in the U.S., and charged an average of $5 million for a 30-second commercial during the game. The Super Bowl 50 halftime show was headlined by the British rock group Coldplay with special guest performers Beyoncé and Bruno Mars, who headlined the Super Bowl XLVII and Super Bowl XLVIII halftime shows, respectively. It was the third-most watched U.S. broadcast ever.</td><td>Who was the male singer who performed as a special guest during Super Bowl 50?</td><td>List(List(245, 245, 245), List(Bruno Mars, Bruno Mars, Bruno Mars,))</td></tr><tr><td>56bf1ae93aeaaa14008c951f</td><td>Super_Bowl_50</td><td>CBS broadcast Super Bowl 50 in the U.S., and charged an average of $5 million for a 30-second commercial during the game. The Super Bowl 50 halftime show was headlined by the British rock group Coldplay with special guest performers Beyoncé and Bruno Mars, who headlined the Super Bowl XLVII and Super Bowl XLVIII halftime shows, respectively. It was the third-most watched U.S. broadcast ever.</td><td>What ranking does the Super Bowl 50 halftime show have on the list of most watched TV broadcasts?</td><td>List(List(355, 355, 355), List(third, third, third))</td></tr><tr><td>56d2051ce7d4791d00902608</td><td>Super_Bowl_50</td><td>CBS broadcast Super Bowl 50 in the U.S., and charged an average of $5 million for a 30-second commercial during the game. The Super Bowl 50 halftime show was headlined by the British rock group Coldplay with special guest performers Beyoncé and Bruno Mars, who headlined the Super Bowl XLVII and Super Bowl XLVIII halftime shows, respectively. It was the third-most watched U.S. broadcast ever.</td><td>What station aired the Super Bowl?</td><td>List(List(0, 0, 0), List(CBS, CBS, CBS))</td></tr><tr><td>56d2051ce7d4791d00902609</td><td>Super_Bowl_50</td><td>CBS broadcast Super Bowl 50 in the U.S., and charged an average of $5 million for a 30-second commercial during the game. The Super Bowl 50 halftime show was headlined by the British rock group Coldplay with special guest performers Beyoncé and Bruno Mars, who headlined the Super Bowl XLVII and Super Bowl XLVIII halftime shows, respectively. It was the third-most watched U.S. broadcast ever.</td><td>How much money did a 1/2 minute commercial cost?</td><td>List(List(67, 67, 67), List($5 million, $5 million, $5 million))</td></tr><tr><td>56d2051ce7d4791d0090260a</td><td>Super_Bowl_50</td><td>CBS broadcast Super Bowl 50 in the U.S., and charged an average of $5 million for a 30-second commercial during the game. The Super Bowl 50 halftime show was headlined by the British rock group Coldplay with special guest performers Beyoncé and Bruno Mars, who headlined the Super Bowl XLVII and Super Bowl XLVIII halftime shows, respectively. It was the third-most watched U.S. broadcast ever.</td><td>What band headlined half-time during Super Bowl 50?</td><td>List(List(194, 194, 194), List(Coldplay, Coldplay, Coldplay))</td></tr><tr><td>56d2051ce7d4791d0090260b</td><td>Super_Bowl_50</td><td>CBS broadcast Super Bowl 50 in the U.S., and charged an average of $5 million for a 30-second commercial during the game. The Super Bowl 50 halftime show was headlined by the British rock group Coldplay with special guest performers Beyoncé and Bruno Mars, who headlined the Super Bowl XLVII and Super Bowl XLVIII halftime shows, respectively. It was the third-most watched U.S. broadcast ever.</td><td>What two artists came out with Coldplay during the half-time show?</td><td>List(List(233, 233, 233), List(Beyoncé and Bruno Mars, Beyoncé and Bruno Mars, Beyoncé and Bruno Mars))</td></tr><tr><td>56d602631c85041400946ed8</td><td>Super_Bowl_50</td><td>CBS broadcast Super Bowl 50 in the U.S., and charged an average of $5 million for a 30-second commercial during the game. The Super Bowl 50 halftime show was headlined by the British rock group Coldplay with special guest performers Beyoncé and Bruno Mars, who headlined the Super Bowl XLVII and Super Bowl XLVIII halftime shows, respectively. It was the third-most watched U.S. broadcast ever.</td><td>Who broadcast the Super Bowl on TV?</td><td>List(List(0, 0, 0), List(CBS, CBS, CBS))</td></tr><tr><td>56d602631c85041400946eda</td><td>Super_Bowl_50</td><td>CBS broadcast Super Bowl 50 in the U.S., and charged an average of $5 million for a 30-second commercial during the game. The Super Bowl 50 halftime show was headlined by the British rock group Coldplay with special guest performers Beyoncé and Bruno Mars, who headlined the Super Bowl XLVII and Super Bowl XLVIII halftime shows, respectively. It was the third-most watched U.S. broadcast ever.</td><td>Who headlined the halftime show for Super Bowl 50?</td><td>List(List(194, 194, 194), List(Coldplay, Coldplay, Coldplay))</td></tr></tbody></table></div>"
      ]
     },
     "metadata": {
      "application/vnd.databricks.v1+output": {
       "addedWidgets": {},
       "aggData": [],
       "aggError": "",
       "aggOverflow": false,
       "aggSchema": [],
       "aggSeriesLimitReached": false,
       "aggType": "",
       "arguments": {},
       "columnCustomDisplayInfos": {},
       "data": [
        [
         "56be4db0acb8001400a502ec",
         "Super_Bowl_50",
         "Super Bowl 50 was an American football game to determine the champion of the National Football League (NFL) for the 2015 season. The American Football Conference (AFC) champion Denver Broncos defeated the National Football Conference (NFC) champion Carolina Panthers 24–10 to earn their third Super Bowl title. The game was played on February 7, 2016, at Levi's Stadium in the San Francisco Bay Area at Santa Clara, California. As this was the 50th Super Bowl, the league emphasized the \"golden anniversary\" with various gold-themed initiatives, as well as temporarily suspending the tradition of naming each Super Bowl game with Roman numerals (under which the game would have been known as \"Super Bowl L\"), so that the logo could prominently feature the Arabic numerals 50.",
         "Which NFL team represented the AFC at Super Bowl 50?",
         [
          [
           177,
           177,
           177
          ],
          [
           "Denver Broncos",
           "Denver Broncos",
           "Denver Broncos"
          ]
         ]
        ],
        [
         "56be4db0acb8001400a502ed",
         "Super_Bowl_50",
         "Super Bowl 50 was an American football game to determine the champion of the National Football League (NFL) for the 2015 season. The American Football Conference (AFC) champion Denver Broncos defeated the National Football Conference (NFC) champion Carolina Panthers 24–10 to earn their third Super Bowl title. The game was played on February 7, 2016, at Levi's Stadium in the San Francisco Bay Area at Santa Clara, California. As this was the 50th Super Bowl, the league emphasized the \"golden anniversary\" with various gold-themed initiatives, as well as temporarily suspending the tradition of naming each Super Bowl game with Roman numerals (under which the game would have been known as \"Super Bowl L\"), so that the logo could prominently feature the Arabic numerals 50.",
         "Which NFL team represented the NFC at Super Bowl 50?",
         [
          [
           249,
           249,
           249
          ],
          [
           "Carolina Panthers",
           "Carolina Panthers",
           "Carolina Panthers"
          ]
         ]
        ],
        [
         "56be4db0acb8001400a502ee",
         "Super_Bowl_50",
         "Super Bowl 50 was an American football game to determine the champion of the National Football League (NFL) for the 2015 season. The American Football Conference (AFC) champion Denver Broncos defeated the National Football Conference (NFC) champion Carolina Panthers 24–10 to earn their third Super Bowl title. The game was played on February 7, 2016, at Levi's Stadium in the San Francisco Bay Area at Santa Clara, California. As this was the 50th Super Bowl, the league emphasized the \"golden anniversary\" with various gold-themed initiatives, as well as temporarily suspending the tradition of naming each Super Bowl game with Roman numerals (under which the game would have been known as \"Super Bowl L\"), so that the logo could prominently feature the Arabic numerals 50.",
         "Where did Super Bowl 50 take place?",
         [
          [
           403,
           355,
           355
          ],
          [
           "Santa Clara, California",
           "Levi's Stadium",
           "Levi's Stadium in the San Francisco Bay Area at Santa Clara, California."
          ]
         ]
        ],
        [
         "56be4db0acb8001400a502ef",
         "Super_Bowl_50",
         "Super Bowl 50 was an American football game to determine the champion of the National Football League (NFL) for the 2015 season. The American Football Conference (AFC) champion Denver Broncos defeated the National Football Conference (NFC) champion Carolina Panthers 24–10 to earn their third Super Bowl title. The game was played on February 7, 2016, at Levi's Stadium in the San Francisco Bay Area at Santa Clara, California. As this was the 50th Super Bowl, the league emphasized the \"golden anniversary\" with various gold-themed initiatives, as well as temporarily suspending the tradition of naming each Super Bowl game with Roman numerals (under which the game would have been known as \"Super Bowl L\"), so that the logo could prominently feature the Arabic numerals 50.",
         "Which NFL team won Super Bowl 50?",
         [
          [
           177,
           177,
           177
          ],
          [
           "Denver Broncos",
           "Denver Broncos",
           "Denver Broncos"
          ]
         ]
        ],
        [
         "56be4db0acb8001400a502f0",
         "Super_Bowl_50",
         "Super Bowl 50 was an American football game to determine the champion of the National Football League (NFL) for the 2015 season. The American Football Conference (AFC) champion Denver Broncos defeated the National Football Conference (NFC) champion Carolina Panthers 24–10 to earn their third Super Bowl title. The game was played on February 7, 2016, at Levi's Stadium in the San Francisco Bay Area at Santa Clara, California. As this was the 50th Super Bowl, the league emphasized the \"golden anniversary\" with various gold-themed initiatives, as well as temporarily suspending the tradition of naming each Super Bowl game with Roman numerals (under which the game would have been known as \"Super Bowl L\"), so that the logo could prominently feature the Arabic numerals 50.",
         "What color was used to emphasize the 50th anniversary of the Super Bowl?",
         [
          [
           488,
           488,
           521
          ],
          [
           "gold",
           "gold",
           "gold"
          ]
         ]
        ],
        [
         "56be8e613aeaaa14008c90d1",
         "Super_Bowl_50",
         "Super Bowl 50 was an American football game to determine the champion of the National Football League (NFL) for the 2015 season. The American Football Conference (AFC) champion Denver Broncos defeated the National Football Conference (NFC) champion Carolina Panthers 24–10 to earn their third Super Bowl title. The game was played on February 7, 2016, at Levi's Stadium in the San Francisco Bay Area at Santa Clara, California. As this was the 50th Super Bowl, the league emphasized the \"golden anniversary\" with various gold-themed initiatives, as well as temporarily suspending the tradition of naming each Super Bowl game with Roman numerals (under which the game would have been known as \"Super Bowl L\"), so that the logo could prominently feature the Arabic numerals 50.",
         "What was the theme of Super Bowl 50?",
         [
          [
           487,
           521,
           487
          ],
          [
           "\"golden anniversary\"",
           "gold-themed",
           "\"golden anniversary"
          ]
         ]
        ],
        [
         "56be8e613aeaaa14008c90d2",
         "Super_Bowl_50",
         "Super Bowl 50 was an American football game to determine the champion of the National Football League (NFL) for the 2015 season. The American Football Conference (AFC) champion Denver Broncos defeated the National Football Conference (NFC) champion Carolina Panthers 24–10 to earn their third Super Bowl title. The game was played on February 7, 2016, at Levi's Stadium in the San Francisco Bay Area at Santa Clara, California. As this was the 50th Super Bowl, the league emphasized the \"golden anniversary\" with various gold-themed initiatives, as well as temporarily suspending the tradition of naming each Super Bowl game with Roman numerals (under which the game would have been known as \"Super Bowl L\"), so that the logo could prominently feature the Arabic numerals 50.",
         "What day was the game played on?",
         [
          [
           334,
           334,
           334
          ],
          [
           "February 7, 2016",
           "February 7",
           "February 7, 2016"
          ]
         ]
        ],
        [
         "56be8e613aeaaa14008c90d3",
         "Super_Bowl_50",
         "Super Bowl 50 was an American football game to determine the champion of the National Football League (NFL) for the 2015 season. The American Football Conference (AFC) champion Denver Broncos defeated the National Football Conference (NFC) champion Carolina Panthers 24–10 to earn their third Super Bowl title. The game was played on February 7, 2016, at Levi's Stadium in the San Francisco Bay Area at Santa Clara, California. As this was the 50th Super Bowl, the league emphasized the \"golden anniversary\" with various gold-themed initiatives, as well as temporarily suspending the tradition of naming each Super Bowl game with Roman numerals (under which the game would have been known as \"Super Bowl L\"), so that the logo could prominently feature the Arabic numerals 50.",
         "What is the AFC short for?",
         [
          [
           133,
           133,
           133
          ],
          [
           "American Football Conference",
           "American Football Conference",
           "American Football Conference"
          ]
         ]
        ],
        [
         "56bea9923aeaaa14008c91b9",
         "Super_Bowl_50",
         "Super Bowl 50 was an American football game to determine the champion of the National Football League (NFL) for the 2015 season. The American Football Conference (AFC) champion Denver Broncos defeated the National Football Conference (NFC) champion Carolina Panthers 24–10 to earn their third Super Bowl title. The game was played on February 7, 2016, at Levi's Stadium in the San Francisco Bay Area at Santa Clara, California. As this was the 50th Super Bowl, the league emphasized the \"golden anniversary\" with various gold-themed initiatives, as well as temporarily suspending the tradition of naming each Super Bowl game with Roman numerals (under which the game would have been known as \"Super Bowl L\"), so that the logo could prominently feature the Arabic numerals 50.",
         "What was the theme of Super Bowl 50?",
         [
          [
           487,
           521,
           521
          ],
          [
           "\"golden anniversary\"",
           "gold-themed",
           "gold"
          ]
         ]
        ],
        [
         "56bea9923aeaaa14008c91ba",
         "Super_Bowl_50",
         "Super Bowl 50 was an American football game to determine the champion of the National Football League (NFL) for the 2015 season. The American Football Conference (AFC) champion Denver Broncos defeated the National Football Conference (NFC) champion Carolina Panthers 24–10 to earn their third Super Bowl title. The game was played on February 7, 2016, at Levi's Stadium in the San Francisco Bay Area at Santa Clara, California. As this was the 50th Super Bowl, the league emphasized the \"golden anniversary\" with various gold-themed initiatives, as well as temporarily suspending the tradition of naming each Super Bowl game with Roman numerals (under which the game would have been known as \"Super Bowl L\"), so that the logo could prominently feature the Arabic numerals 50.",
         "What does AFC stand for?",
         [
          [
           133,
           133,
           133
          ],
          [
           "American Football Conference",
           "American Football Conference",
           "American Football Conference"
          ]
         ]
        ],
        [
         "56bea9923aeaaa14008c91bb",
         "Super_Bowl_50",
         "Super Bowl 50 was an American football game to determine the champion of the National Football League (NFL) for the 2015 season. The American Football Conference (AFC) champion Denver Broncos defeated the National Football Conference (NFC) champion Carolina Panthers 24–10 to earn their third Super Bowl title. The game was played on February 7, 2016, at Levi's Stadium in the San Francisco Bay Area at Santa Clara, California. As this was the 50th Super Bowl, the league emphasized the \"golden anniversary\" with various gold-themed initiatives, as well as temporarily suspending the tradition of naming each Super Bowl game with Roman numerals (under which the game would have been known as \"Super Bowl L\"), so that the logo could prominently feature the Arabic numerals 50.",
         "What day was the Super Bowl played on?",
         [
          [
           334,
           334,
           334
          ],
          [
           "February 7, 2016",
           "February 7",
           "February 7, 2016"
          ]
         ]
        ],
        [
         "56beace93aeaaa14008c91df",
         "Super_Bowl_50",
         "Super Bowl 50 was an American football game to determine the champion of the National Football League (NFL) for the 2015 season. The American Football Conference (AFC) champion Denver Broncos defeated the National Football Conference (NFC) champion Carolina Panthers 24–10 to earn their third Super Bowl title. The game was played on February 7, 2016, at Levi's Stadium in the San Francisco Bay Area at Santa Clara, California. As this was the 50th Super Bowl, the league emphasized the \"golden anniversary\" with various gold-themed initiatives, as well as temporarily suspending the tradition of naming each Super Bowl game with Roman numerals (under which the game would have been known as \"Super Bowl L\"), so that the logo could prominently feature the Arabic numerals 50.",
         "Who won Super Bowl 50?",
         [
          [
           177,
           177,
           177
          ],
          [
           "Denver Broncos",
           "Denver Broncos",
           "Denver Broncos"
          ]
         ]
        ],
        [
         "56beace93aeaaa14008c91e0",
         "Super_Bowl_50",
         "Super Bowl 50 was an American football game to determine the champion of the National Football League (NFL) for the 2015 season. The American Football Conference (AFC) champion Denver Broncos defeated the National Football Conference (NFC) champion Carolina Panthers 24–10 to earn their third Super Bowl title. The game was played on February 7, 2016, at Levi's Stadium in the San Francisco Bay Area at Santa Clara, California. As this was the 50th Super Bowl, the league emphasized the \"golden anniversary\" with various gold-themed initiatives, as well as temporarily suspending the tradition of naming each Super Bowl game with Roman numerals (under which the game would have been known as \"Super Bowl L\"), so that the logo could prominently feature the Arabic numerals 50.",
         "What venue did Super Bowl 50 take place in?",
         [
          [
           355,
           355,
           355
          ],
          [
           "Levi's Stadium",
           "Levi's Stadium",
           "Levi's Stadium in the San Francisco Bay Area at Santa Clara"
          ]
         ]
        ],
        [
         "56beace93aeaaa14008c91e1",
         "Super_Bowl_50",
         "Super Bowl 50 was an American football game to determine the champion of the National Football League (NFL) for the 2015 season. The American Football Conference (AFC) champion Denver Broncos defeated the National Football Conference (NFC) champion Carolina Panthers 24–10 to earn their third Super Bowl title. The game was played on February 7, 2016, at Levi's Stadium in the San Francisco Bay Area at Santa Clara, California. As this was the 50th Super Bowl, the league emphasized the \"golden anniversary\" with various gold-themed initiatives, as well as temporarily suspending the tradition of naming each Super Bowl game with Roman numerals (under which the game would have been known as \"Super Bowl L\"), so that the logo could prominently feature the Arabic numerals 50.",
         "What city did Super Bowl 50 take place in?",
         [
          [
           403,
           403,
           403
          ],
          [
           "Santa Clara",
           "Santa Clara",
           "Santa Clara"
          ]
         ]
        ],
        [
         "56beace93aeaaa14008c91e2",
         "Super_Bowl_50",
         "Super Bowl 50 was an American football game to determine the champion of the National Football League (NFL) for the 2015 season. The American Football Conference (AFC) champion Denver Broncos defeated the National Football Conference (NFC) champion Carolina Panthers 24–10 to earn their third Super Bowl title. The game was played on February 7, 2016, at Levi's Stadium in the San Francisco Bay Area at Santa Clara, California. As this was the 50th Super Bowl, the league emphasized the \"golden anniversary\" with various gold-themed initiatives, as well as temporarily suspending the tradition of naming each Super Bowl game with Roman numerals (under which the game would have been known as \"Super Bowl L\"), so that the logo could prominently feature the Arabic numerals 50.",
         "If Roman numerals were used, what would Super Bowl 50 have been called?",
         [
          [
           693,
           704,
           693
          ],
          [
           "Super Bowl L",
           "L",
           "Super Bowl L"
          ]
         ]
        ],
        [
         "56beace93aeaaa14008c91e3",
         "Super_Bowl_50",
         "Super Bowl 50 was an American football game to determine the champion of the National Football League (NFL) for the 2015 season. The American Football Conference (AFC) champion Denver Broncos defeated the National Football Conference (NFC) champion Carolina Panthers 24–10 to earn their third Super Bowl title. The game was played on February 7, 2016, at Levi's Stadium in the San Francisco Bay Area at Santa Clara, California. As this was the 50th Super Bowl, the league emphasized the \"golden anniversary\" with various gold-themed initiatives, as well as temporarily suspending the tradition of naming each Super Bowl game with Roman numerals (under which the game would have been known as \"Super Bowl L\"), so that the logo could prominently feature the Arabic numerals 50.",
         "Super Bowl 50 decided the NFL champion for what season?",
         [
          [
           116,
           112,
           116
          ],
          [
           "2015",
           "the 2015 season",
           "2015"
          ]
         ]
        ],
        [
         "56bf10f43aeaaa14008c94fd",
         "Super_Bowl_50",
         "Super Bowl 50 was an American football game to determine the champion of the National Football League (NFL) for the 2015 season. The American Football Conference (AFC) champion Denver Broncos defeated the National Football Conference (NFC) champion Carolina Panthers 24–10 to earn their third Super Bowl title. The game was played on February 7, 2016, at Levi's Stadium in the San Francisco Bay Area at Santa Clara, California. As this was the 50th Super Bowl, the league emphasized the \"golden anniversary\" with various gold-themed initiatives, as well as temporarily suspending the tradition of naming each Super Bowl game with Roman numerals (under which the game would have been known as \"Super Bowl L\"), so that the logo could prominently feature the Arabic numerals 50.",
         "What year did the Denver Broncos secure a Super Bowl title for the third time?",
         [
          [
           116,
           346,
           116
          ],
          [
           "2015",
           "2016",
           "2015"
          ]
         ]
        ],
        [
         "56bf10f43aeaaa14008c94fe",
         "Super_Bowl_50",
         "Super Bowl 50 was an American football game to determine the champion of the National Football League (NFL) for the 2015 season. The American Football Conference (AFC) champion Denver Broncos defeated the National Football Conference (NFC) champion Carolina Panthers 24–10 to earn their third Super Bowl title. The game was played on February 7, 2016, at Levi's Stadium in the San Francisco Bay Area at Santa Clara, California. As this was the 50th Super Bowl, the league emphasized the \"golden anniversary\" with various gold-themed initiatives, as well as temporarily suspending the tradition of naming each Super Bowl game with Roman numerals (under which the game would have been known as \"Super Bowl L\"), so that the logo could prominently feature the Arabic numerals 50.",
         "What city did Super Bowl 50 take place in?",
         [
          [
           403,
           403,
           403
          ],
          [
           "Santa Clara",
           "Santa Clara",
           "Santa Clara"
          ]
         ]
        ],
        [
         "56bf10f43aeaaa14008c94ff",
         "Super_Bowl_50",
         "Super Bowl 50 was an American football game to determine the champion of the National Football League (NFL) for the 2015 season. The American Football Conference (AFC) champion Denver Broncos defeated the National Football Conference (NFC) champion Carolina Panthers 24–10 to earn their third Super Bowl title. The game was played on February 7, 2016, at Levi's Stadium in the San Francisco Bay Area at Santa Clara, California. As this was the 50th Super Bowl, the league emphasized the \"golden anniversary\" with various gold-themed initiatives, as well as temporarily suspending the tradition of naming each Super Bowl game with Roman numerals (under which the game would have been known as \"Super Bowl L\"), so that the logo could prominently feature the Arabic numerals 50.",
         "What stadium did Super Bowl 50 take place in?",
         [
          [
           355,
           355,
           355
          ],
          [
           "Levi's Stadium",
           "Levi's Stadium",
           "Levi's Stadium"
          ]
         ]
        ],
        [
         "56bf10f43aeaaa14008c9500",
         "Super_Bowl_50",
         "Super Bowl 50 was an American football game to determine the champion of the National Football League (NFL) for the 2015 season. The American Football Conference (AFC) champion Denver Broncos defeated the National Football Conference (NFC) champion Carolina Panthers 24–10 to earn their third Super Bowl title. The game was played on February 7, 2016, at Levi's Stadium in the San Francisco Bay Area at Santa Clara, California. As this was the 50th Super Bowl, the league emphasized the \"golden anniversary\" with various gold-themed initiatives, as well as temporarily suspending the tradition of naming each Super Bowl game with Roman numerals (under which the game would have been known as \"Super Bowl L\"), so that the logo could prominently feature the Arabic numerals 50.",
         "What was the final score of Super Bowl 50? ",
         [
          [
           267,
           267,
           267
          ],
          [
           "24–10",
           "24–10",
           "24–10"
          ]
         ]
        ],
        [
         "56bf10f43aeaaa14008c9501",
         "Super_Bowl_50",
         "Super Bowl 50 was an American football game to determine the champion of the National Football League (NFL) for the 2015 season. The American Football Conference (AFC) champion Denver Broncos defeated the National Football Conference (NFC) champion Carolina Panthers 24–10 to earn their third Super Bowl title. The game was played on February 7, 2016, at Levi's Stadium in the San Francisco Bay Area at Santa Clara, California. As this was the 50th Super Bowl, the league emphasized the \"golden anniversary\" with various gold-themed initiatives, as well as temporarily suspending the tradition of naming each Super Bowl game with Roman numerals (under which the game would have been known as \"Super Bowl L\"), so that the logo could prominently feature the Arabic numerals 50.",
         "What month, day and year did Super Bowl 50 take place? ",
         [
          [
           334,
           334,
           334
          ],
          [
           "February 7, 2016",
           "February 7, 2016",
           "February 7, 2016"
          ]
         ]
        ],
        [
         "56d20362e7d4791d009025e8",
         "Super_Bowl_50",
         "Super Bowl 50 was an American football game to determine the champion of the National Football League (NFL) for the 2015 season. The American Football Conference (AFC) champion Denver Broncos defeated the National Football Conference (NFC) champion Carolina Panthers 24–10 to earn their third Super Bowl title. The game was played on February 7, 2016, at Levi's Stadium in the San Francisco Bay Area at Santa Clara, California. As this was the 50th Super Bowl, the league emphasized the \"golden anniversary\" with various gold-themed initiatives, as well as temporarily suspending the tradition of naming each Super Bowl game with Roman numerals (under which the game would have been known as \"Super Bowl L\"), so that the logo could prominently feature the Arabic numerals 50.",
         "What year was Super Bowl 50?",
         [
          [
           116,
           346,
           346
          ],
          [
           "2015",
           "2016",
           "2016"
          ]
         ]
        ],
        [
         "56d20362e7d4791d009025e9",
         "Super_Bowl_50",
         "Super Bowl 50 was an American football game to determine the champion of the National Football League (NFL) for the 2015 season. The American Football Conference (AFC) champion Denver Broncos defeated the National Football Conference (NFC) champion Carolina Panthers 24–10 to earn their third Super Bowl title. The game was played on February 7, 2016, at Levi's Stadium in the San Francisco Bay Area at Santa Clara, California. As this was the 50th Super Bowl, the league emphasized the \"golden anniversary\" with various gold-themed initiatives, as well as temporarily suspending the tradition of naming each Super Bowl game with Roman numerals (under which the game would have been known as \"Super Bowl L\"), so that the logo could prominently feature the Arabic numerals 50.",
         "What team was the AFC champion?",
         [
          [
           177,
           177,
           177
          ],
          [
           "Denver Broncos",
           "Denver Broncos",
           "Denver Broncos"
          ]
         ]
        ],
        [
         "56d20362e7d4791d009025ea",
         "Super_Bowl_50",
         "Super Bowl 50 was an American football game to determine the champion of the National Football League (NFL) for the 2015 season. The American Football Conference (AFC) champion Denver Broncos defeated the National Football Conference (NFC) champion Carolina Panthers 24–10 to earn their third Super Bowl title. The game was played on February 7, 2016, at Levi's Stadium in the San Francisco Bay Area at Santa Clara, California. As this was the 50th Super Bowl, the league emphasized the \"golden anniversary\" with various gold-themed initiatives, as well as temporarily suspending the tradition of naming each Super Bowl game with Roman numerals (under which the game would have been known as \"Super Bowl L\"), so that the logo could prominently feature the Arabic numerals 50.",
         "What team was the NFC champion?",
         [
          [
           249,
           249,
           249
          ],
          [
           "Carolina Panthers",
           "Carolina Panthers",
           "Carolina Panthers"
          ]
         ]
        ],
        [
         "56d20362e7d4791d009025eb",
         "Super_Bowl_50",
         "Super Bowl 50 was an American football game to determine the champion of the National Football League (NFL) for the 2015 season. The American Football Conference (AFC) champion Denver Broncos defeated the National Football Conference (NFC) champion Carolina Panthers 24–10 to earn their third Super Bowl title. The game was played on February 7, 2016, at Levi's Stadium in the San Francisco Bay Area at Santa Clara, California. As this was the 50th Super Bowl, the league emphasized the \"golden anniversary\" with various gold-themed initiatives, as well as temporarily suspending the tradition of naming each Super Bowl game with Roman numerals (under which the game would have been known as \"Super Bowl L\"), so that the logo could prominently feature the Arabic numerals 50.",
         "Who won Super Bowl 50?",
         [
          [
           177,
           177,
           177
          ],
          [
           "Denver Broncos",
           "Denver Broncos",
           "Denver Broncos"
          ]
         ]
        ],
        [
         "56d600e31c85041400946eae",
         "Super_Bowl_50",
         "Super Bowl 50 was an American football game to determine the champion of the National Football League (NFL) for the 2015 season. The American Football Conference (AFC) champion Denver Broncos defeated the National Football Conference (NFC) champion Carolina Panthers 24–10 to earn their third Super Bowl title. The game was played on February 7, 2016, at Levi's Stadium in the San Francisco Bay Area at Santa Clara, California. As this was the 50th Super Bowl, the league emphasized the \"golden anniversary\" with various gold-themed initiatives, as well as temporarily suspending the tradition of naming each Super Bowl game with Roman numerals (under which the game would have been known as \"Super Bowl L\"), so that the logo could prominently feature the Arabic numerals 50.",
         "Super Bowl 50 determined the NFL champion for what season?",
         [
          [
           116,
           112,
           116
          ],
          [
           "2015",
           "the 2015 season",
           "2015"
          ]
         ]
        ],
        [
         "56d600e31c85041400946eb0",
         "Super_Bowl_50",
         "Super Bowl 50 was an American football game to determine the champion of the National Football League (NFL) for the 2015 season. The American Football Conference (AFC) champion Denver Broncos defeated the National Football Conference (NFC) champion Carolina Panthers 24–10 to earn their third Super Bowl title. The game was played on February 7, 2016, at Levi's Stadium in the San Francisco Bay Area at Santa Clara, California. As this was the 50th Super Bowl, the league emphasized the \"golden anniversary\" with various gold-themed initiatives, as well as temporarily suspending the tradition of naming each Super Bowl game with Roman numerals (under which the game would have been known as \"Super Bowl L\"), so that the logo could prominently feature the Arabic numerals 50.",
         "Which team won Super Bowl 50.",
         [
          [
           177,
           177,
           177
          ],
          [
           "Denver Broncos",
           "Denver Broncos",
           "Denver Broncos"
          ]
         ]
        ],
        [
         "56d600e31c85041400946eb1",
         "Super_Bowl_50",
         "Super Bowl 50 was an American football game to determine the champion of the National Football League (NFL) for the 2015 season. The American Football Conference (AFC) champion Denver Broncos defeated the National Football Conference (NFC) champion Carolina Panthers 24–10 to earn their third Super Bowl title. The game was played on February 7, 2016, at Levi's Stadium in the San Francisco Bay Area at Santa Clara, California. As this was the 50th Super Bowl, the league emphasized the \"golden anniversary\" with various gold-themed initiatives, as well as temporarily suspending the tradition of naming each Super Bowl game with Roman numerals (under which the game would have been known as \"Super Bowl L\"), so that the logo could prominently feature the Arabic numerals 50.",
         "Where was Super Bowl 50 held?",
         [
          [
           403,
           355,
           355
          ],
          [
           "Santa Clara, California.",
           "Levi's Stadium",
           "Levi's Stadium"
          ]
         ]
        ],
        [
         "56d9895ddc89441400fdb50e",
         "Super_Bowl_50",
         "Super Bowl 50 was an American football game to determine the champion of the National Football League (NFL) for the 2015 season. The American Football Conference (AFC) champion Denver Broncos defeated the National Football Conference (NFC) champion Carolina Panthers 24–10 to earn their third Super Bowl title. The game was played on February 7, 2016, at Levi's Stadium in the San Francisco Bay Area at Santa Clara, California. As this was the 50th Super Bowl, the league emphasized the \"golden anniversary\" with various gold-themed initiatives, as well as temporarily suspending the tradition of naming each Super Bowl game with Roman numerals (under which the game would have been known as \"Super Bowl L\"), so that the logo could prominently feature the Arabic numerals 50.",
         "The name of the NFL championship game is?",
         [
          [
           0,
           0,
           0
          ],
          [
           "Super Bowl",
           "Super Bowl",
           "Super Bowl"
          ]
         ]
        ],
        [
         "56d9895ddc89441400fdb510",
         "Super_Bowl_50",
         "Super Bowl 50 was an American football game to determine the champion of the National Football League (NFL) for the 2015 season. The American Football Conference (AFC) champion Denver Broncos defeated the National Football Conference (NFC) champion Carolina Panthers 24–10 to earn their third Super Bowl title. The game was played on February 7, 2016, at Levi's Stadium in the San Francisco Bay Area at Santa Clara, California. As this was the 50th Super Bowl, the league emphasized the \"golden anniversary\" with various gold-themed initiatives, as well as temporarily suspending the tradition of naming each Super Bowl game with Roman numerals (under which the game would have been known as \"Super Bowl L\"), so that the logo could prominently feature the Arabic numerals 50.",
         "What 2015 NFL team one the AFC playoff?",
         [
          [
           177,
           177,
           177
          ],
          [
           "Denver Broncos",
           "Denver Broncos",
           "Denver Broncos"
          ]
         ]
        ],
        [
         "56be4e1facb8001400a502f6",
         "Super_Bowl_50",
         "The Panthers finished the regular season with a 15–1 record, and quarterback Cam Newton was named the NFL Most Valuable Player (MVP). They defeated the Arizona Cardinals 49–15 in the NFC Championship Game and advanced to their second Super Bowl appearance since the franchise was founded in 1995. The Broncos finished the regular season with a 12–4 record, and denied the New England Patriots a chance to defend their title from Super Bowl XLIX by defeating them 20–18 in the AFC Championship Game. They joined the Patriots, Dallas Cowboys, and Pittsburgh Steelers as one of four teams that have made eight appearances in the Super Bowl.",
         "Which Carolina Panthers player was named Most Valuable Player?",
         [
          [
           77,
           77,
           77
          ],
          [
           "Cam Newton",
           "Cam Newton",
           "Cam Newton"
          ]
         ]
        ],
        [
         "56be4e1facb8001400a502f9",
         "Super_Bowl_50",
         "The Panthers finished the regular season with a 15–1 record, and quarterback Cam Newton was named the NFL Most Valuable Player (MVP). They defeated the Arizona Cardinals 49–15 in the NFC Championship Game and advanced to their second Super Bowl appearance since the franchise was founded in 1995. The Broncos finished the regular season with a 12–4 record, and denied the New England Patriots a chance to defend their title from Super Bowl XLIX by defeating them 20–18 in the AFC Championship Game. They joined the Patriots, Dallas Cowboys, and Pittsburgh Steelers as one of four teams that have made eight appearances in the Super Bowl.",
         "How many appearances have the Denver Broncos made in the Super Bowl?",
         [
          [
           467,
           601,
           601
          ],
          [
           "8",
           "eight",
           "eight"
          ]
         ]
        ],
        [
         "56be4e1facb8001400a502fa",
         "Super_Bowl_50",
         "The Panthers finished the regular season with a 15–1 record, and quarterback Cam Newton was named the NFL Most Valuable Player (MVP). They defeated the Arizona Cardinals 49–15 in the NFC Championship Game and advanced to their second Super Bowl appearance since the franchise was founded in 1995. The Broncos finished the regular season with a 12–4 record, and denied the New England Patriots a chance to defend their title from Super Bowl XLIX by defeating them 20–18 in the AFC Championship Game. They joined the Patriots, Dallas Cowboys, and Pittsburgh Steelers as one of four teams that have made eight appearances in the Super Bowl.",
         "What year was the Carolina Panthers franchise founded?",
         [
          [
           291,
           291,
           291
          ],
          [
           "1995",
           "1995",
           "1995"
          ]
         ]
        ],
        [
         "56beaa4a3aeaaa14008c91c2",
         "Super_Bowl_50",
         "The Panthers finished the regular season with a 15–1 record, and quarterback Cam Newton was named the NFL Most Valuable Player (MVP). They defeated the Arizona Cardinals 49–15 in the NFC Championship Game and advanced to their second Super Bowl appearance since the franchise was founded in 1995. The Broncos finished the regular season with a 12–4 record, and denied the New England Patriots a chance to defend their title from Super Bowl XLIX by defeating them 20–18 in the AFC Championship Game. They joined the Patriots, Dallas Cowboys, and Pittsburgh Steelers as one of four teams that have made eight appearances in the Super Bowl.",
         "What team did the Panthers defeat?",
         [
          [
           152,
           148,
           152
          ],
          [
           "Arizona Cardinals",
           "the Arizona Cardinals",
           "Arizona Cardinals"
          ]
         ]
        ],
        [
         "56beaa4a3aeaaa14008c91c3",
         "Super_Bowl_50",
         "The Panthers finished the regular season with a 15–1 record, and quarterback Cam Newton was named the NFL Most Valuable Player (MVP). They defeated the Arizona Cardinals 49–15 in the NFC Championship Game and advanced to their second Super Bowl appearance since the franchise was founded in 1995. The Broncos finished the regular season with a 12–4 record, and denied the New England Patriots a chance to defend their title from Super Bowl XLIX by defeating them 20–18 in the AFC Championship Game. They joined the Patriots, Dallas Cowboys, and Pittsburgh Steelers as one of four teams that have made eight appearances in the Super Bowl.",
         "Who did the Broncos prevent from going to the Super Bowl?",
         [
          [
           372,
           368,
           372
          ],
          [
           "New England Patriots",
           "the New England Patriots",
           "New England Patriots"
          ]
         ]
        ],
        [
         "56bead5a3aeaaa14008c91e9",
         "Super_Bowl_50",
         "The Panthers finished the regular season with a 15–1 record, and quarterback Cam Newton was named the NFL Most Valuable Player (MVP). They defeated the Arizona Cardinals 49–15 in the NFC Championship Game and advanced to their second Super Bowl appearance since the franchise was founded in 1995. The Broncos finished the regular season with a 12–4 record, and denied the New England Patriots a chance to defend their title from Super Bowl XLIX by defeating them 20–18 in the AFC Championship Game. They joined the Patriots, Dallas Cowboys, and Pittsburgh Steelers as one of four teams that have made eight appearances in the Super Bowl.",
         "Who did the Panthers beat in the NFC Championship Game?",
         [
          [
           152,
           148,
           152
          ],
          [
           "Arizona Cardinals",
           "the Arizona Cardinals",
           "Arizona Cardinals"
          ]
         ]
        ],
        [
         "56bead5a3aeaaa14008c91ea",
         "Super_Bowl_50",
         "The Panthers finished the regular season with a 15–1 record, and quarterback Cam Newton was named the NFL Most Valuable Player (MVP). They defeated the Arizona Cardinals 49–15 in the NFC Championship Game and advanced to their second Super Bowl appearance since the franchise was founded in 1995. The Broncos finished the regular season with a 12–4 record, and denied the New England Patriots a chance to defend their title from Super Bowl XLIX by defeating them 20–18 in the AFC Championship Game. They joined the Patriots, Dallas Cowboys, and Pittsburgh Steelers as one of four teams that have made eight appearances in the Super Bowl.",
         "Who lost to the Broncos in the AFC Championship?",
         [
          [
           372,
           368,
           372
          ],
          [
           "New England Patriots",
           "the New England Patriots",
           "New England Patriots"
          ]
         ]
        ],
        [
         "56bead5a3aeaaa14008c91eb",
         "Super_Bowl_50",
         "The Panthers finished the regular season with a 15–1 record, and quarterback Cam Newton was named the NFL Most Valuable Player (MVP). They defeated the Arizona Cardinals 49–15 in the NFC Championship Game and advanced to their second Super Bowl appearance since the franchise was founded in 1995. The Broncos finished the regular season with a 12–4 record, and denied the New England Patriots a chance to defend their title from Super Bowl XLIX by defeating them 20–18 in the AFC Championship Game. They joined the Patriots, Dallas Cowboys, and Pittsburgh Steelers as one of four teams that have made eight appearances in the Super Bowl.",
         "Who were the defending Super Bowl champions?",
         [
          [
           372,
           368,
           372
          ],
          [
           "New England Patriots",
           "the New England Patriots",
           "New England Patriots"
          ]
         ]
        ],
        [
         "56bead5a3aeaaa14008c91ec",
         "Super_Bowl_50",
         "The Panthers finished the regular season with a 15–1 record, and quarterback Cam Newton was named the NFL Most Valuable Player (MVP). They defeated the Arizona Cardinals 49–15 in the NFC Championship Game and advanced to their second Super Bowl appearance since the franchise was founded in 1995. The Broncos finished the regular season with a 12–4 record, and denied the New England Patriots a chance to defend their title from Super Bowl XLIX by defeating them 20–18 in the AFC Championship Game. They joined the Patriots, Dallas Cowboys, and Pittsburgh Steelers as one of four teams that have made eight appearances in the Super Bowl.",
         "How many teams have been in the Super Bowl eight times?",
         [
          [
           575,
           575,
           575
          ],
          [
           "four",
           "four",
           "four"
          ]
         ]
        ],
        [
         "56bead5a3aeaaa14008c91ed",
         "Super_Bowl_50",
         "The Panthers finished the regular season with a 15–1 record, and quarterback Cam Newton was named the NFL Most Valuable Player (MVP). They defeated the Arizona Cardinals 49–15 in the NFC Championship Game and advanced to their second Super Bowl appearance since the franchise was founded in 1995. The Broncos finished the regular season with a 12–4 record, and denied the New England Patriots a chance to defend their title from Super Bowl XLIX by defeating them 20–18 in the AFC Championship Game. They joined the Patriots, Dallas Cowboys, and Pittsburgh Steelers as one of four teams that have made eight appearances in the Super Bowl.",
         "Who was this season's NFL MVP?",
         [
          [
           77,
           77,
           77
          ],
          [
           "Cam Newton",
           "Cam Newton",
           "Cam Newton"
          ]
         ]
        ],
        [
         "56bf159b3aeaaa14008c9507",
         "Super_Bowl_50",
         "The Panthers finished the regular season with a 15–1 record, and quarterback Cam Newton was named the NFL Most Valuable Player (MVP). They defeated the Arizona Cardinals 49–15 in the NFC Championship Game and advanced to their second Super Bowl appearance since the franchise was founded in 1995. The Broncos finished the regular season with a 12–4 record, and denied the New England Patriots a chance to defend their title from Super Bowl XLIX by defeating them 20–18 in the AFC Championship Game. They joined the Patriots, Dallas Cowboys, and Pittsburgh Steelers as one of four teams that have made eight appearances in the Super Bowl.",
         "What was the win/loss ratio in 2015 for the Carolina Panthers during their regular season?",
         [
          [
           48,
           48,
           48
          ],
          [
           "15–1",
           "15–1",
           "15–1"
          ]
         ]
        ],
        [
         "56bf159b3aeaaa14008c9508",
         "Super_Bowl_50",
         "The Panthers finished the regular season with a 15–1 record, and quarterback Cam Newton was named the NFL Most Valuable Player (MVP). They defeated the Arizona Cardinals 49–15 in the NFC Championship Game and advanced to their second Super Bowl appearance since the franchise was founded in 1995. The Broncos finished the regular season with a 12–4 record, and denied the New England Patriots a chance to defend their title from Super Bowl XLIX by defeating them 20–18 in the AFC Championship Game. They joined the Patriots, Dallas Cowboys, and Pittsburgh Steelers as one of four teams that have made eight appearances in the Super Bowl.",
         "Which Carolina Panthers team member was picked as the team's MVP in 2015? ",
         [
          [
           77,
           77,
           77
          ],
          [
           "Cam Newton",
           "Cam Newton",
           "Cam Newton"
          ]
         ]
        ],
        [
         "56bf159b3aeaaa14008c9509",
         "Super_Bowl_50",
         "The Panthers finished the regular season with a 15–1 record, and quarterback Cam Newton was named the NFL Most Valuable Player (MVP). They defeated the Arizona Cardinals 49–15 in the NFC Championship Game and advanced to their second Super Bowl appearance since the franchise was founded in 1995. The Broncos finished the regular season with a 12–4 record, and denied the New England Patriots a chance to defend their title from Super Bowl XLIX by defeating them 20–18 in the AFC Championship Game. They joined the Patriots, Dallas Cowboys, and Pittsburgh Steelers as one of four teams that have made eight appearances in the Super Bowl.",
         "What were the win/loss game stats for the Denver Bronco's regular season in 2015?",
         [
          [
           344,
           344,
           344
          ],
          [
           "12–4",
           "12–4",
           "12–4"
          ]
         ]
        ],
        [
         "56bf159b3aeaaa14008c950a",
         "Super_Bowl_50",
         "The Panthers finished the regular season with a 15–1 record, and quarterback Cam Newton was named the NFL Most Valuable Player (MVP). They defeated the Arizona Cardinals 49–15 in the NFC Championship Game and advanced to their second Super Bowl appearance since the franchise was founded in 1995. The Broncos finished the regular season with a 12–4 record, and denied the New England Patriots a chance to defend their title from Super Bowl XLIX by defeating them 20–18 in the AFC Championship Game. They joined the Patriots, Dallas Cowboys, and Pittsburgh Steelers as one of four teams that have made eight appearances in the Super Bowl.",
         "How many teams have played in the Super Bowl eight times?",
         [
          [
           170,
           575,
           575
          ],
          [
           "4",
           "four",
           "four"
          ]
         ]
        ],
        [
         "56bf159b3aeaaa14008c950b",
         "Super_Bowl_50",
         "The Panthers finished the regular season with a 15–1 record, and quarterback Cam Newton was named the NFL Most Valuable Player (MVP). They defeated the Arizona Cardinals 49–15 in the NFC Championship Game and advanced to their second Super Bowl appearance since the franchise was founded in 1995. The Broncos finished the regular season with a 12–4 record, and denied the New England Patriots a chance to defend their title from Super Bowl XLIX by defeating them 20–18 in the AFC Championship Game. They joined the Patriots, Dallas Cowboys, and Pittsburgh Steelers as one of four teams that have made eight appearances in the Super Bowl.",
         "Which team did not get a chance to defend their Super Bowl XLIX win in Super Bowl 50?",
         [
          [
           372,
           368,
           372
          ],
          [
           "New England Patriots",
           "the New England Patriots",
           "New England Patriots"
          ]
         ]
        ],
        [
         "56d2045de7d4791d009025f3",
         "Super_Bowl_50",
         "The Panthers finished the regular season with a 15–1 record, and quarterback Cam Newton was named the NFL Most Valuable Player (MVP). They defeated the Arizona Cardinals 49–15 in the NFC Championship Game and advanced to their second Super Bowl appearance since the franchise was founded in 1995. The Broncos finished the regular season with a 12–4 record, and denied the New England Patriots a chance to defend their title from Super Bowl XLIX by defeating them 20–18 in the AFC Championship Game. They joined the Patriots, Dallas Cowboys, and Pittsburgh Steelers as one of four teams that have made eight appearances in the Super Bowl.",
         "Who is the quarterback for the Panthers?",
         [
          [
           77,
           77,
           77
          ],
          [
           "Cam Newton",
           "Cam Newton",
           "Cam Newton"
          ]
         ]
        ],
        [
         "56d2045de7d4791d009025f4",
         "Super_Bowl_50",
         "The Panthers finished the regular season with a 15–1 record, and quarterback Cam Newton was named the NFL Most Valuable Player (MVP). They defeated the Arizona Cardinals 49–15 in the NFC Championship Game and advanced to their second Super Bowl appearance since the franchise was founded in 1995. The Broncos finished the regular season with a 12–4 record, and denied the New England Patriots a chance to defend their title from Super Bowl XLIX by defeating them 20–18 in the AFC Championship Game. They joined the Patriots, Dallas Cowboys, and Pittsburgh Steelers as one of four teams that have made eight appearances in the Super Bowl.",
         "Who did Carolina beat in the NFC championship game?",
         [
          [
           152,
           148,
           152
          ],
          [
           "Arizona Cardinals",
           "the Arizona Cardinals",
           "Arizona Cardinals"
          ]
         ]
        ],
        [
         "56d2045de7d4791d009025f5",
         "Super_Bowl_50",
         "The Panthers finished the regular season with a 15–1 record, and quarterback Cam Newton was named the NFL Most Valuable Player (MVP). They defeated the Arizona Cardinals 49–15 in the NFC Championship Game and advanced to their second Super Bowl appearance since the franchise was founded in 1995. The Broncos finished the regular season with a 12–4 record, and denied the New England Patriots a chance to defend their title from Super Bowl XLIX by defeating them 20–18 in the AFC Championship Game. They joined the Patriots, Dallas Cowboys, and Pittsburgh Steelers as one of four teams that have made eight appearances in the Super Bowl.",
         "How many times have the Panthers been in the Super Bowl?",
         [
          [
           345,
           227,
           227
          ],
          [
           "2",
           "second",
           "second"
          ]
         ]
        ],
        [
         "56d2045de7d4791d009025f6",
         "Super_Bowl_50",
         "The Panthers finished the regular season with a 15–1 record, and quarterback Cam Newton was named the NFL Most Valuable Player (MVP). They defeated the Arizona Cardinals 49–15 in the NFC Championship Game and advanced to their second Super Bowl appearance since the franchise was founded in 1995. The Broncos finished the regular season with a 12–4 record, and denied the New England Patriots a chance to defend their title from Super Bowl XLIX by defeating them 20–18 in the AFC Championship Game. They joined the Patriots, Dallas Cowboys, and Pittsburgh Steelers as one of four teams that have made eight appearances in the Super Bowl.",
         "Who did Denver beat in the AFC championship?",
         [
          [
           372,
           368,
           372
          ],
          [
           "New England Patriots",
           "the New England Patriots",
           "New England Patriots"
          ]
         ]
        ],
        [
         "56d6017d1c85041400946ebe",
         "Super_Bowl_50",
         "The Panthers finished the regular season with a 15–1 record, and quarterback Cam Newton was named the NFL Most Valuable Player (MVP). They defeated the Arizona Cardinals 49–15 in the NFC Championship Game and advanced to their second Super Bowl appearance since the franchise was founded in 1995. The Broncos finished the regular season with a 12–4 record, and denied the New England Patriots a chance to defend their title from Super Bowl XLIX by defeating them 20–18 in the AFC Championship Game. They joined the Patriots, Dallas Cowboys, and Pittsburgh Steelers as one of four teams that have made eight appearances in the Super Bowl.",
         "Who was the Most Valuable Player for the 2015 NFL season?",
         [
          [
           77,
           77,
           77
          ],
          [
           "Cam Newton",
           "Cam Newton",
           "Cam Newton"
          ]
         ]
        ],
        [
         "56d6017d1c85041400946ec1",
         "Super_Bowl_50",
         "The Panthers finished the regular season with a 15–1 record, and quarterback Cam Newton was named the NFL Most Valuable Player (MVP). They defeated the Arizona Cardinals 49–15 in the NFC Championship Game and advanced to their second Super Bowl appearance since the franchise was founded in 1995. The Broncos finished the regular season with a 12–4 record, and denied the New England Patriots a chance to defend their title from Super Bowl XLIX by defeating them 20–18 in the AFC Championship Game. They joined the Patriots, Dallas Cowboys, and Pittsburgh Steelers as one of four teams that have made eight appearances in the Super Bowl.",
         "Who did Denver beat in the 2015 AFC Championship game?",
         [
          [
           372,
           368,
           372
          ],
          [
           "New England Patriots",
           "the New England Patriots",
           "New England Patriots"
          ]
         ]
        ],
        [
         "56d6017d1c85041400946ec2",
         "Super_Bowl_50",
         "The Panthers finished the regular season with a 15–1 record, and quarterback Cam Newton was named the NFL Most Valuable Player (MVP). They defeated the Arizona Cardinals 49–15 in the NFC Championship Game and advanced to their second Super Bowl appearance since the franchise was founded in 1995. The Broncos finished the regular season with a 12–4 record, and denied the New England Patriots a chance to defend their title from Super Bowl XLIX by defeating them 20–18 in the AFC Championship Game. They joined the Patriots, Dallas Cowboys, and Pittsburgh Steelers as one of four teams that have made eight appearances in the Super Bowl.",
         "Who did the Carolina Panthers beat in the 2015 NFC Championship game?",
         [
          [
           152,
           148,
           152
          ],
          [
           "Arizona Cardinals",
           "the Arizona Cardinals",
           "Arizona Cardinals"
          ]
         ]
        ],
        [
         "56d98a59dc89441400fdb52a",
         "Super_Bowl_50",
         "The Panthers finished the regular season with a 15–1 record, and quarterback Cam Newton was named the NFL Most Valuable Player (MVP). They defeated the Arizona Cardinals 49–15 in the NFC Championship Game and advanced to their second Super Bowl appearance since the franchise was founded in 1995. The Broncos finished the regular season with a 12–4 record, and denied the New England Patriots a chance to defend their title from Super Bowl XLIX by defeating them 20–18 in the AFC Championship Game. They joined the Patriots, Dallas Cowboys, and Pittsburgh Steelers as one of four teams that have made eight appearances in the Super Bowl.",
         "Who was the 2015 NFL MVP?",
         [
          [
           77,
           77,
           77
          ],
          [
           "Cam Newton",
           "Cam Newton",
           "Cam Newton"
          ]
         ]
        ],
        [
         "56d98a59dc89441400fdb52b",
         "Super_Bowl_50",
         "The Panthers finished the regular season with a 15–1 record, and quarterback Cam Newton was named the NFL Most Valuable Player (MVP). They defeated the Arizona Cardinals 49–15 in the NFC Championship Game and advanced to their second Super Bowl appearance since the franchise was founded in 1995. The Broncos finished the regular season with a 12–4 record, and denied the New England Patriots a chance to defend their title from Super Bowl XLIX by defeating them 20–18 in the AFC Championship Game. They joined the Patriots, Dallas Cowboys, and Pittsburgh Steelers as one of four teams that have made eight appearances in the Super Bowl.",
         "Who did the Panthers beat to become the NFC champs?",
         [
          [
           152,
           148,
           152
          ],
          [
           "Arizona Cardinals",
           "the Arizona Cardinals",
           "Arizona Cardinals"
          ]
         ]
        ],
        [
         "56d98a59dc89441400fdb52e",
         "Super_Bowl_50",
         "The Panthers finished the regular season with a 15–1 record, and quarterback Cam Newton was named the NFL Most Valuable Player (MVP). They defeated the Arizona Cardinals 49–15 in the NFC Championship Game and advanced to their second Super Bowl appearance since the franchise was founded in 1995. The Broncos finished the regular season with a 12–4 record, and denied the New England Patriots a chance to defend their title from Super Bowl XLIX by defeating them 20–18 in the AFC Championship Game. They joined the Patriots, Dallas Cowboys, and Pittsburgh Steelers as one of four teams that have made eight appearances in the Super Bowl.",
         "What year did the Carolina Panthers form?",
         [
          [
           291,
           291,
           291
          ],
          [
           "1995.",
           "1995",
           "1995"
          ]
         ]
        ],
        [
         "56be4eafacb8001400a50302",
         "Super_Bowl_50",
         "The Broncos took an early lead in Super Bowl 50 and never trailed. Newton was limited by Denver's defense, which sacked him seven times and forced him into three turnovers, including a fumble which they recovered for a touchdown. Denver linebacker Von Miller was named Super Bowl MVP, recording five solo tackles, 2½ sacks, and two forced fumbles.",
         "Who was the Super Bowl 50 MVP?",
         [
          [
           248,
           248,
           252
          ],
          [
           "Von Miller",
           "Von Miller",
           "Miller"
          ]
         ]
        ],
        [
         "56be4eafacb8001400a50303",
         "Super_Bowl_50",
         "The Broncos took an early lead in Super Bowl 50 and never trailed. Newton was limited by Denver's defense, which sacked him seven times and forced him into three turnovers, including a fumble which they recovered for a touchdown. Denver linebacker Von Miller was named Super Bowl MVP, recording five solo tackles, 2½ sacks, and two forced fumbles.",
         "How many fumbles did Von Miller force in Super Bowl 50?",
         [
          [
           314,
           328,
           328
          ],
          [
           "2",
           "two",
           "two"
          ]
         ]
        ],
        [
         "56be4eafacb8001400a50304",
         "Super_Bowl_50",
         "The Broncos took an early lead in Super Bowl 50 and never trailed. Newton was limited by Denver's defense, which sacked him seven times and forced him into three turnovers, including a fumble which they recovered for a touchdown. Denver linebacker Von Miller was named Super Bowl MVP, recording five solo tackles, 2½ sacks, and two forced fumbles.",
         "Which team held the scoring lead throughout the entire game?",
         [
          [
           4,
           0,
           4
          ],
          [
           "Broncos",
           "The Broncos",
           "Broncos"
          ]
         ]
        ],
        [
         "56beab833aeaaa14008c91d2",
         "Super_Bowl_50",
         "The Broncos took an early lead in Super Bowl 50 and never trailed. Newton was limited by Denver's defense, which sacked him seven times and forced him into three turnovers, including a fumble which they recovered for a touchdown. Denver linebacker Von Miller was named Super Bowl MVP, recording five solo tackles, 2½ sacks, and two forced fumbles.",
         "Which Denver linebacker was named Super Bowl MVP?",
         [
          [
           237,
           248,
           252
          ],
          [
           "linebacker Von Miller",
           "Von Miller",
           "Miller"
          ]
         ]
        ],
        [
         "56beab833aeaaa14008c91d3",
         "Super_Bowl_50",
         "The Broncos took an early lead in Super Bowl 50 and never trailed. Newton was limited by Denver's defense, which sacked him seven times and forced him into three turnovers, including a fumble which they recovered for a touchdown. Denver linebacker Von Miller was named Super Bowl MVP, recording five solo tackles, 2½ sacks, and two forced fumbles.",
         "How many solo tackles did Von Miller make at Super Bowl 50?",
         [
          [
           295,
           295,
           295
          ],
          [
           "five solo tackles",
           "five",
           "five"
          ]
         ]
        ],
        [
         "56beab833aeaaa14008c91d4",
         "Super_Bowl_50",
         "The Broncos took an early lead in Super Bowl 50 and never trailed. Newton was limited by Denver's defense, which sacked him seven times and forced him into three turnovers, including a fumble which they recovered for a touchdown. Denver linebacker Von Miller was named Super Bowl MVP, recording five solo tackles, 2½ sacks, and two forced fumbles.",
         "Who was limited by Denver's defense?",
         [
          [
           67,
           67,
           67
          ],
          [
           "Newton was limited by Denver's defense",
           "Newton",
           "Newton"
          ]
         ]
        ],
        [
         "56beae423aeaaa14008c91f4",
         "Super_Bowl_50",
         "The Broncos took an early lead in Super Bowl 50 and never trailed. Newton was limited by Denver's defense, which sacked him seven times and forced him into three turnovers, including a fumble which they recovered for a touchdown. Denver linebacker Von Miller was named Super Bowl MVP, recording five solo tackles, 2½ sacks, and two forced fumbles.",
         "How many times was Cam Newton sacked?",
         [
          [
           124,
           124,
           124
          ],
          [
           "seven",
           "seven",
           "seven"
          ]
         ]
        ],
        [
         "56beae423aeaaa14008c91f5",
         "Super_Bowl_50",
         "The Broncos took an early lead in Super Bowl 50 and never trailed. Newton was limited by Denver's defense, which sacked him seven times and forced him into three turnovers, including a fumble which they recovered for a touchdown. Denver linebacker Von Miller was named Super Bowl MVP, recording five solo tackles, 2½ sacks, and two forced fumbles.",
         "Who won the Super Bowl MVP?",
         [
          [
           248,
           0,
           252
          ],
          [
           "Von Miller",
           "The Broncos",
           "Miller"
          ]
         ]
        ],
        [
         "56beae423aeaaa14008c91f6",
         "Super_Bowl_50",
         "The Broncos took an early lead in Super Bowl 50 and never trailed. Newton was limited by Denver's defense, which sacked him seven times and forced him into three turnovers, including a fumble which they recovered for a touchdown. Denver linebacker Von Miller was named Super Bowl MVP, recording five solo tackles, 2½ sacks, and two forced fumbles.",
         "How many turnovers did Cam Newton have?",
         [
          [
           156,
           156,
           156
          ],
          [
           "three",
           "three",
           "three"
          ]
         ]
        ],
        [
         "56beae423aeaaa14008c91f7",
         "Super_Bowl_50",
         "The Broncos took an early lead in Super Bowl 50 and never trailed. Newton was limited by Denver's defense, which sacked him seven times and forced him into three turnovers, including a fumble which they recovered for a touchdown. Denver linebacker Von Miller was named Super Bowl MVP, recording five solo tackles, 2½ sacks, and two forced fumbles.",
         "How many fumbles did Von Miller force?",
         [
          [
           328,
           328,
           328
          ],
          [
           "two",
           "two",
           "two"
          ]
         ]
        ],
        [
         "56bf17653aeaaa14008c9511",
         "Super_Bowl_50",
         "The Broncos took an early lead in Super Bowl 50 and never trailed. Newton was limited by Denver's defense, which sacked him seven times and forced him into three turnovers, including a fumble which they recovered for a touchdown. Denver linebacker Von Miller was named Super Bowl MVP, recording five solo tackles, 2½ sacks, and two forced fumbles.",
         "Who was given the esteemed status of MVP for Super Bowl 50?",
         [
          [
           248,
           248,
           252
          ],
          [
           "Von Miller",
           "Von Miller",
           "Miller"
          ]
         ]
        ],
        [
         "56bf17653aeaaa14008c9513",
         "Super_Bowl_50",
         "The Broncos took an early lead in Super Bowl 50 and never trailed. Newton was limited by Denver's defense, which sacked him seven times and forced him into three turnovers, including a fumble which they recovered for a touchdown. Denver linebacker Von Miller was named Super Bowl MVP, recording five solo tackles, 2½ sacks, and two forced fumbles.",
         "What position does Von Miller play for the Denver Broncos?",
         [
          [
           237,
           237,
           237
          ],
          [
           "linebacker",
           "linebacker",
           "linebacker"
          ]
         ]
        ],
        [
         "56bf17653aeaaa14008c9514",
         "Super_Bowl_50",
         "The Broncos took an early lead in Super Bowl 50 and never trailed. Newton was limited by Denver's defense, which sacked him seven times and forced him into three turnovers, including a fumble which they recovered for a touchdown. Denver linebacker Von Miller was named Super Bowl MVP, recording five solo tackles, 2½ sacks, and two forced fumbles.",
         "What was the number of solo tackles that Von Miller had in Super Bowl 50?",
         [
          [
           45,
           295,
           295
          ],
          [
           "5",
           "five",
           "five"
          ]
         ]
        ],
        [
         "56bf17653aeaaa14008c9515",
         "Super_Bowl_50",
         "The Broncos took an early lead in Super Bowl 50 and never trailed. Newton was limited by Denver's defense, which sacked him seven times and forced him into three turnovers, including a fumble which they recovered for a touchdown. Denver linebacker Von Miller was named Super Bowl MVP, recording five solo tackles, 2½ sacks, and two forced fumbles.",
         "How many forced fumbles did Von Miller have during the Super Bowl 50 game?",
         [
          [
           314,
           328,
           328
          ],
          [
           "2",
           "two",
           "two"
          ]
         ]
        ],
        [
         "56d204ade7d4791d00902603",
         "Super_Bowl_50",
         "The Broncos took an early lead in Super Bowl 50 and never trailed. Newton was limited by Denver's defense, which sacked him seven times and forced him into three turnovers, including a fumble which they recovered for a touchdown. Denver linebacker Von Miller was named Super Bowl MVP, recording five solo tackles, 2½ sacks, and two forced fumbles.",
         "Who won the MVP for the Super Bowl?",
         [
          [
           248,
           248,
           248
          ],
          [
           "Von Miller",
           "Von Miller",
           "Von Miller"
          ]
         ]
        ],
        [
         "56d204ade7d4791d00902604",
         "Super_Bowl_50",
         "The Broncos took an early lead in Super Bowl 50 and never trailed. Newton was limited by Denver's defense, which sacked him seven times and forced him into three turnovers, including a fumble which they recovered for a touchdown. Denver linebacker Von Miller was named Super Bowl MVP, recording five solo tackles, 2½ sacks, and two forced fumbles.",
         "How many tackles did Von Miller get during the game?",
         [
          [
           45,
           295,
           295
          ],
          [
           "5",
           "five",
           "five"
          ]
         ]
        ],
        [
         "56d601e41c85041400946ece",
         "Super_Bowl_50",
         "The Broncos took an early lead in Super Bowl 50 and never trailed. Newton was limited by Denver's defense, which sacked him seven times and forced him into three turnovers, including a fumble which they recovered for a touchdown. Denver linebacker Von Miller was named Super Bowl MVP, recording five solo tackles, 2½ sacks, and two forced fumbles.",
         "How many times was Cam Newton sacked in Super Bowl 50?",
         [
          [
           124,
           124,
           124
          ],
          [
           "seven",
           "seven",
           "seven"
          ]
         ]
        ],
        [
         "56d601e41c85041400946ecf",
         "Super_Bowl_50",
         "The Broncos took an early lead in Super Bowl 50 and never trailed. Newton was limited by Denver's defense, which sacked him seven times and forced him into three turnovers, including a fumble which they recovered for a touchdown. Denver linebacker Von Miller was named Super Bowl MVP, recording five solo tackles, 2½ sacks, and two forced fumbles.",
         "How many times did the Denver defense force Newton into turnovers?",
         [
          [
           156,
           156,
           156
          ],
          [
           "three",
           "three",
           "three"
          ]
         ]
        ],
        [
         "56d601e41c85041400946ed0",
         "Super_Bowl_50",
         "The Broncos took an early lead in Super Bowl 50 and never trailed. Newton was limited by Denver's defense, which sacked him seven times and forced him into three turnovers, including a fumble which they recovered for a touchdown. Denver linebacker Von Miller was named Super Bowl MVP, recording five solo tackles, 2½ sacks, and two forced fumbles.",
         "Which Newton turnover resulted in seven points for Denver?",
         [
          [
           183,
           183,
           185
          ],
          [
           "a fumble",
           "a fumble",
           "fumble"
          ]
         ]
        ],
        [
         "56d601e41c85041400946ed1",
         "Super_Bowl_50",
         "The Broncos took an early lead in Super Bowl 50 and never trailed. Newton was limited by Denver's defense, which sacked him seven times and forced him into three turnovers, including a fumble which they recovered for a touchdown. Denver linebacker Von Miller was named Super Bowl MVP, recording five solo tackles, 2½ sacks, and two forced fumbles.",
         "Who was the Most Valuable Player of Super Bowl 50?",
         [
          [
           248,
           248,
           248
          ],
          [
           "Von Miller",
           "Von Miller",
           "Von Miller"
          ]
         ]
        ],
        [
         "56d601e41c85041400946ed2",
         "Super_Bowl_50",
         "The Broncos took an early lead in Super Bowl 50 and never trailed. Newton was limited by Denver's defense, which sacked him seven times and forced him into three turnovers, including a fumble which they recovered for a touchdown. Denver linebacker Von Miller was named Super Bowl MVP, recording five solo tackles, 2½ sacks, and two forced fumbles.",
         "What position does Von Miller play?",
         [
          [
           237,
           237,
           237
          ],
          [
           "linebacker",
           "linebacker",
           "linebacker"
          ]
         ]
        ],
        [
         "56d98b33dc89441400fdb53b",
         "Super_Bowl_50",
         "The Broncos took an early lead in Super Bowl 50 and never trailed. Newton was limited by Denver's defense, which sacked him seven times and forced him into three turnovers, including a fumble which they recovered for a touchdown. Denver linebacker Von Miller was named Super Bowl MVP, recording five solo tackles, 2½ sacks, and two forced fumbles.",
         "How many times was the Panthers' quarterback sacked?",
         [
          [
           124,
           124,
           124
          ],
          [
           "seven",
           "seven",
           "seven"
          ]
         ]
        ],
        [
         "56d98b33dc89441400fdb53c",
         "Super_Bowl_50",
         "The Broncos took an early lead in Super Bowl 50 and never trailed. Newton was limited by Denver's defense, which sacked him seven times and forced him into three turnovers, including a fumble which they recovered for a touchdown. Denver linebacker Von Miller was named Super Bowl MVP, recording five solo tackles, 2½ sacks, and two forced fumbles.",
         "How many times did the Broncos cause turnovers in the game?",
         [
          [
           156,
           156,
           156
          ],
          [
           "three",
           "three",
           "three"
          ]
         ]
        ],
        [
         "56d98b33dc89441400fdb53d",
         "Super_Bowl_50",
         "The Broncos took an early lead in Super Bowl 50 and never trailed. Newton was limited by Denver's defense, which sacked him seven times and forced him into three turnovers, including a fumble which they recovered for a touchdown. Denver linebacker Von Miller was named Super Bowl MVP, recording five solo tackles, 2½ sacks, and two forced fumbles.",
         "What Denver player caused two fumbles for the Panthers?",
         [
          [
           248,
           248,
           248
          ],
          [
           "Von Miller",
           "Von Miller",
           "Von Miller"
          ]
         ]
        ],
        [
         "56d98b33dc89441400fdb53e",
         "Super_Bowl_50",
         "The Broncos took an early lead in Super Bowl 50 and never trailed. Newton was limited by Denver's defense, which sacked him seven times and forced him into three turnovers, including a fumble which they recovered for a touchdown. Denver linebacker Von Miller was named Super Bowl MVP, recording five solo tackles, 2½ sacks, and two forced fumbles.",
         "How many tackles did Von Miller accomlish by himself in the game?",
         [
          [
           295,
           295,
           295
          ],
          [
           "five",
           "five",
           "five"
          ]
         ]
        ],
        [
         "56be5333acb8001400a5030a",
         "Super_Bowl_50",
         "CBS broadcast Super Bowl 50 in the U.S., and charged an average of $5 million for a 30-second commercial during the game. The Super Bowl 50 halftime show was headlined by the British rock group Coldplay with special guest performers Beyoncé and Bruno Mars, who headlined the Super Bowl XLVII and Super Bowl XLVIII halftime shows, respectively. It was the third-most watched U.S. broadcast ever.",
         "Which network broadcasted Super Bowl 50 in the U.S.?",
         [
          [
           0,
           0,
           0
          ],
          [
           "CBS",
           "CBS",
           "CBS"
          ]
         ]
        ],
        [
         "56be5333acb8001400a5030b",
         "Super_Bowl_50",
         "CBS broadcast Super Bowl 50 in the U.S., and charged an average of $5 million for a 30-second commercial during the game. The Super Bowl 50 halftime show was headlined by the British rock group Coldplay with special guest performers Beyoncé and Bruno Mars, who headlined the Super Bowl XLVII and Super Bowl XLVIII halftime shows, respectively. It was the third-most watched U.S. broadcast ever.",
         "What was the average cost for a 30 second commercial during Super Bowl 50?",
         [
          [
           67,
           67,
           67
          ],
          [
           "$5 million",
           "$5 million",
           "$5 million"
          ]
         ]
        ],
        [
         "56be5333acb8001400a5030c",
         "Super_Bowl_50",
         "CBS broadcast Super Bowl 50 in the U.S., and charged an average of $5 million for a 30-second commercial during the game. The Super Bowl 50 halftime show was headlined by the British rock group Coldplay with special guest performers Beyoncé and Bruno Mars, who headlined the Super Bowl XLVII and Super Bowl XLVIII halftime shows, respectively. It was the third-most watched U.S. broadcast ever.",
         "Which group headlined the Super Bowl 50 halftime show?",
         [
          [
           194,
           194,
           194
          ],
          [
           "Coldplay",
           "Coldplay",
           "Coldplay"
          ]
         ]
        ],
        [
         "56be5333acb8001400a5030d",
         "Super_Bowl_50",
         "CBS broadcast Super Bowl 50 in the U.S., and charged an average of $5 million for a 30-second commercial during the game. The Super Bowl 50 halftime show was headlined by the British rock group Coldplay with special guest performers Beyoncé and Bruno Mars, who headlined the Super Bowl XLVII and Super Bowl XLVIII halftime shows, respectively. It was the third-most watched U.S. broadcast ever.",
         "Which performers joined the headliner during the Super Bowl 50 halftime show?",
         [
          [
           233,
           233,
           233
          ],
          [
           "Beyoncé and Bruno Mars",
           "Beyoncé and Bruno Mars",
           "Beyoncé and Bruno Mars"
          ]
         ]
        ],
        [
         "56be5333acb8001400a5030e",
         "Super_Bowl_50",
         "CBS broadcast Super Bowl 50 in the U.S., and charged an average of $5 million for a 30-second commercial during the game. The Super Bowl 50 halftime show was headlined by the British rock group Coldplay with special guest performers Beyoncé and Bruno Mars, who headlined the Super Bowl XLVII and Super Bowl XLVIII halftime shows, respectively. It was the third-most watched U.S. broadcast ever.",
         "At which Super Bowl did Beyonce headline the halftime show?",
         [
          [
           275,
           275,
           286
          ],
          [
           "Super Bowl XLVII",
           "Super Bowl XLVII",
           "XLVII"
          ]
         ]
        ],
        [
         "56beaf5e3aeaaa14008c91fd",
         "Super_Bowl_50",
         "CBS broadcast Super Bowl 50 in the U.S., and charged an average of $5 million for a 30-second commercial during the game. The Super Bowl 50 halftime show was headlined by the British rock group Coldplay with special guest performers Beyoncé and Bruno Mars, who headlined the Super Bowl XLVII and Super Bowl XLVIII halftime shows, respectively. It was the third-most watched U.S. broadcast ever.",
         "Who was the broadcaster for Super Bowl 50 in the United States?",
         [
          [
           0,
           0,
           0
          ],
          [
           "CBS",
           "CBS",
           "CBS"
          ]
         ]
        ],
        [
         "56beaf5e3aeaaa14008c91fe",
         "Super_Bowl_50",
         "CBS broadcast Super Bowl 50 in the U.S., and charged an average of $5 million for a 30-second commercial during the game. The Super Bowl 50 halftime show was headlined by the British rock group Coldplay with special guest performers Beyoncé and Bruno Mars, who headlined the Super Bowl XLVII and Super Bowl XLVIII halftime shows, respectively. It was the third-most watched U.S. broadcast ever.",
         "What was the average cost of a 30-second commercial?",
         [
          [
           67,
           67,
           67
          ],
          [
           "$5 million",
           "$5 million",
           "$5 million"
          ]
         ]
        ],
        [
         "56beaf5e3aeaaa14008c91ff",
         "Super_Bowl_50",
         "CBS broadcast Super Bowl 50 in the U.S., and charged an average of $5 million for a 30-second commercial during the game. The Super Bowl 50 halftime show was headlined by the British rock group Coldplay with special guest performers Beyoncé and Bruno Mars, who headlined the Super Bowl XLVII and Super Bowl XLVIII halftime shows, respectively. It was the third-most watched U.S. broadcast ever.",
         "What halftime performer previously headlined Super Bowl XLVII?",
         [
          [
           233,
           233,
           233
          ],
          [
           "Beyoncé",
           "Beyoncé",
           "Beyoncé"
          ]
         ]
        ],
        [
         "56beaf5e3aeaaa14008c9200",
         "Super_Bowl_50",
         "CBS broadcast Super Bowl 50 in the U.S., and charged an average of $5 million for a 30-second commercial during the game. The Super Bowl 50 halftime show was headlined by the British rock group Coldplay with special guest performers Beyoncé and Bruno Mars, who headlined the Super Bowl XLVII and Super Bowl XLVIII halftime shows, respectively. It was the third-most watched U.S. broadcast ever.",
         "What halftime performer previously headlined Super Bowl XLVIII?",
         [
          [
           245,
           245,
           251
          ],
          [
           "Bruno Mars",
           "Bruno Mars",
           "Mars"
          ]
         ]
        ],
        [
         "56beaf5e3aeaaa14008c9201",
         "Super_Bowl_50",
         "CBS broadcast Super Bowl 50 in the U.S., and charged an average of $5 million for a 30-second commercial during the game. The Super Bowl 50 halftime show was headlined by the British rock group Coldplay with special guest performers Beyoncé and Bruno Mars, who headlined the Super Bowl XLVII and Super Bowl XLVIII halftime shows, respectively. It was the third-most watched U.S. broadcast ever.",
         "Who was the main performer at this year's halftime show?",
         [
          [
           194,
           194,
           194
          ],
          [
           "Coldplay",
           "Coldplay",
           "Coldplay"
          ]
         ]
        ],
        [
         "56bf1ae93aeaaa14008c951b",
         "Super_Bowl_50",
         "CBS broadcast Super Bowl 50 in the U.S., and charged an average of $5 million for a 30-second commercial during the game. The Super Bowl 50 halftime show was headlined by the British rock group Coldplay with special guest performers Beyoncé and Bruno Mars, who headlined the Super Bowl XLVII and Super Bowl XLVIII halftime shows, respectively. It was the third-most watched U.S. broadcast ever.",
         "Which network broadcasted the 50th Super Bowl game? ",
         [
          [
           0,
           0,
           0
          ],
          [
           "CBS",
           "CBS",
           "CBS"
          ]
         ]
        ],
        [
         "56bf1ae93aeaaa14008c951c",
         "Super_Bowl_50",
         "CBS broadcast Super Bowl 50 in the U.S., and charged an average of $5 million for a 30-second commercial during the game. The Super Bowl 50 halftime show was headlined by the British rock group Coldplay with special guest performers Beyoncé and Bruno Mars, who headlined the Super Bowl XLVII and Super Bowl XLVIII halftime shows, respectively. It was the third-most watched U.S. broadcast ever.",
         "What was the average cost for a TV ad lasting 30 seconds during Super Bowl 50?",
         [
          [
           67,
           67,
           67
          ],
          [
           "$5 million",
           "$5 million",
           "$5 million"
          ]
         ]
        ],
        [
         "56bf1ae93aeaaa14008c951e",
         "Super_Bowl_50",
         "CBS broadcast Super Bowl 50 in the U.S., and charged an average of $5 million for a 30-second commercial during the game. The Super Bowl 50 halftime show was headlined by the British rock group Coldplay with special guest performers Beyoncé and Bruno Mars, who headlined the Super Bowl XLVII and Super Bowl XLVIII halftime shows, respectively. It was the third-most watched U.S. broadcast ever.",
         "Who was the male singer who performed as a special guest during Super Bowl 50?",
         [
          [
           245,
           245,
           245
          ],
          [
           "Bruno Mars",
           "Bruno Mars",
           "Bruno Mars,"
          ]
         ]
        ],
        [
         "56bf1ae93aeaaa14008c951f",
         "Super_Bowl_50",
         "CBS broadcast Super Bowl 50 in the U.S., and charged an average of $5 million for a 30-second commercial during the game. The Super Bowl 50 halftime show was headlined by the British rock group Coldplay with special guest performers Beyoncé and Bruno Mars, who headlined the Super Bowl XLVII and Super Bowl XLVIII halftime shows, respectively. It was the third-most watched U.S. broadcast ever.",
         "What ranking does the Super Bowl 50 halftime show have on the list of most watched TV broadcasts?",
         [
          [
           355,
           355,
           355
          ],
          [
           "third",
           "third",
           "third"
          ]
         ]
        ],
        [
         "56d2051ce7d4791d00902608",
         "Super_Bowl_50",
         "CBS broadcast Super Bowl 50 in the U.S., and charged an average of $5 million for a 30-second commercial during the game. The Super Bowl 50 halftime show was headlined by the British rock group Coldplay with special guest performers Beyoncé and Bruno Mars, who headlined the Super Bowl XLVII and Super Bowl XLVIII halftime shows, respectively. It was the third-most watched U.S. broadcast ever.",
         "What station aired the Super Bowl?",
         [
          [
           0,
           0,
           0
          ],
          [
           "CBS",
           "CBS",
           "CBS"
          ]
         ]
        ],
        [
         "56d2051ce7d4791d00902609",
         "Super_Bowl_50",
         "CBS broadcast Super Bowl 50 in the U.S., and charged an average of $5 million for a 30-second commercial during the game. The Super Bowl 50 halftime show was headlined by the British rock group Coldplay with special guest performers Beyoncé and Bruno Mars, who headlined the Super Bowl XLVII and Super Bowl XLVIII halftime shows, respectively. It was the third-most watched U.S. broadcast ever.",
         "How much money did a 1/2 minute commercial cost?",
         [
          [
           67,
           67,
           67
          ],
          [
           "$5 million",
           "$5 million",
           "$5 million"
          ]
         ]
        ],
        [
         "56d2051ce7d4791d0090260a",
         "Super_Bowl_50",
         "CBS broadcast Super Bowl 50 in the U.S., and charged an average of $5 million for a 30-second commercial during the game. The Super Bowl 50 halftime show was headlined by the British rock group Coldplay with special guest performers Beyoncé and Bruno Mars, who headlined the Super Bowl XLVII and Super Bowl XLVIII halftime shows, respectively. It was the third-most watched U.S. broadcast ever.",
         "What band headlined half-time during Super Bowl 50?",
         [
          [
           194,
           194,
           194
          ],
          [
           "Coldplay",
           "Coldplay",
           "Coldplay"
          ]
         ]
        ],
        [
         "56d2051ce7d4791d0090260b",
         "Super_Bowl_50",
         "CBS broadcast Super Bowl 50 in the U.S., and charged an average of $5 million for a 30-second commercial during the game. The Super Bowl 50 halftime show was headlined by the British rock group Coldplay with special guest performers Beyoncé and Bruno Mars, who headlined the Super Bowl XLVII and Super Bowl XLVIII halftime shows, respectively. It was the third-most watched U.S. broadcast ever.",
         "What two artists came out with Coldplay during the half-time show?",
         [
          [
           233,
           233,
           233
          ],
          [
           "Beyoncé and Bruno Mars",
           "Beyoncé and Bruno Mars",
           "Beyoncé and Bruno Mars"
          ]
         ]
        ],
        [
         "56d602631c85041400946ed8",
         "Super_Bowl_50",
         "CBS broadcast Super Bowl 50 in the U.S., and charged an average of $5 million for a 30-second commercial during the game. The Super Bowl 50 halftime show was headlined by the British rock group Coldplay with special guest performers Beyoncé and Bruno Mars, who headlined the Super Bowl XLVII and Super Bowl XLVIII halftime shows, respectively. It was the third-most watched U.S. broadcast ever.",
         "Who broadcast the Super Bowl on TV?",
         [
          [
           0,
           0,
           0
          ],
          [
           "CBS",
           "CBS",
           "CBS"
          ]
         ]
        ],
        [
         "56d602631c85041400946eda",
         "Super_Bowl_50",
         "CBS broadcast Super Bowl 50 in the U.S., and charged an average of $5 million for a 30-second commercial during the game. The Super Bowl 50 halftime show was headlined by the British rock group Coldplay with special guest performers Beyoncé and Bruno Mars, who headlined the Super Bowl XLVII and Super Bowl XLVIII halftime shows, respectively. It was the third-most watched U.S. broadcast ever.",
         "Who headlined the halftime show for Super Bowl 50?",
         [
          [
           194,
           194,
           194
          ],
          [
           "Coldplay",
           "Coldplay",
           "Coldplay"
          ]
         ]
        ]
       ],
       "datasetInfos": [],
       "dbfsResultPath": null,
       "isJsonSchema": true,
       "metadata": {},
       "overflow": false,
       "plotOptions": {
        "customPlotOptions": {},
        "displayType": "table",
        "pivotAggregation": null,
        "pivotColumns": null,
        "xColumns": null,
        "yColumns": null
       },
       "removedWidgets": [],
       "schema": [
        {
         "metadata": "{}",
         "name": "id",
         "type": "\"string\""
        },
        {
         "metadata": "{}",
         "name": "title",
         "type": "\"string\""
        },
        {
         "metadata": "{}",
         "name": "context",
         "type": "\"string\""
        },
        {
         "metadata": "{}",
         "name": "question",
         "type": "\"string\""
        },
        {
         "metadata": "{}",
         "name": "answers",
         "type": "{\"type\":\"struct\",\"fields\":[{\"name\":\"answer_start\",\"type\":{\"type\":\"array\",\"elementType\":\"integer\",\"containsNull\":true},\"nullable\":true,\"metadata\":{}},{\"name\":\"text\",\"type\":{\"type\":\"array\",\"elementType\":\"string\",\"containsNull\":true},\"nullable\":true,\"metadata\":{}}]}"
        }
       ],
       "type": "table"
      }
     },
     "output_type": "display_data"
    }
   ],
   "source": [
    "prod_data_table = f\"{DA.catalog_name}.{DA.schema_name}.m4_1_lab_prod_data\"\n",
    "## Read data from the specified Spark table and limit the results to the first 100 rows\n",
    "prod_data_df = spark.read.table(prod_data_table).limit(100)\n",
    "## Display the DataFrame to visualize the top 100 rows of the dataset\n",
    "display(prod_data_df)"
   ]
  },
  {
   "cell_type": "markdown",
   "metadata": {
    "application/vnd.databricks.v1+cell": {
     "cellMetadata": {
      "byteLimit": 2048000,
      "rowLimit": 10000
     },
     "inputWidgets": {},
     "nuid": "d3a4b67a-b2fd-44d8-b9ec-182042926f18",
     "showTitle": false,
     "tableResultSettingsMap": {},
     "title": ""
    }
   },
   "source": [
    "###4.2: Single-node Batch Inference\n",
    "Conduct inference tests on a limited dataset to validate the model's response accuracy and speed in a single-node setup.\n"
   ]
  },
  {
   "cell_type": "code",
   "execution_count": 0,
   "metadata": {
    "application/vnd.databricks.v1+cell": {
     "cellMetadata": {
      "byteLimit": 2048000,
      "rowLimit": 10000
     },
     "inputWidgets": {},
     "nuid": "2f59bb46-01fc-42e1-97e2-71a62ba34d4d",
     "showTitle": false,
     "tableResultSettingsMap": {},
     "title": ""
    }
   },
   "outputs": [
    {
     "output_type": "display_data",
     "data": {
      "text/html": [
       "<style scoped>\n",
       "  .table-result-container {\n",
       "    max-height: 300px;\n",
       "    overflow: auto;\n",
       "  }\n",
       "  table, th, td {\n",
       "    border: 1px solid black;\n",
       "    border-collapse: collapse;\n",
       "  }\n",
       "  th, td {\n",
       "    padding: 5px;\n",
       "  }\n",
       "  th {\n",
       "    text-align: left;\n",
       "  }\n",
       "</style><div class='table-result-container'><table class='table-result'><thead style='background-color: white'><tr><th>id</th><th>title</th><th>context</th><th>question</th><th>answers</th></tr></thead><tbody><tr><td>56be4db0acb8001400a502ec</td><td>Super_Bowl_50</td><td>Super Bowl 50 was an American football game to determine the champion of the National Football League (NFL) for the 2015 season. The American Football Conference (AFC) champion Denver Broncos defeated the National Football Conference (NFC) champion Carolina Panthers 24–10 to earn their third Super Bowl title. The game was played on February 7, 2016, at Levi's Stadium in the San Francisco Bay Area at Santa Clara, California. As this was the 50th Super Bowl, the league emphasized the \"golden anniversary\" with various gold-themed initiatives, as well as temporarily suspending the tradition of naming each Super Bowl game with Roman numerals (under which the game would have been known as \"Super Bowl L\"), so that the logo could prominently feature the Arabic numerals 50.</td><td>Which NFL team represented the AFC at Super Bowl 50?</td><td>List(List(177, 177, 177), List(Denver Broncos, Denver Broncos, Denver Broncos))</td></tr><tr><td>56be4db0acb8001400a502ed</td><td>Super_Bowl_50</td><td>Super Bowl 50 was an American football game to determine the champion of the National Football League (NFL) for the 2015 season. The American Football Conference (AFC) champion Denver Broncos defeated the National Football Conference (NFC) champion Carolina Panthers 24–10 to earn their third Super Bowl title. The game was played on February 7, 2016, at Levi's Stadium in the San Francisco Bay Area at Santa Clara, California. As this was the 50th Super Bowl, the league emphasized the \"golden anniversary\" with various gold-themed initiatives, as well as temporarily suspending the tradition of naming each Super Bowl game with Roman numerals (under which the game would have been known as \"Super Bowl L\"), so that the logo could prominently feature the Arabic numerals 50.</td><td>Which NFL team represented the NFC at Super Bowl 50?</td><td>List(List(249, 249, 249), List(Carolina Panthers, Carolina Panthers, Carolina Panthers))</td></tr><tr><td>56be4db0acb8001400a502ee</td><td>Super_Bowl_50</td><td>Super Bowl 50 was an American football game to determine the champion of the National Football League (NFL) for the 2015 season. The American Football Conference (AFC) champion Denver Broncos defeated the National Football Conference (NFC) champion Carolina Panthers 24–10 to earn their third Super Bowl title. The game was played on February 7, 2016, at Levi's Stadium in the San Francisco Bay Area at Santa Clara, California. As this was the 50th Super Bowl, the league emphasized the \"golden anniversary\" with various gold-themed initiatives, as well as temporarily suspending the tradition of naming each Super Bowl game with Roman numerals (under which the game would have been known as \"Super Bowl L\"), so that the logo could prominently feature the Arabic numerals 50.</td><td>Where did Super Bowl 50 take place?</td><td>List(List(403, 355, 355), List(Santa Clara, California, Levi's Stadium, Levi's Stadium in the San Francisco Bay Area at Santa Clara, California.))</td></tr><tr><td>56be4db0acb8001400a502ef</td><td>Super_Bowl_50</td><td>Super Bowl 50 was an American football game to determine the champion of the National Football League (NFL) for the 2015 season. The American Football Conference (AFC) champion Denver Broncos defeated the National Football Conference (NFC) champion Carolina Panthers 24–10 to earn their third Super Bowl title. The game was played on February 7, 2016, at Levi's Stadium in the San Francisco Bay Area at Santa Clara, California. As this was the 50th Super Bowl, the league emphasized the \"golden anniversary\" with various gold-themed initiatives, as well as temporarily suspending the tradition of naming each Super Bowl game with Roman numerals (under which the game would have been known as \"Super Bowl L\"), so that the logo could prominently feature the Arabic numerals 50.</td><td>Which NFL team won Super Bowl 50?</td><td>List(List(177, 177, 177), List(Denver Broncos, Denver Broncos, Denver Broncos))</td></tr><tr><td>56be4db0acb8001400a502f0</td><td>Super_Bowl_50</td><td>Super Bowl 50 was an American football game to determine the champion of the National Football League (NFL) for the 2015 season. The American Football Conference (AFC) champion Denver Broncos defeated the National Football Conference (NFC) champion Carolina Panthers 24–10 to earn their third Super Bowl title. The game was played on February 7, 2016, at Levi's Stadium in the San Francisco Bay Area at Santa Clara, California. As this was the 50th Super Bowl, the league emphasized the \"golden anniversary\" with various gold-themed initiatives, as well as temporarily suspending the tradition of naming each Super Bowl game with Roman numerals (under which the game would have been known as \"Super Bowl L\"), so that the logo could prominently feature the Arabic numerals 50.</td><td>What color was used to emphasize the 50th anniversary of the Super Bowl?</td><td>List(List(488, 488, 521), List(gold, gold, gold))</td></tr><tr><td>56be8e613aeaaa14008c90d1</td><td>Super_Bowl_50</td><td>Super Bowl 50 was an American football game to determine the champion of the National Football League (NFL) for the 2015 season. The American Football Conference (AFC) champion Denver Broncos defeated the National Football Conference (NFC) champion Carolina Panthers 24–10 to earn their third Super Bowl title. The game was played on February 7, 2016, at Levi's Stadium in the San Francisco Bay Area at Santa Clara, California. As this was the 50th Super Bowl, the league emphasized the \"golden anniversary\" with various gold-themed initiatives, as well as temporarily suspending the tradition of naming each Super Bowl game with Roman numerals (under which the game would have been known as \"Super Bowl L\"), so that the logo could prominently feature the Arabic numerals 50.</td><td>What was the theme of Super Bowl 50?</td><td>List(List(487, 521, 487), List(\"golden anniversary\", gold-themed, \"golden anniversary))</td></tr><tr><td>56be8e613aeaaa14008c90d2</td><td>Super_Bowl_50</td><td>Super Bowl 50 was an American football game to determine the champion of the National Football League (NFL) for the 2015 season. The American Football Conference (AFC) champion Denver Broncos defeated the National Football Conference (NFC) champion Carolina Panthers 24–10 to earn their third Super Bowl title. The game was played on February 7, 2016, at Levi's Stadium in the San Francisco Bay Area at Santa Clara, California. As this was the 50th Super Bowl, the league emphasized the \"golden anniversary\" with various gold-themed initiatives, as well as temporarily suspending the tradition of naming each Super Bowl game with Roman numerals (under which the game would have been known as \"Super Bowl L\"), so that the logo could prominently feature the Arabic numerals 50.</td><td>What day was the game played on?</td><td>List(List(334, 334, 334), List(February 7, 2016, February 7, February 7, 2016))</td></tr><tr><td>56be8e613aeaaa14008c90d3</td><td>Super_Bowl_50</td><td>Super Bowl 50 was an American football game to determine the champion of the National Football League (NFL) for the 2015 season. The American Football Conference (AFC) champion Denver Broncos defeated the National Football Conference (NFC) champion Carolina Panthers 24–10 to earn their third Super Bowl title. The game was played on February 7, 2016, at Levi's Stadium in the San Francisco Bay Area at Santa Clara, California. As this was the 50th Super Bowl, the league emphasized the \"golden anniversary\" with various gold-themed initiatives, as well as temporarily suspending the tradition of naming each Super Bowl game with Roman numerals (under which the game would have been known as \"Super Bowl L\"), so that the logo could prominently feature the Arabic numerals 50.</td><td>What is the AFC short for?</td><td>List(List(133, 133, 133), List(American Football Conference, American Football Conference, American Football Conference))</td></tr><tr><td>56bea9923aeaaa14008c91b9</td><td>Super_Bowl_50</td><td>Super Bowl 50 was an American football game to determine the champion of the National Football League (NFL) for the 2015 season. The American Football Conference (AFC) champion Denver Broncos defeated the National Football Conference (NFC) champion Carolina Panthers 24–10 to earn their third Super Bowl title. The game was played on February 7, 2016, at Levi's Stadium in the San Francisco Bay Area at Santa Clara, California. As this was the 50th Super Bowl, the league emphasized the \"golden anniversary\" with various gold-themed initiatives, as well as temporarily suspending the tradition of naming each Super Bowl game with Roman numerals (under which the game would have been known as \"Super Bowl L\"), so that the logo could prominently feature the Arabic numerals 50.</td><td>What was the theme of Super Bowl 50?</td><td>List(List(487, 521, 521), List(\"golden anniversary\", gold-themed, gold))</td></tr><tr><td>56bea9923aeaaa14008c91ba</td><td>Super_Bowl_50</td><td>Super Bowl 50 was an American football game to determine the champion of the National Football League (NFL) for the 2015 season. The American Football Conference (AFC) champion Denver Broncos defeated the National Football Conference (NFC) champion Carolina Panthers 24–10 to earn their third Super Bowl title. The game was played on February 7, 2016, at Levi's Stadium in the San Francisco Bay Area at Santa Clara, California. As this was the 50th Super Bowl, the league emphasized the \"golden anniversary\" with various gold-themed initiatives, as well as temporarily suspending the tradition of naming each Super Bowl game with Roman numerals (under which the game would have been known as \"Super Bowl L\"), so that the logo could prominently feature the Arabic numerals 50.</td><td>What does AFC stand for?</td><td>List(List(133, 133, 133), List(American Football Conference, American Football Conference, American Football Conference))</td></tr><tr><td>56bea9923aeaaa14008c91bb</td><td>Super_Bowl_50</td><td>Super Bowl 50 was an American football game to determine the champion of the National Football League (NFL) for the 2015 season. The American Football Conference (AFC) champion Denver Broncos defeated the National Football Conference (NFC) champion Carolina Panthers 24–10 to earn their third Super Bowl title. The game was played on February 7, 2016, at Levi's Stadium in the San Francisco Bay Area at Santa Clara, California. As this was the 50th Super Bowl, the league emphasized the \"golden anniversary\" with various gold-themed initiatives, as well as temporarily suspending the tradition of naming each Super Bowl game with Roman numerals (under which the game would have been known as \"Super Bowl L\"), so that the logo could prominently feature the Arabic numerals 50.</td><td>What day was the Super Bowl played on?</td><td>List(List(334, 334, 334), List(February 7, 2016, February 7, February 7, 2016))</td></tr><tr><td>56beace93aeaaa14008c91df</td><td>Super_Bowl_50</td><td>Super Bowl 50 was an American football game to determine the champion of the National Football League (NFL) for the 2015 season. The American Football Conference (AFC) champion Denver Broncos defeated the National Football Conference (NFC) champion Carolina Panthers 24–10 to earn their third Super Bowl title. The game was played on February 7, 2016, at Levi's Stadium in the San Francisco Bay Area at Santa Clara, California. As this was the 50th Super Bowl, the league emphasized the \"golden anniversary\" with various gold-themed initiatives, as well as temporarily suspending the tradition of naming each Super Bowl game with Roman numerals (under which the game would have been known as \"Super Bowl L\"), so that the logo could prominently feature the Arabic numerals 50.</td><td>Who won Super Bowl 50?</td><td>List(List(177, 177, 177), List(Denver Broncos, Denver Broncos, Denver Broncos))</td></tr><tr><td>56beace93aeaaa14008c91e0</td><td>Super_Bowl_50</td><td>Super Bowl 50 was an American football game to determine the champion of the National Football League (NFL) for the 2015 season. The American Football Conference (AFC) champion Denver Broncos defeated the National Football Conference (NFC) champion Carolina Panthers 24–10 to earn their third Super Bowl title. The game was played on February 7, 2016, at Levi's Stadium in the San Francisco Bay Area at Santa Clara, California. As this was the 50th Super Bowl, the league emphasized the \"golden anniversary\" with various gold-themed initiatives, as well as temporarily suspending the tradition of naming each Super Bowl game with Roman numerals (under which the game would have been known as \"Super Bowl L\"), so that the logo could prominently feature the Arabic numerals 50.</td><td>What venue did Super Bowl 50 take place in?</td><td>List(List(355, 355, 355), List(Levi's Stadium, Levi's Stadium, Levi's Stadium in the San Francisco Bay Area at Santa Clara))</td></tr><tr><td>56beace93aeaaa14008c91e1</td><td>Super_Bowl_50</td><td>Super Bowl 50 was an American football game to determine the champion of the National Football League (NFL) for the 2015 season. The American Football Conference (AFC) champion Denver Broncos defeated the National Football Conference (NFC) champion Carolina Panthers 24–10 to earn their third Super Bowl title. The game was played on February 7, 2016, at Levi's Stadium in the San Francisco Bay Area at Santa Clara, California. As this was the 50th Super Bowl, the league emphasized the \"golden anniversary\" with various gold-themed initiatives, as well as temporarily suspending the tradition of naming each Super Bowl game with Roman numerals (under which the game would have been known as \"Super Bowl L\"), so that the logo could prominently feature the Arabic numerals 50.</td><td>What city did Super Bowl 50 take place in?</td><td>List(List(403, 403, 403), List(Santa Clara, Santa Clara, Santa Clara))</td></tr><tr><td>56beace93aeaaa14008c91e2</td><td>Super_Bowl_50</td><td>Super Bowl 50 was an American football game to determine the champion of the National Football League (NFL) for the 2015 season. The American Football Conference (AFC) champion Denver Broncos defeated the National Football Conference (NFC) champion Carolina Panthers 24–10 to earn their third Super Bowl title. The game was played on February 7, 2016, at Levi's Stadium in the San Francisco Bay Area at Santa Clara, California. As this was the 50th Super Bowl, the league emphasized the \"golden anniversary\" with various gold-themed initiatives, as well as temporarily suspending the tradition of naming each Super Bowl game with Roman numerals (under which the game would have been known as \"Super Bowl L\"), so that the logo could prominently feature the Arabic numerals 50.</td><td>If Roman numerals were used, what would Super Bowl 50 have been called?</td><td>List(List(693, 704, 693), List(Super Bowl L, L, Super Bowl L))</td></tr><tr><td>56beace93aeaaa14008c91e3</td><td>Super_Bowl_50</td><td>Super Bowl 50 was an American football game to determine the champion of the National Football League (NFL) for the 2015 season. The American Football Conference (AFC) champion Denver Broncos defeated the National Football Conference (NFC) champion Carolina Panthers 24–10 to earn their third Super Bowl title. The game was played on February 7, 2016, at Levi's Stadium in the San Francisco Bay Area at Santa Clara, California. As this was the 50th Super Bowl, the league emphasized the \"golden anniversary\" with various gold-themed initiatives, as well as temporarily suspending the tradition of naming each Super Bowl game with Roman numerals (under which the game would have been known as \"Super Bowl L\"), so that the logo could prominently feature the Arabic numerals 50.</td><td>Super Bowl 50 decided the NFL champion for what season?</td><td>List(List(116, 112, 116), List(2015, the 2015 season, 2015))</td></tr><tr><td>56bf10f43aeaaa14008c94fd</td><td>Super_Bowl_50</td><td>Super Bowl 50 was an American football game to determine the champion of the National Football League (NFL) for the 2015 season. The American Football Conference (AFC) champion Denver Broncos defeated the National Football Conference (NFC) champion Carolina Panthers 24–10 to earn their third Super Bowl title. The game was played on February 7, 2016, at Levi's Stadium in the San Francisco Bay Area at Santa Clara, California. As this was the 50th Super Bowl, the league emphasized the \"golden anniversary\" with various gold-themed initiatives, as well as temporarily suspending the tradition of naming each Super Bowl game with Roman numerals (under which the game would have been known as \"Super Bowl L\"), so that the logo could prominently feature the Arabic numerals 50.</td><td>What year did the Denver Broncos secure a Super Bowl title for the third time?</td><td>List(List(116, 346, 116), List(2015, 2016, 2015))</td></tr><tr><td>56bf10f43aeaaa14008c94fe</td><td>Super_Bowl_50</td><td>Super Bowl 50 was an American football game to determine the champion of the National Football League (NFL) for the 2015 season. The American Football Conference (AFC) champion Denver Broncos defeated the National Football Conference (NFC) champion Carolina Panthers 24–10 to earn their third Super Bowl title. The game was played on February 7, 2016, at Levi's Stadium in the San Francisco Bay Area at Santa Clara, California. As this was the 50th Super Bowl, the league emphasized the \"golden anniversary\" with various gold-themed initiatives, as well as temporarily suspending the tradition of naming each Super Bowl game with Roman numerals (under which the game would have been known as \"Super Bowl L\"), so that the logo could prominently feature the Arabic numerals 50.</td><td>What city did Super Bowl 50 take place in?</td><td>List(List(403, 403, 403), List(Santa Clara, Santa Clara, Santa Clara))</td></tr><tr><td>56bf10f43aeaaa14008c94ff</td><td>Super_Bowl_50</td><td>Super Bowl 50 was an American football game to determine the champion of the National Football League (NFL) for the 2015 season. The American Football Conference (AFC) champion Denver Broncos defeated the National Football Conference (NFC) champion Carolina Panthers 24–10 to earn their third Super Bowl title. The game was played on February 7, 2016, at Levi's Stadium in the San Francisco Bay Area at Santa Clara, California. As this was the 50th Super Bowl, the league emphasized the \"golden anniversary\" with various gold-themed initiatives, as well as temporarily suspending the tradition of naming each Super Bowl game with Roman numerals (under which the game would have been known as \"Super Bowl L\"), so that the logo could prominently feature the Arabic numerals 50.</td><td>What stadium did Super Bowl 50 take place in?</td><td>List(List(355, 355, 355), List(Levi's Stadium, Levi's Stadium, Levi's Stadium))</td></tr><tr><td>56bf10f43aeaaa14008c9500</td><td>Super_Bowl_50</td><td>Super Bowl 50 was an American football game to determine the champion of the National Football League (NFL) for the 2015 season. The American Football Conference (AFC) champion Denver Broncos defeated the National Football Conference (NFC) champion Carolina Panthers 24–10 to earn their third Super Bowl title. The game was played on February 7, 2016, at Levi's Stadium in the San Francisco Bay Area at Santa Clara, California. As this was the 50th Super Bowl, the league emphasized the \"golden anniversary\" with various gold-themed initiatives, as well as temporarily suspending the tradition of naming each Super Bowl game with Roman numerals (under which the game would have been known as \"Super Bowl L\"), so that the logo could prominently feature the Arabic numerals 50.</td><td>What was the final score of Super Bowl 50? </td><td>List(List(267, 267, 267), List(24–10, 24–10, 24–10))</td></tr><tr><td>56bf10f43aeaaa14008c9501</td><td>Super_Bowl_50</td><td>Super Bowl 50 was an American football game to determine the champion of the National Football League (NFL) for the 2015 season. The American Football Conference (AFC) champion Denver Broncos defeated the National Football Conference (NFC) champion Carolina Panthers 24–10 to earn their third Super Bowl title. The game was played on February 7, 2016, at Levi's Stadium in the San Francisco Bay Area at Santa Clara, California. As this was the 50th Super Bowl, the league emphasized the \"golden anniversary\" with various gold-themed initiatives, as well as temporarily suspending the tradition of naming each Super Bowl game with Roman numerals (under which the game would have been known as \"Super Bowl L\"), so that the logo could prominently feature the Arabic numerals 50.</td><td>What month, day and year did Super Bowl 50 take place? </td><td>List(List(334, 334, 334), List(February 7, 2016, February 7, 2016, February 7, 2016))</td></tr><tr><td>56d20362e7d4791d009025e8</td><td>Super_Bowl_50</td><td>Super Bowl 50 was an American football game to determine the champion of the National Football League (NFL) for the 2015 season. The American Football Conference (AFC) champion Denver Broncos defeated the National Football Conference (NFC) champion Carolina Panthers 24–10 to earn their third Super Bowl title. The game was played on February 7, 2016, at Levi's Stadium in the San Francisco Bay Area at Santa Clara, California. As this was the 50th Super Bowl, the league emphasized the \"golden anniversary\" with various gold-themed initiatives, as well as temporarily suspending the tradition of naming each Super Bowl game with Roman numerals (under which the game would have been known as \"Super Bowl L\"), so that the logo could prominently feature the Arabic numerals 50.</td><td>What year was Super Bowl 50?</td><td>List(List(116, 346, 346), List(2015, 2016, 2016))</td></tr><tr><td>56d20362e7d4791d009025e9</td><td>Super_Bowl_50</td><td>Super Bowl 50 was an American football game to determine the champion of the National Football League (NFL) for the 2015 season. The American Football Conference (AFC) champion Denver Broncos defeated the National Football Conference (NFC) champion Carolina Panthers 24–10 to earn their third Super Bowl title. The game was played on February 7, 2016, at Levi's Stadium in the San Francisco Bay Area at Santa Clara, California. As this was the 50th Super Bowl, the league emphasized the \"golden anniversary\" with various gold-themed initiatives, as well as temporarily suspending the tradition of naming each Super Bowl game with Roman numerals (under which the game would have been known as \"Super Bowl L\"), so that the logo could prominently feature the Arabic numerals 50.</td><td>What team was the AFC champion?</td><td>List(List(177, 177, 177), List(Denver Broncos, Denver Broncos, Denver Broncos))</td></tr><tr><td>56d20362e7d4791d009025ea</td><td>Super_Bowl_50</td><td>Super Bowl 50 was an American football game to determine the champion of the National Football League (NFL) for the 2015 season. The American Football Conference (AFC) champion Denver Broncos defeated the National Football Conference (NFC) champion Carolina Panthers 24–10 to earn their third Super Bowl title. The game was played on February 7, 2016, at Levi's Stadium in the San Francisco Bay Area at Santa Clara, California. As this was the 50th Super Bowl, the league emphasized the \"golden anniversary\" with various gold-themed initiatives, as well as temporarily suspending the tradition of naming each Super Bowl game with Roman numerals (under which the game would have been known as \"Super Bowl L\"), so that the logo could prominently feature the Arabic numerals 50.</td><td>What team was the NFC champion?</td><td>List(List(249, 249, 249), List(Carolina Panthers, Carolina Panthers, Carolina Panthers))</td></tr><tr><td>56d20362e7d4791d009025eb</td><td>Super_Bowl_50</td><td>Super Bowl 50 was an American football game to determine the champion of the National Football League (NFL) for the 2015 season. The American Football Conference (AFC) champion Denver Broncos defeated the National Football Conference (NFC) champion Carolina Panthers 24–10 to earn their third Super Bowl title. The game was played on February 7, 2016, at Levi's Stadium in the San Francisco Bay Area at Santa Clara, California. As this was the 50th Super Bowl, the league emphasized the \"golden anniversary\" with various gold-themed initiatives, as well as temporarily suspending the tradition of naming each Super Bowl game with Roman numerals (under which the game would have been known as \"Super Bowl L\"), so that the logo could prominently feature the Arabic numerals 50.</td><td>Who won Super Bowl 50?</td><td>List(List(177, 177, 177), List(Denver Broncos, Denver Broncos, Denver Broncos))</td></tr><tr><td>56d600e31c85041400946eae</td><td>Super_Bowl_50</td><td>Super Bowl 50 was an American football game to determine the champion of the National Football League (NFL) for the 2015 season. The American Football Conference (AFC) champion Denver Broncos defeated the National Football Conference (NFC) champion Carolina Panthers 24–10 to earn their third Super Bowl title. The game was played on February 7, 2016, at Levi's Stadium in the San Francisco Bay Area at Santa Clara, California. As this was the 50th Super Bowl, the league emphasized the \"golden anniversary\" with various gold-themed initiatives, as well as temporarily suspending the tradition of naming each Super Bowl game with Roman numerals (under which the game would have been known as \"Super Bowl L\"), so that the logo could prominently feature the Arabic numerals 50.</td><td>Super Bowl 50 determined the NFL champion for what season?</td><td>List(List(116, 112, 116), List(2015, the 2015 season, 2015))</td></tr><tr><td>56d600e31c85041400946eb0</td><td>Super_Bowl_50</td><td>Super Bowl 50 was an American football game to determine the champion of the National Football League (NFL) for the 2015 season. The American Football Conference (AFC) champion Denver Broncos defeated the National Football Conference (NFC) champion Carolina Panthers 24–10 to earn their third Super Bowl title. The game was played on February 7, 2016, at Levi's Stadium in the San Francisco Bay Area at Santa Clara, California. As this was the 50th Super Bowl, the league emphasized the \"golden anniversary\" with various gold-themed initiatives, as well as temporarily suspending the tradition of naming each Super Bowl game with Roman numerals (under which the game would have been known as \"Super Bowl L\"), so that the logo could prominently feature the Arabic numerals 50.</td><td>Which team won Super Bowl 50.</td><td>List(List(177, 177, 177), List(Denver Broncos, Denver Broncos, Denver Broncos))</td></tr><tr><td>56d600e31c85041400946eb1</td><td>Super_Bowl_50</td><td>Super Bowl 50 was an American football game to determine the champion of the National Football League (NFL) for the 2015 season. The American Football Conference (AFC) champion Denver Broncos defeated the National Football Conference (NFC) champion Carolina Panthers 24–10 to earn their third Super Bowl title. The game was played on February 7, 2016, at Levi's Stadium in the San Francisco Bay Area at Santa Clara, California. As this was the 50th Super Bowl, the league emphasized the \"golden anniversary\" with various gold-themed initiatives, as well as temporarily suspending the tradition of naming each Super Bowl game with Roman numerals (under which the game would have been known as \"Super Bowl L\"), so that the logo could prominently feature the Arabic numerals 50.</td><td>Where was Super Bowl 50 held?</td><td>List(List(403, 355, 355), List(Santa Clara, California., Levi's Stadium, Levi's Stadium))</td></tr><tr><td>56d9895ddc89441400fdb50e</td><td>Super_Bowl_50</td><td>Super Bowl 50 was an American football game to determine the champion of the National Football League (NFL) for the 2015 season. The American Football Conference (AFC) champion Denver Broncos defeated the National Football Conference (NFC) champion Carolina Panthers 24–10 to earn their third Super Bowl title. The game was played on February 7, 2016, at Levi's Stadium in the San Francisco Bay Area at Santa Clara, California. As this was the 50th Super Bowl, the league emphasized the \"golden anniversary\" with various gold-themed initiatives, as well as temporarily suspending the tradition of naming each Super Bowl game with Roman numerals (under which the game would have been known as \"Super Bowl L\"), so that the logo could prominently feature the Arabic numerals 50.</td><td>The name of the NFL championship game is?</td><td>List(List(0, 0, 0), List(Super Bowl, Super Bowl, Super Bowl))</td></tr><tr><td>56d9895ddc89441400fdb510</td><td>Super_Bowl_50</td><td>Super Bowl 50 was an American football game to determine the champion of the National Football League (NFL) for the 2015 season. The American Football Conference (AFC) champion Denver Broncos defeated the National Football Conference (NFC) champion Carolina Panthers 24–10 to earn their third Super Bowl title. The game was played on February 7, 2016, at Levi's Stadium in the San Francisco Bay Area at Santa Clara, California. As this was the 50th Super Bowl, the league emphasized the \"golden anniversary\" with various gold-themed initiatives, as well as temporarily suspending the tradition of naming each Super Bowl game with Roman numerals (under which the game would have been known as \"Super Bowl L\"), so that the logo could prominently feature the Arabic numerals 50.</td><td>What 2015 NFL team one the AFC playoff?</td><td>List(List(177, 177, 177), List(Denver Broncos, Denver Broncos, Denver Broncos))</td></tr><tr><td>56be4e1facb8001400a502f6</td><td>Super_Bowl_50</td><td>The Panthers finished the regular season with a 15–1 record, and quarterback Cam Newton was named the NFL Most Valuable Player (MVP). They defeated the Arizona Cardinals 49–15 in the NFC Championship Game and advanced to their second Super Bowl appearance since the franchise was founded in 1995. The Broncos finished the regular season with a 12–4 record, and denied the New England Patriots a chance to defend their title from Super Bowl XLIX by defeating them 20–18 in the AFC Championship Game. They joined the Patriots, Dallas Cowboys, and Pittsburgh Steelers as one of four teams that have made eight appearances in the Super Bowl.</td><td>Which Carolina Panthers player was named Most Valuable Player?</td><td>List(List(77, 77, 77), List(Cam Newton, Cam Newton, Cam Newton))</td></tr><tr><td>56be4e1facb8001400a502f9</td><td>Super_Bowl_50</td><td>The Panthers finished the regular season with a 15–1 record, and quarterback Cam Newton was named the NFL Most Valuable Player (MVP). They defeated the Arizona Cardinals 49–15 in the NFC Championship Game and advanced to their second Super Bowl appearance since the franchise was founded in 1995. The Broncos finished the regular season with a 12–4 record, and denied the New England Patriots a chance to defend their title from Super Bowl XLIX by defeating them 20–18 in the AFC Championship Game. They joined the Patriots, Dallas Cowboys, and Pittsburgh Steelers as one of four teams that have made eight appearances in the Super Bowl.</td><td>How many appearances have the Denver Broncos made in the Super Bowl?</td><td>List(List(467, 601, 601), List(8, eight, eight))</td></tr><tr><td>56be4e1facb8001400a502fa</td><td>Super_Bowl_50</td><td>The Panthers finished the regular season with a 15–1 record, and quarterback Cam Newton was named the NFL Most Valuable Player (MVP). They defeated the Arizona Cardinals 49–15 in the NFC Championship Game and advanced to their second Super Bowl appearance since the franchise was founded in 1995. The Broncos finished the regular season with a 12–4 record, and denied the New England Patriots a chance to defend their title from Super Bowl XLIX by defeating them 20–18 in the AFC Championship Game. They joined the Patriots, Dallas Cowboys, and Pittsburgh Steelers as one of four teams that have made eight appearances in the Super Bowl.</td><td>What year was the Carolina Panthers franchise founded?</td><td>List(List(291, 291, 291), List(1995, 1995, 1995))</td></tr><tr><td>56beaa4a3aeaaa14008c91c2</td><td>Super_Bowl_50</td><td>The Panthers finished the regular season with a 15–1 record, and quarterback Cam Newton was named the NFL Most Valuable Player (MVP). They defeated the Arizona Cardinals 49–15 in the NFC Championship Game and advanced to their second Super Bowl appearance since the franchise was founded in 1995. The Broncos finished the regular season with a 12–4 record, and denied the New England Patriots a chance to defend their title from Super Bowl XLIX by defeating them 20–18 in the AFC Championship Game. They joined the Patriots, Dallas Cowboys, and Pittsburgh Steelers as one of four teams that have made eight appearances in the Super Bowl.</td><td>What team did the Panthers defeat?</td><td>List(List(152, 148, 152), List(Arizona Cardinals, the Arizona Cardinals, Arizona Cardinals))</td></tr><tr><td>56beaa4a3aeaaa14008c91c3</td><td>Super_Bowl_50</td><td>The Panthers finished the regular season with a 15–1 record, and quarterback Cam Newton was named the NFL Most Valuable Player (MVP). They defeated the Arizona Cardinals 49–15 in the NFC Championship Game and advanced to their second Super Bowl appearance since the franchise was founded in 1995. The Broncos finished the regular season with a 12–4 record, and denied the New England Patriots a chance to defend their title from Super Bowl XLIX by defeating them 20–18 in the AFC Championship Game. They joined the Patriots, Dallas Cowboys, and Pittsburgh Steelers as one of four teams that have made eight appearances in the Super Bowl.</td><td>Who did the Broncos prevent from going to the Super Bowl?</td><td>List(List(372, 368, 372), List(New England Patriots, the New England Patriots, New England Patriots))</td></tr><tr><td>56bead5a3aeaaa14008c91e9</td><td>Super_Bowl_50</td><td>The Panthers finished the regular season with a 15–1 record, and quarterback Cam Newton was named the NFL Most Valuable Player (MVP). They defeated the Arizona Cardinals 49–15 in the NFC Championship Game and advanced to their second Super Bowl appearance since the franchise was founded in 1995. The Broncos finished the regular season with a 12–4 record, and denied the New England Patriots a chance to defend their title from Super Bowl XLIX by defeating them 20–18 in the AFC Championship Game. They joined the Patriots, Dallas Cowboys, and Pittsburgh Steelers as one of four teams that have made eight appearances in the Super Bowl.</td><td>Who did the Panthers beat in the NFC Championship Game?</td><td>List(List(152, 148, 152), List(Arizona Cardinals, the Arizona Cardinals, Arizona Cardinals))</td></tr><tr><td>56bead5a3aeaaa14008c91ea</td><td>Super_Bowl_50</td><td>The Panthers finished the regular season with a 15–1 record, and quarterback Cam Newton was named the NFL Most Valuable Player (MVP). They defeated the Arizona Cardinals 49–15 in the NFC Championship Game and advanced to their second Super Bowl appearance since the franchise was founded in 1995. The Broncos finished the regular season with a 12–4 record, and denied the New England Patriots a chance to defend their title from Super Bowl XLIX by defeating them 20–18 in the AFC Championship Game. They joined the Patriots, Dallas Cowboys, and Pittsburgh Steelers as one of four teams that have made eight appearances in the Super Bowl.</td><td>Who lost to the Broncos in the AFC Championship?</td><td>List(List(372, 368, 372), List(New England Patriots, the New England Patriots, New England Patriots))</td></tr><tr><td>56bead5a3aeaaa14008c91eb</td><td>Super_Bowl_50</td><td>The Panthers finished the regular season with a 15–1 record, and quarterback Cam Newton was named the NFL Most Valuable Player (MVP). They defeated the Arizona Cardinals 49–15 in the NFC Championship Game and advanced to their second Super Bowl appearance since the franchise was founded in 1995. The Broncos finished the regular season with a 12–4 record, and denied the New England Patriots a chance to defend their title from Super Bowl XLIX by defeating them 20–18 in the AFC Championship Game. They joined the Patriots, Dallas Cowboys, and Pittsburgh Steelers as one of four teams that have made eight appearances in the Super Bowl.</td><td>Who were the defending Super Bowl champions?</td><td>List(List(372, 368, 372), List(New England Patriots, the New England Patriots, New England Patriots))</td></tr><tr><td>56bead5a3aeaaa14008c91ec</td><td>Super_Bowl_50</td><td>The Panthers finished the regular season with a 15–1 record, and quarterback Cam Newton was named the NFL Most Valuable Player (MVP). They defeated the Arizona Cardinals 49–15 in the NFC Championship Game and advanced to their second Super Bowl appearance since the franchise was founded in 1995. The Broncos finished the regular season with a 12–4 record, and denied the New England Patriots a chance to defend their title from Super Bowl XLIX by defeating them 20–18 in the AFC Championship Game. They joined the Patriots, Dallas Cowboys, and Pittsburgh Steelers as one of four teams that have made eight appearances in the Super Bowl.</td><td>How many teams have been in the Super Bowl eight times?</td><td>List(List(575, 575, 575), List(four, four, four))</td></tr><tr><td>56bead5a3aeaaa14008c91ed</td><td>Super_Bowl_50</td><td>The Panthers finished the regular season with a 15–1 record, and quarterback Cam Newton was named the NFL Most Valuable Player (MVP). They defeated the Arizona Cardinals 49–15 in the NFC Championship Game and advanced to their second Super Bowl appearance since the franchise was founded in 1995. The Broncos finished the regular season with a 12–4 record, and denied the New England Patriots a chance to defend their title from Super Bowl XLIX by defeating them 20–18 in the AFC Championship Game. They joined the Patriots, Dallas Cowboys, and Pittsburgh Steelers as one of four teams that have made eight appearances in the Super Bowl.</td><td>Who was this season's NFL MVP?</td><td>List(List(77, 77, 77), List(Cam Newton, Cam Newton, Cam Newton))</td></tr><tr><td>56bf159b3aeaaa14008c9507</td><td>Super_Bowl_50</td><td>The Panthers finished the regular season with a 15–1 record, and quarterback Cam Newton was named the NFL Most Valuable Player (MVP). They defeated the Arizona Cardinals 49–15 in the NFC Championship Game and advanced to their second Super Bowl appearance since the franchise was founded in 1995. The Broncos finished the regular season with a 12–4 record, and denied the New England Patriots a chance to defend their title from Super Bowl XLIX by defeating them 20–18 in the AFC Championship Game. They joined the Patriots, Dallas Cowboys, and Pittsburgh Steelers as one of four teams that have made eight appearances in the Super Bowl.</td><td>What was the win/loss ratio in 2015 for the Carolina Panthers during their regular season?</td><td>List(List(48, 48, 48), List(15–1, 15–1, 15–1))</td></tr><tr><td>56bf159b3aeaaa14008c9508</td><td>Super_Bowl_50</td><td>The Panthers finished the regular season with a 15–1 record, and quarterback Cam Newton was named the NFL Most Valuable Player (MVP). They defeated the Arizona Cardinals 49–15 in the NFC Championship Game and advanced to their second Super Bowl appearance since the franchise was founded in 1995. The Broncos finished the regular season with a 12–4 record, and denied the New England Patriots a chance to defend their title from Super Bowl XLIX by defeating them 20–18 in the AFC Championship Game. They joined the Patriots, Dallas Cowboys, and Pittsburgh Steelers as one of four teams that have made eight appearances in the Super Bowl.</td><td>Which Carolina Panthers team member was picked as the team's MVP in 2015? </td><td>List(List(77, 77, 77), List(Cam Newton, Cam Newton, Cam Newton))</td></tr><tr><td>56bf159b3aeaaa14008c9509</td><td>Super_Bowl_50</td><td>The Panthers finished the regular season with a 15–1 record, and quarterback Cam Newton was named the NFL Most Valuable Player (MVP). They defeated the Arizona Cardinals 49–15 in the NFC Championship Game and advanced to their second Super Bowl appearance since the franchise was founded in 1995. The Broncos finished the regular season with a 12–4 record, and denied the New England Patriots a chance to defend their title from Super Bowl XLIX by defeating them 20–18 in the AFC Championship Game. They joined the Patriots, Dallas Cowboys, and Pittsburgh Steelers as one of four teams that have made eight appearances in the Super Bowl.</td><td>What were the win/loss game stats for the Denver Bronco's regular season in 2015?</td><td>List(List(344, 344, 344), List(12–4, 12–4, 12–4))</td></tr><tr><td>56bf159b3aeaaa14008c950a</td><td>Super_Bowl_50</td><td>The Panthers finished the regular season with a 15–1 record, and quarterback Cam Newton was named the NFL Most Valuable Player (MVP). They defeated the Arizona Cardinals 49–15 in the NFC Championship Game and advanced to their second Super Bowl appearance since the franchise was founded in 1995. The Broncos finished the regular season with a 12–4 record, and denied the New England Patriots a chance to defend their title from Super Bowl XLIX by defeating them 20–18 in the AFC Championship Game. They joined the Patriots, Dallas Cowboys, and Pittsburgh Steelers as one of four teams that have made eight appearances in the Super Bowl.</td><td>How many teams have played in the Super Bowl eight times?</td><td>List(List(170, 575, 575), List(4, four, four))</td></tr><tr><td>56bf159b3aeaaa14008c950b</td><td>Super_Bowl_50</td><td>The Panthers finished the regular season with a 15–1 record, and quarterback Cam Newton was named the NFL Most Valuable Player (MVP). They defeated the Arizona Cardinals 49–15 in the NFC Championship Game and advanced to their second Super Bowl appearance since the franchise was founded in 1995. The Broncos finished the regular season with a 12–4 record, and denied the New England Patriots a chance to defend their title from Super Bowl XLIX by defeating them 20–18 in the AFC Championship Game. They joined the Patriots, Dallas Cowboys, and Pittsburgh Steelers as one of four teams that have made eight appearances in the Super Bowl.</td><td>Which team did not get a chance to defend their Super Bowl XLIX win in Super Bowl 50?</td><td>List(List(372, 368, 372), List(New England Patriots, the New England Patriots, New England Patriots))</td></tr><tr><td>56d2045de7d4791d009025f3</td><td>Super_Bowl_50</td><td>The Panthers finished the regular season with a 15–1 record, and quarterback Cam Newton was named the NFL Most Valuable Player (MVP). They defeated the Arizona Cardinals 49–15 in the NFC Championship Game and advanced to their second Super Bowl appearance since the franchise was founded in 1995. The Broncos finished the regular season with a 12–4 record, and denied the New England Patriots a chance to defend their title from Super Bowl XLIX by defeating them 20–18 in the AFC Championship Game. They joined the Patriots, Dallas Cowboys, and Pittsburgh Steelers as one of four teams that have made eight appearances in the Super Bowl.</td><td>Who is the quarterback for the Panthers?</td><td>List(List(77, 77, 77), List(Cam Newton, Cam Newton, Cam Newton))</td></tr><tr><td>56d2045de7d4791d009025f4</td><td>Super_Bowl_50</td><td>The Panthers finished the regular season with a 15–1 record, and quarterback Cam Newton was named the NFL Most Valuable Player (MVP). They defeated the Arizona Cardinals 49–15 in the NFC Championship Game and advanced to their second Super Bowl appearance since the franchise was founded in 1995. The Broncos finished the regular season with a 12–4 record, and denied the New England Patriots a chance to defend their title from Super Bowl XLIX by defeating them 20–18 in the AFC Championship Game. They joined the Patriots, Dallas Cowboys, and Pittsburgh Steelers as one of four teams that have made eight appearances in the Super Bowl.</td><td>Who did Carolina beat in the NFC championship game?</td><td>List(List(152, 148, 152), List(Arizona Cardinals, the Arizona Cardinals, Arizona Cardinals))</td></tr><tr><td>56d2045de7d4791d009025f5</td><td>Super_Bowl_50</td><td>The Panthers finished the regular season with a 15–1 record, and quarterback Cam Newton was named the NFL Most Valuable Player (MVP). They defeated the Arizona Cardinals 49–15 in the NFC Championship Game and advanced to their second Super Bowl appearance since the franchise was founded in 1995. The Broncos finished the regular season with a 12–4 record, and denied the New England Patriots a chance to defend their title from Super Bowl XLIX by defeating them 20–18 in the AFC Championship Game. They joined the Patriots, Dallas Cowboys, and Pittsburgh Steelers as one of four teams that have made eight appearances in the Super Bowl.</td><td>How many times have the Panthers been in the Super Bowl?</td><td>List(List(345, 227, 227), List(2, second, second))</td></tr><tr><td>56d2045de7d4791d009025f6</td><td>Super_Bowl_50</td><td>The Panthers finished the regular season with a 15–1 record, and quarterback Cam Newton was named the NFL Most Valuable Player (MVP). They defeated the Arizona Cardinals 49–15 in the NFC Championship Game and advanced to their second Super Bowl appearance since the franchise was founded in 1995. The Broncos finished the regular season with a 12–4 record, and denied the New England Patriots a chance to defend their title from Super Bowl XLIX by defeating them 20–18 in the AFC Championship Game. They joined the Patriots, Dallas Cowboys, and Pittsburgh Steelers as one of four teams that have made eight appearances in the Super Bowl.</td><td>Who did Denver beat in the AFC championship?</td><td>List(List(372, 368, 372), List(New England Patriots, the New England Patriots, New England Patriots))</td></tr><tr><td>56d6017d1c85041400946ebe</td><td>Super_Bowl_50</td><td>The Panthers finished the regular season with a 15–1 record, and quarterback Cam Newton was named the NFL Most Valuable Player (MVP). They defeated the Arizona Cardinals 49–15 in the NFC Championship Game and advanced to their second Super Bowl appearance since the franchise was founded in 1995. The Broncos finished the regular season with a 12–4 record, and denied the New England Patriots a chance to defend their title from Super Bowl XLIX by defeating them 20–18 in the AFC Championship Game. They joined the Patriots, Dallas Cowboys, and Pittsburgh Steelers as one of four teams that have made eight appearances in the Super Bowl.</td><td>Who was the Most Valuable Player for the 2015 NFL season?</td><td>List(List(77, 77, 77), List(Cam Newton, Cam Newton, Cam Newton))</td></tr><tr><td>56d6017d1c85041400946ec1</td><td>Super_Bowl_50</td><td>The Panthers finished the regular season with a 15–1 record, and quarterback Cam Newton was named the NFL Most Valuable Player (MVP). They defeated the Arizona Cardinals 49–15 in the NFC Championship Game and advanced to their second Super Bowl appearance since the franchise was founded in 1995. The Broncos finished the regular season with a 12–4 record, and denied the New England Patriots a chance to defend their title from Super Bowl XLIX by defeating them 20–18 in the AFC Championship Game. They joined the Patriots, Dallas Cowboys, and Pittsburgh Steelers as one of four teams that have made eight appearances in the Super Bowl.</td><td>Who did Denver beat in the 2015 AFC Championship game?</td><td>List(List(372, 368, 372), List(New England Patriots, the New England Patriots, New England Patriots))</td></tr><tr><td>56d6017d1c85041400946ec2</td><td>Super_Bowl_50</td><td>The Panthers finished the regular season with a 15–1 record, and quarterback Cam Newton was named the NFL Most Valuable Player (MVP). They defeated the Arizona Cardinals 49–15 in the NFC Championship Game and advanced to their second Super Bowl appearance since the franchise was founded in 1995. The Broncos finished the regular season with a 12–4 record, and denied the New England Patriots a chance to defend their title from Super Bowl XLIX by defeating them 20–18 in the AFC Championship Game. They joined the Patriots, Dallas Cowboys, and Pittsburgh Steelers as one of four teams that have made eight appearances in the Super Bowl.</td><td>Who did the Carolina Panthers beat in the 2015 NFC Championship game?</td><td>List(List(152, 148, 152), List(Arizona Cardinals, the Arizona Cardinals, Arizona Cardinals))</td></tr><tr><td>56d98a59dc89441400fdb52a</td><td>Super_Bowl_50</td><td>The Panthers finished the regular season with a 15–1 record, and quarterback Cam Newton was named the NFL Most Valuable Player (MVP). They defeated the Arizona Cardinals 49–15 in the NFC Championship Game and advanced to their second Super Bowl appearance since the franchise was founded in 1995. The Broncos finished the regular season with a 12–4 record, and denied the New England Patriots a chance to defend their title from Super Bowl XLIX by defeating them 20–18 in the AFC Championship Game. They joined the Patriots, Dallas Cowboys, and Pittsburgh Steelers as one of four teams that have made eight appearances in the Super Bowl.</td><td>Who was the 2015 NFL MVP?</td><td>List(List(77, 77, 77), List(Cam Newton, Cam Newton, Cam Newton))</td></tr><tr><td>56d98a59dc89441400fdb52b</td><td>Super_Bowl_50</td><td>The Panthers finished the regular season with a 15–1 record, and quarterback Cam Newton was named the NFL Most Valuable Player (MVP). They defeated the Arizona Cardinals 49–15 in the NFC Championship Game and advanced to their second Super Bowl appearance since the franchise was founded in 1995. The Broncos finished the regular season with a 12–4 record, and denied the New England Patriots a chance to defend their title from Super Bowl XLIX by defeating them 20–18 in the AFC Championship Game. They joined the Patriots, Dallas Cowboys, and Pittsburgh Steelers as one of four teams that have made eight appearances in the Super Bowl.</td><td>Who did the Panthers beat to become the NFC champs?</td><td>List(List(152, 148, 152), List(Arizona Cardinals, the Arizona Cardinals, Arizona Cardinals))</td></tr><tr><td>56d98a59dc89441400fdb52e</td><td>Super_Bowl_50</td><td>The Panthers finished the regular season with a 15–1 record, and quarterback Cam Newton was named the NFL Most Valuable Player (MVP). They defeated the Arizona Cardinals 49–15 in the NFC Championship Game and advanced to their second Super Bowl appearance since the franchise was founded in 1995. The Broncos finished the regular season with a 12–4 record, and denied the New England Patriots a chance to defend their title from Super Bowl XLIX by defeating them 20–18 in the AFC Championship Game. They joined the Patriots, Dallas Cowboys, and Pittsburgh Steelers as one of four teams that have made eight appearances in the Super Bowl.</td><td>What year did the Carolina Panthers form?</td><td>List(List(291, 291, 291), List(1995., 1995, 1995))</td></tr><tr><td>56be4eafacb8001400a50302</td><td>Super_Bowl_50</td><td>The Broncos took an early lead in Super Bowl 50 and never trailed. Newton was limited by Denver's defense, which sacked him seven times and forced him into three turnovers, including a fumble which they recovered for a touchdown. Denver linebacker Von Miller was named Super Bowl MVP, recording five solo tackles, 2½ sacks, and two forced fumbles.</td><td>Who was the Super Bowl 50 MVP?</td><td>List(List(248, 248, 252), List(Von Miller, Von Miller, Miller))</td></tr><tr><td>56be4eafacb8001400a50303</td><td>Super_Bowl_50</td><td>The Broncos took an early lead in Super Bowl 50 and never trailed. Newton was limited by Denver's defense, which sacked him seven times and forced him into three turnovers, including a fumble which they recovered for a touchdown. Denver linebacker Von Miller was named Super Bowl MVP, recording five solo tackles, 2½ sacks, and two forced fumbles.</td><td>How many fumbles did Von Miller force in Super Bowl 50?</td><td>List(List(314, 328, 328), List(2, two, two))</td></tr><tr><td>56be4eafacb8001400a50304</td><td>Super_Bowl_50</td><td>The Broncos took an early lead in Super Bowl 50 and never trailed. Newton was limited by Denver's defense, which sacked him seven times and forced him into three turnovers, including a fumble which they recovered for a touchdown. Denver linebacker Von Miller was named Super Bowl MVP, recording five solo tackles, 2½ sacks, and two forced fumbles.</td><td>Which team held the scoring lead throughout the entire game?</td><td>List(List(4, 0, 4), List(Broncos, The Broncos, Broncos))</td></tr><tr><td>56beab833aeaaa14008c91d2</td><td>Super_Bowl_50</td><td>The Broncos took an early lead in Super Bowl 50 and never trailed. Newton was limited by Denver's defense, which sacked him seven times and forced him into three turnovers, including a fumble which they recovered for a touchdown. Denver linebacker Von Miller was named Super Bowl MVP, recording five solo tackles, 2½ sacks, and two forced fumbles.</td><td>Which Denver linebacker was named Super Bowl MVP?</td><td>List(List(237, 248, 252), List(linebacker Von Miller, Von Miller, Miller))</td></tr><tr><td>56beab833aeaaa14008c91d3</td><td>Super_Bowl_50</td><td>The Broncos took an early lead in Super Bowl 50 and never trailed. Newton was limited by Denver's defense, which sacked him seven times and forced him into three turnovers, including a fumble which they recovered for a touchdown. Denver linebacker Von Miller was named Super Bowl MVP, recording five solo tackles, 2½ sacks, and two forced fumbles.</td><td>How many solo tackles did Von Miller make at Super Bowl 50?</td><td>List(List(295, 295, 295), List(five solo tackles, five, five))</td></tr><tr><td>56beab833aeaaa14008c91d4</td><td>Super_Bowl_50</td><td>The Broncos took an early lead in Super Bowl 50 and never trailed. Newton was limited by Denver's defense, which sacked him seven times and forced him into three turnovers, including a fumble which they recovered for a touchdown. Denver linebacker Von Miller was named Super Bowl MVP, recording five solo tackles, 2½ sacks, and two forced fumbles.</td><td>Who was limited by Denver's defense?</td><td>List(List(67, 67, 67), List(Newton was limited by Denver's defense, Newton, Newton))</td></tr><tr><td>56beae423aeaaa14008c91f4</td><td>Super_Bowl_50</td><td>The Broncos took an early lead in Super Bowl 50 and never trailed. Newton was limited by Denver's defense, which sacked him seven times and forced him into three turnovers, including a fumble which they recovered for a touchdown. Denver linebacker Von Miller was named Super Bowl MVP, recording five solo tackles, 2½ sacks, and two forced fumbles.</td><td>How many times was Cam Newton sacked?</td><td>List(List(124, 124, 124), List(seven, seven, seven))</td></tr><tr><td>56beae423aeaaa14008c91f5</td><td>Super_Bowl_50</td><td>The Broncos took an early lead in Super Bowl 50 and never trailed. Newton was limited by Denver's defense, which sacked him seven times and forced him into three turnovers, including a fumble which they recovered for a touchdown. Denver linebacker Von Miller was named Super Bowl MVP, recording five solo tackles, 2½ sacks, and two forced fumbles.</td><td>Who won the Super Bowl MVP?</td><td>List(List(248, 0, 252), List(Von Miller, The Broncos, Miller))</td></tr><tr><td>56beae423aeaaa14008c91f6</td><td>Super_Bowl_50</td><td>The Broncos took an early lead in Super Bowl 50 and never trailed. Newton was limited by Denver's defense, which sacked him seven times and forced him into three turnovers, including a fumble which they recovered for a touchdown. Denver linebacker Von Miller was named Super Bowl MVP, recording five solo tackles, 2½ sacks, and two forced fumbles.</td><td>How many turnovers did Cam Newton have?</td><td>List(List(156, 156, 156), List(three, three, three))</td></tr><tr><td>56beae423aeaaa14008c91f7</td><td>Super_Bowl_50</td><td>The Broncos took an early lead in Super Bowl 50 and never trailed. Newton was limited by Denver's defense, which sacked him seven times and forced him into three turnovers, including a fumble which they recovered for a touchdown. Denver linebacker Von Miller was named Super Bowl MVP, recording five solo tackles, 2½ sacks, and two forced fumbles.</td><td>How many fumbles did Von Miller force?</td><td>List(List(328, 328, 328), List(two, two, two))</td></tr><tr><td>56bf17653aeaaa14008c9511</td><td>Super_Bowl_50</td><td>The Broncos took an early lead in Super Bowl 50 and never trailed. Newton was limited by Denver's defense, which sacked him seven times and forced him into three turnovers, including a fumble which they recovered for a touchdown. Denver linebacker Von Miller was named Super Bowl MVP, recording five solo tackles, 2½ sacks, and two forced fumbles.</td><td>Who was given the esteemed status of MVP for Super Bowl 50?</td><td>List(List(248, 248, 252), List(Von Miller, Von Miller, Miller))</td></tr><tr><td>56bf17653aeaaa14008c9513</td><td>Super_Bowl_50</td><td>The Broncos took an early lead in Super Bowl 50 and never trailed. Newton was limited by Denver's defense, which sacked him seven times and forced him into three turnovers, including a fumble which they recovered for a touchdown. Denver linebacker Von Miller was named Super Bowl MVP, recording five solo tackles, 2½ sacks, and two forced fumbles.</td><td>What position does Von Miller play for the Denver Broncos?</td><td>List(List(237, 237, 237), List(linebacker, linebacker, linebacker))</td></tr><tr><td>56bf17653aeaaa14008c9514</td><td>Super_Bowl_50</td><td>The Broncos took an early lead in Super Bowl 50 and never trailed. Newton was limited by Denver's defense, which sacked him seven times and forced him into three turnovers, including a fumble which they recovered for a touchdown. Denver linebacker Von Miller was named Super Bowl MVP, recording five solo tackles, 2½ sacks, and two forced fumbles.</td><td>What was the number of solo tackles that Von Miller had in Super Bowl 50?</td><td>List(List(45, 295, 295), List(5, five, five))</td></tr><tr><td>56bf17653aeaaa14008c9515</td><td>Super_Bowl_50</td><td>The Broncos took an early lead in Super Bowl 50 and never trailed. Newton was limited by Denver's defense, which sacked him seven times and forced him into three turnovers, including a fumble which they recovered for a touchdown. Denver linebacker Von Miller was named Super Bowl MVP, recording five solo tackles, 2½ sacks, and two forced fumbles.</td><td>How many forced fumbles did Von Miller have during the Super Bowl 50 game?</td><td>List(List(314, 328, 328), List(2, two, two))</td></tr><tr><td>56d204ade7d4791d00902603</td><td>Super_Bowl_50</td><td>The Broncos took an early lead in Super Bowl 50 and never trailed. Newton was limited by Denver's defense, which sacked him seven times and forced him into three turnovers, including a fumble which they recovered for a touchdown. Denver linebacker Von Miller was named Super Bowl MVP, recording five solo tackles, 2½ sacks, and two forced fumbles.</td><td>Who won the MVP for the Super Bowl?</td><td>List(List(248, 248, 248), List(Von Miller, Von Miller, Von Miller))</td></tr><tr><td>56d204ade7d4791d00902604</td><td>Super_Bowl_50</td><td>The Broncos took an early lead in Super Bowl 50 and never trailed. Newton was limited by Denver's defense, which sacked him seven times and forced him into three turnovers, including a fumble which they recovered for a touchdown. Denver linebacker Von Miller was named Super Bowl MVP, recording five solo tackles, 2½ sacks, and two forced fumbles.</td><td>How many tackles did Von Miller get during the game?</td><td>List(List(45, 295, 295), List(5, five, five))</td></tr><tr><td>56d601e41c85041400946ece</td><td>Super_Bowl_50</td><td>The Broncos took an early lead in Super Bowl 50 and never trailed. Newton was limited by Denver's defense, which sacked him seven times and forced him into three turnovers, including a fumble which they recovered for a touchdown. Denver linebacker Von Miller was named Super Bowl MVP, recording five solo tackles, 2½ sacks, and two forced fumbles.</td><td>How many times was Cam Newton sacked in Super Bowl 50?</td><td>List(List(124, 124, 124), List(seven, seven, seven))</td></tr><tr><td>56d601e41c85041400946ecf</td><td>Super_Bowl_50</td><td>The Broncos took an early lead in Super Bowl 50 and never trailed. Newton was limited by Denver's defense, which sacked him seven times and forced him into three turnovers, including a fumble which they recovered for a touchdown. Denver linebacker Von Miller was named Super Bowl MVP, recording five solo tackles, 2½ sacks, and two forced fumbles.</td><td>How many times did the Denver defense force Newton into turnovers?</td><td>List(List(156, 156, 156), List(three, three, three))</td></tr><tr><td>56d601e41c85041400946ed0</td><td>Super_Bowl_50</td><td>The Broncos took an early lead in Super Bowl 50 and never trailed. Newton was limited by Denver's defense, which sacked him seven times and forced him into three turnovers, including a fumble which they recovered for a touchdown. Denver linebacker Von Miller was named Super Bowl MVP, recording five solo tackles, 2½ sacks, and two forced fumbles.</td><td>Which Newton turnover resulted in seven points for Denver?</td><td>List(List(183, 183, 185), List(a fumble, a fumble, fumble))</td></tr><tr><td>56d601e41c85041400946ed1</td><td>Super_Bowl_50</td><td>The Broncos took an early lead in Super Bowl 50 and never trailed. Newton was limited by Denver's defense, which sacked him seven times and forced him into three turnovers, including a fumble which they recovered for a touchdown. Denver linebacker Von Miller was named Super Bowl MVP, recording five solo tackles, 2½ sacks, and two forced fumbles.</td><td>Who was the Most Valuable Player of Super Bowl 50?</td><td>List(List(248, 248, 248), List(Von Miller, Von Miller, Von Miller))</td></tr><tr><td>56d601e41c85041400946ed2</td><td>Super_Bowl_50</td><td>The Broncos took an early lead in Super Bowl 50 and never trailed. Newton was limited by Denver's defense, which sacked him seven times and forced him into three turnovers, including a fumble which they recovered for a touchdown. Denver linebacker Von Miller was named Super Bowl MVP, recording five solo tackles, 2½ sacks, and two forced fumbles.</td><td>What position does Von Miller play?</td><td>List(List(237, 237, 237), List(linebacker, linebacker, linebacker))</td></tr><tr><td>56d98b33dc89441400fdb53b</td><td>Super_Bowl_50</td><td>The Broncos took an early lead in Super Bowl 50 and never trailed. Newton was limited by Denver's defense, which sacked him seven times and forced him into three turnovers, including a fumble which they recovered for a touchdown. Denver linebacker Von Miller was named Super Bowl MVP, recording five solo tackles, 2½ sacks, and two forced fumbles.</td><td>How many times was the Panthers' quarterback sacked?</td><td>List(List(124, 124, 124), List(seven, seven, seven))</td></tr><tr><td>56d98b33dc89441400fdb53c</td><td>Super_Bowl_50</td><td>The Broncos took an early lead in Super Bowl 50 and never trailed. Newton was limited by Denver's defense, which sacked him seven times and forced him into three turnovers, including a fumble which they recovered for a touchdown. Denver linebacker Von Miller was named Super Bowl MVP, recording five solo tackles, 2½ sacks, and two forced fumbles.</td><td>How many times did the Broncos cause turnovers in the game?</td><td>List(List(156, 156, 156), List(three, three, three))</td></tr><tr><td>56d98b33dc89441400fdb53d</td><td>Super_Bowl_50</td><td>The Broncos took an early lead in Super Bowl 50 and never trailed. Newton was limited by Denver's defense, which sacked him seven times and forced him into three turnovers, including a fumble which they recovered for a touchdown. Denver linebacker Von Miller was named Super Bowl MVP, recording five solo tackles, 2½ sacks, and two forced fumbles.</td><td>What Denver player caused two fumbles for the Panthers?</td><td>List(List(248, 248, 248), List(Von Miller, Von Miller, Von Miller))</td></tr><tr><td>56d98b33dc89441400fdb53e</td><td>Super_Bowl_50</td><td>The Broncos took an early lead in Super Bowl 50 and never trailed. Newton was limited by Denver's defense, which sacked him seven times and forced him into three turnovers, including a fumble which they recovered for a touchdown. Denver linebacker Von Miller was named Super Bowl MVP, recording five solo tackles, 2½ sacks, and two forced fumbles.</td><td>How many tackles did Von Miller accomlish by himself in the game?</td><td>List(List(295, 295, 295), List(five, five, five))</td></tr><tr><td>56be5333acb8001400a5030a</td><td>Super_Bowl_50</td><td>CBS broadcast Super Bowl 50 in the U.S., and charged an average of $5 million for a 30-second commercial during the game. The Super Bowl 50 halftime show was headlined by the British rock group Coldplay with special guest performers Beyoncé and Bruno Mars, who headlined the Super Bowl XLVII and Super Bowl XLVIII halftime shows, respectively. It was the third-most watched U.S. broadcast ever.</td><td>Which network broadcasted Super Bowl 50 in the U.S.?</td><td>List(List(0, 0, 0), List(CBS, CBS, CBS))</td></tr><tr><td>56be5333acb8001400a5030b</td><td>Super_Bowl_50</td><td>CBS broadcast Super Bowl 50 in the U.S., and charged an average of $5 million for a 30-second commercial during the game. The Super Bowl 50 halftime show was headlined by the British rock group Coldplay with special guest performers Beyoncé and Bruno Mars, who headlined the Super Bowl XLVII and Super Bowl XLVIII halftime shows, respectively. It was the third-most watched U.S. broadcast ever.</td><td>What was the average cost for a 30 second commercial during Super Bowl 50?</td><td>List(List(67, 67, 67), List($5 million, $5 million, $5 million))</td></tr><tr><td>56be5333acb8001400a5030c</td><td>Super_Bowl_50</td><td>CBS broadcast Super Bowl 50 in the U.S., and charged an average of $5 million for a 30-second commercial during the game. The Super Bowl 50 halftime show was headlined by the British rock group Coldplay with special guest performers Beyoncé and Bruno Mars, who headlined the Super Bowl XLVII and Super Bowl XLVIII halftime shows, respectively. It was the third-most watched U.S. broadcast ever.</td><td>Which group headlined the Super Bowl 50 halftime show?</td><td>List(List(194, 194, 194), List(Coldplay, Coldplay, Coldplay))</td></tr><tr><td>56be5333acb8001400a5030d</td><td>Super_Bowl_50</td><td>CBS broadcast Super Bowl 50 in the U.S., and charged an average of $5 million for a 30-second commercial during the game. The Super Bowl 50 halftime show was headlined by the British rock group Coldplay with special guest performers Beyoncé and Bruno Mars, who headlined the Super Bowl XLVII and Super Bowl XLVIII halftime shows, respectively. It was the third-most watched U.S. broadcast ever.</td><td>Which performers joined the headliner during the Super Bowl 50 halftime show?</td><td>List(List(233, 233, 233), List(Beyoncé and Bruno Mars, Beyoncé and Bruno Mars, Beyoncé and Bruno Mars))</td></tr><tr><td>56be5333acb8001400a5030e</td><td>Super_Bowl_50</td><td>CBS broadcast Super Bowl 50 in the U.S., and charged an average of $5 million for a 30-second commercial during the game. The Super Bowl 50 halftime show was headlined by the British rock group Coldplay with special guest performers Beyoncé and Bruno Mars, who headlined the Super Bowl XLVII and Super Bowl XLVIII halftime shows, respectively. It was the third-most watched U.S. broadcast ever.</td><td>At which Super Bowl did Beyonce headline the halftime show?</td><td>List(List(275, 275, 286), List(Super Bowl XLVII, Super Bowl XLVII, XLVII))</td></tr><tr><td>56beaf5e3aeaaa14008c91fd</td><td>Super_Bowl_50</td><td>CBS broadcast Super Bowl 50 in the U.S., and charged an average of $5 million for a 30-second commercial during the game. The Super Bowl 50 halftime show was headlined by the British rock group Coldplay with special guest performers Beyoncé and Bruno Mars, who headlined the Super Bowl XLVII and Super Bowl XLVIII halftime shows, respectively. It was the third-most watched U.S. broadcast ever.</td><td>Who was the broadcaster for Super Bowl 50 in the United States?</td><td>List(List(0, 0, 0), List(CBS, CBS, CBS))</td></tr><tr><td>56beaf5e3aeaaa14008c91fe</td><td>Super_Bowl_50</td><td>CBS broadcast Super Bowl 50 in the U.S., and charged an average of $5 million for a 30-second commercial during the game. The Super Bowl 50 halftime show was headlined by the British rock group Coldplay with special guest performers Beyoncé and Bruno Mars, who headlined the Super Bowl XLVII and Super Bowl XLVIII halftime shows, respectively. It was the third-most watched U.S. broadcast ever.</td><td>What was the average cost of a 30-second commercial?</td><td>List(List(67, 67, 67), List($5 million, $5 million, $5 million))</td></tr><tr><td>56beaf5e3aeaaa14008c91ff</td><td>Super_Bowl_50</td><td>CBS broadcast Super Bowl 50 in the U.S., and charged an average of $5 million for a 30-second commercial during the game. The Super Bowl 50 halftime show was headlined by the British rock group Coldplay with special guest performers Beyoncé and Bruno Mars, who headlined the Super Bowl XLVII and Super Bowl XLVIII halftime shows, respectively. It was the third-most watched U.S. broadcast ever.</td><td>What halftime performer previously headlined Super Bowl XLVII?</td><td>List(List(233, 233, 233), List(Beyoncé, Beyoncé, Beyoncé))</td></tr><tr><td>56beaf5e3aeaaa14008c9200</td><td>Super_Bowl_50</td><td>CBS broadcast Super Bowl 50 in the U.S., and charged an average of $5 million for a 30-second commercial during the game. The Super Bowl 50 halftime show was headlined by the British rock group Coldplay with special guest performers Beyoncé and Bruno Mars, who headlined the Super Bowl XLVII and Super Bowl XLVIII halftime shows, respectively. It was the third-most watched U.S. broadcast ever.</td><td>What halftime performer previously headlined Super Bowl XLVIII?</td><td>List(List(245, 245, 251), List(Bruno Mars, Bruno Mars, Mars))</td></tr><tr><td>56beaf5e3aeaaa14008c9201</td><td>Super_Bowl_50</td><td>CBS broadcast Super Bowl 50 in the U.S., and charged an average of $5 million for a 30-second commercial during the game. The Super Bowl 50 halftime show was headlined by the British rock group Coldplay with special guest performers Beyoncé and Bruno Mars, who headlined the Super Bowl XLVII and Super Bowl XLVIII halftime shows, respectively. It was the third-most watched U.S. broadcast ever.</td><td>Who was the main performer at this year's halftime show?</td><td>List(List(194, 194, 194), List(Coldplay, Coldplay, Coldplay))</td></tr><tr><td>56bf1ae93aeaaa14008c951b</td><td>Super_Bowl_50</td><td>CBS broadcast Super Bowl 50 in the U.S., and charged an average of $5 million for a 30-second commercial during the game. The Super Bowl 50 halftime show was headlined by the British rock group Coldplay with special guest performers Beyoncé and Bruno Mars, who headlined the Super Bowl XLVII and Super Bowl XLVIII halftime shows, respectively. It was the third-most watched U.S. broadcast ever.</td><td>Which network broadcasted the 50th Super Bowl game? </td><td>List(List(0, 0, 0), List(CBS, CBS, CBS))</td></tr><tr><td>56bf1ae93aeaaa14008c951c</td><td>Super_Bowl_50</td><td>CBS broadcast Super Bowl 50 in the U.S., and charged an average of $5 million for a 30-second commercial during the game. The Super Bowl 50 halftime show was headlined by the British rock group Coldplay with special guest performers Beyoncé and Bruno Mars, who headlined the Super Bowl XLVII and Super Bowl XLVIII halftime shows, respectively. It was the third-most watched U.S. broadcast ever.</td><td>What was the average cost for a TV ad lasting 30 seconds during Super Bowl 50?</td><td>List(List(67, 67, 67), List($5 million, $5 million, $5 million))</td></tr><tr><td>56bf1ae93aeaaa14008c951e</td><td>Super_Bowl_50</td><td>CBS broadcast Super Bowl 50 in the U.S., and charged an average of $5 million for a 30-second commercial during the game. The Super Bowl 50 halftime show was headlined by the British rock group Coldplay with special guest performers Beyoncé and Bruno Mars, who headlined the Super Bowl XLVII and Super Bowl XLVIII halftime shows, respectively. It was the third-most watched U.S. broadcast ever.</td><td>Who was the male singer who performed as a special guest during Super Bowl 50?</td><td>List(List(245, 245, 245), List(Bruno Mars, Bruno Mars, Bruno Mars,))</td></tr><tr><td>56bf1ae93aeaaa14008c951f</td><td>Super_Bowl_50</td><td>CBS broadcast Super Bowl 50 in the U.S., and charged an average of $5 million for a 30-second commercial during the game. The Super Bowl 50 halftime show was headlined by the British rock group Coldplay with special guest performers Beyoncé and Bruno Mars, who headlined the Super Bowl XLVII and Super Bowl XLVIII halftime shows, respectively. It was the third-most watched U.S. broadcast ever.</td><td>What ranking does the Super Bowl 50 halftime show have on the list of most watched TV broadcasts?</td><td>List(List(355, 355, 355), List(third, third, third))</td></tr><tr><td>56d2051ce7d4791d00902608</td><td>Super_Bowl_50</td><td>CBS broadcast Super Bowl 50 in the U.S., and charged an average of $5 million for a 30-second commercial during the game. The Super Bowl 50 halftime show was headlined by the British rock group Coldplay with special guest performers Beyoncé and Bruno Mars, who headlined the Super Bowl XLVII and Super Bowl XLVIII halftime shows, respectively. It was the third-most watched U.S. broadcast ever.</td><td>What station aired the Super Bowl?</td><td>List(List(0, 0, 0), List(CBS, CBS, CBS))</td></tr><tr><td>56d2051ce7d4791d00902609</td><td>Super_Bowl_50</td><td>CBS broadcast Super Bowl 50 in the U.S., and charged an average of $5 million for a 30-second commercial during the game. The Super Bowl 50 halftime show was headlined by the British rock group Coldplay with special guest performers Beyoncé and Bruno Mars, who headlined the Super Bowl XLVII and Super Bowl XLVIII halftime shows, respectively. It was the third-most watched U.S. broadcast ever.</td><td>How much money did a 1/2 minute commercial cost?</td><td>List(List(67, 67, 67), List($5 million, $5 million, $5 million))</td></tr><tr><td>56d2051ce7d4791d0090260a</td><td>Super_Bowl_50</td><td>CBS broadcast Super Bowl 50 in the U.S., and charged an average of $5 million for a 30-second commercial during the game. The Super Bowl 50 halftime show was headlined by the British rock group Coldplay with special guest performers Beyoncé and Bruno Mars, who headlined the Super Bowl XLVII and Super Bowl XLVIII halftime shows, respectively. It was the third-most watched U.S. broadcast ever.</td><td>What band headlined half-time during Super Bowl 50?</td><td>List(List(194, 194, 194), List(Coldplay, Coldplay, Coldplay))</td></tr><tr><td>56d2051ce7d4791d0090260b</td><td>Super_Bowl_50</td><td>CBS broadcast Super Bowl 50 in the U.S., and charged an average of $5 million for a 30-second commercial during the game. The Super Bowl 50 halftime show was headlined by the British rock group Coldplay with special guest performers Beyoncé and Bruno Mars, who headlined the Super Bowl XLVII and Super Bowl XLVIII halftime shows, respectively. It was the third-most watched U.S. broadcast ever.</td><td>What two artists came out with Coldplay during the half-time show?</td><td>List(List(233, 233, 233), List(Beyoncé and Bruno Mars, Beyoncé and Bruno Mars, Beyoncé and Bruno Mars))</td></tr><tr><td>56d602631c85041400946ed8</td><td>Super_Bowl_50</td><td>CBS broadcast Super Bowl 50 in the U.S., and charged an average of $5 million for a 30-second commercial during the game. The Super Bowl 50 halftime show was headlined by the British rock group Coldplay with special guest performers Beyoncé and Bruno Mars, who headlined the Super Bowl XLVII and Super Bowl XLVIII halftime shows, respectively. It was the third-most watched U.S. broadcast ever.</td><td>Who broadcast the Super Bowl on TV?</td><td>List(List(0, 0, 0), List(CBS, CBS, CBS))</td></tr><tr><td>56d602631c85041400946eda</td><td>Super_Bowl_50</td><td>CBS broadcast Super Bowl 50 in the U.S., and charged an average of $5 million for a 30-second commercial during the game. The Super Bowl 50 halftime show was headlined by the British rock group Coldplay with special guest performers Beyoncé and Bruno Mars, who headlined the Super Bowl XLVII and Super Bowl XLVIII halftime shows, respectively. It was the third-most watched U.S. broadcast ever.</td><td>Who headlined the halftime show for Super Bowl 50?</td><td>List(List(194, 194, 194), List(Coldplay, Coldplay, Coldplay))</td></tr></tbody></table></div>"
      ]
     },
     "metadata": {
      "application/vnd.databricks.v1+output": {
       "addedWidgets": {},
       "aggData": [],
       "aggError": "",
       "aggOverflow": false,
       "aggSchema": [],
       "aggSeriesLimitReached": false,
       "aggType": "",
       "arguments": {},
       "columnCustomDisplayInfos": {},
       "data": [
        [
         "56be4db0acb8001400a502ec",
         "Super_Bowl_50",
         "Super Bowl 50 was an American football game to determine the champion of the National Football League (NFL) for the 2015 season. The American Football Conference (AFC) champion Denver Broncos defeated the National Football Conference (NFC) champion Carolina Panthers 24–10 to earn their third Super Bowl title. The game was played on February 7, 2016, at Levi's Stadium in the San Francisco Bay Area at Santa Clara, California. As this was the 50th Super Bowl, the league emphasized the \"golden anniversary\" with various gold-themed initiatives, as well as temporarily suspending the tradition of naming each Super Bowl game with Roman numerals (under which the game would have been known as \"Super Bowl L\"), so that the logo could prominently feature the Arabic numerals 50.",
         "Which NFL team represented the AFC at Super Bowl 50?",
         [
          [
           177,
           177,
           177
          ],
          [
           "Denver Broncos",
           "Denver Broncos",
           "Denver Broncos"
          ]
         ]
        ],
        [
         "56be4db0acb8001400a502ed",
         "Super_Bowl_50",
         "Super Bowl 50 was an American football game to determine the champion of the National Football League (NFL) for the 2015 season. The American Football Conference (AFC) champion Denver Broncos defeated the National Football Conference (NFC) champion Carolina Panthers 24–10 to earn their third Super Bowl title. The game was played on February 7, 2016, at Levi's Stadium in the San Francisco Bay Area at Santa Clara, California. As this was the 50th Super Bowl, the league emphasized the \"golden anniversary\" with various gold-themed initiatives, as well as temporarily suspending the tradition of naming each Super Bowl game with Roman numerals (under which the game would have been known as \"Super Bowl L\"), so that the logo could prominently feature the Arabic numerals 50.",
         "Which NFL team represented the NFC at Super Bowl 50?",
         [
          [
           249,
           249,
           249
          ],
          [
           "Carolina Panthers",
           "Carolina Panthers",
           "Carolina Panthers"
          ]
         ]
        ],
        [
         "56be4db0acb8001400a502ee",
         "Super_Bowl_50",
         "Super Bowl 50 was an American football game to determine the champion of the National Football League (NFL) for the 2015 season. The American Football Conference (AFC) champion Denver Broncos defeated the National Football Conference (NFC) champion Carolina Panthers 24–10 to earn their third Super Bowl title. The game was played on February 7, 2016, at Levi's Stadium in the San Francisco Bay Area at Santa Clara, California. As this was the 50th Super Bowl, the league emphasized the \"golden anniversary\" with various gold-themed initiatives, as well as temporarily suspending the tradition of naming each Super Bowl game with Roman numerals (under which the game would have been known as \"Super Bowl L\"), so that the logo could prominently feature the Arabic numerals 50.",
         "Where did Super Bowl 50 take place?",
         [
          [
           403,
           355,
           355
          ],
          [
           "Santa Clara, California",
           "Levi's Stadium",
           "Levi's Stadium in the San Francisco Bay Area at Santa Clara, California."
          ]
         ]
        ],
        [
         "56be4db0acb8001400a502ef",
         "Super_Bowl_50",
         "Super Bowl 50 was an American football game to determine the champion of the National Football League (NFL) for the 2015 season. The American Football Conference (AFC) champion Denver Broncos defeated the National Football Conference (NFC) champion Carolina Panthers 24–10 to earn their third Super Bowl title. The game was played on February 7, 2016, at Levi's Stadium in the San Francisco Bay Area at Santa Clara, California. As this was the 50th Super Bowl, the league emphasized the \"golden anniversary\" with various gold-themed initiatives, as well as temporarily suspending the tradition of naming each Super Bowl game with Roman numerals (under which the game would have been known as \"Super Bowl L\"), so that the logo could prominently feature the Arabic numerals 50.",
         "Which NFL team won Super Bowl 50?",
         [
          [
           177,
           177,
           177
          ],
          [
           "Denver Broncos",
           "Denver Broncos",
           "Denver Broncos"
          ]
         ]
        ],
        [
         "56be4db0acb8001400a502f0",
         "Super_Bowl_50",
         "Super Bowl 50 was an American football game to determine the champion of the National Football League (NFL) for the 2015 season. The American Football Conference (AFC) champion Denver Broncos defeated the National Football Conference (NFC) champion Carolina Panthers 24–10 to earn their third Super Bowl title. The game was played on February 7, 2016, at Levi's Stadium in the San Francisco Bay Area at Santa Clara, California. As this was the 50th Super Bowl, the league emphasized the \"golden anniversary\" with various gold-themed initiatives, as well as temporarily suspending the tradition of naming each Super Bowl game with Roman numerals (under which the game would have been known as \"Super Bowl L\"), so that the logo could prominently feature the Arabic numerals 50.",
         "What color was used to emphasize the 50th anniversary of the Super Bowl?",
         [
          [
           488,
           488,
           521
          ],
          [
           "gold",
           "gold",
           "gold"
          ]
         ]
        ],
        [
         "56be8e613aeaaa14008c90d1",
         "Super_Bowl_50",
         "Super Bowl 50 was an American football game to determine the champion of the National Football League (NFL) for the 2015 season. The American Football Conference (AFC) champion Denver Broncos defeated the National Football Conference (NFC) champion Carolina Panthers 24–10 to earn their third Super Bowl title. The game was played on February 7, 2016, at Levi's Stadium in the San Francisco Bay Area at Santa Clara, California. As this was the 50th Super Bowl, the league emphasized the \"golden anniversary\" with various gold-themed initiatives, as well as temporarily suspending the tradition of naming each Super Bowl game with Roman numerals (under which the game would have been known as \"Super Bowl L\"), so that the logo could prominently feature the Arabic numerals 50.",
         "What was the theme of Super Bowl 50?",
         [
          [
           487,
           521,
           487
          ],
          [
           "\"golden anniversary\"",
           "gold-themed",
           "\"golden anniversary"
          ]
         ]
        ],
        [
         "56be8e613aeaaa14008c90d2",
         "Super_Bowl_50",
         "Super Bowl 50 was an American football game to determine the champion of the National Football League (NFL) for the 2015 season. The American Football Conference (AFC) champion Denver Broncos defeated the National Football Conference (NFC) champion Carolina Panthers 24–10 to earn their third Super Bowl title. The game was played on February 7, 2016, at Levi's Stadium in the San Francisco Bay Area at Santa Clara, California. As this was the 50th Super Bowl, the league emphasized the \"golden anniversary\" with various gold-themed initiatives, as well as temporarily suspending the tradition of naming each Super Bowl game with Roman numerals (under which the game would have been known as \"Super Bowl L\"), so that the logo could prominently feature the Arabic numerals 50.",
         "What day was the game played on?",
         [
          [
           334,
           334,
           334
          ],
          [
           "February 7, 2016",
           "February 7",
           "February 7, 2016"
          ]
         ]
        ],
        [
         "56be8e613aeaaa14008c90d3",
         "Super_Bowl_50",
         "Super Bowl 50 was an American football game to determine the champion of the National Football League (NFL) for the 2015 season. The American Football Conference (AFC) champion Denver Broncos defeated the National Football Conference (NFC) champion Carolina Panthers 24–10 to earn their third Super Bowl title. The game was played on February 7, 2016, at Levi's Stadium in the San Francisco Bay Area at Santa Clara, California. As this was the 50th Super Bowl, the league emphasized the \"golden anniversary\" with various gold-themed initiatives, as well as temporarily suspending the tradition of naming each Super Bowl game with Roman numerals (under which the game would have been known as \"Super Bowl L\"), so that the logo could prominently feature the Arabic numerals 50.",
         "What is the AFC short for?",
         [
          [
           133,
           133,
           133
          ],
          [
           "American Football Conference",
           "American Football Conference",
           "American Football Conference"
          ]
         ]
        ],
        [
         "56bea9923aeaaa14008c91b9",
         "Super_Bowl_50",
         "Super Bowl 50 was an American football game to determine the champion of the National Football League (NFL) for the 2015 season. The American Football Conference (AFC) champion Denver Broncos defeated the National Football Conference (NFC) champion Carolina Panthers 24–10 to earn their third Super Bowl title. The game was played on February 7, 2016, at Levi's Stadium in the San Francisco Bay Area at Santa Clara, California. As this was the 50th Super Bowl, the league emphasized the \"golden anniversary\" with various gold-themed initiatives, as well as temporarily suspending the tradition of naming each Super Bowl game with Roman numerals (under which the game would have been known as \"Super Bowl L\"), so that the logo could prominently feature the Arabic numerals 50.",
         "What was the theme of Super Bowl 50?",
         [
          [
           487,
           521,
           521
          ],
          [
           "\"golden anniversary\"",
           "gold-themed",
           "gold"
          ]
         ]
        ],
        [
         "56bea9923aeaaa14008c91ba",
         "Super_Bowl_50",
         "Super Bowl 50 was an American football game to determine the champion of the National Football League (NFL) for the 2015 season. The American Football Conference (AFC) champion Denver Broncos defeated the National Football Conference (NFC) champion Carolina Panthers 24–10 to earn their third Super Bowl title. The game was played on February 7, 2016, at Levi's Stadium in the San Francisco Bay Area at Santa Clara, California. As this was the 50th Super Bowl, the league emphasized the \"golden anniversary\" with various gold-themed initiatives, as well as temporarily suspending the tradition of naming each Super Bowl game with Roman numerals (under which the game would have been known as \"Super Bowl L\"), so that the logo could prominently feature the Arabic numerals 50.",
         "What does AFC stand for?",
         [
          [
           133,
           133,
           133
          ],
          [
           "American Football Conference",
           "American Football Conference",
           "American Football Conference"
          ]
         ]
        ],
        [
         "56bea9923aeaaa14008c91bb",
         "Super_Bowl_50",
         "Super Bowl 50 was an American football game to determine the champion of the National Football League (NFL) for the 2015 season. The American Football Conference (AFC) champion Denver Broncos defeated the National Football Conference (NFC) champion Carolina Panthers 24–10 to earn their third Super Bowl title. The game was played on February 7, 2016, at Levi's Stadium in the San Francisco Bay Area at Santa Clara, California. As this was the 50th Super Bowl, the league emphasized the \"golden anniversary\" with various gold-themed initiatives, as well as temporarily suspending the tradition of naming each Super Bowl game with Roman numerals (under which the game would have been known as \"Super Bowl L\"), so that the logo could prominently feature the Arabic numerals 50.",
         "What day was the Super Bowl played on?",
         [
          [
           334,
           334,
           334
          ],
          [
           "February 7, 2016",
           "February 7",
           "February 7, 2016"
          ]
         ]
        ],
        [
         "56beace93aeaaa14008c91df",
         "Super_Bowl_50",
         "Super Bowl 50 was an American football game to determine the champion of the National Football League (NFL) for the 2015 season. The American Football Conference (AFC) champion Denver Broncos defeated the National Football Conference (NFC) champion Carolina Panthers 24–10 to earn their third Super Bowl title. The game was played on February 7, 2016, at Levi's Stadium in the San Francisco Bay Area at Santa Clara, California. As this was the 50th Super Bowl, the league emphasized the \"golden anniversary\" with various gold-themed initiatives, as well as temporarily suspending the tradition of naming each Super Bowl game with Roman numerals (under which the game would have been known as \"Super Bowl L\"), so that the logo could prominently feature the Arabic numerals 50.",
         "Who won Super Bowl 50?",
         [
          [
           177,
           177,
           177
          ],
          [
           "Denver Broncos",
           "Denver Broncos",
           "Denver Broncos"
          ]
         ]
        ],
        [
         "56beace93aeaaa14008c91e0",
         "Super_Bowl_50",
         "Super Bowl 50 was an American football game to determine the champion of the National Football League (NFL) for the 2015 season. The American Football Conference (AFC) champion Denver Broncos defeated the National Football Conference (NFC) champion Carolina Panthers 24–10 to earn their third Super Bowl title. The game was played on February 7, 2016, at Levi's Stadium in the San Francisco Bay Area at Santa Clara, California. As this was the 50th Super Bowl, the league emphasized the \"golden anniversary\" with various gold-themed initiatives, as well as temporarily suspending the tradition of naming each Super Bowl game with Roman numerals (under which the game would have been known as \"Super Bowl L\"), so that the logo could prominently feature the Arabic numerals 50.",
         "What venue did Super Bowl 50 take place in?",
         [
          [
           355,
           355,
           355
          ],
          [
           "Levi's Stadium",
           "Levi's Stadium",
           "Levi's Stadium in the San Francisco Bay Area at Santa Clara"
          ]
         ]
        ],
        [
         "56beace93aeaaa14008c91e1",
         "Super_Bowl_50",
         "Super Bowl 50 was an American football game to determine the champion of the National Football League (NFL) for the 2015 season. The American Football Conference (AFC) champion Denver Broncos defeated the National Football Conference (NFC) champion Carolina Panthers 24–10 to earn their third Super Bowl title. The game was played on February 7, 2016, at Levi's Stadium in the San Francisco Bay Area at Santa Clara, California. As this was the 50th Super Bowl, the league emphasized the \"golden anniversary\" with various gold-themed initiatives, as well as temporarily suspending the tradition of naming each Super Bowl game with Roman numerals (under which the game would have been known as \"Super Bowl L\"), so that the logo could prominently feature the Arabic numerals 50.",
         "What city did Super Bowl 50 take place in?",
         [
          [
           403,
           403,
           403
          ],
          [
           "Santa Clara",
           "Santa Clara",
           "Santa Clara"
          ]
         ]
        ],
        [
         "56beace93aeaaa14008c91e2",
         "Super_Bowl_50",
         "Super Bowl 50 was an American football game to determine the champion of the National Football League (NFL) for the 2015 season. The American Football Conference (AFC) champion Denver Broncos defeated the National Football Conference (NFC) champion Carolina Panthers 24–10 to earn their third Super Bowl title. The game was played on February 7, 2016, at Levi's Stadium in the San Francisco Bay Area at Santa Clara, California. As this was the 50th Super Bowl, the league emphasized the \"golden anniversary\" with various gold-themed initiatives, as well as temporarily suspending the tradition of naming each Super Bowl game with Roman numerals (under which the game would have been known as \"Super Bowl L\"), so that the logo could prominently feature the Arabic numerals 50.",
         "If Roman numerals were used, what would Super Bowl 50 have been called?",
         [
          [
           693,
           704,
           693
          ],
          [
           "Super Bowl L",
           "L",
           "Super Bowl L"
          ]
         ]
        ],
        [
         "56beace93aeaaa14008c91e3",
         "Super_Bowl_50",
         "Super Bowl 50 was an American football game to determine the champion of the National Football League (NFL) for the 2015 season. The American Football Conference (AFC) champion Denver Broncos defeated the National Football Conference (NFC) champion Carolina Panthers 24–10 to earn their third Super Bowl title. The game was played on February 7, 2016, at Levi's Stadium in the San Francisco Bay Area at Santa Clara, California. As this was the 50th Super Bowl, the league emphasized the \"golden anniversary\" with various gold-themed initiatives, as well as temporarily suspending the tradition of naming each Super Bowl game with Roman numerals (under which the game would have been known as \"Super Bowl L\"), so that the logo could prominently feature the Arabic numerals 50.",
         "Super Bowl 50 decided the NFL champion for what season?",
         [
          [
           116,
           112,
           116
          ],
          [
           "2015",
           "the 2015 season",
           "2015"
          ]
         ]
        ],
        [
         "56bf10f43aeaaa14008c94fd",
         "Super_Bowl_50",
         "Super Bowl 50 was an American football game to determine the champion of the National Football League (NFL) for the 2015 season. The American Football Conference (AFC) champion Denver Broncos defeated the National Football Conference (NFC) champion Carolina Panthers 24–10 to earn their third Super Bowl title. The game was played on February 7, 2016, at Levi's Stadium in the San Francisco Bay Area at Santa Clara, California. As this was the 50th Super Bowl, the league emphasized the \"golden anniversary\" with various gold-themed initiatives, as well as temporarily suspending the tradition of naming each Super Bowl game with Roman numerals (under which the game would have been known as \"Super Bowl L\"), so that the logo could prominently feature the Arabic numerals 50.",
         "What year did the Denver Broncos secure a Super Bowl title for the third time?",
         [
          [
           116,
           346,
           116
          ],
          [
           "2015",
           "2016",
           "2015"
          ]
         ]
        ],
        [
         "56bf10f43aeaaa14008c94fe",
         "Super_Bowl_50",
         "Super Bowl 50 was an American football game to determine the champion of the National Football League (NFL) for the 2015 season. The American Football Conference (AFC) champion Denver Broncos defeated the National Football Conference (NFC) champion Carolina Panthers 24–10 to earn their third Super Bowl title. The game was played on February 7, 2016, at Levi's Stadium in the San Francisco Bay Area at Santa Clara, California. As this was the 50th Super Bowl, the league emphasized the \"golden anniversary\" with various gold-themed initiatives, as well as temporarily suspending the tradition of naming each Super Bowl game with Roman numerals (under which the game would have been known as \"Super Bowl L\"), so that the logo could prominently feature the Arabic numerals 50.",
         "What city did Super Bowl 50 take place in?",
         [
          [
           403,
           403,
           403
          ],
          [
           "Santa Clara",
           "Santa Clara",
           "Santa Clara"
          ]
         ]
        ],
        [
         "56bf10f43aeaaa14008c94ff",
         "Super_Bowl_50",
         "Super Bowl 50 was an American football game to determine the champion of the National Football League (NFL) for the 2015 season. The American Football Conference (AFC) champion Denver Broncos defeated the National Football Conference (NFC) champion Carolina Panthers 24–10 to earn their third Super Bowl title. The game was played on February 7, 2016, at Levi's Stadium in the San Francisco Bay Area at Santa Clara, California. As this was the 50th Super Bowl, the league emphasized the \"golden anniversary\" with various gold-themed initiatives, as well as temporarily suspending the tradition of naming each Super Bowl game with Roman numerals (under which the game would have been known as \"Super Bowl L\"), so that the logo could prominently feature the Arabic numerals 50.",
         "What stadium did Super Bowl 50 take place in?",
         [
          [
           355,
           355,
           355
          ],
          [
           "Levi's Stadium",
           "Levi's Stadium",
           "Levi's Stadium"
          ]
         ]
        ],
        [
         "56bf10f43aeaaa14008c9500",
         "Super_Bowl_50",
         "Super Bowl 50 was an American football game to determine the champion of the National Football League (NFL) for the 2015 season. The American Football Conference (AFC) champion Denver Broncos defeated the National Football Conference (NFC) champion Carolina Panthers 24–10 to earn their third Super Bowl title. The game was played on February 7, 2016, at Levi's Stadium in the San Francisco Bay Area at Santa Clara, California. As this was the 50th Super Bowl, the league emphasized the \"golden anniversary\" with various gold-themed initiatives, as well as temporarily suspending the tradition of naming each Super Bowl game with Roman numerals (under which the game would have been known as \"Super Bowl L\"), so that the logo could prominently feature the Arabic numerals 50.",
         "What was the final score of Super Bowl 50? ",
         [
          [
           267,
           267,
           267
          ],
          [
           "24–10",
           "24–10",
           "24–10"
          ]
         ]
        ],
        [
         "56bf10f43aeaaa14008c9501",
         "Super_Bowl_50",
         "Super Bowl 50 was an American football game to determine the champion of the National Football League (NFL) for the 2015 season. The American Football Conference (AFC) champion Denver Broncos defeated the National Football Conference (NFC) champion Carolina Panthers 24–10 to earn their third Super Bowl title. The game was played on February 7, 2016, at Levi's Stadium in the San Francisco Bay Area at Santa Clara, California. As this was the 50th Super Bowl, the league emphasized the \"golden anniversary\" with various gold-themed initiatives, as well as temporarily suspending the tradition of naming each Super Bowl game with Roman numerals (under which the game would have been known as \"Super Bowl L\"), so that the logo could prominently feature the Arabic numerals 50.",
         "What month, day and year did Super Bowl 50 take place? ",
         [
          [
           334,
           334,
           334
          ],
          [
           "February 7, 2016",
           "February 7, 2016",
           "February 7, 2016"
          ]
         ]
        ],
        [
         "56d20362e7d4791d009025e8",
         "Super_Bowl_50",
         "Super Bowl 50 was an American football game to determine the champion of the National Football League (NFL) for the 2015 season. The American Football Conference (AFC) champion Denver Broncos defeated the National Football Conference (NFC) champion Carolina Panthers 24–10 to earn their third Super Bowl title. The game was played on February 7, 2016, at Levi's Stadium in the San Francisco Bay Area at Santa Clara, California. As this was the 50th Super Bowl, the league emphasized the \"golden anniversary\" with various gold-themed initiatives, as well as temporarily suspending the tradition of naming each Super Bowl game with Roman numerals (under which the game would have been known as \"Super Bowl L\"), so that the logo could prominently feature the Arabic numerals 50.",
         "What year was Super Bowl 50?",
         [
          [
           116,
           346,
           346
          ],
          [
           "2015",
           "2016",
           "2016"
          ]
         ]
        ],
        [
         "56d20362e7d4791d009025e9",
         "Super_Bowl_50",
         "Super Bowl 50 was an American football game to determine the champion of the National Football League (NFL) for the 2015 season. The American Football Conference (AFC) champion Denver Broncos defeated the National Football Conference (NFC) champion Carolina Panthers 24–10 to earn their third Super Bowl title. The game was played on February 7, 2016, at Levi's Stadium in the San Francisco Bay Area at Santa Clara, California. As this was the 50th Super Bowl, the league emphasized the \"golden anniversary\" with various gold-themed initiatives, as well as temporarily suspending the tradition of naming each Super Bowl game with Roman numerals (under which the game would have been known as \"Super Bowl L\"), so that the logo could prominently feature the Arabic numerals 50.",
         "What team was the AFC champion?",
         [
          [
           177,
           177,
           177
          ],
          [
           "Denver Broncos",
           "Denver Broncos",
           "Denver Broncos"
          ]
         ]
        ],
        [
         "56d20362e7d4791d009025ea",
         "Super_Bowl_50",
         "Super Bowl 50 was an American football game to determine the champion of the National Football League (NFL) for the 2015 season. The American Football Conference (AFC) champion Denver Broncos defeated the National Football Conference (NFC) champion Carolina Panthers 24–10 to earn their third Super Bowl title. The game was played on February 7, 2016, at Levi's Stadium in the San Francisco Bay Area at Santa Clara, California. As this was the 50th Super Bowl, the league emphasized the \"golden anniversary\" with various gold-themed initiatives, as well as temporarily suspending the tradition of naming each Super Bowl game with Roman numerals (under which the game would have been known as \"Super Bowl L\"), so that the logo could prominently feature the Arabic numerals 50.",
         "What team was the NFC champion?",
         [
          [
           249,
           249,
           249
          ],
          [
           "Carolina Panthers",
           "Carolina Panthers",
           "Carolina Panthers"
          ]
         ]
        ],
        [
         "56d20362e7d4791d009025eb",
         "Super_Bowl_50",
         "Super Bowl 50 was an American football game to determine the champion of the National Football League (NFL) for the 2015 season. The American Football Conference (AFC) champion Denver Broncos defeated the National Football Conference (NFC) champion Carolina Panthers 24–10 to earn their third Super Bowl title. The game was played on February 7, 2016, at Levi's Stadium in the San Francisco Bay Area at Santa Clara, California. As this was the 50th Super Bowl, the league emphasized the \"golden anniversary\" with various gold-themed initiatives, as well as temporarily suspending the tradition of naming each Super Bowl game with Roman numerals (under which the game would have been known as \"Super Bowl L\"), so that the logo could prominently feature the Arabic numerals 50.",
         "Who won Super Bowl 50?",
         [
          [
           177,
           177,
           177
          ],
          [
           "Denver Broncos",
           "Denver Broncos",
           "Denver Broncos"
          ]
         ]
        ],
        [
         "56d600e31c85041400946eae",
         "Super_Bowl_50",
         "Super Bowl 50 was an American football game to determine the champion of the National Football League (NFL) for the 2015 season. The American Football Conference (AFC) champion Denver Broncos defeated the National Football Conference (NFC) champion Carolina Panthers 24–10 to earn their third Super Bowl title. The game was played on February 7, 2016, at Levi's Stadium in the San Francisco Bay Area at Santa Clara, California. As this was the 50th Super Bowl, the league emphasized the \"golden anniversary\" with various gold-themed initiatives, as well as temporarily suspending the tradition of naming each Super Bowl game with Roman numerals (under which the game would have been known as \"Super Bowl L\"), so that the logo could prominently feature the Arabic numerals 50.",
         "Super Bowl 50 determined the NFL champion for what season?",
         [
          [
           116,
           112,
           116
          ],
          [
           "2015",
           "the 2015 season",
           "2015"
          ]
         ]
        ],
        [
         "56d600e31c85041400946eb0",
         "Super_Bowl_50",
         "Super Bowl 50 was an American football game to determine the champion of the National Football League (NFL) for the 2015 season. The American Football Conference (AFC) champion Denver Broncos defeated the National Football Conference (NFC) champion Carolina Panthers 24–10 to earn their third Super Bowl title. The game was played on February 7, 2016, at Levi's Stadium in the San Francisco Bay Area at Santa Clara, California. As this was the 50th Super Bowl, the league emphasized the \"golden anniversary\" with various gold-themed initiatives, as well as temporarily suspending the tradition of naming each Super Bowl game with Roman numerals (under which the game would have been known as \"Super Bowl L\"), so that the logo could prominently feature the Arabic numerals 50.",
         "Which team won Super Bowl 50.",
         [
          [
           177,
           177,
           177
          ],
          [
           "Denver Broncos",
           "Denver Broncos",
           "Denver Broncos"
          ]
         ]
        ],
        [
         "56d600e31c85041400946eb1",
         "Super_Bowl_50",
         "Super Bowl 50 was an American football game to determine the champion of the National Football League (NFL) for the 2015 season. The American Football Conference (AFC) champion Denver Broncos defeated the National Football Conference (NFC) champion Carolina Panthers 24–10 to earn their third Super Bowl title. The game was played on February 7, 2016, at Levi's Stadium in the San Francisco Bay Area at Santa Clara, California. As this was the 50th Super Bowl, the league emphasized the \"golden anniversary\" with various gold-themed initiatives, as well as temporarily suspending the tradition of naming each Super Bowl game with Roman numerals (under which the game would have been known as \"Super Bowl L\"), so that the logo could prominently feature the Arabic numerals 50.",
         "Where was Super Bowl 50 held?",
         [
          [
           403,
           355,
           355
          ],
          [
           "Santa Clara, California.",
           "Levi's Stadium",
           "Levi's Stadium"
          ]
         ]
        ],
        [
         "56d9895ddc89441400fdb50e",
         "Super_Bowl_50",
         "Super Bowl 50 was an American football game to determine the champion of the National Football League (NFL) for the 2015 season. The American Football Conference (AFC) champion Denver Broncos defeated the National Football Conference (NFC) champion Carolina Panthers 24–10 to earn their third Super Bowl title. The game was played on February 7, 2016, at Levi's Stadium in the San Francisco Bay Area at Santa Clara, California. As this was the 50th Super Bowl, the league emphasized the \"golden anniversary\" with various gold-themed initiatives, as well as temporarily suspending the tradition of naming each Super Bowl game with Roman numerals (under which the game would have been known as \"Super Bowl L\"), so that the logo could prominently feature the Arabic numerals 50.",
         "The name of the NFL championship game is?",
         [
          [
           0,
           0,
           0
          ],
          [
           "Super Bowl",
           "Super Bowl",
           "Super Bowl"
          ]
         ]
        ],
        [
         "56d9895ddc89441400fdb510",
         "Super_Bowl_50",
         "Super Bowl 50 was an American football game to determine the champion of the National Football League (NFL) for the 2015 season. The American Football Conference (AFC) champion Denver Broncos defeated the National Football Conference (NFC) champion Carolina Panthers 24–10 to earn their third Super Bowl title. The game was played on February 7, 2016, at Levi's Stadium in the San Francisco Bay Area at Santa Clara, California. As this was the 50th Super Bowl, the league emphasized the \"golden anniversary\" with various gold-themed initiatives, as well as temporarily suspending the tradition of naming each Super Bowl game with Roman numerals (under which the game would have been known as \"Super Bowl L\"), so that the logo could prominently feature the Arabic numerals 50.",
         "What 2015 NFL team one the AFC playoff?",
         [
          [
           177,
           177,
           177
          ],
          [
           "Denver Broncos",
           "Denver Broncos",
           "Denver Broncos"
          ]
         ]
        ],
        [
         "56be4e1facb8001400a502f6",
         "Super_Bowl_50",
         "The Panthers finished the regular season with a 15–1 record, and quarterback Cam Newton was named the NFL Most Valuable Player (MVP). They defeated the Arizona Cardinals 49–15 in the NFC Championship Game and advanced to their second Super Bowl appearance since the franchise was founded in 1995. The Broncos finished the regular season with a 12–4 record, and denied the New England Patriots a chance to defend their title from Super Bowl XLIX by defeating them 20–18 in the AFC Championship Game. They joined the Patriots, Dallas Cowboys, and Pittsburgh Steelers as one of four teams that have made eight appearances in the Super Bowl.",
         "Which Carolina Panthers player was named Most Valuable Player?",
         [
          [
           77,
           77,
           77
          ],
          [
           "Cam Newton",
           "Cam Newton",
           "Cam Newton"
          ]
         ]
        ],
        [
         "56be4e1facb8001400a502f9",
         "Super_Bowl_50",
         "The Panthers finished the regular season with a 15–1 record, and quarterback Cam Newton was named the NFL Most Valuable Player (MVP). They defeated the Arizona Cardinals 49–15 in the NFC Championship Game and advanced to their second Super Bowl appearance since the franchise was founded in 1995. The Broncos finished the regular season with a 12–4 record, and denied the New England Patriots a chance to defend their title from Super Bowl XLIX by defeating them 20–18 in the AFC Championship Game. They joined the Patriots, Dallas Cowboys, and Pittsburgh Steelers as one of four teams that have made eight appearances in the Super Bowl.",
         "How many appearances have the Denver Broncos made in the Super Bowl?",
         [
          [
           467,
           601,
           601
          ],
          [
           "8",
           "eight",
           "eight"
          ]
         ]
        ],
        [
         "56be4e1facb8001400a502fa",
         "Super_Bowl_50",
         "The Panthers finished the regular season with a 15–1 record, and quarterback Cam Newton was named the NFL Most Valuable Player (MVP). They defeated the Arizona Cardinals 49–15 in the NFC Championship Game and advanced to their second Super Bowl appearance since the franchise was founded in 1995. The Broncos finished the regular season with a 12–4 record, and denied the New England Patriots a chance to defend their title from Super Bowl XLIX by defeating them 20–18 in the AFC Championship Game. They joined the Patriots, Dallas Cowboys, and Pittsburgh Steelers as one of four teams that have made eight appearances in the Super Bowl.",
         "What year was the Carolina Panthers franchise founded?",
         [
          [
           291,
           291,
           291
          ],
          [
           "1995",
           "1995",
           "1995"
          ]
         ]
        ],
        [
         "56beaa4a3aeaaa14008c91c2",
         "Super_Bowl_50",
         "The Panthers finished the regular season with a 15–1 record, and quarterback Cam Newton was named the NFL Most Valuable Player (MVP). They defeated the Arizona Cardinals 49–15 in the NFC Championship Game and advanced to their second Super Bowl appearance since the franchise was founded in 1995. The Broncos finished the regular season with a 12–4 record, and denied the New England Patriots a chance to defend their title from Super Bowl XLIX by defeating them 20–18 in the AFC Championship Game. They joined the Patriots, Dallas Cowboys, and Pittsburgh Steelers as one of four teams that have made eight appearances in the Super Bowl.",
         "What team did the Panthers defeat?",
         [
          [
           152,
           148,
           152
          ],
          [
           "Arizona Cardinals",
           "the Arizona Cardinals",
           "Arizona Cardinals"
          ]
         ]
        ],
        [
         "56beaa4a3aeaaa14008c91c3",
         "Super_Bowl_50",
         "The Panthers finished the regular season with a 15–1 record, and quarterback Cam Newton was named the NFL Most Valuable Player (MVP). They defeated the Arizona Cardinals 49–15 in the NFC Championship Game and advanced to their second Super Bowl appearance since the franchise was founded in 1995. The Broncos finished the regular season with a 12–4 record, and denied the New England Patriots a chance to defend their title from Super Bowl XLIX by defeating them 20–18 in the AFC Championship Game. They joined the Patriots, Dallas Cowboys, and Pittsburgh Steelers as one of four teams that have made eight appearances in the Super Bowl.",
         "Who did the Broncos prevent from going to the Super Bowl?",
         [
          [
           372,
           368,
           372
          ],
          [
           "New England Patriots",
           "the New England Patriots",
           "New England Patriots"
          ]
         ]
        ],
        [
         "56bead5a3aeaaa14008c91e9",
         "Super_Bowl_50",
         "The Panthers finished the regular season with a 15–1 record, and quarterback Cam Newton was named the NFL Most Valuable Player (MVP). They defeated the Arizona Cardinals 49–15 in the NFC Championship Game and advanced to their second Super Bowl appearance since the franchise was founded in 1995. The Broncos finished the regular season with a 12–4 record, and denied the New England Patriots a chance to defend their title from Super Bowl XLIX by defeating them 20–18 in the AFC Championship Game. They joined the Patriots, Dallas Cowboys, and Pittsburgh Steelers as one of four teams that have made eight appearances in the Super Bowl.",
         "Who did the Panthers beat in the NFC Championship Game?",
         [
          [
           152,
           148,
           152
          ],
          [
           "Arizona Cardinals",
           "the Arizona Cardinals",
           "Arizona Cardinals"
          ]
         ]
        ],
        [
         "56bead5a3aeaaa14008c91ea",
         "Super_Bowl_50",
         "The Panthers finished the regular season with a 15–1 record, and quarterback Cam Newton was named the NFL Most Valuable Player (MVP). They defeated the Arizona Cardinals 49–15 in the NFC Championship Game and advanced to their second Super Bowl appearance since the franchise was founded in 1995. The Broncos finished the regular season with a 12–4 record, and denied the New England Patriots a chance to defend their title from Super Bowl XLIX by defeating them 20–18 in the AFC Championship Game. They joined the Patriots, Dallas Cowboys, and Pittsburgh Steelers as one of four teams that have made eight appearances in the Super Bowl.",
         "Who lost to the Broncos in the AFC Championship?",
         [
          [
           372,
           368,
           372
          ],
          [
           "New England Patriots",
           "the New England Patriots",
           "New England Patriots"
          ]
         ]
        ],
        [
         "56bead5a3aeaaa14008c91eb",
         "Super_Bowl_50",
         "The Panthers finished the regular season with a 15–1 record, and quarterback Cam Newton was named the NFL Most Valuable Player (MVP). They defeated the Arizona Cardinals 49–15 in the NFC Championship Game and advanced to their second Super Bowl appearance since the franchise was founded in 1995. The Broncos finished the regular season with a 12–4 record, and denied the New England Patriots a chance to defend their title from Super Bowl XLIX by defeating them 20–18 in the AFC Championship Game. They joined the Patriots, Dallas Cowboys, and Pittsburgh Steelers as one of four teams that have made eight appearances in the Super Bowl.",
         "Who were the defending Super Bowl champions?",
         [
          [
           372,
           368,
           372
          ],
          [
           "New England Patriots",
           "the New England Patriots",
           "New England Patriots"
          ]
         ]
        ],
        [
         "56bead5a3aeaaa14008c91ec",
         "Super_Bowl_50",
         "The Panthers finished the regular season with a 15–1 record, and quarterback Cam Newton was named the NFL Most Valuable Player (MVP). They defeated the Arizona Cardinals 49–15 in the NFC Championship Game and advanced to their second Super Bowl appearance since the franchise was founded in 1995. The Broncos finished the regular season with a 12–4 record, and denied the New England Patriots a chance to defend their title from Super Bowl XLIX by defeating them 20–18 in the AFC Championship Game. They joined the Patriots, Dallas Cowboys, and Pittsburgh Steelers as one of four teams that have made eight appearances in the Super Bowl.",
         "How many teams have been in the Super Bowl eight times?",
         [
          [
           575,
           575,
           575
          ],
          [
           "four",
           "four",
           "four"
          ]
         ]
        ],
        [
         "56bead5a3aeaaa14008c91ed",
         "Super_Bowl_50",
         "The Panthers finished the regular season with a 15–1 record, and quarterback Cam Newton was named the NFL Most Valuable Player (MVP). They defeated the Arizona Cardinals 49–15 in the NFC Championship Game and advanced to their second Super Bowl appearance since the franchise was founded in 1995. The Broncos finished the regular season with a 12–4 record, and denied the New England Patriots a chance to defend their title from Super Bowl XLIX by defeating them 20–18 in the AFC Championship Game. They joined the Patriots, Dallas Cowboys, and Pittsburgh Steelers as one of four teams that have made eight appearances in the Super Bowl.",
         "Who was this season's NFL MVP?",
         [
          [
           77,
           77,
           77
          ],
          [
           "Cam Newton",
           "Cam Newton",
           "Cam Newton"
          ]
         ]
        ],
        [
         "56bf159b3aeaaa14008c9507",
         "Super_Bowl_50",
         "The Panthers finished the regular season with a 15–1 record, and quarterback Cam Newton was named the NFL Most Valuable Player (MVP). They defeated the Arizona Cardinals 49–15 in the NFC Championship Game and advanced to their second Super Bowl appearance since the franchise was founded in 1995. The Broncos finished the regular season with a 12–4 record, and denied the New England Patriots a chance to defend their title from Super Bowl XLIX by defeating them 20–18 in the AFC Championship Game. They joined the Patriots, Dallas Cowboys, and Pittsburgh Steelers as one of four teams that have made eight appearances in the Super Bowl.",
         "What was the win/loss ratio in 2015 for the Carolina Panthers during their regular season?",
         [
          [
           48,
           48,
           48
          ],
          [
           "15–1",
           "15–1",
           "15–1"
          ]
         ]
        ],
        [
         "56bf159b3aeaaa14008c9508",
         "Super_Bowl_50",
         "The Panthers finished the regular season with a 15–1 record, and quarterback Cam Newton was named the NFL Most Valuable Player (MVP). They defeated the Arizona Cardinals 49–15 in the NFC Championship Game and advanced to their second Super Bowl appearance since the franchise was founded in 1995. The Broncos finished the regular season with a 12–4 record, and denied the New England Patriots a chance to defend their title from Super Bowl XLIX by defeating them 20–18 in the AFC Championship Game. They joined the Patriots, Dallas Cowboys, and Pittsburgh Steelers as one of four teams that have made eight appearances in the Super Bowl.",
         "Which Carolina Panthers team member was picked as the team's MVP in 2015? ",
         [
          [
           77,
           77,
           77
          ],
          [
           "Cam Newton",
           "Cam Newton",
           "Cam Newton"
          ]
         ]
        ],
        [
         "56bf159b3aeaaa14008c9509",
         "Super_Bowl_50",
         "The Panthers finished the regular season with a 15–1 record, and quarterback Cam Newton was named the NFL Most Valuable Player (MVP). They defeated the Arizona Cardinals 49–15 in the NFC Championship Game and advanced to their second Super Bowl appearance since the franchise was founded in 1995. The Broncos finished the regular season with a 12–4 record, and denied the New England Patriots a chance to defend their title from Super Bowl XLIX by defeating them 20–18 in the AFC Championship Game. They joined the Patriots, Dallas Cowboys, and Pittsburgh Steelers as one of four teams that have made eight appearances in the Super Bowl.",
         "What were the win/loss game stats for the Denver Bronco's regular season in 2015?",
         [
          [
           344,
           344,
           344
          ],
          [
           "12–4",
           "12–4",
           "12–4"
          ]
         ]
        ],
        [
         "56bf159b3aeaaa14008c950a",
         "Super_Bowl_50",
         "The Panthers finished the regular season with a 15–1 record, and quarterback Cam Newton was named the NFL Most Valuable Player (MVP). They defeated the Arizona Cardinals 49–15 in the NFC Championship Game and advanced to their second Super Bowl appearance since the franchise was founded in 1995. The Broncos finished the regular season with a 12–4 record, and denied the New England Patriots a chance to defend their title from Super Bowl XLIX by defeating them 20–18 in the AFC Championship Game. They joined the Patriots, Dallas Cowboys, and Pittsburgh Steelers as one of four teams that have made eight appearances in the Super Bowl.",
         "How many teams have played in the Super Bowl eight times?",
         [
          [
           170,
           575,
           575
          ],
          [
           "4",
           "four",
           "four"
          ]
         ]
        ],
        [
         "56bf159b3aeaaa14008c950b",
         "Super_Bowl_50",
         "The Panthers finished the regular season with a 15–1 record, and quarterback Cam Newton was named the NFL Most Valuable Player (MVP). They defeated the Arizona Cardinals 49–15 in the NFC Championship Game and advanced to their second Super Bowl appearance since the franchise was founded in 1995. The Broncos finished the regular season with a 12–4 record, and denied the New England Patriots a chance to defend their title from Super Bowl XLIX by defeating them 20–18 in the AFC Championship Game. They joined the Patriots, Dallas Cowboys, and Pittsburgh Steelers as one of four teams that have made eight appearances in the Super Bowl.",
         "Which team did not get a chance to defend their Super Bowl XLIX win in Super Bowl 50?",
         [
          [
           372,
           368,
           372
          ],
          [
           "New England Patriots",
           "the New England Patriots",
           "New England Patriots"
          ]
         ]
        ],
        [
         "56d2045de7d4791d009025f3",
         "Super_Bowl_50",
         "The Panthers finished the regular season with a 15–1 record, and quarterback Cam Newton was named the NFL Most Valuable Player (MVP). They defeated the Arizona Cardinals 49–15 in the NFC Championship Game and advanced to their second Super Bowl appearance since the franchise was founded in 1995. The Broncos finished the regular season with a 12–4 record, and denied the New England Patriots a chance to defend their title from Super Bowl XLIX by defeating them 20–18 in the AFC Championship Game. They joined the Patriots, Dallas Cowboys, and Pittsburgh Steelers as one of four teams that have made eight appearances in the Super Bowl.",
         "Who is the quarterback for the Panthers?",
         [
          [
           77,
           77,
           77
          ],
          [
           "Cam Newton",
           "Cam Newton",
           "Cam Newton"
          ]
         ]
        ],
        [
         "56d2045de7d4791d009025f4",
         "Super_Bowl_50",
         "The Panthers finished the regular season with a 15–1 record, and quarterback Cam Newton was named the NFL Most Valuable Player (MVP). They defeated the Arizona Cardinals 49–15 in the NFC Championship Game and advanced to their second Super Bowl appearance since the franchise was founded in 1995. The Broncos finished the regular season with a 12–4 record, and denied the New England Patriots a chance to defend their title from Super Bowl XLIX by defeating them 20–18 in the AFC Championship Game. They joined the Patriots, Dallas Cowboys, and Pittsburgh Steelers as one of four teams that have made eight appearances in the Super Bowl.",
         "Who did Carolina beat in the NFC championship game?",
         [
          [
           152,
           148,
           152
          ],
          [
           "Arizona Cardinals",
           "the Arizona Cardinals",
           "Arizona Cardinals"
          ]
         ]
        ],
        [
         "56d2045de7d4791d009025f5",
         "Super_Bowl_50",
         "The Panthers finished the regular season with a 15–1 record, and quarterback Cam Newton was named the NFL Most Valuable Player (MVP). They defeated the Arizona Cardinals 49–15 in the NFC Championship Game and advanced to their second Super Bowl appearance since the franchise was founded in 1995. The Broncos finished the regular season with a 12–4 record, and denied the New England Patriots a chance to defend their title from Super Bowl XLIX by defeating them 20–18 in the AFC Championship Game. They joined the Patriots, Dallas Cowboys, and Pittsburgh Steelers as one of four teams that have made eight appearances in the Super Bowl.",
         "How many times have the Panthers been in the Super Bowl?",
         [
          [
           345,
           227,
           227
          ],
          [
           "2",
           "second",
           "second"
          ]
         ]
        ],
        [
         "56d2045de7d4791d009025f6",
         "Super_Bowl_50",
         "The Panthers finished the regular season with a 15–1 record, and quarterback Cam Newton was named the NFL Most Valuable Player (MVP). They defeated the Arizona Cardinals 49–15 in the NFC Championship Game and advanced to their second Super Bowl appearance since the franchise was founded in 1995. The Broncos finished the regular season with a 12–4 record, and denied the New England Patriots a chance to defend their title from Super Bowl XLIX by defeating them 20–18 in the AFC Championship Game. They joined the Patriots, Dallas Cowboys, and Pittsburgh Steelers as one of four teams that have made eight appearances in the Super Bowl.",
         "Who did Denver beat in the AFC championship?",
         [
          [
           372,
           368,
           372
          ],
          [
           "New England Patriots",
           "the New England Patriots",
           "New England Patriots"
          ]
         ]
        ],
        [
         "56d6017d1c85041400946ebe",
         "Super_Bowl_50",
         "The Panthers finished the regular season with a 15–1 record, and quarterback Cam Newton was named the NFL Most Valuable Player (MVP). They defeated the Arizona Cardinals 49–15 in the NFC Championship Game and advanced to their second Super Bowl appearance since the franchise was founded in 1995. The Broncos finished the regular season with a 12–4 record, and denied the New England Patriots a chance to defend their title from Super Bowl XLIX by defeating them 20–18 in the AFC Championship Game. They joined the Patriots, Dallas Cowboys, and Pittsburgh Steelers as one of four teams that have made eight appearances in the Super Bowl.",
         "Who was the Most Valuable Player for the 2015 NFL season?",
         [
          [
           77,
           77,
           77
          ],
          [
           "Cam Newton",
           "Cam Newton",
           "Cam Newton"
          ]
         ]
        ],
        [
         "56d6017d1c85041400946ec1",
         "Super_Bowl_50",
         "The Panthers finished the regular season with a 15–1 record, and quarterback Cam Newton was named the NFL Most Valuable Player (MVP). They defeated the Arizona Cardinals 49–15 in the NFC Championship Game and advanced to their second Super Bowl appearance since the franchise was founded in 1995. The Broncos finished the regular season with a 12–4 record, and denied the New England Patriots a chance to defend their title from Super Bowl XLIX by defeating them 20–18 in the AFC Championship Game. They joined the Patriots, Dallas Cowboys, and Pittsburgh Steelers as one of four teams that have made eight appearances in the Super Bowl.",
         "Who did Denver beat in the 2015 AFC Championship game?",
         [
          [
           372,
           368,
           372
          ],
          [
           "New England Patriots",
           "the New England Patriots",
           "New England Patriots"
          ]
         ]
        ],
        [
         "56d6017d1c85041400946ec2",
         "Super_Bowl_50",
         "The Panthers finished the regular season with a 15–1 record, and quarterback Cam Newton was named the NFL Most Valuable Player (MVP). They defeated the Arizona Cardinals 49–15 in the NFC Championship Game and advanced to their second Super Bowl appearance since the franchise was founded in 1995. The Broncos finished the regular season with a 12–4 record, and denied the New England Patriots a chance to defend their title from Super Bowl XLIX by defeating them 20–18 in the AFC Championship Game. They joined the Patriots, Dallas Cowboys, and Pittsburgh Steelers as one of four teams that have made eight appearances in the Super Bowl.",
         "Who did the Carolina Panthers beat in the 2015 NFC Championship game?",
         [
          [
           152,
           148,
           152
          ],
          [
           "Arizona Cardinals",
           "the Arizona Cardinals",
           "Arizona Cardinals"
          ]
         ]
        ],
        [
         "56d98a59dc89441400fdb52a",
         "Super_Bowl_50",
         "The Panthers finished the regular season with a 15–1 record, and quarterback Cam Newton was named the NFL Most Valuable Player (MVP). They defeated the Arizona Cardinals 49–15 in the NFC Championship Game and advanced to their second Super Bowl appearance since the franchise was founded in 1995. The Broncos finished the regular season with a 12–4 record, and denied the New England Patriots a chance to defend their title from Super Bowl XLIX by defeating them 20–18 in the AFC Championship Game. They joined the Patriots, Dallas Cowboys, and Pittsburgh Steelers as one of four teams that have made eight appearances in the Super Bowl.",
         "Who was the 2015 NFL MVP?",
         [
          [
           77,
           77,
           77
          ],
          [
           "Cam Newton",
           "Cam Newton",
           "Cam Newton"
          ]
         ]
        ],
        [
         "56d98a59dc89441400fdb52b",
         "Super_Bowl_50",
         "The Panthers finished the regular season with a 15–1 record, and quarterback Cam Newton was named the NFL Most Valuable Player (MVP). They defeated the Arizona Cardinals 49–15 in the NFC Championship Game and advanced to their second Super Bowl appearance since the franchise was founded in 1995. The Broncos finished the regular season with a 12–4 record, and denied the New England Patriots a chance to defend their title from Super Bowl XLIX by defeating them 20–18 in the AFC Championship Game. They joined the Patriots, Dallas Cowboys, and Pittsburgh Steelers as one of four teams that have made eight appearances in the Super Bowl.",
         "Who did the Panthers beat to become the NFC champs?",
         [
          [
           152,
           148,
           152
          ],
          [
           "Arizona Cardinals",
           "the Arizona Cardinals",
           "Arizona Cardinals"
          ]
         ]
        ],
        [
         "56d98a59dc89441400fdb52e",
         "Super_Bowl_50",
         "The Panthers finished the regular season with a 15–1 record, and quarterback Cam Newton was named the NFL Most Valuable Player (MVP). They defeated the Arizona Cardinals 49–15 in the NFC Championship Game and advanced to their second Super Bowl appearance since the franchise was founded in 1995. The Broncos finished the regular season with a 12–4 record, and denied the New England Patriots a chance to defend their title from Super Bowl XLIX by defeating them 20–18 in the AFC Championship Game. They joined the Patriots, Dallas Cowboys, and Pittsburgh Steelers as one of four teams that have made eight appearances in the Super Bowl.",
         "What year did the Carolina Panthers form?",
         [
          [
           291,
           291,
           291
          ],
          [
           "1995.",
           "1995",
           "1995"
          ]
         ]
        ],
        [
         "56be4eafacb8001400a50302",
         "Super_Bowl_50",
         "The Broncos took an early lead in Super Bowl 50 and never trailed. Newton was limited by Denver's defense, which sacked him seven times and forced him into three turnovers, including a fumble which they recovered for a touchdown. Denver linebacker Von Miller was named Super Bowl MVP, recording five solo tackles, 2½ sacks, and two forced fumbles.",
         "Who was the Super Bowl 50 MVP?",
         [
          [
           248,
           248,
           252
          ],
          [
           "Von Miller",
           "Von Miller",
           "Miller"
          ]
         ]
        ],
        [
         "56be4eafacb8001400a50303",
         "Super_Bowl_50",
         "The Broncos took an early lead in Super Bowl 50 and never trailed. Newton was limited by Denver's defense, which sacked him seven times and forced him into three turnovers, including a fumble which they recovered for a touchdown. Denver linebacker Von Miller was named Super Bowl MVP, recording five solo tackles, 2½ sacks, and two forced fumbles.",
         "How many fumbles did Von Miller force in Super Bowl 50?",
         [
          [
           314,
           328,
           328
          ],
          [
           "2",
           "two",
           "two"
          ]
         ]
        ],
        [
         "56be4eafacb8001400a50304",
         "Super_Bowl_50",
         "The Broncos took an early lead in Super Bowl 50 and never trailed. Newton was limited by Denver's defense, which sacked him seven times and forced him into three turnovers, including a fumble which they recovered for a touchdown. Denver linebacker Von Miller was named Super Bowl MVP, recording five solo tackles, 2½ sacks, and two forced fumbles.",
         "Which team held the scoring lead throughout the entire game?",
         [
          [
           4,
           0,
           4
          ],
          [
           "Broncos",
           "The Broncos",
           "Broncos"
          ]
         ]
        ],
        [
         "56beab833aeaaa14008c91d2",
         "Super_Bowl_50",
         "The Broncos took an early lead in Super Bowl 50 and never trailed. Newton was limited by Denver's defense, which sacked him seven times and forced him into three turnovers, including a fumble which they recovered for a touchdown. Denver linebacker Von Miller was named Super Bowl MVP, recording five solo tackles, 2½ sacks, and two forced fumbles.",
         "Which Denver linebacker was named Super Bowl MVP?",
         [
          [
           237,
           248,
           252
          ],
          [
           "linebacker Von Miller",
           "Von Miller",
           "Miller"
          ]
         ]
        ],
        [
         "56beab833aeaaa14008c91d3",
         "Super_Bowl_50",
         "The Broncos took an early lead in Super Bowl 50 and never trailed. Newton was limited by Denver's defense, which sacked him seven times and forced him into three turnovers, including a fumble which they recovered for a touchdown. Denver linebacker Von Miller was named Super Bowl MVP, recording five solo tackles, 2½ sacks, and two forced fumbles.",
         "How many solo tackles did Von Miller make at Super Bowl 50?",
         [
          [
           295,
           295,
           295
          ],
          [
           "five solo tackles",
           "five",
           "five"
          ]
         ]
        ],
        [
         "56beab833aeaaa14008c91d4",
         "Super_Bowl_50",
         "The Broncos took an early lead in Super Bowl 50 and never trailed. Newton was limited by Denver's defense, which sacked him seven times and forced him into three turnovers, including a fumble which they recovered for a touchdown. Denver linebacker Von Miller was named Super Bowl MVP, recording five solo tackles, 2½ sacks, and two forced fumbles.",
         "Who was limited by Denver's defense?",
         [
          [
           67,
           67,
           67
          ],
          [
           "Newton was limited by Denver's defense",
           "Newton",
           "Newton"
          ]
         ]
        ],
        [
         "56beae423aeaaa14008c91f4",
         "Super_Bowl_50",
         "The Broncos took an early lead in Super Bowl 50 and never trailed. Newton was limited by Denver's defense, which sacked him seven times and forced him into three turnovers, including a fumble which they recovered for a touchdown. Denver linebacker Von Miller was named Super Bowl MVP, recording five solo tackles, 2½ sacks, and two forced fumbles.",
         "How many times was Cam Newton sacked?",
         [
          [
           124,
           124,
           124
          ],
          [
           "seven",
           "seven",
           "seven"
          ]
         ]
        ],
        [
         "56beae423aeaaa14008c91f5",
         "Super_Bowl_50",
         "The Broncos took an early lead in Super Bowl 50 and never trailed. Newton was limited by Denver's defense, which sacked him seven times and forced him into three turnovers, including a fumble which they recovered for a touchdown. Denver linebacker Von Miller was named Super Bowl MVP, recording five solo tackles, 2½ sacks, and two forced fumbles.",
         "Who won the Super Bowl MVP?",
         [
          [
           248,
           0,
           252
          ],
          [
           "Von Miller",
           "The Broncos",
           "Miller"
          ]
         ]
        ],
        [
         "56beae423aeaaa14008c91f6",
         "Super_Bowl_50",
         "The Broncos took an early lead in Super Bowl 50 and never trailed. Newton was limited by Denver's defense, which sacked him seven times and forced him into three turnovers, including a fumble which they recovered for a touchdown. Denver linebacker Von Miller was named Super Bowl MVP, recording five solo tackles, 2½ sacks, and two forced fumbles.",
         "How many turnovers did Cam Newton have?",
         [
          [
           156,
           156,
           156
          ],
          [
           "three",
           "three",
           "three"
          ]
         ]
        ],
        [
         "56beae423aeaaa14008c91f7",
         "Super_Bowl_50",
         "The Broncos took an early lead in Super Bowl 50 and never trailed. Newton was limited by Denver's defense, which sacked him seven times and forced him into three turnovers, including a fumble which they recovered for a touchdown. Denver linebacker Von Miller was named Super Bowl MVP, recording five solo tackles, 2½ sacks, and two forced fumbles.",
         "How many fumbles did Von Miller force?",
         [
          [
           328,
           328,
           328
          ],
          [
           "two",
           "two",
           "two"
          ]
         ]
        ],
        [
         "56bf17653aeaaa14008c9511",
         "Super_Bowl_50",
         "The Broncos took an early lead in Super Bowl 50 and never trailed. Newton was limited by Denver's defense, which sacked him seven times and forced him into three turnovers, including a fumble which they recovered for a touchdown. Denver linebacker Von Miller was named Super Bowl MVP, recording five solo tackles, 2½ sacks, and two forced fumbles.",
         "Who was given the esteemed status of MVP for Super Bowl 50?",
         [
          [
           248,
           248,
           252
          ],
          [
           "Von Miller",
           "Von Miller",
           "Miller"
          ]
         ]
        ],
        [
         "56bf17653aeaaa14008c9513",
         "Super_Bowl_50",
         "The Broncos took an early lead in Super Bowl 50 and never trailed. Newton was limited by Denver's defense, which sacked him seven times and forced him into three turnovers, including a fumble which they recovered for a touchdown. Denver linebacker Von Miller was named Super Bowl MVP, recording five solo tackles, 2½ sacks, and two forced fumbles.",
         "What position does Von Miller play for the Denver Broncos?",
         [
          [
           237,
           237,
           237
          ],
          [
           "linebacker",
           "linebacker",
           "linebacker"
          ]
         ]
        ],
        [
         "56bf17653aeaaa14008c9514",
         "Super_Bowl_50",
         "The Broncos took an early lead in Super Bowl 50 and never trailed. Newton was limited by Denver's defense, which sacked him seven times and forced him into three turnovers, including a fumble which they recovered for a touchdown. Denver linebacker Von Miller was named Super Bowl MVP, recording five solo tackles, 2½ sacks, and two forced fumbles.",
         "What was the number of solo tackles that Von Miller had in Super Bowl 50?",
         [
          [
           45,
           295,
           295
          ],
          [
           "5",
           "five",
           "five"
          ]
         ]
        ],
        [
         "56bf17653aeaaa14008c9515",
         "Super_Bowl_50",
         "The Broncos took an early lead in Super Bowl 50 and never trailed. Newton was limited by Denver's defense, which sacked him seven times and forced him into three turnovers, including a fumble which they recovered for a touchdown. Denver linebacker Von Miller was named Super Bowl MVP, recording five solo tackles, 2½ sacks, and two forced fumbles.",
         "How many forced fumbles did Von Miller have during the Super Bowl 50 game?",
         [
          [
           314,
           328,
           328
          ],
          [
           "2",
           "two",
           "two"
          ]
         ]
        ],
        [
         "56d204ade7d4791d00902603",
         "Super_Bowl_50",
         "The Broncos took an early lead in Super Bowl 50 and never trailed. Newton was limited by Denver's defense, which sacked him seven times and forced him into three turnovers, including a fumble which they recovered for a touchdown. Denver linebacker Von Miller was named Super Bowl MVP, recording five solo tackles, 2½ sacks, and two forced fumbles.",
         "Who won the MVP for the Super Bowl?",
         [
          [
           248,
           248,
           248
          ],
          [
           "Von Miller",
           "Von Miller",
           "Von Miller"
          ]
         ]
        ],
        [
         "56d204ade7d4791d00902604",
         "Super_Bowl_50",
         "The Broncos took an early lead in Super Bowl 50 and never trailed. Newton was limited by Denver's defense, which sacked him seven times and forced him into three turnovers, including a fumble which they recovered for a touchdown. Denver linebacker Von Miller was named Super Bowl MVP, recording five solo tackles, 2½ sacks, and two forced fumbles.",
         "How many tackles did Von Miller get during the game?",
         [
          [
           45,
           295,
           295
          ],
          [
           "5",
           "five",
           "five"
          ]
         ]
        ],
        [
         "56d601e41c85041400946ece",
         "Super_Bowl_50",
         "The Broncos took an early lead in Super Bowl 50 and never trailed. Newton was limited by Denver's defense, which sacked him seven times and forced him into three turnovers, including a fumble which they recovered for a touchdown. Denver linebacker Von Miller was named Super Bowl MVP, recording five solo tackles, 2½ sacks, and two forced fumbles.",
         "How many times was Cam Newton sacked in Super Bowl 50?",
         [
          [
           124,
           124,
           124
          ],
          [
           "seven",
           "seven",
           "seven"
          ]
         ]
        ],
        [
         "56d601e41c85041400946ecf",
         "Super_Bowl_50",
         "The Broncos took an early lead in Super Bowl 50 and never trailed. Newton was limited by Denver's defense, which sacked him seven times and forced him into three turnovers, including a fumble which they recovered for a touchdown. Denver linebacker Von Miller was named Super Bowl MVP, recording five solo tackles, 2½ sacks, and two forced fumbles.",
         "How many times did the Denver defense force Newton into turnovers?",
         [
          [
           156,
           156,
           156
          ],
          [
           "three",
           "three",
           "three"
          ]
         ]
        ],
        [
         "56d601e41c85041400946ed0",
         "Super_Bowl_50",
         "The Broncos took an early lead in Super Bowl 50 and never trailed. Newton was limited by Denver's defense, which sacked him seven times and forced him into three turnovers, including a fumble which they recovered for a touchdown. Denver linebacker Von Miller was named Super Bowl MVP, recording five solo tackles, 2½ sacks, and two forced fumbles.",
         "Which Newton turnover resulted in seven points for Denver?",
         [
          [
           183,
           183,
           185
          ],
          [
           "a fumble",
           "a fumble",
           "fumble"
          ]
         ]
        ],
        [
         "56d601e41c85041400946ed1",
         "Super_Bowl_50",
         "The Broncos took an early lead in Super Bowl 50 and never trailed. Newton was limited by Denver's defense, which sacked him seven times and forced him into three turnovers, including a fumble which they recovered for a touchdown. Denver linebacker Von Miller was named Super Bowl MVP, recording five solo tackles, 2½ sacks, and two forced fumbles.",
         "Who was the Most Valuable Player of Super Bowl 50?",
         [
          [
           248,
           248,
           248
          ],
          [
           "Von Miller",
           "Von Miller",
           "Von Miller"
          ]
         ]
        ],
        [
         "56d601e41c85041400946ed2",
         "Super_Bowl_50",
         "The Broncos took an early lead in Super Bowl 50 and never trailed. Newton was limited by Denver's defense, which sacked him seven times and forced him into three turnovers, including a fumble which they recovered for a touchdown. Denver linebacker Von Miller was named Super Bowl MVP, recording five solo tackles, 2½ sacks, and two forced fumbles.",
         "What position does Von Miller play?",
         [
          [
           237,
           237,
           237
          ],
          [
           "linebacker",
           "linebacker",
           "linebacker"
          ]
         ]
        ],
        [
         "56d98b33dc89441400fdb53b",
         "Super_Bowl_50",
         "The Broncos took an early lead in Super Bowl 50 and never trailed. Newton was limited by Denver's defense, which sacked him seven times and forced him into three turnovers, including a fumble which they recovered for a touchdown. Denver linebacker Von Miller was named Super Bowl MVP, recording five solo tackles, 2½ sacks, and two forced fumbles.",
         "How many times was the Panthers' quarterback sacked?",
         [
          [
           124,
           124,
           124
          ],
          [
           "seven",
           "seven",
           "seven"
          ]
         ]
        ],
        [
         "56d98b33dc89441400fdb53c",
         "Super_Bowl_50",
         "The Broncos took an early lead in Super Bowl 50 and never trailed. Newton was limited by Denver's defense, which sacked him seven times and forced him into three turnovers, including a fumble which they recovered for a touchdown. Denver linebacker Von Miller was named Super Bowl MVP, recording five solo tackles, 2½ sacks, and two forced fumbles.",
         "How many times did the Broncos cause turnovers in the game?",
         [
          [
           156,
           156,
           156
          ],
          [
           "three",
           "three",
           "three"
          ]
         ]
        ],
        [
         "56d98b33dc89441400fdb53d",
         "Super_Bowl_50",
         "The Broncos took an early lead in Super Bowl 50 and never trailed. Newton was limited by Denver's defense, which sacked him seven times and forced him into three turnovers, including a fumble which they recovered for a touchdown. Denver linebacker Von Miller was named Super Bowl MVP, recording five solo tackles, 2½ sacks, and two forced fumbles.",
         "What Denver player caused two fumbles for the Panthers?",
         [
          [
           248,
           248,
           248
          ],
          [
           "Von Miller",
           "Von Miller",
           "Von Miller"
          ]
         ]
        ],
        [
         "56d98b33dc89441400fdb53e",
         "Super_Bowl_50",
         "The Broncos took an early lead in Super Bowl 50 and never trailed. Newton was limited by Denver's defense, which sacked him seven times and forced him into three turnovers, including a fumble which they recovered for a touchdown. Denver linebacker Von Miller was named Super Bowl MVP, recording five solo tackles, 2½ sacks, and two forced fumbles.",
         "How many tackles did Von Miller accomlish by himself in the game?",
         [
          [
           295,
           295,
           295
          ],
          [
           "five",
           "five",
           "five"
          ]
         ]
        ],
        [
         "56be5333acb8001400a5030a",
         "Super_Bowl_50",
         "CBS broadcast Super Bowl 50 in the U.S., and charged an average of $5 million for a 30-second commercial during the game. The Super Bowl 50 halftime show was headlined by the British rock group Coldplay with special guest performers Beyoncé and Bruno Mars, who headlined the Super Bowl XLVII and Super Bowl XLVIII halftime shows, respectively. It was the third-most watched U.S. broadcast ever.",
         "Which network broadcasted Super Bowl 50 in the U.S.?",
         [
          [
           0,
           0,
           0
          ],
          [
           "CBS",
           "CBS",
           "CBS"
          ]
         ]
        ],
        [
         "56be5333acb8001400a5030b",
         "Super_Bowl_50",
         "CBS broadcast Super Bowl 50 in the U.S., and charged an average of $5 million for a 30-second commercial during the game. The Super Bowl 50 halftime show was headlined by the British rock group Coldplay with special guest performers Beyoncé and Bruno Mars, who headlined the Super Bowl XLVII and Super Bowl XLVIII halftime shows, respectively. It was the third-most watched U.S. broadcast ever.",
         "What was the average cost for a 30 second commercial during Super Bowl 50?",
         [
          [
           67,
           67,
           67
          ],
          [
           "$5 million",
           "$5 million",
           "$5 million"
          ]
         ]
        ],
        [
         "56be5333acb8001400a5030c",
         "Super_Bowl_50",
         "CBS broadcast Super Bowl 50 in the U.S., and charged an average of $5 million for a 30-second commercial during the game. The Super Bowl 50 halftime show was headlined by the British rock group Coldplay with special guest performers Beyoncé and Bruno Mars, who headlined the Super Bowl XLVII and Super Bowl XLVIII halftime shows, respectively. It was the third-most watched U.S. broadcast ever.",
         "Which group headlined the Super Bowl 50 halftime show?",
         [
          [
           194,
           194,
           194
          ],
          [
           "Coldplay",
           "Coldplay",
           "Coldplay"
          ]
         ]
        ],
        [
         "56be5333acb8001400a5030d",
         "Super_Bowl_50",
         "CBS broadcast Super Bowl 50 in the U.S., and charged an average of $5 million for a 30-second commercial during the game. The Super Bowl 50 halftime show was headlined by the British rock group Coldplay with special guest performers Beyoncé and Bruno Mars, who headlined the Super Bowl XLVII and Super Bowl XLVIII halftime shows, respectively. It was the third-most watched U.S. broadcast ever.",
         "Which performers joined the headliner during the Super Bowl 50 halftime show?",
         [
          [
           233,
           233,
           233
          ],
          [
           "Beyoncé and Bruno Mars",
           "Beyoncé and Bruno Mars",
           "Beyoncé and Bruno Mars"
          ]
         ]
        ],
        [
         "56be5333acb8001400a5030e",
         "Super_Bowl_50",
         "CBS broadcast Super Bowl 50 in the U.S., and charged an average of $5 million for a 30-second commercial during the game. The Super Bowl 50 halftime show was headlined by the British rock group Coldplay with special guest performers Beyoncé and Bruno Mars, who headlined the Super Bowl XLVII and Super Bowl XLVIII halftime shows, respectively. It was the third-most watched U.S. broadcast ever.",
         "At which Super Bowl did Beyonce headline the halftime show?",
         [
          [
           275,
           275,
           286
          ],
          [
           "Super Bowl XLVII",
           "Super Bowl XLVII",
           "XLVII"
          ]
         ]
        ],
        [
         "56beaf5e3aeaaa14008c91fd",
         "Super_Bowl_50",
         "CBS broadcast Super Bowl 50 in the U.S., and charged an average of $5 million for a 30-second commercial during the game. The Super Bowl 50 halftime show was headlined by the British rock group Coldplay with special guest performers Beyoncé and Bruno Mars, who headlined the Super Bowl XLVII and Super Bowl XLVIII halftime shows, respectively. It was the third-most watched U.S. broadcast ever.",
         "Who was the broadcaster for Super Bowl 50 in the United States?",
         [
          [
           0,
           0,
           0
          ],
          [
           "CBS",
           "CBS",
           "CBS"
          ]
         ]
        ],
        [
         "56beaf5e3aeaaa14008c91fe",
         "Super_Bowl_50",
         "CBS broadcast Super Bowl 50 in the U.S., and charged an average of $5 million for a 30-second commercial during the game. The Super Bowl 50 halftime show was headlined by the British rock group Coldplay with special guest performers Beyoncé and Bruno Mars, who headlined the Super Bowl XLVII and Super Bowl XLVIII halftime shows, respectively. It was the third-most watched U.S. broadcast ever.",
         "What was the average cost of a 30-second commercial?",
         [
          [
           67,
           67,
           67
          ],
          [
           "$5 million",
           "$5 million",
           "$5 million"
          ]
         ]
        ],
        [
         "56beaf5e3aeaaa14008c91ff",
         "Super_Bowl_50",
         "CBS broadcast Super Bowl 50 in the U.S., and charged an average of $5 million for a 30-second commercial during the game. The Super Bowl 50 halftime show was headlined by the British rock group Coldplay with special guest performers Beyoncé and Bruno Mars, who headlined the Super Bowl XLVII and Super Bowl XLVIII halftime shows, respectively. It was the third-most watched U.S. broadcast ever.",
         "What halftime performer previously headlined Super Bowl XLVII?",
         [
          [
           233,
           233,
           233
          ],
          [
           "Beyoncé",
           "Beyoncé",
           "Beyoncé"
          ]
         ]
        ],
        [
         "56beaf5e3aeaaa14008c9200",
         "Super_Bowl_50",
         "CBS broadcast Super Bowl 50 in the U.S., and charged an average of $5 million for a 30-second commercial during the game. The Super Bowl 50 halftime show was headlined by the British rock group Coldplay with special guest performers Beyoncé and Bruno Mars, who headlined the Super Bowl XLVII and Super Bowl XLVIII halftime shows, respectively. It was the third-most watched U.S. broadcast ever.",
         "What halftime performer previously headlined Super Bowl XLVIII?",
         [
          [
           245,
           245,
           251
          ],
          [
           "Bruno Mars",
           "Bruno Mars",
           "Mars"
          ]
         ]
        ],
        [
         "56beaf5e3aeaaa14008c9201",
         "Super_Bowl_50",
         "CBS broadcast Super Bowl 50 in the U.S., and charged an average of $5 million for a 30-second commercial during the game. The Super Bowl 50 halftime show was headlined by the British rock group Coldplay with special guest performers Beyoncé and Bruno Mars, who headlined the Super Bowl XLVII and Super Bowl XLVIII halftime shows, respectively. It was the third-most watched U.S. broadcast ever.",
         "Who was the main performer at this year's halftime show?",
         [
          [
           194,
           194,
           194
          ],
          [
           "Coldplay",
           "Coldplay",
           "Coldplay"
          ]
         ]
        ],
        [
         "56bf1ae93aeaaa14008c951b",
         "Super_Bowl_50",
         "CBS broadcast Super Bowl 50 in the U.S., and charged an average of $5 million for a 30-second commercial during the game. The Super Bowl 50 halftime show was headlined by the British rock group Coldplay with special guest performers Beyoncé and Bruno Mars, who headlined the Super Bowl XLVII and Super Bowl XLVIII halftime shows, respectively. It was the third-most watched U.S. broadcast ever.",
         "Which network broadcasted the 50th Super Bowl game? ",
         [
          [
           0,
           0,
           0
          ],
          [
           "CBS",
           "CBS",
           "CBS"
          ]
         ]
        ],
        [
         "56bf1ae93aeaaa14008c951c",
         "Super_Bowl_50",
         "CBS broadcast Super Bowl 50 in the U.S., and charged an average of $5 million for a 30-second commercial during the game. The Super Bowl 50 halftime show was headlined by the British rock group Coldplay with special guest performers Beyoncé and Bruno Mars, who headlined the Super Bowl XLVII and Super Bowl XLVIII halftime shows, respectively. It was the third-most watched U.S. broadcast ever.",
         "What was the average cost for a TV ad lasting 30 seconds during Super Bowl 50?",
         [
          [
           67,
           67,
           67
          ],
          [
           "$5 million",
           "$5 million",
           "$5 million"
          ]
         ]
        ],
        [
         "56bf1ae93aeaaa14008c951e",
         "Super_Bowl_50",
         "CBS broadcast Super Bowl 50 in the U.S., and charged an average of $5 million for a 30-second commercial during the game. The Super Bowl 50 halftime show was headlined by the British rock group Coldplay with special guest performers Beyoncé and Bruno Mars, who headlined the Super Bowl XLVII and Super Bowl XLVIII halftime shows, respectively. It was the third-most watched U.S. broadcast ever.",
         "Who was the male singer who performed as a special guest during Super Bowl 50?",
         [
          [
           245,
           245,
           245
          ],
          [
           "Bruno Mars",
           "Bruno Mars",
           "Bruno Mars,"
          ]
         ]
        ],
        [
         "56bf1ae93aeaaa14008c951f",
         "Super_Bowl_50",
         "CBS broadcast Super Bowl 50 in the U.S., and charged an average of $5 million for a 30-second commercial during the game. The Super Bowl 50 halftime show was headlined by the British rock group Coldplay with special guest performers Beyoncé and Bruno Mars, who headlined the Super Bowl XLVII and Super Bowl XLVIII halftime shows, respectively. It was the third-most watched U.S. broadcast ever.",
         "What ranking does the Super Bowl 50 halftime show have on the list of most watched TV broadcasts?",
         [
          [
           355,
           355,
           355
          ],
          [
           "third",
           "third",
           "third"
          ]
         ]
        ],
        [
         "56d2051ce7d4791d00902608",
         "Super_Bowl_50",
         "CBS broadcast Super Bowl 50 in the U.S., and charged an average of $5 million for a 30-second commercial during the game. The Super Bowl 50 halftime show was headlined by the British rock group Coldplay with special guest performers Beyoncé and Bruno Mars, who headlined the Super Bowl XLVII and Super Bowl XLVIII halftime shows, respectively. It was the third-most watched U.S. broadcast ever.",
         "What station aired the Super Bowl?",
         [
          [
           0,
           0,
           0
          ],
          [
           "CBS",
           "CBS",
           "CBS"
          ]
         ]
        ],
        [
         "56d2051ce7d4791d00902609",
         "Super_Bowl_50",
         "CBS broadcast Super Bowl 50 in the U.S., and charged an average of $5 million for a 30-second commercial during the game. The Super Bowl 50 halftime show was headlined by the British rock group Coldplay with special guest performers Beyoncé and Bruno Mars, who headlined the Super Bowl XLVII and Super Bowl XLVIII halftime shows, respectively. It was the third-most watched U.S. broadcast ever.",
         "How much money did a 1/2 minute commercial cost?",
         [
          [
           67,
           67,
           67
          ],
          [
           "$5 million",
           "$5 million",
           "$5 million"
          ]
         ]
        ],
        [
         "56d2051ce7d4791d0090260a",
         "Super_Bowl_50",
         "CBS broadcast Super Bowl 50 in the U.S., and charged an average of $5 million for a 30-second commercial during the game. The Super Bowl 50 halftime show was headlined by the British rock group Coldplay with special guest performers Beyoncé and Bruno Mars, who headlined the Super Bowl XLVII and Super Bowl XLVIII halftime shows, respectively. It was the third-most watched U.S. broadcast ever.",
         "What band headlined half-time during Super Bowl 50?",
         [
          [
           194,
           194,
           194
          ],
          [
           "Coldplay",
           "Coldplay",
           "Coldplay"
          ]
         ]
        ],
        [
         "56d2051ce7d4791d0090260b",
         "Super_Bowl_50",
         "CBS broadcast Super Bowl 50 in the U.S., and charged an average of $5 million for a 30-second commercial during the game. The Super Bowl 50 halftime show was headlined by the British rock group Coldplay with special guest performers Beyoncé and Bruno Mars, who headlined the Super Bowl XLVII and Super Bowl XLVIII halftime shows, respectively. It was the third-most watched U.S. broadcast ever.",
         "What two artists came out with Coldplay during the half-time show?",
         [
          [
           233,
           233,
           233
          ],
          [
           "Beyoncé and Bruno Mars",
           "Beyoncé and Bruno Mars",
           "Beyoncé and Bruno Mars"
          ]
         ]
        ],
        [
         "56d602631c85041400946ed8",
         "Super_Bowl_50",
         "CBS broadcast Super Bowl 50 in the U.S., and charged an average of $5 million for a 30-second commercial during the game. The Super Bowl 50 halftime show was headlined by the British rock group Coldplay with special guest performers Beyoncé and Bruno Mars, who headlined the Super Bowl XLVII and Super Bowl XLVIII halftime shows, respectively. It was the third-most watched U.S. broadcast ever.",
         "Who broadcast the Super Bowl on TV?",
         [
          [
           0,
           0,
           0
          ],
          [
           "CBS",
           "CBS",
           "CBS"
          ]
         ]
        ],
        [
         "56d602631c85041400946eda",
         "Super_Bowl_50",
         "CBS broadcast Super Bowl 50 in the U.S., and charged an average of $5 million for a 30-second commercial during the game. The Super Bowl 50 halftime show was headlined by the British rock group Coldplay with special guest performers Beyoncé and Bruno Mars, who headlined the Super Bowl XLVII and Super Bowl XLVIII halftime shows, respectively. It was the third-most watched U.S. broadcast ever.",
         "Who headlined the halftime show for Super Bowl 50?",
         [
          [
           194,
           194,
           194
          ],
          [
           "Coldplay",
           "Coldplay",
           "Coldplay"
          ]
         ]
        ]
       ],
       "datasetInfos": [],
       "dbfsResultPath": null,
       "isJsonSchema": true,
       "metadata": {},
       "overflow": false,
       "plotOptions": {
        "customPlotOptions": {},
        "displayType": "table",
        "pivotAggregation": null,
        "pivotColumns": null,
        "xColumns": null,
        "yColumns": null
       },
       "removedWidgets": [],
       "schema": [
        {
         "metadata": "{}",
         "name": "id",
         "type": "\"string\""
        },
        {
         "metadata": "{}",
         "name": "title",
         "type": "\"string\""
        },
        {
         "metadata": "{}",
         "name": "context",
         "type": "\"string\""
        },
        {
         "metadata": "{}",
         "name": "question",
         "type": "\"string\""
        },
        {
         "metadata": "{}",
         "name": "answers",
         "type": "{\"type\":\"struct\",\"fields\":[{\"name\":\"answer_start\",\"type\":{\"type\":\"array\",\"elementType\":\"integer\",\"containsNull\":true},\"nullable\":true,\"metadata\":{}},{\"name\":\"text\",\"type\":{\"type\":\"array\",\"elementType\":\"string\",\"containsNull\":true},\"nullable\":true,\"metadata\":{}}]}"
        }
       ],
       "type": "table"
      }
     },
     "output_type": "display_data"
    }
   ],
   "source": [
    "display(prod_data_df)"
   ]
  },
  {
   "cell_type": "code",
   "execution_count": 0,
   "metadata": {
    "application/vnd.databricks.v1+cell": {
     "cellMetadata": {
      "byteLimit": 2048000,
      "rowLimit": 10000
     },
     "inputWidgets": {},
     "nuid": "bec59554-5ba1-4dba-9920-43161a761a5d",
     "showTitle": false,
     "tableResultSettingsMap": {},
     "title": ""
    }
   },
   "outputs": [
    {
     "output_type": "display_data",
     "data": {
      "application/vnd.jupyter.widget-view+json": {
       "model_id": "0866f238bc2e495ebbd0437df58c9476",
       "version_major": 2,
       "version_minor": 0
      },
      "text/plain": [
       "Downloading artifacts:   0%|          | 0/20 [00:00<?, ?it/s]"
      ]
     },
     "metadata": {},
     "output_type": "display_data"
    },
    {
     "output_type": "stream",
     "name": "stderr",
     "output_type": "stream",
     "text": [
      "WARNING:urllib3.connectionpool:Connection pool is full, discarding connection: unity-catalogs-us-west-2.s3.us-west-2.amazonaws.com. Connection pool size: 10\nWARNING:urllib3.connectionpool:Connection pool is full, discarding connection: unity-catalogs-us-west-2.s3.us-west-2.amazonaws.com. Connection pool size: 10\nWARNING:urllib3.connectionpool:Connection pool is full, discarding connection: unity-catalogs-us-west-2.s3.us-west-2.amazonaws.com. Connection pool size: 10\nWARNING:urllib3.connectionpool:Connection pool is full, discarding connection: unity-catalogs-us-west-2.s3.us-west-2.amazonaws.com. Connection pool size: 10\n"
     ]
    },
    {
     "output_type": "stream",
     "name": "stdout",
     "output_type": "stream",
     "text": [
      "[['Denver Broncos'], ['American Football Conference']]\n"
     ]
    }
   ],
   "source": [
    "##\n",
    "## Load the latest version of the model from MLflow using the provided model URI\n",
    "latest_model = mlflow.pyfunc.load_model(model_uri=f\"models:/{model_name}/{current_model_version}\")\n",
    "\n",
    "## Convert the first two rows of the DataFrame to a Pandas DataFrame for easier manipulation\n",
    "prod_data_sample_pdf = prod_data_df.limit(2).toPandas()\n",
    "\n",
    "## Define a list of questions to be answered by the model\n",
    "questions = [\"Which NFL team represented the AFC at Super Bowl 50?\", \"What is the AFC short for?\"]\n",
    "\n",
    "## Generate answers for each question by applying the loaded model on the context provided in the DataFrame\n",
    "qa_results = [latest_model.predict({\"question\": q, \"context\": doc}) for q, doc in zip(questions, prod_data_sample_pdf[\"context\"])]\n",
    "\n",
    "## Import the pprint function for formatted display of objects\n",
    "from pprint import pprint\n",
    "\n",
    "## Print each result in a formatted manner using pprint for better readability\n",
    "print(qa_results)"
   ]
  },
  {
   "cell_type": "markdown",
   "metadata": {
    "application/vnd.databricks.v1+cell": {
     "cellMetadata": {
      "byteLimit": 2048000,
      "rowLimit": 10000
     },
     "inputWidgets": {},
     "nuid": "68416604-37be-4405-876f-93e98a01cef6",
     "showTitle": false,
     "tableResultSettingsMap": {},
     "title": ""
    }
   },
   "source": [
    "###4.3: Multi-node Batch Inference\n",
    "Scale the inference process using Spark to simulate real-world, large-scale data handling scenarios.\n"
   ]
  },
  {
   "cell_type": "code",
   "execution_count": 0,
   "metadata": {
    "application/vnd.databricks.v1+cell": {
     "cellMetadata": {
      "byteLimit": 2048000,
      "rowLimit": 10000
     },
     "inputWidgets": {},
     "nuid": "0b19974d-d411-4c5d-acb8-070f934efa98",
     "showTitle": false,
     "tableResultSettingsMap": {},
     "title": ""
    }
   },
   "outputs": [
    {
     "output_type": "display_data",
     "data": {
      "application/vnd.jupyter.widget-view+json": {
       "model_id": "d04a4ffcf5804fe8a74c85a7eb4d0492",
       "version_major": 2,
       "version_minor": 0
      },
      "text/plain": [
       "Downloading artifacts:   0%|          | 0/1 [00:00<?, ?it/s]"
      ]
     },
     "metadata": {},
     "output_type": "display_data"
    },
    {
     "output_type": "display_data",
     "data": {
      "application/vnd.jupyter.widget-view+json": {
       "model_id": "42d082866e4841269b7c5c45c3250c1a",
       "version_major": 2,
       "version_minor": 0
      },
      "text/plain": [
       "Downloading artifacts:   0%|          | 0/20 [00:00<?, ?it/s]"
      ]
     },
     "metadata": {},
     "output_type": "display_data"
    },
    {
     "output_type": "stream",
     "name": "stderr",
     "output_type": "stream",
     "text": [
      "WARNING:urllib3.connectionpool:Connection pool is full, discarding connection: unity-catalogs-us-west-2.s3.us-west-2.amazonaws.com. Connection pool size: 10\nWARNING:urllib3.connectionpool:Connection pool is full, discarding connection: unity-catalogs-us-west-2.s3.us-west-2.amazonaws.com. Connection pool size: 10\nWARNING:urllib3.connectionpool:Connection pool is full, discarding connection: unity-catalogs-us-west-2.s3.us-west-2.amazonaws.com. Connection pool size: 10\n2025/08/13 04:15:45 WARNING mlflow.pyfunc: Calling `spark_udf()` with `env_manager=\"local\"` does not recreate the same environment that was used during training, which may lead to errors or inaccurate predictions. We recommend specifying `env_manager=\"conda\"`, which automatically recreates the environment that was used to train the model and performs inference in the recreated environment.\n"
     ]
    },
    {
     "output_type": "display_data",
     "data": {
      "application/vnd.jupyter.widget-view+json": {
       "model_id": "19da521a56994278ae03a2a6b11b9a0e",
       "version_major": 2,
       "version_minor": 0
      },
      "text/plain": [
       "Downloading artifacts:   0%|          | 0/21 [00:00<?, ?it/s]"
      ]
     },
     "metadata": {},
     "output_type": "display_data"
    },
    {
     "output_type": "stream",
     "name": "stderr",
     "output_type": "stream",
     "text": [
      "2025/08/13 04:15:45 INFO mlflow.models.flavor_backend_registry: Selected backend for flavor 'python_function'\n"
     ]
    },
    {
     "output_type": "display_data",
     "data": {
      "text/html": [
       "<style scoped>\n",
       "  .table-result-container {\n",
       "    max-height: 300px;\n",
       "    overflow: auto;\n",
       "  }\n",
       "  table, th, td {\n",
       "    border: 1px solid black;\n",
       "    border-collapse: collapse;\n",
       "  }\n",
       "  th, td {\n",
       "    padding: 5px;\n",
       "  }\n",
       "  th {\n",
       "    text-align: left;\n",
       "  }\n",
       "</style><div class='table-result-container'><table class='table-result'><thead style='background-color: white'><tr><th>id</th><th>title</th><th>context</th><th>question</th><th>answers</th><th>generated_answer</th></tr></thead><tbody><tr><td>56be4db0acb8001400a502ec</td><td>Super_Bowl_50</td><td>Super Bowl 50 was an American football game to determine the champion of the National Football League (NFL) for the 2015 season. The American Football Conference (AFC) champion Denver Broncos defeated the National Football Conference (NFC) champion Carolina Panthers 24–10 to earn their third Super Bowl title. The game was played on February 7, 2016, at Levi's Stadium in the San Francisco Bay Area at Santa Clara, California. As this was the 50th Super Bowl, the league emphasized the \"golden anniversary\" with various gold-themed initiatives, as well as temporarily suspending the tradition of naming each Super Bowl game with Roman numerals (under which the game would have been known as \"Super Bowl L\"), so that the logo could prominently feature the Arabic numerals 50.</td><td>Which NFL team represented the AFC at Super Bowl 50?</td><td>List(List(177, 177, 177), List(Denver Broncos, Denver Broncos, Denver Broncos))</td><td>Denver Broncos</td></tr><tr><td>56be4db0acb8001400a502ed</td><td>Super_Bowl_50</td><td>Super Bowl 50 was an American football game to determine the champion of the National Football League (NFL) for the 2015 season. The American Football Conference (AFC) champion Denver Broncos defeated the National Football Conference (NFC) champion Carolina Panthers 24–10 to earn their third Super Bowl title. The game was played on February 7, 2016, at Levi's Stadium in the San Francisco Bay Area at Santa Clara, California. As this was the 50th Super Bowl, the league emphasized the \"golden anniversary\" with various gold-themed initiatives, as well as temporarily suspending the tradition of naming each Super Bowl game with Roman numerals (under which the game would have been known as \"Super Bowl L\"), so that the logo could prominently feature the Arabic numerals 50.</td><td>Which NFL team represented the NFC at Super Bowl 50?</td><td>List(List(249, 249, 249), List(Carolina Panthers, Carolina Panthers, Carolina Panthers))</td><td>Carolina Panthers</td></tr><tr><td>56be4db0acb8001400a502ee</td><td>Super_Bowl_50</td><td>Super Bowl 50 was an American football game to determine the champion of the National Football League (NFL) for the 2015 season. The American Football Conference (AFC) champion Denver Broncos defeated the National Football Conference (NFC) champion Carolina Panthers 24–10 to earn their third Super Bowl title. The game was played on February 7, 2016, at Levi's Stadium in the San Francisco Bay Area at Santa Clara, California. As this was the 50th Super Bowl, the league emphasized the \"golden anniversary\" with various gold-themed initiatives, as well as temporarily suspending the tradition of naming each Super Bowl game with Roman numerals (under which the game would have been known as \"Super Bowl L\"), so that the logo could prominently feature the Arabic numerals 50.</td><td>Where did Super Bowl 50 take place?</td><td>List(List(403, 355, 355), List(Santa Clara, California, Levi's Stadium, Levi's Stadium in the San Francisco Bay Area at Santa Clara, California.))</td><td>Levi's Stadium in the San Francisco Bay Area at Santa Clara, California</td></tr><tr><td>56be4db0acb8001400a502ef</td><td>Super_Bowl_50</td><td>Super Bowl 50 was an American football game to determine the champion of the National Football League (NFL) for the 2015 season. The American Football Conference (AFC) champion Denver Broncos defeated the National Football Conference (NFC) champion Carolina Panthers 24–10 to earn their third Super Bowl title. The game was played on February 7, 2016, at Levi's Stadium in the San Francisco Bay Area at Santa Clara, California. As this was the 50th Super Bowl, the league emphasized the \"golden anniversary\" with various gold-themed initiatives, as well as temporarily suspending the tradition of naming each Super Bowl game with Roman numerals (under which the game would have been known as \"Super Bowl L\"), so that the logo could prominently feature the Arabic numerals 50.</td><td>Which NFL team won Super Bowl 50?</td><td>List(List(177, 177, 177), List(Denver Broncos, Denver Broncos, Denver Broncos))</td><td>Carolina Panthers</td></tr><tr><td>56be4db0acb8001400a502f0</td><td>Super_Bowl_50</td><td>Super Bowl 50 was an American football game to determine the champion of the National Football League (NFL) for the 2015 season. The American Football Conference (AFC) champion Denver Broncos defeated the National Football Conference (NFC) champion Carolina Panthers 24–10 to earn their third Super Bowl title. The game was played on February 7, 2016, at Levi's Stadium in the San Francisco Bay Area at Santa Clara, California. As this was the 50th Super Bowl, the league emphasized the \"golden anniversary\" with various gold-themed initiatives, as well as temporarily suspending the tradition of naming each Super Bowl game with Roman numerals (under which the game would have been known as \"Super Bowl L\"), so that the logo could prominently feature the Arabic numerals 50.</td><td>What color was used to emphasize the 50th anniversary of the Super Bowl?</td><td>List(List(488, 488, 521), List(gold, gold, gold))</td><td>gold</td></tr><tr><td>56be8e613aeaaa14008c90d1</td><td>Super_Bowl_50</td><td>Super Bowl 50 was an American football game to determine the champion of the National Football League (NFL) for the 2015 season. The American Football Conference (AFC) champion Denver Broncos defeated the National Football Conference (NFC) champion Carolina Panthers 24–10 to earn their third Super Bowl title. The game was played on February 7, 2016, at Levi's Stadium in the San Francisco Bay Area at Santa Clara, California. As this was the 50th Super Bowl, the league emphasized the \"golden anniversary\" with various gold-themed initiatives, as well as temporarily suspending the tradition of naming each Super Bowl game with Roman numerals (under which the game would have been known as \"Super Bowl L\"), so that the logo could prominently feature the Arabic numerals 50.</td><td>What was the theme of Super Bowl 50?</td><td>List(List(487, 521, 487), List(\"golden anniversary\", gold-themed, \"golden anniversary))</td><td>golden anniversary</td></tr><tr><td>56be8e613aeaaa14008c90d2</td><td>Super_Bowl_50</td><td>Super Bowl 50 was an American football game to determine the champion of the National Football League (NFL) for the 2015 season. The American Football Conference (AFC) champion Denver Broncos defeated the National Football Conference (NFC) champion Carolina Panthers 24–10 to earn their third Super Bowl title. The game was played on February 7, 2016, at Levi's Stadium in the San Francisco Bay Area at Santa Clara, California. As this was the 50th Super Bowl, the league emphasized the \"golden anniversary\" with various gold-themed initiatives, as well as temporarily suspending the tradition of naming each Super Bowl game with Roman numerals (under which the game would have been known as \"Super Bowl L\"), so that the logo could prominently feature the Arabic numerals 50.</td><td>What day was the game played on?</td><td>List(List(334, 334, 334), List(February 7, 2016, February 7, February 7, 2016))</td><td>February 7, 2016</td></tr><tr><td>56be8e613aeaaa14008c90d3</td><td>Super_Bowl_50</td><td>Super Bowl 50 was an American football game to determine the champion of the National Football League (NFL) for the 2015 season. The American Football Conference (AFC) champion Denver Broncos defeated the National Football Conference (NFC) champion Carolina Panthers 24–10 to earn their third Super Bowl title. The game was played on February 7, 2016, at Levi's Stadium in the San Francisco Bay Area at Santa Clara, California. As this was the 50th Super Bowl, the league emphasized the \"golden anniversary\" with various gold-themed initiatives, as well as temporarily suspending the tradition of naming each Super Bowl game with Roman numerals (under which the game would have been known as \"Super Bowl L\"), so that the logo could prominently feature the Arabic numerals 50.</td><td>What is the AFC short for?</td><td>List(List(133, 133, 133), List(American Football Conference, American Football Conference, American Football Conference))</td><td>American Football Conference</td></tr><tr><td>56bea9923aeaaa14008c91b9</td><td>Super_Bowl_50</td><td>Super Bowl 50 was an American football game to determine the champion of the National Football League (NFL) for the 2015 season. The American Football Conference (AFC) champion Denver Broncos defeated the National Football Conference (NFC) champion Carolina Panthers 24–10 to earn their third Super Bowl title. The game was played on February 7, 2016, at Levi's Stadium in the San Francisco Bay Area at Santa Clara, California. As this was the 50th Super Bowl, the league emphasized the \"golden anniversary\" with various gold-themed initiatives, as well as temporarily suspending the tradition of naming each Super Bowl game with Roman numerals (under which the game would have been known as \"Super Bowl L\"), so that the logo could prominently feature the Arabic numerals 50.</td><td>What was the theme of Super Bowl 50?</td><td>List(List(487, 521, 521), List(\"golden anniversary\", gold-themed, gold))</td><td>golden anniversary</td></tr><tr><td>56bea9923aeaaa14008c91ba</td><td>Super_Bowl_50</td><td>Super Bowl 50 was an American football game to determine the champion of the National Football League (NFL) for the 2015 season. The American Football Conference (AFC) champion Denver Broncos defeated the National Football Conference (NFC) champion Carolina Panthers 24–10 to earn their third Super Bowl title. The game was played on February 7, 2016, at Levi's Stadium in the San Francisco Bay Area at Santa Clara, California. As this was the 50th Super Bowl, the league emphasized the \"golden anniversary\" with various gold-themed initiatives, as well as temporarily suspending the tradition of naming each Super Bowl game with Roman numerals (under which the game would have been known as \"Super Bowl L\"), so that the logo could prominently feature the Arabic numerals 50.</td><td>What does AFC stand for?</td><td>List(List(133, 133, 133), List(American Football Conference, American Football Conference, American Football Conference))</td><td>American Football Conference</td></tr><tr><td>56bea9923aeaaa14008c91bb</td><td>Super_Bowl_50</td><td>Super Bowl 50 was an American football game to determine the champion of the National Football League (NFL) for the 2015 season. The American Football Conference (AFC) champion Denver Broncos defeated the National Football Conference (NFC) champion Carolina Panthers 24–10 to earn their third Super Bowl title. The game was played on February 7, 2016, at Levi's Stadium in the San Francisco Bay Area at Santa Clara, California. As this was the 50th Super Bowl, the league emphasized the \"golden anniversary\" with various gold-themed initiatives, as well as temporarily suspending the tradition of naming each Super Bowl game with Roman numerals (under which the game would have been known as \"Super Bowl L\"), so that the logo could prominently feature the Arabic numerals 50.</td><td>What day was the Super Bowl played on?</td><td>List(List(334, 334, 334), List(February 7, 2016, February 7, February 7, 2016))</td><td>February 7, 2016</td></tr><tr><td>56beace93aeaaa14008c91df</td><td>Super_Bowl_50</td><td>Super Bowl 50 was an American football game to determine the champion of the National Football League (NFL) for the 2015 season. The American Football Conference (AFC) champion Denver Broncos defeated the National Football Conference (NFC) champion Carolina Panthers 24–10 to earn their third Super Bowl title. The game was played on February 7, 2016, at Levi's Stadium in the San Francisco Bay Area at Santa Clara, California. As this was the 50th Super Bowl, the league emphasized the \"golden anniversary\" with various gold-themed initiatives, as well as temporarily suspending the tradition of naming each Super Bowl game with Roman numerals (under which the game would have been known as \"Super Bowl L\"), so that the logo could prominently feature the Arabic numerals 50.</td><td>Who won Super Bowl 50?</td><td>List(List(177, 177, 177), List(Denver Broncos, Denver Broncos, Denver Broncos))</td><td>Denver Broncos</td></tr><tr><td>56beace93aeaaa14008c91e0</td><td>Super_Bowl_50</td><td>Super Bowl 50 was an American football game to determine the champion of the National Football League (NFL) for the 2015 season. The American Football Conference (AFC) champion Denver Broncos defeated the National Football Conference (NFC) champion Carolina Panthers 24–10 to earn their third Super Bowl title. The game was played on February 7, 2016, at Levi's Stadium in the San Francisco Bay Area at Santa Clara, California. As this was the 50th Super Bowl, the league emphasized the \"golden anniversary\" with various gold-themed initiatives, as well as temporarily suspending the tradition of naming each Super Bowl game with Roman numerals (under which the game would have been known as \"Super Bowl L\"), so that the logo could prominently feature the Arabic numerals 50.</td><td>What venue did Super Bowl 50 take place in?</td><td>List(List(355, 355, 355), List(Levi's Stadium, Levi's Stadium, Levi's Stadium in the San Francisco Bay Area at Santa Clara))</td><td>Levi's Stadium</td></tr><tr><td>56beace93aeaaa14008c91e1</td><td>Super_Bowl_50</td><td>Super Bowl 50 was an American football game to determine the champion of the National Football League (NFL) for the 2015 season. The American Football Conference (AFC) champion Denver Broncos defeated the National Football Conference (NFC) champion Carolina Panthers 24–10 to earn their third Super Bowl title. The game was played on February 7, 2016, at Levi's Stadium in the San Francisco Bay Area at Santa Clara, California. As this was the 50th Super Bowl, the league emphasized the \"golden anniversary\" with various gold-themed initiatives, as well as temporarily suspending the tradition of naming each Super Bowl game with Roman numerals (under which the game would have been known as \"Super Bowl L\"), so that the logo could prominently feature the Arabic numerals 50.</td><td>What city did Super Bowl 50 take place in?</td><td>List(List(403, 403, 403), List(Santa Clara, Santa Clara, Santa Clara))</td><td>Santa Clara, California</td></tr><tr><td>56beace93aeaaa14008c91e2</td><td>Super_Bowl_50</td><td>Super Bowl 50 was an American football game to determine the champion of the National Football League (NFL) for the 2015 season. The American Football Conference (AFC) champion Denver Broncos defeated the National Football Conference (NFC) champion Carolina Panthers 24–10 to earn their third Super Bowl title. The game was played on February 7, 2016, at Levi's Stadium in the San Francisco Bay Area at Santa Clara, California. As this was the 50th Super Bowl, the league emphasized the \"golden anniversary\" with various gold-themed initiatives, as well as temporarily suspending the tradition of naming each Super Bowl game with Roman numerals (under which the game would have been known as \"Super Bowl L\"), so that the logo could prominently feature the Arabic numerals 50.</td><td>If Roman numerals were used, what would Super Bowl 50 have been called?</td><td>List(List(693, 704, 693), List(Super Bowl L, L, Super Bowl L))</td><td>Super Bowl L</td></tr><tr><td>56beace93aeaaa14008c91e3</td><td>Super_Bowl_50</td><td>Super Bowl 50 was an American football game to determine the champion of the National Football League (NFL) for the 2015 season. The American Football Conference (AFC) champion Denver Broncos defeated the National Football Conference (NFC) champion Carolina Panthers 24–10 to earn their third Super Bowl title. The game was played on February 7, 2016, at Levi's Stadium in the San Francisco Bay Area at Santa Clara, California. As this was the 50th Super Bowl, the league emphasized the \"golden anniversary\" with various gold-themed initiatives, as well as temporarily suspending the tradition of naming each Super Bowl game with Roman numerals (under which the game would have been known as \"Super Bowl L\"), so that the logo could prominently feature the Arabic numerals 50.</td><td>Super Bowl 50 decided the NFL champion for what season?</td><td>List(List(116, 112, 116), List(2015, the 2015 season, 2015))</td><td>2015</td></tr><tr><td>56bf10f43aeaaa14008c94fd</td><td>Super_Bowl_50</td><td>Super Bowl 50 was an American football game to determine the champion of the National Football League (NFL) for the 2015 season. The American Football Conference (AFC) champion Denver Broncos defeated the National Football Conference (NFC) champion Carolina Panthers 24–10 to earn their third Super Bowl title. The game was played on February 7, 2016, at Levi's Stadium in the San Francisco Bay Area at Santa Clara, California. As this was the 50th Super Bowl, the league emphasized the \"golden anniversary\" with various gold-themed initiatives, as well as temporarily suspending the tradition of naming each Super Bowl game with Roman numerals (under which the game would have been known as \"Super Bowl L\"), so that the logo could prominently feature the Arabic numerals 50.</td><td>What year did the Denver Broncos secure a Super Bowl title for the third time?</td><td>List(List(116, 346, 116), List(2015, 2016, 2015))</td><td>2016</td></tr><tr><td>56bf10f43aeaaa14008c94fe</td><td>Super_Bowl_50</td><td>Super Bowl 50 was an American football game to determine the champion of the National Football League (NFL) for the 2015 season. The American Football Conference (AFC) champion Denver Broncos defeated the National Football Conference (NFC) champion Carolina Panthers 24–10 to earn their third Super Bowl title. The game was played on February 7, 2016, at Levi's Stadium in the San Francisco Bay Area at Santa Clara, California. As this was the 50th Super Bowl, the league emphasized the \"golden anniversary\" with various gold-themed initiatives, as well as temporarily suspending the tradition of naming each Super Bowl game with Roman numerals (under which the game would have been known as \"Super Bowl L\"), so that the logo could prominently feature the Arabic numerals 50.</td><td>What city did Super Bowl 50 take place in?</td><td>List(List(403, 403, 403), List(Santa Clara, Santa Clara, Santa Clara))</td><td>Santa Clara, California</td></tr><tr><td>56bf10f43aeaaa14008c94ff</td><td>Super_Bowl_50</td><td>Super Bowl 50 was an American football game to determine the champion of the National Football League (NFL) for the 2015 season. The American Football Conference (AFC) champion Denver Broncos defeated the National Football Conference (NFC) champion Carolina Panthers 24–10 to earn their third Super Bowl title. The game was played on February 7, 2016, at Levi's Stadium in the San Francisco Bay Area at Santa Clara, California. As this was the 50th Super Bowl, the league emphasized the \"golden anniversary\" with various gold-themed initiatives, as well as temporarily suspending the tradition of naming each Super Bowl game with Roman numerals (under which the game would have been known as \"Super Bowl L\"), so that the logo could prominently feature the Arabic numerals 50.</td><td>What stadium did Super Bowl 50 take place in?</td><td>List(List(355, 355, 355), List(Levi's Stadium, Levi's Stadium, Levi's Stadium))</td><td>Levi's Stadium</td></tr><tr><td>56bf10f43aeaaa14008c9500</td><td>Super_Bowl_50</td><td>Super Bowl 50 was an American football game to determine the champion of the National Football League (NFL) for the 2015 season. The American Football Conference (AFC) champion Denver Broncos defeated the National Football Conference (NFC) champion Carolina Panthers 24–10 to earn their third Super Bowl title. The game was played on February 7, 2016, at Levi's Stadium in the San Francisco Bay Area at Santa Clara, California. As this was the 50th Super Bowl, the league emphasized the \"golden anniversary\" with various gold-themed initiatives, as well as temporarily suspending the tradition of naming each Super Bowl game with Roman numerals (under which the game would have been known as \"Super Bowl L\"), so that the logo could prominently feature the Arabic numerals 50.</td><td>What was the final score of Super Bowl 50? </td><td>List(List(267, 267, 267), List(24–10, 24–10, 24–10))</td><td>24–10</td></tr><tr><td>56bf10f43aeaaa14008c9501</td><td>Super_Bowl_50</td><td>Super Bowl 50 was an American football game to determine the champion of the National Football League (NFL) for the 2015 season. The American Football Conference (AFC) champion Denver Broncos defeated the National Football Conference (NFC) champion Carolina Panthers 24–10 to earn their third Super Bowl title. The game was played on February 7, 2016, at Levi's Stadium in the San Francisco Bay Area at Santa Clara, California. As this was the 50th Super Bowl, the league emphasized the \"golden anniversary\" with various gold-themed initiatives, as well as temporarily suspending the tradition of naming each Super Bowl game with Roman numerals (under which the game would have been known as \"Super Bowl L\"), so that the logo could prominently feature the Arabic numerals 50.</td><td>What month, day and year did Super Bowl 50 take place? </td><td>List(List(334, 334, 334), List(February 7, 2016, February 7, 2016, February 7, 2016))</td><td>February 7, 2016</td></tr><tr><td>56d20362e7d4791d009025e8</td><td>Super_Bowl_50</td><td>Super Bowl 50 was an American football game to determine the champion of the National Football League (NFL) for the 2015 season. The American Football Conference (AFC) champion Denver Broncos defeated the National Football Conference (NFC) champion Carolina Panthers 24–10 to earn their third Super Bowl title. The game was played on February 7, 2016, at Levi's Stadium in the San Francisco Bay Area at Santa Clara, California. As this was the 50th Super Bowl, the league emphasized the \"golden anniversary\" with various gold-themed initiatives, as well as temporarily suspending the tradition of naming each Super Bowl game with Roman numerals (under which the game would have been known as \"Super Bowl L\"), so that the logo could prominently feature the Arabic numerals 50.</td><td>What year was Super Bowl 50?</td><td>List(List(116, 346, 346), List(2015, 2016, 2016))</td><td>2015</td></tr><tr><td>56d20362e7d4791d009025e9</td><td>Super_Bowl_50</td><td>Super Bowl 50 was an American football game to determine the champion of the National Football League (NFL) for the 2015 season. The American Football Conference (AFC) champion Denver Broncos defeated the National Football Conference (NFC) champion Carolina Panthers 24–10 to earn their third Super Bowl title. The game was played on February 7, 2016, at Levi's Stadium in the San Francisco Bay Area at Santa Clara, California. As this was the 50th Super Bowl, the league emphasized the \"golden anniversary\" with various gold-themed initiatives, as well as temporarily suspending the tradition of naming each Super Bowl game with Roman numerals (under which the game would have been known as \"Super Bowl L\"), so that the logo could prominently feature the Arabic numerals 50.</td><td>What team was the AFC champion?</td><td>List(List(177, 177, 177), List(Denver Broncos, Denver Broncos, Denver Broncos))</td><td>Denver Broncos</td></tr><tr><td>56d20362e7d4791d009025ea</td><td>Super_Bowl_50</td><td>Super Bowl 50 was an American football game to determine the champion of the National Football League (NFL) for the 2015 season. The American Football Conference (AFC) champion Denver Broncos defeated the National Football Conference (NFC) champion Carolina Panthers 24–10 to earn their third Super Bowl title. The game was played on February 7, 2016, at Levi's Stadium in the San Francisco Bay Area at Santa Clara, California. As this was the 50th Super Bowl, the league emphasized the \"golden anniversary\" with various gold-themed initiatives, as well as temporarily suspending the tradition of naming each Super Bowl game with Roman numerals (under which the game would have been known as \"Super Bowl L\"), so that the logo could prominently feature the Arabic numerals 50.</td><td>What team was the NFC champion?</td><td>List(List(249, 249, 249), List(Carolina Panthers, Carolina Panthers, Carolina Panthers))</td><td>Carolina Panthers</td></tr><tr><td>56d20362e7d4791d009025eb</td><td>Super_Bowl_50</td><td>Super Bowl 50 was an American football game to determine the champion of the National Football League (NFL) for the 2015 season. The American Football Conference (AFC) champion Denver Broncos defeated the National Football Conference (NFC) champion Carolina Panthers 24–10 to earn their third Super Bowl title. The game was played on February 7, 2016, at Levi's Stadium in the San Francisco Bay Area at Santa Clara, California. As this was the 50th Super Bowl, the league emphasized the \"golden anniversary\" with various gold-themed initiatives, as well as temporarily suspending the tradition of naming each Super Bowl game with Roman numerals (under which the game would have been known as \"Super Bowl L\"), so that the logo could prominently feature the Arabic numerals 50.</td><td>Who won Super Bowl 50?</td><td>List(List(177, 177, 177), List(Denver Broncos, Denver Broncos, Denver Broncos))</td><td>Denver Broncos</td></tr><tr><td>56d600e31c85041400946eae</td><td>Super_Bowl_50</td><td>Super Bowl 50 was an American football game to determine the champion of the National Football League (NFL) for the 2015 season. The American Football Conference (AFC) champion Denver Broncos defeated the National Football Conference (NFC) champion Carolina Panthers 24–10 to earn their third Super Bowl title. The game was played on February 7, 2016, at Levi's Stadium in the San Francisco Bay Area at Santa Clara, California. As this was the 50th Super Bowl, the league emphasized the \"golden anniversary\" with various gold-themed initiatives, as well as temporarily suspending the tradition of naming each Super Bowl game with Roman numerals (under which the game would have been known as \"Super Bowl L\"), so that the logo could prominently feature the Arabic numerals 50.</td><td>Super Bowl 50 determined the NFL champion for what season?</td><td>List(List(116, 112, 116), List(2015, the 2015 season, 2015))</td><td>2015</td></tr><tr><td>56d600e31c85041400946eb0</td><td>Super_Bowl_50</td><td>Super Bowl 50 was an American football game to determine the champion of the National Football League (NFL) for the 2015 season. The American Football Conference (AFC) champion Denver Broncos defeated the National Football Conference (NFC) champion Carolina Panthers 24–10 to earn their third Super Bowl title. The game was played on February 7, 2016, at Levi's Stadium in the San Francisco Bay Area at Santa Clara, California. As this was the 50th Super Bowl, the league emphasized the \"golden anniversary\" with various gold-themed initiatives, as well as temporarily suspending the tradition of naming each Super Bowl game with Roman numerals (under which the game would have been known as \"Super Bowl L\"), so that the logo could prominently feature the Arabic numerals 50.</td><td>Which team won Super Bowl 50.</td><td>List(List(177, 177, 177), List(Denver Broncos, Denver Broncos, Denver Broncos))</td><td>Carolina Panthers</td></tr><tr><td>56d600e31c85041400946eb1</td><td>Super_Bowl_50</td><td>Super Bowl 50 was an American football game to determine the champion of the National Football League (NFL) for the 2015 season. The American Football Conference (AFC) champion Denver Broncos defeated the National Football Conference (NFC) champion Carolina Panthers 24–10 to earn their third Super Bowl title. The game was played on February 7, 2016, at Levi's Stadium in the San Francisco Bay Area at Santa Clara, California. As this was the 50th Super Bowl, the league emphasized the \"golden anniversary\" with various gold-themed initiatives, as well as temporarily suspending the tradition of naming each Super Bowl game with Roman numerals (under which the game would have been known as \"Super Bowl L\"), so that the logo could prominently feature the Arabic numerals 50.</td><td>Where was Super Bowl 50 held?</td><td>List(List(403, 355, 355), List(Santa Clara, California., Levi's Stadium, Levi's Stadium))</td><td>Levi's Stadium</td></tr><tr><td>56d9895ddc89441400fdb50e</td><td>Super_Bowl_50</td><td>Super Bowl 50 was an American football game to determine the champion of the National Football League (NFL) for the 2015 season. The American Football Conference (AFC) champion Denver Broncos defeated the National Football Conference (NFC) champion Carolina Panthers 24–10 to earn their third Super Bowl title. The game was played on February 7, 2016, at Levi's Stadium in the San Francisco Bay Area at Santa Clara, California. As this was the 50th Super Bowl, the league emphasized the \"golden anniversary\" with various gold-themed initiatives, as well as temporarily suspending the tradition of naming each Super Bowl game with Roman numerals (under which the game would have been known as \"Super Bowl L\"), so that the logo could prominently feature the Arabic numerals 50.</td><td>The name of the NFL championship game is?</td><td>List(List(0, 0, 0), List(Super Bowl, Super Bowl, Super Bowl))</td><td>Super Bowl 50</td></tr><tr><td>56d9895ddc89441400fdb510</td><td>Super_Bowl_50</td><td>Super Bowl 50 was an American football game to determine the champion of the National Football League (NFL) for the 2015 season. The American Football Conference (AFC) champion Denver Broncos defeated the National Football Conference (NFC) champion Carolina Panthers 24–10 to earn their third Super Bowl title. The game was played on February 7, 2016, at Levi's Stadium in the San Francisco Bay Area at Santa Clara, California. As this was the 50th Super Bowl, the league emphasized the \"golden anniversary\" with various gold-themed initiatives, as well as temporarily suspending the tradition of naming each Super Bowl game with Roman numerals (under which the game would have been known as \"Super Bowl L\"), so that the logo could prominently feature the Arabic numerals 50.</td><td>What 2015 NFL team one the AFC playoff?</td><td>List(List(177, 177, 177), List(Denver Broncos, Denver Broncos, Denver Broncos))</td><td>Denver Broncos</td></tr><tr><td>56be4e1facb8001400a502f6</td><td>Super_Bowl_50</td><td>The Panthers finished the regular season with a 15–1 record, and quarterback Cam Newton was named the NFL Most Valuable Player (MVP). They defeated the Arizona Cardinals 49–15 in the NFC Championship Game and advanced to their second Super Bowl appearance since the franchise was founded in 1995. The Broncos finished the regular season with a 12–4 record, and denied the New England Patriots a chance to defend their title from Super Bowl XLIX by defeating them 20–18 in the AFC Championship Game. They joined the Patriots, Dallas Cowboys, and Pittsburgh Steelers as one of four teams that have made eight appearances in the Super Bowl.</td><td>Which Carolina Panthers player was named Most Valuable Player?</td><td>List(List(77, 77, 77), List(Cam Newton, Cam Newton, Cam Newton))</td><td>Cam Newton</td></tr><tr><td>56be4e1facb8001400a502f9</td><td>Super_Bowl_50</td><td>The Panthers finished the regular season with a 15–1 record, and quarterback Cam Newton was named the NFL Most Valuable Player (MVP). They defeated the Arizona Cardinals 49–15 in the NFC Championship Game and advanced to their second Super Bowl appearance since the franchise was founded in 1995. The Broncos finished the regular season with a 12–4 record, and denied the New England Patriots a chance to defend their title from Super Bowl XLIX by defeating them 20–18 in the AFC Championship Game. They joined the Patriots, Dallas Cowboys, and Pittsburgh Steelers as one of four teams that have made eight appearances in the Super Bowl.</td><td>How many appearances have the Denver Broncos made in the Super Bowl?</td><td>List(List(467, 601, 601), List(8, eight, eight))</td><td>eight</td></tr><tr><td>56be4e1facb8001400a502fa</td><td>Super_Bowl_50</td><td>The Panthers finished the regular season with a 15–1 record, and quarterback Cam Newton was named the NFL Most Valuable Player (MVP). They defeated the Arizona Cardinals 49–15 in the NFC Championship Game and advanced to their second Super Bowl appearance since the franchise was founded in 1995. The Broncos finished the regular season with a 12–4 record, and denied the New England Patriots a chance to defend their title from Super Bowl XLIX by defeating them 20–18 in the AFC Championship Game. They joined the Patriots, Dallas Cowboys, and Pittsburgh Steelers as one of four teams that have made eight appearances in the Super Bowl.</td><td>What year was the Carolina Panthers franchise founded?</td><td>List(List(291, 291, 291), List(1995, 1995, 1995))</td><td>1995</td></tr><tr><td>56beaa4a3aeaaa14008c91c2</td><td>Super_Bowl_50</td><td>The Panthers finished the regular season with a 15–1 record, and quarterback Cam Newton was named the NFL Most Valuable Player (MVP). They defeated the Arizona Cardinals 49–15 in the NFC Championship Game and advanced to their second Super Bowl appearance since the franchise was founded in 1995. The Broncos finished the regular season with a 12–4 record, and denied the New England Patriots a chance to defend their title from Super Bowl XLIX by defeating them 20–18 in the AFC Championship Game. They joined the Patriots, Dallas Cowboys, and Pittsburgh Steelers as one of four teams that have made eight appearances in the Super Bowl.</td><td>What team did the Panthers defeat?</td><td>List(List(152, 148, 152), List(Arizona Cardinals, the Arizona Cardinals, Arizona Cardinals))</td><td>Arizona Cardinals</td></tr><tr><td>56beaa4a3aeaaa14008c91c3</td><td>Super_Bowl_50</td><td>The Panthers finished the regular season with a 15–1 record, and quarterback Cam Newton was named the NFL Most Valuable Player (MVP). They defeated the Arizona Cardinals 49–15 in the NFC Championship Game and advanced to their second Super Bowl appearance since the franchise was founded in 1995. The Broncos finished the regular season with a 12–4 record, and denied the New England Patriots a chance to defend their title from Super Bowl XLIX by defeating them 20–18 in the AFC Championship Game. They joined the Patriots, Dallas Cowboys, and Pittsburgh Steelers as one of four teams that have made eight appearances in the Super Bowl.</td><td>Who did the Broncos prevent from going to the Super Bowl?</td><td>List(List(372, 368, 372), List(New England Patriots, the New England Patriots, New England Patriots))</td><td>New England Patriots</td></tr><tr><td>56bead5a3aeaaa14008c91e9</td><td>Super_Bowl_50</td><td>The Panthers finished the regular season with a 15–1 record, and quarterback Cam Newton was named the NFL Most Valuable Player (MVP). They defeated the Arizona Cardinals 49–15 in the NFC Championship Game and advanced to their second Super Bowl appearance since the franchise was founded in 1995. The Broncos finished the regular season with a 12–4 record, and denied the New England Patriots a chance to defend their title from Super Bowl XLIX by defeating them 20–18 in the AFC Championship Game. They joined the Patriots, Dallas Cowboys, and Pittsburgh Steelers as one of four teams that have made eight appearances in the Super Bowl.</td><td>Who did the Panthers beat in the NFC Championship Game?</td><td>List(List(152, 148, 152), List(Arizona Cardinals, the Arizona Cardinals, Arizona Cardinals))</td><td>Arizona Cardinals</td></tr><tr><td>56bead5a3aeaaa14008c91ea</td><td>Super_Bowl_50</td><td>The Panthers finished the regular season with a 15–1 record, and quarterback Cam Newton was named the NFL Most Valuable Player (MVP). They defeated the Arizona Cardinals 49–15 in the NFC Championship Game and advanced to their second Super Bowl appearance since the franchise was founded in 1995. The Broncos finished the regular season with a 12–4 record, and denied the New England Patriots a chance to defend their title from Super Bowl XLIX by defeating them 20–18 in the AFC Championship Game. They joined the Patriots, Dallas Cowboys, and Pittsburgh Steelers as one of four teams that have made eight appearances in the Super Bowl.</td><td>Who lost to the Broncos in the AFC Championship?</td><td>List(List(372, 368, 372), List(New England Patriots, the New England Patriots, New England Patriots))</td><td>Arizona Cardinals</td></tr><tr><td>56bead5a3aeaaa14008c91eb</td><td>Super_Bowl_50</td><td>The Panthers finished the regular season with a 15–1 record, and quarterback Cam Newton was named the NFL Most Valuable Player (MVP). They defeated the Arizona Cardinals 49–15 in the NFC Championship Game and advanced to their second Super Bowl appearance since the franchise was founded in 1995. The Broncos finished the regular season with a 12–4 record, and denied the New England Patriots a chance to defend their title from Super Bowl XLIX by defeating them 20–18 in the AFC Championship Game. They joined the Patriots, Dallas Cowboys, and Pittsburgh Steelers as one of four teams that have made eight appearances in the Super Bowl.</td><td>Who were the defending Super Bowl champions?</td><td>List(List(372, 368, 372), List(New England Patriots, the New England Patriots, New England Patriots))</td><td>New England Patriots</td></tr><tr><td>56bead5a3aeaaa14008c91ec</td><td>Super_Bowl_50</td><td>The Panthers finished the regular season with a 15–1 record, and quarterback Cam Newton was named the NFL Most Valuable Player (MVP). They defeated the Arizona Cardinals 49–15 in the NFC Championship Game and advanced to their second Super Bowl appearance since the franchise was founded in 1995. The Broncos finished the regular season with a 12–4 record, and denied the New England Patriots a chance to defend their title from Super Bowl XLIX by defeating them 20–18 in the AFC Championship Game. They joined the Patriots, Dallas Cowboys, and Pittsburgh Steelers as one of four teams that have made eight appearances in the Super Bowl.</td><td>How many teams have been in the Super Bowl eight times?</td><td>List(List(575, 575, 575), List(four, four, four))</td><td>four</td></tr><tr><td>56bead5a3aeaaa14008c91ed</td><td>Super_Bowl_50</td><td>The Panthers finished the regular season with a 15–1 record, and quarterback Cam Newton was named the NFL Most Valuable Player (MVP). They defeated the Arizona Cardinals 49–15 in the NFC Championship Game and advanced to their second Super Bowl appearance since the franchise was founded in 1995. The Broncos finished the regular season with a 12–4 record, and denied the New England Patriots a chance to defend their title from Super Bowl XLIX by defeating them 20–18 in the AFC Championship Game. They joined the Patriots, Dallas Cowboys, and Pittsburgh Steelers as one of four teams that have made eight appearances in the Super Bowl.</td><td>Who was this season's NFL MVP?</td><td>List(List(77, 77, 77), List(Cam Newton, Cam Newton, Cam Newton))</td><td>Cam Newton</td></tr><tr><td>56bf159b3aeaaa14008c9507</td><td>Super_Bowl_50</td><td>The Panthers finished the regular season with a 15–1 record, and quarterback Cam Newton was named the NFL Most Valuable Player (MVP). They defeated the Arizona Cardinals 49–15 in the NFC Championship Game and advanced to their second Super Bowl appearance since the franchise was founded in 1995. The Broncos finished the regular season with a 12–4 record, and denied the New England Patriots a chance to defend their title from Super Bowl XLIX by defeating them 20–18 in the AFC Championship Game. They joined the Patriots, Dallas Cowboys, and Pittsburgh Steelers as one of four teams that have made eight appearances in the Super Bowl.</td><td>What was the win/loss ratio in 2015 for the Carolina Panthers during their regular season?</td><td>List(List(48, 48, 48), List(15–1, 15–1, 15–1))</td><td>15–1</td></tr><tr><td>56bf159b3aeaaa14008c9508</td><td>Super_Bowl_50</td><td>The Panthers finished the regular season with a 15–1 record, and quarterback Cam Newton was named the NFL Most Valuable Player (MVP). They defeated the Arizona Cardinals 49–15 in the NFC Championship Game and advanced to their second Super Bowl appearance since the franchise was founded in 1995. The Broncos finished the regular season with a 12–4 record, and denied the New England Patriots a chance to defend their title from Super Bowl XLIX by defeating them 20–18 in the AFC Championship Game. They joined the Patriots, Dallas Cowboys, and Pittsburgh Steelers as one of four teams that have made eight appearances in the Super Bowl.</td><td>Which Carolina Panthers team member was picked as the team's MVP in 2015? </td><td>List(List(77, 77, 77), List(Cam Newton, Cam Newton, Cam Newton))</td><td>Cam Newton</td></tr><tr><td>56bf159b3aeaaa14008c9509</td><td>Super_Bowl_50</td><td>The Panthers finished the regular season with a 15–1 record, and quarterback Cam Newton was named the NFL Most Valuable Player (MVP). They defeated the Arizona Cardinals 49–15 in the NFC Championship Game and advanced to their second Super Bowl appearance since the franchise was founded in 1995. The Broncos finished the regular season with a 12–4 record, and denied the New England Patriots a chance to defend their title from Super Bowl XLIX by defeating them 20–18 in the AFC Championship Game. They joined the Patriots, Dallas Cowboys, and Pittsburgh Steelers as one of four teams that have made eight appearances in the Super Bowl.</td><td>What were the win/loss game stats for the Denver Bronco's regular season in 2015?</td><td>List(List(344, 344, 344), List(12–4, 12–4, 12–4))</td><td>15–1 record</td></tr><tr><td>56bf159b3aeaaa14008c950a</td><td>Super_Bowl_50</td><td>The Panthers finished the regular season with a 15–1 record, and quarterback Cam Newton was named the NFL Most Valuable Player (MVP). They defeated the Arizona Cardinals 49–15 in the NFC Championship Game and advanced to their second Super Bowl appearance since the franchise was founded in 1995. The Broncos finished the regular season with a 12–4 record, and denied the New England Patriots a chance to defend their title from Super Bowl XLIX by defeating them 20–18 in the AFC Championship Game. They joined the Patriots, Dallas Cowboys, and Pittsburgh Steelers as one of four teams that have made eight appearances in the Super Bowl.</td><td>How many teams have played in the Super Bowl eight times?</td><td>List(List(170, 575, 575), List(4, four, four))</td><td>four</td></tr><tr><td>56bf159b3aeaaa14008c950b</td><td>Super_Bowl_50</td><td>The Panthers finished the regular season with a 15–1 record, and quarterback Cam Newton was named the NFL Most Valuable Player (MVP). They defeated the Arizona Cardinals 49–15 in the NFC Championship Game and advanced to their second Super Bowl appearance since the franchise was founded in 1995. The Broncos finished the regular season with a 12–4 record, and denied the New England Patriots a chance to defend their title from Super Bowl XLIX by defeating them 20–18 in the AFC Championship Game. They joined the Patriots, Dallas Cowboys, and Pittsburgh Steelers as one of four teams that have made eight appearances in the Super Bowl.</td><td>Which team did not get a chance to defend their Super Bowl XLIX win in Super Bowl 50?</td><td>List(List(372, 368, 372), List(New England Patriots, the New England Patriots, New England Patriots))</td><td>New England Patriots</td></tr><tr><td>56d2045de7d4791d009025f3</td><td>Super_Bowl_50</td><td>The Panthers finished the regular season with a 15–1 record, and quarterback Cam Newton was named the NFL Most Valuable Player (MVP). They defeated the Arizona Cardinals 49–15 in the NFC Championship Game and advanced to their second Super Bowl appearance since the franchise was founded in 1995. The Broncos finished the regular season with a 12–4 record, and denied the New England Patriots a chance to defend their title from Super Bowl XLIX by defeating them 20–18 in the AFC Championship Game. They joined the Patriots, Dallas Cowboys, and Pittsburgh Steelers as one of four teams that have made eight appearances in the Super Bowl.</td><td>Who is the quarterback for the Panthers?</td><td>List(List(77, 77, 77), List(Cam Newton, Cam Newton, Cam Newton))</td><td>Cam Newton</td></tr><tr><td>56d2045de7d4791d009025f4</td><td>Super_Bowl_50</td><td>The Panthers finished the regular season with a 15–1 record, and quarterback Cam Newton was named the NFL Most Valuable Player (MVP). They defeated the Arizona Cardinals 49–15 in the NFC Championship Game and advanced to their second Super Bowl appearance since the franchise was founded in 1995. The Broncos finished the regular season with a 12–4 record, and denied the New England Patriots a chance to defend their title from Super Bowl XLIX by defeating them 20–18 in the AFC Championship Game. They joined the Patriots, Dallas Cowboys, and Pittsburgh Steelers as one of four teams that have made eight appearances in the Super Bowl.</td><td>Who did Carolina beat in the NFC championship game?</td><td>List(List(152, 148, 152), List(Arizona Cardinals, the Arizona Cardinals, Arizona Cardinals))</td><td>Arizona Cardinals</td></tr><tr><td>56d2045de7d4791d009025f5</td><td>Super_Bowl_50</td><td>The Panthers finished the regular season with a 15–1 record, and quarterback Cam Newton was named the NFL Most Valuable Player (MVP). They defeated the Arizona Cardinals 49–15 in the NFC Championship Game and advanced to their second Super Bowl appearance since the franchise was founded in 1995. The Broncos finished the regular season with a 12–4 record, and denied the New England Patriots a chance to defend their title from Super Bowl XLIX by defeating them 20–18 in the AFC Championship Game. They joined the Patriots, Dallas Cowboys, and Pittsburgh Steelers as one of four teams that have made eight appearances in the Super Bowl.</td><td>How many times have the Panthers been in the Super Bowl?</td><td>List(List(345, 227, 227), List(2, second, second))</td><td>eight</td></tr><tr><td>56d2045de7d4791d009025f6</td><td>Super_Bowl_50</td><td>The Panthers finished the regular season with a 15–1 record, and quarterback Cam Newton was named the NFL Most Valuable Player (MVP). They defeated the Arizona Cardinals 49–15 in the NFC Championship Game and advanced to their second Super Bowl appearance since the franchise was founded in 1995. The Broncos finished the regular season with a 12–4 record, and denied the New England Patriots a chance to defend their title from Super Bowl XLIX by defeating them 20–18 in the AFC Championship Game. They joined the Patriots, Dallas Cowboys, and Pittsburgh Steelers as one of four teams that have made eight appearances in the Super Bowl.</td><td>Who did Denver beat in the AFC championship?</td><td>List(List(372, 368, 372), List(New England Patriots, the New England Patriots, New England Patriots))</td><td>Arizona Cardinals</td></tr><tr><td>56d6017d1c85041400946ebe</td><td>Super_Bowl_50</td><td>The Panthers finished the regular season with a 15–1 record, and quarterback Cam Newton was named the NFL Most Valuable Player (MVP). They defeated the Arizona Cardinals 49–15 in the NFC Championship Game and advanced to their second Super Bowl appearance since the franchise was founded in 1995. The Broncos finished the regular season with a 12–4 record, and denied the New England Patriots a chance to defend their title from Super Bowl XLIX by defeating them 20–18 in the AFC Championship Game. They joined the Patriots, Dallas Cowboys, and Pittsburgh Steelers as one of four teams that have made eight appearances in the Super Bowl.</td><td>Who was the Most Valuable Player for the 2015 NFL season?</td><td>List(List(77, 77, 77), List(Cam Newton, Cam Newton, Cam Newton))</td><td>Cam Newton</td></tr><tr><td>56d6017d1c85041400946ec1</td><td>Super_Bowl_50</td><td>The Panthers finished the regular season with a 15–1 record, and quarterback Cam Newton was named the NFL Most Valuable Player (MVP). They defeated the Arizona Cardinals 49–15 in the NFC Championship Game and advanced to their second Super Bowl appearance since the franchise was founded in 1995. The Broncos finished the regular season with a 12–4 record, and denied the New England Patriots a chance to defend their title from Super Bowl XLIX by defeating them 20–18 in the AFC Championship Game. They joined the Patriots, Dallas Cowboys, and Pittsburgh Steelers as one of four teams that have made eight appearances in the Super Bowl.</td><td>Who did Denver beat in the 2015 AFC Championship game?</td><td>List(List(372, 368, 372), List(New England Patriots, the New England Patriots, New England Patriots))</td><td>Arizona Cardinals</td></tr><tr><td>56d6017d1c85041400946ec2</td><td>Super_Bowl_50</td><td>The Panthers finished the regular season with a 15–1 record, and quarterback Cam Newton was named the NFL Most Valuable Player (MVP). They defeated the Arizona Cardinals 49–15 in the NFC Championship Game and advanced to their second Super Bowl appearance since the franchise was founded in 1995. The Broncos finished the regular season with a 12–4 record, and denied the New England Patriots a chance to defend their title from Super Bowl XLIX by defeating them 20–18 in the AFC Championship Game. They joined the Patriots, Dallas Cowboys, and Pittsburgh Steelers as one of four teams that have made eight appearances in the Super Bowl.</td><td>Who did the Carolina Panthers beat in the 2015 NFC Championship game?</td><td>List(List(152, 148, 152), List(Arizona Cardinals, the Arizona Cardinals, Arizona Cardinals))</td><td>Arizona Cardinals</td></tr><tr><td>56d98a59dc89441400fdb52a</td><td>Super_Bowl_50</td><td>The Panthers finished the regular season with a 15–1 record, and quarterback Cam Newton was named the NFL Most Valuable Player (MVP). They defeated the Arizona Cardinals 49–15 in the NFC Championship Game and advanced to their second Super Bowl appearance since the franchise was founded in 1995. The Broncos finished the regular season with a 12–4 record, and denied the New England Patriots a chance to defend their title from Super Bowl XLIX by defeating them 20–18 in the AFC Championship Game. They joined the Patriots, Dallas Cowboys, and Pittsburgh Steelers as one of four teams that have made eight appearances in the Super Bowl.</td><td>Who was the 2015 NFL MVP?</td><td>List(List(77, 77, 77), List(Cam Newton, Cam Newton, Cam Newton))</td><td>Cam Newton</td></tr><tr><td>56d98a59dc89441400fdb52b</td><td>Super_Bowl_50</td><td>The Panthers finished the regular season with a 15–1 record, and quarterback Cam Newton was named the NFL Most Valuable Player (MVP). They defeated the Arizona Cardinals 49–15 in the NFC Championship Game and advanced to their second Super Bowl appearance since the franchise was founded in 1995. The Broncos finished the regular season with a 12–4 record, and denied the New England Patriots a chance to defend their title from Super Bowl XLIX by defeating them 20–18 in the AFC Championship Game. They joined the Patriots, Dallas Cowboys, and Pittsburgh Steelers as one of four teams that have made eight appearances in the Super Bowl.</td><td>Who did the Panthers beat to become the NFC champs?</td><td>List(List(152, 148, 152), List(Arizona Cardinals, the Arizona Cardinals, Arizona Cardinals))</td><td>Arizona Cardinals</td></tr><tr><td>56d98a59dc89441400fdb52e</td><td>Super_Bowl_50</td><td>The Panthers finished the regular season with a 15–1 record, and quarterback Cam Newton was named the NFL Most Valuable Player (MVP). They defeated the Arizona Cardinals 49–15 in the NFC Championship Game and advanced to their second Super Bowl appearance since the franchise was founded in 1995. The Broncos finished the regular season with a 12–4 record, and denied the New England Patriots a chance to defend their title from Super Bowl XLIX by defeating them 20–18 in the AFC Championship Game. They joined the Patriots, Dallas Cowboys, and Pittsburgh Steelers as one of four teams that have made eight appearances in the Super Bowl.</td><td>What year did the Carolina Panthers form?</td><td>List(List(291, 291, 291), List(1995., 1995, 1995))</td><td>1995</td></tr><tr><td>56be4eafacb8001400a50302</td><td>Super_Bowl_50</td><td>The Broncos took an early lead in Super Bowl 50 and never trailed. Newton was limited by Denver's defense, which sacked him seven times and forced him into three turnovers, including a fumble which they recovered for a touchdown. Denver linebacker Von Miller was named Super Bowl MVP, recording five solo tackles, 2½ sacks, and two forced fumbles.</td><td>Who was the Super Bowl 50 MVP?</td><td>List(List(248, 248, 252), List(Von Miller, Von Miller, Miller))</td><td>Von Miller</td></tr><tr><td>56be4eafacb8001400a50303</td><td>Super_Bowl_50</td><td>The Broncos took an early lead in Super Bowl 50 and never trailed. Newton was limited by Denver's defense, which sacked him seven times and forced him into three turnovers, including a fumble which they recovered for a touchdown. Denver linebacker Von Miller was named Super Bowl MVP, recording five solo tackles, 2½ sacks, and two forced fumbles.</td><td>How many fumbles did Von Miller force in Super Bowl 50?</td><td>List(List(314, 328, 328), List(2, two, two))</td><td>two</td></tr><tr><td>56be4eafacb8001400a50304</td><td>Super_Bowl_50</td><td>The Broncos took an early lead in Super Bowl 50 and never trailed. Newton was limited by Denver's defense, which sacked him seven times and forced him into three turnovers, including a fumble which they recovered for a touchdown. Denver linebacker Von Miller was named Super Bowl MVP, recording five solo tackles, 2½ sacks, and two forced fumbles.</td><td>Which team held the scoring lead throughout the entire game?</td><td>List(List(4, 0, 4), List(Broncos, The Broncos, Broncos))</td><td>Broncos</td></tr><tr><td>56beab833aeaaa14008c91d2</td><td>Super_Bowl_50</td><td>The Broncos took an early lead in Super Bowl 50 and never trailed. Newton was limited by Denver's defense, which sacked him seven times and forced him into three turnovers, including a fumble which they recovered for a touchdown. Denver linebacker Von Miller was named Super Bowl MVP, recording five solo tackles, 2½ sacks, and two forced fumbles.</td><td>Which Denver linebacker was named Super Bowl MVP?</td><td>List(List(237, 248, 252), List(linebacker Von Miller, Von Miller, Miller))</td><td>Von Miller</td></tr><tr><td>56beab833aeaaa14008c91d3</td><td>Super_Bowl_50</td><td>The Broncos took an early lead in Super Bowl 50 and never trailed. Newton was limited by Denver's defense, which sacked him seven times and forced him into three turnovers, including a fumble which they recovered for a touchdown. Denver linebacker Von Miller was named Super Bowl MVP, recording five solo tackles, 2½ sacks, and two forced fumbles.</td><td>How many solo tackles did Von Miller make at Super Bowl 50?</td><td>List(List(295, 295, 295), List(five solo tackles, five, five))</td><td>five</td></tr><tr><td>56beab833aeaaa14008c91d4</td><td>Super_Bowl_50</td><td>The Broncos took an early lead in Super Bowl 50 and never trailed. Newton was limited by Denver's defense, which sacked him seven times and forced him into three turnovers, including a fumble which they recovered for a touchdown. Denver linebacker Von Miller was named Super Bowl MVP, recording five solo tackles, 2½ sacks, and two forced fumbles.</td><td>Who was limited by Denver's defense?</td><td>List(List(67, 67, 67), List(Newton was limited by Denver's defense, Newton, Newton))</td><td>Newton</td></tr><tr><td>56beae423aeaaa14008c91f4</td><td>Super_Bowl_50</td><td>The Broncos took an early lead in Super Bowl 50 and never trailed. Newton was limited by Denver's defense, which sacked him seven times and forced him into three turnovers, including a fumble which they recovered for a touchdown. Denver linebacker Von Miller was named Super Bowl MVP, recording five solo tackles, 2½ sacks, and two forced fumbles.</td><td>How many times was Cam Newton sacked?</td><td>List(List(124, 124, 124), List(seven, seven, seven))</td><td>seven</td></tr><tr><td>56beae423aeaaa14008c91f5</td><td>Super_Bowl_50</td><td>The Broncos took an early lead in Super Bowl 50 and never trailed. Newton was limited by Denver's defense, which sacked him seven times and forced him into three turnovers, including a fumble which they recovered for a touchdown. Denver linebacker Von Miller was named Super Bowl MVP, recording five solo tackles, 2½ sacks, and two forced fumbles.</td><td>Who won the Super Bowl MVP?</td><td>List(List(248, 0, 252), List(Von Miller, The Broncos, Miller))</td><td>Von Miller</td></tr><tr><td>56beae423aeaaa14008c91f6</td><td>Super_Bowl_50</td><td>The Broncos took an early lead in Super Bowl 50 and never trailed. Newton was limited by Denver's defense, which sacked him seven times and forced him into three turnovers, including a fumble which they recovered for a touchdown. Denver linebacker Von Miller was named Super Bowl MVP, recording five solo tackles, 2½ sacks, and two forced fumbles.</td><td>How many turnovers did Cam Newton have?</td><td>List(List(156, 156, 156), List(three, three, three))</td><td>three</td></tr><tr><td>56beae423aeaaa14008c91f7</td><td>Super_Bowl_50</td><td>The Broncos took an early lead in Super Bowl 50 and never trailed. Newton was limited by Denver's defense, which sacked him seven times and forced him into three turnovers, including a fumble which they recovered for a touchdown. Denver linebacker Von Miller was named Super Bowl MVP, recording five solo tackles, 2½ sacks, and two forced fumbles.</td><td>How many fumbles did Von Miller force?</td><td>List(List(328, 328, 328), List(two, two, two))</td><td>two</td></tr><tr><td>56bf17653aeaaa14008c9511</td><td>Super_Bowl_50</td><td>The Broncos took an early lead in Super Bowl 50 and never trailed. Newton was limited by Denver's defense, which sacked him seven times and forced him into three turnovers, including a fumble which they recovered for a touchdown. Denver linebacker Von Miller was named Super Bowl MVP, recording five solo tackles, 2½ sacks, and two forced fumbles.</td><td>Who was given the esteemed status of MVP for Super Bowl 50?</td><td>List(List(248, 248, 252), List(Von Miller, Von Miller, Miller))</td><td>Von Miller</td></tr><tr><td>56bf17653aeaaa14008c9513</td><td>Super_Bowl_50</td><td>The Broncos took an early lead in Super Bowl 50 and never trailed. Newton was limited by Denver's defense, which sacked him seven times and forced him into three turnovers, including a fumble which they recovered for a touchdown. Denver linebacker Von Miller was named Super Bowl MVP, recording five solo tackles, 2½ sacks, and two forced fumbles.</td><td>What position does Von Miller play for the Denver Broncos?</td><td>List(List(237, 237, 237), List(linebacker, linebacker, linebacker))</td><td>linebacker</td></tr><tr><td>56bf17653aeaaa14008c9514</td><td>Super_Bowl_50</td><td>The Broncos took an early lead in Super Bowl 50 and never trailed. Newton was limited by Denver's defense, which sacked him seven times and forced him into three turnovers, including a fumble which they recovered for a touchdown. Denver linebacker Von Miller was named Super Bowl MVP, recording five solo tackles, 2½ sacks, and two forced fumbles.</td><td>What was the number of solo tackles that Von Miller had in Super Bowl 50?</td><td>List(List(45, 295, 295), List(5, five, five))</td><td>five</td></tr><tr><td>56bf17653aeaaa14008c9515</td><td>Super_Bowl_50</td><td>The Broncos took an early lead in Super Bowl 50 and never trailed. Newton was limited by Denver's defense, which sacked him seven times and forced him into three turnovers, including a fumble which they recovered for a touchdown. Denver linebacker Von Miller was named Super Bowl MVP, recording five solo tackles, 2½ sacks, and two forced fumbles.</td><td>How many forced fumbles did Von Miller have during the Super Bowl 50 game?</td><td>List(List(314, 328, 328), List(2, two, two))</td><td>two</td></tr><tr><td>56d204ade7d4791d00902603</td><td>Super_Bowl_50</td><td>The Broncos took an early lead in Super Bowl 50 and never trailed. Newton was limited by Denver's defense, which sacked him seven times and forced him into three turnovers, including a fumble which they recovered for a touchdown. Denver linebacker Von Miller was named Super Bowl MVP, recording five solo tackles, 2½ sacks, and two forced fumbles.</td><td>Who won the MVP for the Super Bowl?</td><td>List(List(248, 248, 248), List(Von Miller, Von Miller, Von Miller))</td><td>Von Miller</td></tr><tr><td>56d204ade7d4791d00902604</td><td>Super_Bowl_50</td><td>The Broncos took an early lead in Super Bowl 50 and never trailed. Newton was limited by Denver's defense, which sacked him seven times and forced him into three turnovers, including a fumble which they recovered for a touchdown. Denver linebacker Von Miller was named Super Bowl MVP, recording five solo tackles, 2½ sacks, and two forced fumbles.</td><td>How many tackles did Von Miller get during the game?</td><td>List(List(45, 295, 295), List(5, five, five))</td><td>five</td></tr><tr><td>56d601e41c85041400946ece</td><td>Super_Bowl_50</td><td>The Broncos took an early lead in Super Bowl 50 and never trailed. Newton was limited by Denver's defense, which sacked him seven times and forced him into three turnovers, including a fumble which they recovered for a touchdown. Denver linebacker Von Miller was named Super Bowl MVP, recording five solo tackles, 2½ sacks, and two forced fumbles.</td><td>How many times was Cam Newton sacked in Super Bowl 50?</td><td>List(List(124, 124, 124), List(seven, seven, seven))</td><td>seven</td></tr><tr><td>56d601e41c85041400946ecf</td><td>Super_Bowl_50</td><td>The Broncos took an early lead in Super Bowl 50 and never trailed. Newton was limited by Denver's defense, which sacked him seven times and forced him into three turnovers, including a fumble which they recovered for a touchdown. Denver linebacker Von Miller was named Super Bowl MVP, recording five solo tackles, 2½ sacks, and two forced fumbles.</td><td>How many times did the Denver defense force Newton into turnovers?</td><td>List(List(156, 156, 156), List(three, three, three))</td><td>three</td></tr><tr><td>56d601e41c85041400946ed0</td><td>Super_Bowl_50</td><td>The Broncos took an early lead in Super Bowl 50 and never trailed. Newton was limited by Denver's defense, which sacked him seven times and forced him into three turnovers, including a fumble which they recovered for a touchdown. Denver linebacker Von Miller was named Super Bowl MVP, recording five solo tackles, 2½ sacks, and two forced fumbles.</td><td>Which Newton turnover resulted in seven points for Denver?</td><td>List(List(183, 183, 185), List(a fumble, a fumble, fumble))</td><td>a fumble</td></tr><tr><td>56d601e41c85041400946ed1</td><td>Super_Bowl_50</td><td>The Broncos took an early lead in Super Bowl 50 and never trailed. Newton was limited by Denver's defense, which sacked him seven times and forced him into three turnovers, including a fumble which they recovered for a touchdown. Denver linebacker Von Miller was named Super Bowl MVP, recording five solo tackles, 2½ sacks, and two forced fumbles.</td><td>Who was the Most Valuable Player of Super Bowl 50?</td><td>List(List(248, 248, 248), List(Von Miller, Von Miller, Von Miller))</td><td>Von Miller</td></tr><tr><td>56d601e41c85041400946ed2</td><td>Super_Bowl_50</td><td>The Broncos took an early lead in Super Bowl 50 and never trailed. Newton was limited by Denver's defense, which sacked him seven times and forced him into three turnovers, including a fumble which they recovered for a touchdown. Denver linebacker Von Miller was named Super Bowl MVP, recording five solo tackles, 2½ sacks, and two forced fumbles.</td><td>What position does Von Miller play?</td><td>List(List(237, 237, 237), List(linebacker, linebacker, linebacker))</td><td>linebacker</td></tr><tr><td>56d98b33dc89441400fdb53b</td><td>Super_Bowl_50</td><td>The Broncos took an early lead in Super Bowl 50 and never trailed. Newton was limited by Denver's defense, which sacked him seven times and forced him into three turnovers, including a fumble which they recovered for a touchdown. Denver linebacker Von Miller was named Super Bowl MVP, recording five solo tackles, 2½ sacks, and two forced fumbles.</td><td>How many times was the Panthers' quarterback sacked?</td><td>List(List(124, 124, 124), List(seven, seven, seven))</td><td>seven</td></tr><tr><td>56d98b33dc89441400fdb53c</td><td>Super_Bowl_50</td><td>The Broncos took an early lead in Super Bowl 50 and never trailed. Newton was limited by Denver's defense, which sacked him seven times and forced him into three turnovers, including a fumble which they recovered for a touchdown. Denver linebacker Von Miller was named Super Bowl MVP, recording five solo tackles, 2½ sacks, and two forced fumbles.</td><td>How many times did the Broncos cause turnovers in the game?</td><td>List(List(156, 156, 156), List(three, three, three))</td><td>three</td></tr><tr><td>56d98b33dc89441400fdb53d</td><td>Super_Bowl_50</td><td>The Broncos took an early lead in Super Bowl 50 and never trailed. Newton was limited by Denver's defense, which sacked him seven times and forced him into three turnovers, including a fumble which they recovered for a touchdown. Denver linebacker Von Miller was named Super Bowl MVP, recording five solo tackles, 2½ sacks, and two forced fumbles.</td><td>What Denver player caused two fumbles for the Panthers?</td><td>List(List(248, 248, 248), List(Von Miller, Von Miller, Von Miller))</td><td>Von Miller</td></tr><tr><td>56d98b33dc89441400fdb53e</td><td>Super_Bowl_50</td><td>The Broncos took an early lead in Super Bowl 50 and never trailed. Newton was limited by Denver's defense, which sacked him seven times and forced him into three turnovers, including a fumble which they recovered for a touchdown. Denver linebacker Von Miller was named Super Bowl MVP, recording five solo tackles, 2½ sacks, and two forced fumbles.</td><td>How many tackles did Von Miller accomlish by himself in the game?</td><td>List(List(295, 295, 295), List(five, five, five))</td><td>five</td></tr><tr><td>56be5333acb8001400a5030a</td><td>Super_Bowl_50</td><td>CBS broadcast Super Bowl 50 in the U.S., and charged an average of $5 million for a 30-second commercial during the game. The Super Bowl 50 halftime show was headlined by the British rock group Coldplay with special guest performers Beyoncé and Bruno Mars, who headlined the Super Bowl XLVII and Super Bowl XLVIII halftime shows, respectively. It was the third-most watched U.S. broadcast ever.</td><td>Which network broadcasted Super Bowl 50 in the U.S.?</td><td>List(List(0, 0, 0), List(CBS, CBS, CBS))</td><td>CBS</td></tr><tr><td>56be5333acb8001400a5030b</td><td>Super_Bowl_50</td><td>CBS broadcast Super Bowl 50 in the U.S., and charged an average of $5 million for a 30-second commercial during the game. The Super Bowl 50 halftime show was headlined by the British rock group Coldplay with special guest performers Beyoncé and Bruno Mars, who headlined the Super Bowl XLVII and Super Bowl XLVIII halftime shows, respectively. It was the third-most watched U.S. broadcast ever.</td><td>What was the average cost for a 30 second commercial during Super Bowl 50?</td><td>List(List(67, 67, 67), List($5 million, $5 million, $5 million))</td><td>$5 million</td></tr><tr><td>56be5333acb8001400a5030c</td><td>Super_Bowl_50</td><td>CBS broadcast Super Bowl 50 in the U.S., and charged an average of $5 million for a 30-second commercial during the game. The Super Bowl 50 halftime show was headlined by the British rock group Coldplay with special guest performers Beyoncé and Bruno Mars, who headlined the Super Bowl XLVII and Super Bowl XLVIII halftime shows, respectively. It was the third-most watched U.S. broadcast ever.</td><td>Which group headlined the Super Bowl 50 halftime show?</td><td>List(List(194, 194, 194), List(Coldplay, Coldplay, Coldplay))</td><td>Coldplay</td></tr><tr><td>56be5333acb8001400a5030d</td><td>Super_Bowl_50</td><td>CBS broadcast Super Bowl 50 in the U.S., and charged an average of $5 million for a 30-second commercial during the game. The Super Bowl 50 halftime show was headlined by the British rock group Coldplay with special guest performers Beyoncé and Bruno Mars, who headlined the Super Bowl XLVII and Super Bowl XLVIII halftime shows, respectively. It was the third-most watched U.S. broadcast ever.</td><td>Which performers joined the headliner during the Super Bowl 50 halftime show?</td><td>List(List(233, 233, 233), List(Beyoncé and Bruno Mars, Beyoncé and Bruno Mars, Beyoncé and Bruno Mars))</td><td>Beyoncé and Bruno Mars</td></tr><tr><td>56be5333acb8001400a5030e</td><td>Super_Bowl_50</td><td>CBS broadcast Super Bowl 50 in the U.S., and charged an average of $5 million for a 30-second commercial during the game. The Super Bowl 50 halftime show was headlined by the British rock group Coldplay with special guest performers Beyoncé and Bruno Mars, who headlined the Super Bowl XLVII and Super Bowl XLVIII halftime shows, respectively. It was the third-most watched U.S. broadcast ever.</td><td>At which Super Bowl did Beyonce headline the halftime show?</td><td>List(List(275, 275, 286), List(Super Bowl XLVII, Super Bowl XLVII, XLVII))</td><td>Super Bowl 50</td></tr><tr><td>56beaf5e3aeaaa14008c91fd</td><td>Super_Bowl_50</td><td>CBS broadcast Super Bowl 50 in the U.S., and charged an average of $5 million for a 30-second commercial during the game. The Super Bowl 50 halftime show was headlined by the British rock group Coldplay with special guest performers Beyoncé and Bruno Mars, who headlined the Super Bowl XLVII and Super Bowl XLVIII halftime shows, respectively. It was the third-most watched U.S. broadcast ever.</td><td>Who was the broadcaster for Super Bowl 50 in the United States?</td><td>List(List(0, 0, 0), List(CBS, CBS, CBS))</td><td>CBS</td></tr><tr><td>56beaf5e3aeaaa14008c91fe</td><td>Super_Bowl_50</td><td>CBS broadcast Super Bowl 50 in the U.S., and charged an average of $5 million for a 30-second commercial during the game. The Super Bowl 50 halftime show was headlined by the British rock group Coldplay with special guest performers Beyoncé and Bruno Mars, who headlined the Super Bowl XLVII and Super Bowl XLVIII halftime shows, respectively. It was the third-most watched U.S. broadcast ever.</td><td>What was the average cost of a 30-second commercial?</td><td>List(List(67, 67, 67), List($5 million, $5 million, $5 million))</td><td>$5 million</td></tr><tr><td>56beaf5e3aeaaa14008c91ff</td><td>Super_Bowl_50</td><td>CBS broadcast Super Bowl 50 in the U.S., and charged an average of $5 million for a 30-second commercial during the game. The Super Bowl 50 halftime show was headlined by the British rock group Coldplay with special guest performers Beyoncé and Bruno Mars, who headlined the Super Bowl XLVII and Super Bowl XLVIII halftime shows, respectively. It was the third-most watched U.S. broadcast ever.</td><td>What halftime performer previously headlined Super Bowl XLVII?</td><td>List(List(233, 233, 233), List(Beyoncé, Beyoncé, Beyoncé))</td><td>Beyoncé and Bruno Mars</td></tr><tr><td>56beaf5e3aeaaa14008c9200</td><td>Super_Bowl_50</td><td>CBS broadcast Super Bowl 50 in the U.S., and charged an average of $5 million for a 30-second commercial during the game. The Super Bowl 50 halftime show was headlined by the British rock group Coldplay with special guest performers Beyoncé and Bruno Mars, who headlined the Super Bowl XLVII and Super Bowl XLVIII halftime shows, respectively. It was the third-most watched U.S. broadcast ever.</td><td>What halftime performer previously headlined Super Bowl XLVIII?</td><td>List(List(245, 245, 251), List(Bruno Mars, Bruno Mars, Mars))</td><td>Beyoncé and Bruno Mars</td></tr><tr><td>56beaf5e3aeaaa14008c9201</td><td>Super_Bowl_50</td><td>CBS broadcast Super Bowl 50 in the U.S., and charged an average of $5 million for a 30-second commercial during the game. The Super Bowl 50 halftime show was headlined by the British rock group Coldplay with special guest performers Beyoncé and Bruno Mars, who headlined the Super Bowl XLVII and Super Bowl XLVIII halftime shows, respectively. It was the third-most watched U.S. broadcast ever.</td><td>Who was the main performer at this year's halftime show?</td><td>List(List(194, 194, 194), List(Coldplay, Coldplay, Coldplay))</td><td>Beyoncé and Bruno Mars</td></tr><tr><td>56bf1ae93aeaaa14008c951b</td><td>Super_Bowl_50</td><td>CBS broadcast Super Bowl 50 in the U.S., and charged an average of $5 million for a 30-second commercial during the game. The Super Bowl 50 halftime show was headlined by the British rock group Coldplay with special guest performers Beyoncé and Bruno Mars, who headlined the Super Bowl XLVII and Super Bowl XLVIII halftime shows, respectively. It was the third-most watched U.S. broadcast ever.</td><td>Which network broadcasted the 50th Super Bowl game? </td><td>List(List(0, 0, 0), List(CBS, CBS, CBS))</td><td>CBS</td></tr><tr><td>56bf1ae93aeaaa14008c951c</td><td>Super_Bowl_50</td><td>CBS broadcast Super Bowl 50 in the U.S., and charged an average of $5 million for a 30-second commercial during the game. The Super Bowl 50 halftime show was headlined by the British rock group Coldplay with special guest performers Beyoncé and Bruno Mars, who headlined the Super Bowl XLVII and Super Bowl XLVIII halftime shows, respectively. It was the third-most watched U.S. broadcast ever.</td><td>What was the average cost for a TV ad lasting 30 seconds during Super Bowl 50?</td><td>List(List(67, 67, 67), List($5 million, $5 million, $5 million))</td><td>$5 million</td></tr><tr><td>56bf1ae93aeaaa14008c951e</td><td>Super_Bowl_50</td><td>CBS broadcast Super Bowl 50 in the U.S., and charged an average of $5 million for a 30-second commercial during the game. The Super Bowl 50 halftime show was headlined by the British rock group Coldplay with special guest performers Beyoncé and Bruno Mars, who headlined the Super Bowl XLVII and Super Bowl XLVIII halftime shows, respectively. It was the third-most watched U.S. broadcast ever.</td><td>Who was the male singer who performed as a special guest during Super Bowl 50?</td><td>List(List(245, 245, 245), List(Bruno Mars, Bruno Mars, Bruno Mars,))</td><td>Beyoncé and Bruno Mars</td></tr><tr><td>56bf1ae93aeaaa14008c951f</td><td>Super_Bowl_50</td><td>CBS broadcast Super Bowl 50 in the U.S., and charged an average of $5 million for a 30-second commercial during the game. The Super Bowl 50 halftime show was headlined by the British rock group Coldplay with special guest performers Beyoncé and Bruno Mars, who headlined the Super Bowl XLVII and Super Bowl XLVIII halftime shows, respectively. It was the third-most watched U.S. broadcast ever.</td><td>What ranking does the Super Bowl 50 halftime show have on the list of most watched TV broadcasts?</td><td>List(List(355, 355, 355), List(third, third, third))</td><td>third</td></tr><tr><td>56d2051ce7d4791d00902608</td><td>Super_Bowl_50</td><td>CBS broadcast Super Bowl 50 in the U.S., and charged an average of $5 million for a 30-second commercial during the game. The Super Bowl 50 halftime show was headlined by the British rock group Coldplay with special guest performers Beyoncé and Bruno Mars, who headlined the Super Bowl XLVII and Super Bowl XLVIII halftime shows, respectively. It was the third-most watched U.S. broadcast ever.</td><td>What station aired the Super Bowl?</td><td>List(List(0, 0, 0), List(CBS, CBS, CBS))</td><td>CBS</td></tr><tr><td>56d2051ce7d4791d00902609</td><td>Super_Bowl_50</td><td>CBS broadcast Super Bowl 50 in the U.S., and charged an average of $5 million for a 30-second commercial during the game. The Super Bowl 50 halftime show was headlined by the British rock group Coldplay with special guest performers Beyoncé and Bruno Mars, who headlined the Super Bowl XLVII and Super Bowl XLVIII halftime shows, respectively. It was the third-most watched U.S. broadcast ever.</td><td>How much money did a 1/2 minute commercial cost?</td><td>List(List(67, 67, 67), List($5 million, $5 million, $5 million))</td><td>$5 million</td></tr><tr><td>56d2051ce7d4791d0090260a</td><td>Super_Bowl_50</td><td>CBS broadcast Super Bowl 50 in the U.S., and charged an average of $5 million for a 30-second commercial during the game. The Super Bowl 50 halftime show was headlined by the British rock group Coldplay with special guest performers Beyoncé and Bruno Mars, who headlined the Super Bowl XLVII and Super Bowl XLVIII halftime shows, respectively. It was the third-most watched U.S. broadcast ever.</td><td>What band headlined half-time during Super Bowl 50?</td><td>List(List(194, 194, 194), List(Coldplay, Coldplay, Coldplay))</td><td>Coldplay</td></tr><tr><td>56d2051ce7d4791d0090260b</td><td>Super_Bowl_50</td><td>CBS broadcast Super Bowl 50 in the U.S., and charged an average of $5 million for a 30-second commercial during the game. The Super Bowl 50 halftime show was headlined by the British rock group Coldplay with special guest performers Beyoncé and Bruno Mars, who headlined the Super Bowl XLVII and Super Bowl XLVIII halftime shows, respectively. It was the third-most watched U.S. broadcast ever.</td><td>What two artists came out with Coldplay during the half-time show?</td><td>List(List(233, 233, 233), List(Beyoncé and Bruno Mars, Beyoncé and Bruno Mars, Beyoncé and Bruno Mars))</td><td>Beyoncé and Bruno Mars</td></tr><tr><td>56d602631c85041400946ed8</td><td>Super_Bowl_50</td><td>CBS broadcast Super Bowl 50 in the U.S., and charged an average of $5 million for a 30-second commercial during the game. The Super Bowl 50 halftime show was headlined by the British rock group Coldplay with special guest performers Beyoncé and Bruno Mars, who headlined the Super Bowl XLVII and Super Bowl XLVIII halftime shows, respectively. It was the third-most watched U.S. broadcast ever.</td><td>Who broadcast the Super Bowl on TV?</td><td>List(List(0, 0, 0), List(CBS, CBS, CBS))</td><td>CBS</td></tr><tr><td>56d602631c85041400946eda</td><td>Super_Bowl_50</td><td>CBS broadcast Super Bowl 50 in the U.S., and charged an average of $5 million for a 30-second commercial during the game. The Super Bowl 50 halftime show was headlined by the British rock group Coldplay with special guest performers Beyoncé and Bruno Mars, who headlined the Super Bowl XLVII and Super Bowl XLVIII halftime shows, respectively. It was the third-most watched U.S. broadcast ever.</td><td>Who headlined the halftime show for Super Bowl 50?</td><td>List(List(194, 194, 194), List(Coldplay, Coldplay, Coldplay))</td><td>Coldplay with special guest performers Beyoncé and Bruno Mars</td></tr></tbody></table></div>"
      ]
     },
     "metadata": {
      "application/vnd.databricks.v1+output": {
       "addedWidgets": {},
       "aggData": [],
       "aggError": "",
       "aggOverflow": false,
       "aggSchema": [],
       "aggSeriesLimitReached": false,
       "aggType": "",
       "arguments": {},
       "columnCustomDisplayInfos": {},
       "data": [
        [
         "56be4db0acb8001400a502ec",
         "Super_Bowl_50",
         "Super Bowl 50 was an American football game to determine the champion of the National Football League (NFL) for the 2015 season. The American Football Conference (AFC) champion Denver Broncos defeated the National Football Conference (NFC) champion Carolina Panthers 24–10 to earn their third Super Bowl title. The game was played on February 7, 2016, at Levi's Stadium in the San Francisco Bay Area at Santa Clara, California. As this was the 50th Super Bowl, the league emphasized the \"golden anniversary\" with various gold-themed initiatives, as well as temporarily suspending the tradition of naming each Super Bowl game with Roman numerals (under which the game would have been known as \"Super Bowl L\"), so that the logo could prominently feature the Arabic numerals 50.",
         "Which NFL team represented the AFC at Super Bowl 50?",
         [
          [
           177,
           177,
           177
          ],
          [
           "Denver Broncos",
           "Denver Broncos",
           "Denver Broncos"
          ]
         ],
         "Denver Broncos"
        ],
        [
         "56be4db0acb8001400a502ed",
         "Super_Bowl_50",
         "Super Bowl 50 was an American football game to determine the champion of the National Football League (NFL) for the 2015 season. The American Football Conference (AFC) champion Denver Broncos defeated the National Football Conference (NFC) champion Carolina Panthers 24–10 to earn their third Super Bowl title. The game was played on February 7, 2016, at Levi's Stadium in the San Francisco Bay Area at Santa Clara, California. As this was the 50th Super Bowl, the league emphasized the \"golden anniversary\" with various gold-themed initiatives, as well as temporarily suspending the tradition of naming each Super Bowl game with Roman numerals (under which the game would have been known as \"Super Bowl L\"), so that the logo could prominently feature the Arabic numerals 50.",
         "Which NFL team represented the NFC at Super Bowl 50?",
         [
          [
           249,
           249,
           249
          ],
          [
           "Carolina Panthers",
           "Carolina Panthers",
           "Carolina Panthers"
          ]
         ],
         "Carolina Panthers"
        ],
        [
         "56be4db0acb8001400a502ee",
         "Super_Bowl_50",
         "Super Bowl 50 was an American football game to determine the champion of the National Football League (NFL) for the 2015 season. The American Football Conference (AFC) champion Denver Broncos defeated the National Football Conference (NFC) champion Carolina Panthers 24–10 to earn their third Super Bowl title. The game was played on February 7, 2016, at Levi's Stadium in the San Francisco Bay Area at Santa Clara, California. As this was the 50th Super Bowl, the league emphasized the \"golden anniversary\" with various gold-themed initiatives, as well as temporarily suspending the tradition of naming each Super Bowl game with Roman numerals (under which the game would have been known as \"Super Bowl L\"), so that the logo could prominently feature the Arabic numerals 50.",
         "Where did Super Bowl 50 take place?",
         [
          [
           403,
           355,
           355
          ],
          [
           "Santa Clara, California",
           "Levi's Stadium",
           "Levi's Stadium in the San Francisco Bay Area at Santa Clara, California."
          ]
         ],
         "Levi's Stadium in the San Francisco Bay Area at Santa Clara, California"
        ],
        [
         "56be4db0acb8001400a502ef",
         "Super_Bowl_50",
         "Super Bowl 50 was an American football game to determine the champion of the National Football League (NFL) for the 2015 season. The American Football Conference (AFC) champion Denver Broncos defeated the National Football Conference (NFC) champion Carolina Panthers 24–10 to earn their third Super Bowl title. The game was played on February 7, 2016, at Levi's Stadium in the San Francisco Bay Area at Santa Clara, California. As this was the 50th Super Bowl, the league emphasized the \"golden anniversary\" with various gold-themed initiatives, as well as temporarily suspending the tradition of naming each Super Bowl game with Roman numerals (under which the game would have been known as \"Super Bowl L\"), so that the logo could prominently feature the Arabic numerals 50.",
         "Which NFL team won Super Bowl 50?",
         [
          [
           177,
           177,
           177
          ],
          [
           "Denver Broncos",
           "Denver Broncos",
           "Denver Broncos"
          ]
         ],
         "Carolina Panthers"
        ],
        [
         "56be4db0acb8001400a502f0",
         "Super_Bowl_50",
         "Super Bowl 50 was an American football game to determine the champion of the National Football League (NFL) for the 2015 season. The American Football Conference (AFC) champion Denver Broncos defeated the National Football Conference (NFC) champion Carolina Panthers 24–10 to earn their third Super Bowl title. The game was played on February 7, 2016, at Levi's Stadium in the San Francisco Bay Area at Santa Clara, California. As this was the 50th Super Bowl, the league emphasized the \"golden anniversary\" with various gold-themed initiatives, as well as temporarily suspending the tradition of naming each Super Bowl game with Roman numerals (under which the game would have been known as \"Super Bowl L\"), so that the logo could prominently feature the Arabic numerals 50.",
         "What color was used to emphasize the 50th anniversary of the Super Bowl?",
         [
          [
           488,
           488,
           521
          ],
          [
           "gold",
           "gold",
           "gold"
          ]
         ],
         "gold"
        ],
        [
         "56be8e613aeaaa14008c90d1",
         "Super_Bowl_50",
         "Super Bowl 50 was an American football game to determine the champion of the National Football League (NFL) for the 2015 season. The American Football Conference (AFC) champion Denver Broncos defeated the National Football Conference (NFC) champion Carolina Panthers 24–10 to earn their third Super Bowl title. The game was played on February 7, 2016, at Levi's Stadium in the San Francisco Bay Area at Santa Clara, California. As this was the 50th Super Bowl, the league emphasized the \"golden anniversary\" with various gold-themed initiatives, as well as temporarily suspending the tradition of naming each Super Bowl game with Roman numerals (under which the game would have been known as \"Super Bowl L\"), so that the logo could prominently feature the Arabic numerals 50.",
         "What was the theme of Super Bowl 50?",
         [
          [
           487,
           521,
           487
          ],
          [
           "\"golden anniversary\"",
           "gold-themed",
           "\"golden anniversary"
          ]
         ],
         "golden anniversary"
        ],
        [
         "56be8e613aeaaa14008c90d2",
         "Super_Bowl_50",
         "Super Bowl 50 was an American football game to determine the champion of the National Football League (NFL) for the 2015 season. The American Football Conference (AFC) champion Denver Broncos defeated the National Football Conference (NFC) champion Carolina Panthers 24–10 to earn their third Super Bowl title. The game was played on February 7, 2016, at Levi's Stadium in the San Francisco Bay Area at Santa Clara, California. As this was the 50th Super Bowl, the league emphasized the \"golden anniversary\" with various gold-themed initiatives, as well as temporarily suspending the tradition of naming each Super Bowl game with Roman numerals (under which the game would have been known as \"Super Bowl L\"), so that the logo could prominently feature the Arabic numerals 50.",
         "What day was the game played on?",
         [
          [
           334,
           334,
           334
          ],
          [
           "February 7, 2016",
           "February 7",
           "February 7, 2016"
          ]
         ],
         "February 7, 2016"
        ],
        [
         "56be8e613aeaaa14008c90d3",
         "Super_Bowl_50",
         "Super Bowl 50 was an American football game to determine the champion of the National Football League (NFL) for the 2015 season. The American Football Conference (AFC) champion Denver Broncos defeated the National Football Conference (NFC) champion Carolina Panthers 24–10 to earn their third Super Bowl title. The game was played on February 7, 2016, at Levi's Stadium in the San Francisco Bay Area at Santa Clara, California. As this was the 50th Super Bowl, the league emphasized the \"golden anniversary\" with various gold-themed initiatives, as well as temporarily suspending the tradition of naming each Super Bowl game with Roman numerals (under which the game would have been known as \"Super Bowl L\"), so that the logo could prominently feature the Arabic numerals 50.",
         "What is the AFC short for?",
         [
          [
           133,
           133,
           133
          ],
          [
           "American Football Conference",
           "American Football Conference",
           "American Football Conference"
          ]
         ],
         "American Football Conference"
        ],
        [
         "56bea9923aeaaa14008c91b9",
         "Super_Bowl_50",
         "Super Bowl 50 was an American football game to determine the champion of the National Football League (NFL) for the 2015 season. The American Football Conference (AFC) champion Denver Broncos defeated the National Football Conference (NFC) champion Carolina Panthers 24–10 to earn their third Super Bowl title. The game was played on February 7, 2016, at Levi's Stadium in the San Francisco Bay Area at Santa Clara, California. As this was the 50th Super Bowl, the league emphasized the \"golden anniversary\" with various gold-themed initiatives, as well as temporarily suspending the tradition of naming each Super Bowl game with Roman numerals (under which the game would have been known as \"Super Bowl L\"), so that the logo could prominently feature the Arabic numerals 50.",
         "What was the theme of Super Bowl 50?",
         [
          [
           487,
           521,
           521
          ],
          [
           "\"golden anniversary\"",
           "gold-themed",
           "gold"
          ]
         ],
         "golden anniversary"
        ],
        [
         "56bea9923aeaaa14008c91ba",
         "Super_Bowl_50",
         "Super Bowl 50 was an American football game to determine the champion of the National Football League (NFL) for the 2015 season. The American Football Conference (AFC) champion Denver Broncos defeated the National Football Conference (NFC) champion Carolina Panthers 24–10 to earn their third Super Bowl title. The game was played on February 7, 2016, at Levi's Stadium in the San Francisco Bay Area at Santa Clara, California. As this was the 50th Super Bowl, the league emphasized the \"golden anniversary\" with various gold-themed initiatives, as well as temporarily suspending the tradition of naming each Super Bowl game with Roman numerals (under which the game would have been known as \"Super Bowl L\"), so that the logo could prominently feature the Arabic numerals 50.",
         "What does AFC stand for?",
         [
          [
           133,
           133,
           133
          ],
          [
           "American Football Conference",
           "American Football Conference",
           "American Football Conference"
          ]
         ],
         "American Football Conference"
        ],
        [
         "56bea9923aeaaa14008c91bb",
         "Super_Bowl_50",
         "Super Bowl 50 was an American football game to determine the champion of the National Football League (NFL) for the 2015 season. The American Football Conference (AFC) champion Denver Broncos defeated the National Football Conference (NFC) champion Carolina Panthers 24–10 to earn their third Super Bowl title. The game was played on February 7, 2016, at Levi's Stadium in the San Francisco Bay Area at Santa Clara, California. As this was the 50th Super Bowl, the league emphasized the \"golden anniversary\" with various gold-themed initiatives, as well as temporarily suspending the tradition of naming each Super Bowl game with Roman numerals (under which the game would have been known as \"Super Bowl L\"), so that the logo could prominently feature the Arabic numerals 50.",
         "What day was the Super Bowl played on?",
         [
          [
           334,
           334,
           334
          ],
          [
           "February 7, 2016",
           "February 7",
           "February 7, 2016"
          ]
         ],
         "February 7, 2016"
        ],
        [
         "56beace93aeaaa14008c91df",
         "Super_Bowl_50",
         "Super Bowl 50 was an American football game to determine the champion of the National Football League (NFL) for the 2015 season. The American Football Conference (AFC) champion Denver Broncos defeated the National Football Conference (NFC) champion Carolina Panthers 24–10 to earn their third Super Bowl title. The game was played on February 7, 2016, at Levi's Stadium in the San Francisco Bay Area at Santa Clara, California. As this was the 50th Super Bowl, the league emphasized the \"golden anniversary\" with various gold-themed initiatives, as well as temporarily suspending the tradition of naming each Super Bowl game with Roman numerals (under which the game would have been known as \"Super Bowl L\"), so that the logo could prominently feature the Arabic numerals 50.",
         "Who won Super Bowl 50?",
         [
          [
           177,
           177,
           177
          ],
          [
           "Denver Broncos",
           "Denver Broncos",
           "Denver Broncos"
          ]
         ],
         "Denver Broncos"
        ],
        [
         "56beace93aeaaa14008c91e0",
         "Super_Bowl_50",
         "Super Bowl 50 was an American football game to determine the champion of the National Football League (NFL) for the 2015 season. The American Football Conference (AFC) champion Denver Broncos defeated the National Football Conference (NFC) champion Carolina Panthers 24–10 to earn their third Super Bowl title. The game was played on February 7, 2016, at Levi's Stadium in the San Francisco Bay Area at Santa Clara, California. As this was the 50th Super Bowl, the league emphasized the \"golden anniversary\" with various gold-themed initiatives, as well as temporarily suspending the tradition of naming each Super Bowl game with Roman numerals (under which the game would have been known as \"Super Bowl L\"), so that the logo could prominently feature the Arabic numerals 50.",
         "What venue did Super Bowl 50 take place in?",
         [
          [
           355,
           355,
           355
          ],
          [
           "Levi's Stadium",
           "Levi's Stadium",
           "Levi's Stadium in the San Francisco Bay Area at Santa Clara"
          ]
         ],
         "Levi's Stadium"
        ],
        [
         "56beace93aeaaa14008c91e1",
         "Super_Bowl_50",
         "Super Bowl 50 was an American football game to determine the champion of the National Football League (NFL) for the 2015 season. The American Football Conference (AFC) champion Denver Broncos defeated the National Football Conference (NFC) champion Carolina Panthers 24–10 to earn their third Super Bowl title. The game was played on February 7, 2016, at Levi's Stadium in the San Francisco Bay Area at Santa Clara, California. As this was the 50th Super Bowl, the league emphasized the \"golden anniversary\" with various gold-themed initiatives, as well as temporarily suspending the tradition of naming each Super Bowl game with Roman numerals (under which the game would have been known as \"Super Bowl L\"), so that the logo could prominently feature the Arabic numerals 50.",
         "What city did Super Bowl 50 take place in?",
         [
          [
           403,
           403,
           403
          ],
          [
           "Santa Clara",
           "Santa Clara",
           "Santa Clara"
          ]
         ],
         "Santa Clara, California"
        ],
        [
         "56beace93aeaaa14008c91e2",
         "Super_Bowl_50",
         "Super Bowl 50 was an American football game to determine the champion of the National Football League (NFL) for the 2015 season. The American Football Conference (AFC) champion Denver Broncos defeated the National Football Conference (NFC) champion Carolina Panthers 24–10 to earn their third Super Bowl title. The game was played on February 7, 2016, at Levi's Stadium in the San Francisco Bay Area at Santa Clara, California. As this was the 50th Super Bowl, the league emphasized the \"golden anniversary\" with various gold-themed initiatives, as well as temporarily suspending the tradition of naming each Super Bowl game with Roman numerals (under which the game would have been known as \"Super Bowl L\"), so that the logo could prominently feature the Arabic numerals 50.",
         "If Roman numerals were used, what would Super Bowl 50 have been called?",
         [
          [
           693,
           704,
           693
          ],
          [
           "Super Bowl L",
           "L",
           "Super Bowl L"
          ]
         ],
         "Super Bowl L"
        ],
        [
         "56beace93aeaaa14008c91e3",
         "Super_Bowl_50",
         "Super Bowl 50 was an American football game to determine the champion of the National Football League (NFL) for the 2015 season. The American Football Conference (AFC) champion Denver Broncos defeated the National Football Conference (NFC) champion Carolina Panthers 24–10 to earn their third Super Bowl title. The game was played on February 7, 2016, at Levi's Stadium in the San Francisco Bay Area at Santa Clara, California. As this was the 50th Super Bowl, the league emphasized the \"golden anniversary\" with various gold-themed initiatives, as well as temporarily suspending the tradition of naming each Super Bowl game with Roman numerals (under which the game would have been known as \"Super Bowl L\"), so that the logo could prominently feature the Arabic numerals 50.",
         "Super Bowl 50 decided the NFL champion for what season?",
         [
          [
           116,
           112,
           116
          ],
          [
           "2015",
           "the 2015 season",
           "2015"
          ]
         ],
         "2015"
        ],
        [
         "56bf10f43aeaaa14008c94fd",
         "Super_Bowl_50",
         "Super Bowl 50 was an American football game to determine the champion of the National Football League (NFL) for the 2015 season. The American Football Conference (AFC) champion Denver Broncos defeated the National Football Conference (NFC) champion Carolina Panthers 24–10 to earn their third Super Bowl title. The game was played on February 7, 2016, at Levi's Stadium in the San Francisco Bay Area at Santa Clara, California. As this was the 50th Super Bowl, the league emphasized the \"golden anniversary\" with various gold-themed initiatives, as well as temporarily suspending the tradition of naming each Super Bowl game with Roman numerals (under which the game would have been known as \"Super Bowl L\"), so that the logo could prominently feature the Arabic numerals 50.",
         "What year did the Denver Broncos secure a Super Bowl title for the third time?",
         [
          [
           116,
           346,
           116
          ],
          [
           "2015",
           "2016",
           "2015"
          ]
         ],
         "2016"
        ],
        [
         "56bf10f43aeaaa14008c94fe",
         "Super_Bowl_50",
         "Super Bowl 50 was an American football game to determine the champion of the National Football League (NFL) for the 2015 season. The American Football Conference (AFC) champion Denver Broncos defeated the National Football Conference (NFC) champion Carolina Panthers 24–10 to earn their third Super Bowl title. The game was played on February 7, 2016, at Levi's Stadium in the San Francisco Bay Area at Santa Clara, California. As this was the 50th Super Bowl, the league emphasized the \"golden anniversary\" with various gold-themed initiatives, as well as temporarily suspending the tradition of naming each Super Bowl game with Roman numerals (under which the game would have been known as \"Super Bowl L\"), so that the logo could prominently feature the Arabic numerals 50.",
         "What city did Super Bowl 50 take place in?",
         [
          [
           403,
           403,
           403
          ],
          [
           "Santa Clara",
           "Santa Clara",
           "Santa Clara"
          ]
         ],
         "Santa Clara, California"
        ],
        [
         "56bf10f43aeaaa14008c94ff",
         "Super_Bowl_50",
         "Super Bowl 50 was an American football game to determine the champion of the National Football League (NFL) for the 2015 season. The American Football Conference (AFC) champion Denver Broncos defeated the National Football Conference (NFC) champion Carolina Panthers 24–10 to earn their third Super Bowl title. The game was played on February 7, 2016, at Levi's Stadium in the San Francisco Bay Area at Santa Clara, California. As this was the 50th Super Bowl, the league emphasized the \"golden anniversary\" with various gold-themed initiatives, as well as temporarily suspending the tradition of naming each Super Bowl game with Roman numerals (under which the game would have been known as \"Super Bowl L\"), so that the logo could prominently feature the Arabic numerals 50.",
         "What stadium did Super Bowl 50 take place in?",
         [
          [
           355,
           355,
           355
          ],
          [
           "Levi's Stadium",
           "Levi's Stadium",
           "Levi's Stadium"
          ]
         ],
         "Levi's Stadium"
        ],
        [
         "56bf10f43aeaaa14008c9500",
         "Super_Bowl_50",
         "Super Bowl 50 was an American football game to determine the champion of the National Football League (NFL) for the 2015 season. The American Football Conference (AFC) champion Denver Broncos defeated the National Football Conference (NFC) champion Carolina Panthers 24–10 to earn their third Super Bowl title. The game was played on February 7, 2016, at Levi's Stadium in the San Francisco Bay Area at Santa Clara, California. As this was the 50th Super Bowl, the league emphasized the \"golden anniversary\" with various gold-themed initiatives, as well as temporarily suspending the tradition of naming each Super Bowl game with Roman numerals (under which the game would have been known as \"Super Bowl L\"), so that the logo could prominently feature the Arabic numerals 50.",
         "What was the final score of Super Bowl 50? ",
         [
          [
           267,
           267,
           267
          ],
          [
           "24–10",
           "24–10",
           "24–10"
          ]
         ],
         "24–10"
        ],
        [
         "56bf10f43aeaaa14008c9501",
         "Super_Bowl_50",
         "Super Bowl 50 was an American football game to determine the champion of the National Football League (NFL) for the 2015 season. The American Football Conference (AFC) champion Denver Broncos defeated the National Football Conference (NFC) champion Carolina Panthers 24–10 to earn their third Super Bowl title. The game was played on February 7, 2016, at Levi's Stadium in the San Francisco Bay Area at Santa Clara, California. As this was the 50th Super Bowl, the league emphasized the \"golden anniversary\" with various gold-themed initiatives, as well as temporarily suspending the tradition of naming each Super Bowl game with Roman numerals (under which the game would have been known as \"Super Bowl L\"), so that the logo could prominently feature the Arabic numerals 50.",
         "What month, day and year did Super Bowl 50 take place? ",
         [
          [
           334,
           334,
           334
          ],
          [
           "February 7, 2016",
           "February 7, 2016",
           "February 7, 2016"
          ]
         ],
         "February 7, 2016"
        ],
        [
         "56d20362e7d4791d009025e8",
         "Super_Bowl_50",
         "Super Bowl 50 was an American football game to determine the champion of the National Football League (NFL) for the 2015 season. The American Football Conference (AFC) champion Denver Broncos defeated the National Football Conference (NFC) champion Carolina Panthers 24–10 to earn their third Super Bowl title. The game was played on February 7, 2016, at Levi's Stadium in the San Francisco Bay Area at Santa Clara, California. As this was the 50th Super Bowl, the league emphasized the \"golden anniversary\" with various gold-themed initiatives, as well as temporarily suspending the tradition of naming each Super Bowl game with Roman numerals (under which the game would have been known as \"Super Bowl L\"), so that the logo could prominently feature the Arabic numerals 50.",
         "What year was Super Bowl 50?",
         [
          [
           116,
           346,
           346
          ],
          [
           "2015",
           "2016",
           "2016"
          ]
         ],
         "2015"
        ],
        [
         "56d20362e7d4791d009025e9",
         "Super_Bowl_50",
         "Super Bowl 50 was an American football game to determine the champion of the National Football League (NFL) for the 2015 season. The American Football Conference (AFC) champion Denver Broncos defeated the National Football Conference (NFC) champion Carolina Panthers 24–10 to earn their third Super Bowl title. The game was played on February 7, 2016, at Levi's Stadium in the San Francisco Bay Area at Santa Clara, California. As this was the 50th Super Bowl, the league emphasized the \"golden anniversary\" with various gold-themed initiatives, as well as temporarily suspending the tradition of naming each Super Bowl game with Roman numerals (under which the game would have been known as \"Super Bowl L\"), so that the logo could prominently feature the Arabic numerals 50.",
         "What team was the AFC champion?",
         [
          [
           177,
           177,
           177
          ],
          [
           "Denver Broncos",
           "Denver Broncos",
           "Denver Broncos"
          ]
         ],
         "Denver Broncos"
        ],
        [
         "56d20362e7d4791d009025ea",
         "Super_Bowl_50",
         "Super Bowl 50 was an American football game to determine the champion of the National Football League (NFL) for the 2015 season. The American Football Conference (AFC) champion Denver Broncos defeated the National Football Conference (NFC) champion Carolina Panthers 24–10 to earn their third Super Bowl title. The game was played on February 7, 2016, at Levi's Stadium in the San Francisco Bay Area at Santa Clara, California. As this was the 50th Super Bowl, the league emphasized the \"golden anniversary\" with various gold-themed initiatives, as well as temporarily suspending the tradition of naming each Super Bowl game with Roman numerals (under which the game would have been known as \"Super Bowl L\"), so that the logo could prominently feature the Arabic numerals 50.",
         "What team was the NFC champion?",
         [
          [
           249,
           249,
           249
          ],
          [
           "Carolina Panthers",
           "Carolina Panthers",
           "Carolina Panthers"
          ]
         ],
         "Carolina Panthers"
        ],
        [
         "56d20362e7d4791d009025eb",
         "Super_Bowl_50",
         "Super Bowl 50 was an American football game to determine the champion of the National Football League (NFL) for the 2015 season. The American Football Conference (AFC) champion Denver Broncos defeated the National Football Conference (NFC) champion Carolina Panthers 24–10 to earn their third Super Bowl title. The game was played on February 7, 2016, at Levi's Stadium in the San Francisco Bay Area at Santa Clara, California. As this was the 50th Super Bowl, the league emphasized the \"golden anniversary\" with various gold-themed initiatives, as well as temporarily suspending the tradition of naming each Super Bowl game with Roman numerals (under which the game would have been known as \"Super Bowl L\"), so that the logo could prominently feature the Arabic numerals 50.",
         "Who won Super Bowl 50?",
         [
          [
           177,
           177,
           177
          ],
          [
           "Denver Broncos",
           "Denver Broncos",
           "Denver Broncos"
          ]
         ],
         "Denver Broncos"
        ],
        [
         "56d600e31c85041400946eae",
         "Super_Bowl_50",
         "Super Bowl 50 was an American football game to determine the champion of the National Football League (NFL) for the 2015 season. The American Football Conference (AFC) champion Denver Broncos defeated the National Football Conference (NFC) champion Carolina Panthers 24–10 to earn their third Super Bowl title. The game was played on February 7, 2016, at Levi's Stadium in the San Francisco Bay Area at Santa Clara, California. As this was the 50th Super Bowl, the league emphasized the \"golden anniversary\" with various gold-themed initiatives, as well as temporarily suspending the tradition of naming each Super Bowl game with Roman numerals (under which the game would have been known as \"Super Bowl L\"), so that the logo could prominently feature the Arabic numerals 50.",
         "Super Bowl 50 determined the NFL champion for what season?",
         [
          [
           116,
           112,
           116
          ],
          [
           "2015",
           "the 2015 season",
           "2015"
          ]
         ],
         "2015"
        ],
        [
         "56d600e31c85041400946eb0",
         "Super_Bowl_50",
         "Super Bowl 50 was an American football game to determine the champion of the National Football League (NFL) for the 2015 season. The American Football Conference (AFC) champion Denver Broncos defeated the National Football Conference (NFC) champion Carolina Panthers 24–10 to earn their third Super Bowl title. The game was played on February 7, 2016, at Levi's Stadium in the San Francisco Bay Area at Santa Clara, California. As this was the 50th Super Bowl, the league emphasized the \"golden anniversary\" with various gold-themed initiatives, as well as temporarily suspending the tradition of naming each Super Bowl game with Roman numerals (under which the game would have been known as \"Super Bowl L\"), so that the logo could prominently feature the Arabic numerals 50.",
         "Which team won Super Bowl 50.",
         [
          [
           177,
           177,
           177
          ],
          [
           "Denver Broncos",
           "Denver Broncos",
           "Denver Broncos"
          ]
         ],
         "Carolina Panthers"
        ],
        [
         "56d600e31c85041400946eb1",
         "Super_Bowl_50",
         "Super Bowl 50 was an American football game to determine the champion of the National Football League (NFL) for the 2015 season. The American Football Conference (AFC) champion Denver Broncos defeated the National Football Conference (NFC) champion Carolina Panthers 24–10 to earn their third Super Bowl title. The game was played on February 7, 2016, at Levi's Stadium in the San Francisco Bay Area at Santa Clara, California. As this was the 50th Super Bowl, the league emphasized the \"golden anniversary\" with various gold-themed initiatives, as well as temporarily suspending the tradition of naming each Super Bowl game with Roman numerals (under which the game would have been known as \"Super Bowl L\"), so that the logo could prominently feature the Arabic numerals 50.",
         "Where was Super Bowl 50 held?",
         [
          [
           403,
           355,
           355
          ],
          [
           "Santa Clara, California.",
           "Levi's Stadium",
           "Levi's Stadium"
          ]
         ],
         "Levi's Stadium"
        ],
        [
         "56d9895ddc89441400fdb50e",
         "Super_Bowl_50",
         "Super Bowl 50 was an American football game to determine the champion of the National Football League (NFL) for the 2015 season. The American Football Conference (AFC) champion Denver Broncos defeated the National Football Conference (NFC) champion Carolina Panthers 24–10 to earn their third Super Bowl title. The game was played on February 7, 2016, at Levi's Stadium in the San Francisco Bay Area at Santa Clara, California. As this was the 50th Super Bowl, the league emphasized the \"golden anniversary\" with various gold-themed initiatives, as well as temporarily suspending the tradition of naming each Super Bowl game with Roman numerals (under which the game would have been known as \"Super Bowl L\"), so that the logo could prominently feature the Arabic numerals 50.",
         "The name of the NFL championship game is?",
         [
          [
           0,
           0,
           0
          ],
          [
           "Super Bowl",
           "Super Bowl",
           "Super Bowl"
          ]
         ],
         "Super Bowl 50"
        ],
        [
         "56d9895ddc89441400fdb510",
         "Super_Bowl_50",
         "Super Bowl 50 was an American football game to determine the champion of the National Football League (NFL) for the 2015 season. The American Football Conference (AFC) champion Denver Broncos defeated the National Football Conference (NFC) champion Carolina Panthers 24–10 to earn their third Super Bowl title. The game was played on February 7, 2016, at Levi's Stadium in the San Francisco Bay Area at Santa Clara, California. As this was the 50th Super Bowl, the league emphasized the \"golden anniversary\" with various gold-themed initiatives, as well as temporarily suspending the tradition of naming each Super Bowl game with Roman numerals (under which the game would have been known as \"Super Bowl L\"), so that the logo could prominently feature the Arabic numerals 50.",
         "What 2015 NFL team one the AFC playoff?",
         [
          [
           177,
           177,
           177
          ],
          [
           "Denver Broncos",
           "Denver Broncos",
           "Denver Broncos"
          ]
         ],
         "Denver Broncos"
        ],
        [
         "56be4e1facb8001400a502f6",
         "Super_Bowl_50",
         "The Panthers finished the regular season with a 15–1 record, and quarterback Cam Newton was named the NFL Most Valuable Player (MVP). They defeated the Arizona Cardinals 49–15 in the NFC Championship Game and advanced to their second Super Bowl appearance since the franchise was founded in 1995. The Broncos finished the regular season with a 12–4 record, and denied the New England Patriots a chance to defend their title from Super Bowl XLIX by defeating them 20–18 in the AFC Championship Game. They joined the Patriots, Dallas Cowboys, and Pittsburgh Steelers as one of four teams that have made eight appearances in the Super Bowl.",
         "Which Carolina Panthers player was named Most Valuable Player?",
         [
          [
           77,
           77,
           77
          ],
          [
           "Cam Newton",
           "Cam Newton",
           "Cam Newton"
          ]
         ],
         "Cam Newton"
        ],
        [
         "56be4e1facb8001400a502f9",
         "Super_Bowl_50",
         "The Panthers finished the regular season with a 15–1 record, and quarterback Cam Newton was named the NFL Most Valuable Player (MVP). They defeated the Arizona Cardinals 49–15 in the NFC Championship Game and advanced to their second Super Bowl appearance since the franchise was founded in 1995. The Broncos finished the regular season with a 12–4 record, and denied the New England Patriots a chance to defend their title from Super Bowl XLIX by defeating them 20–18 in the AFC Championship Game. They joined the Patriots, Dallas Cowboys, and Pittsburgh Steelers as one of four teams that have made eight appearances in the Super Bowl.",
         "How many appearances have the Denver Broncos made in the Super Bowl?",
         [
          [
           467,
           601,
           601
          ],
          [
           "8",
           "eight",
           "eight"
          ]
         ],
         "eight"
        ],
        [
         "56be4e1facb8001400a502fa",
         "Super_Bowl_50",
         "The Panthers finished the regular season with a 15–1 record, and quarterback Cam Newton was named the NFL Most Valuable Player (MVP). They defeated the Arizona Cardinals 49–15 in the NFC Championship Game and advanced to their second Super Bowl appearance since the franchise was founded in 1995. The Broncos finished the regular season with a 12–4 record, and denied the New England Patriots a chance to defend their title from Super Bowl XLIX by defeating them 20–18 in the AFC Championship Game. They joined the Patriots, Dallas Cowboys, and Pittsburgh Steelers as one of four teams that have made eight appearances in the Super Bowl.",
         "What year was the Carolina Panthers franchise founded?",
         [
          [
           291,
           291,
           291
          ],
          [
           "1995",
           "1995",
           "1995"
          ]
         ],
         "1995"
        ],
        [
         "56beaa4a3aeaaa14008c91c2",
         "Super_Bowl_50",
         "The Panthers finished the regular season with a 15–1 record, and quarterback Cam Newton was named the NFL Most Valuable Player (MVP). They defeated the Arizona Cardinals 49–15 in the NFC Championship Game and advanced to their second Super Bowl appearance since the franchise was founded in 1995. The Broncos finished the regular season with a 12–4 record, and denied the New England Patriots a chance to defend their title from Super Bowl XLIX by defeating them 20–18 in the AFC Championship Game. They joined the Patriots, Dallas Cowboys, and Pittsburgh Steelers as one of four teams that have made eight appearances in the Super Bowl.",
         "What team did the Panthers defeat?",
         [
          [
           152,
           148,
           152
          ],
          [
           "Arizona Cardinals",
           "the Arizona Cardinals",
           "Arizona Cardinals"
          ]
         ],
         "Arizona Cardinals"
        ],
        [
         "56beaa4a3aeaaa14008c91c3",
         "Super_Bowl_50",
         "The Panthers finished the regular season with a 15–1 record, and quarterback Cam Newton was named the NFL Most Valuable Player (MVP). They defeated the Arizona Cardinals 49–15 in the NFC Championship Game and advanced to their second Super Bowl appearance since the franchise was founded in 1995. The Broncos finished the regular season with a 12–4 record, and denied the New England Patriots a chance to defend their title from Super Bowl XLIX by defeating them 20–18 in the AFC Championship Game. They joined the Patriots, Dallas Cowboys, and Pittsburgh Steelers as one of four teams that have made eight appearances in the Super Bowl.",
         "Who did the Broncos prevent from going to the Super Bowl?",
         [
          [
           372,
           368,
           372
          ],
          [
           "New England Patriots",
           "the New England Patriots",
           "New England Patriots"
          ]
         ],
         "New England Patriots"
        ],
        [
         "56bead5a3aeaaa14008c91e9",
         "Super_Bowl_50",
         "The Panthers finished the regular season with a 15–1 record, and quarterback Cam Newton was named the NFL Most Valuable Player (MVP). They defeated the Arizona Cardinals 49–15 in the NFC Championship Game and advanced to their second Super Bowl appearance since the franchise was founded in 1995. The Broncos finished the regular season with a 12–4 record, and denied the New England Patriots a chance to defend their title from Super Bowl XLIX by defeating them 20–18 in the AFC Championship Game. They joined the Patriots, Dallas Cowboys, and Pittsburgh Steelers as one of four teams that have made eight appearances in the Super Bowl.",
         "Who did the Panthers beat in the NFC Championship Game?",
         [
          [
           152,
           148,
           152
          ],
          [
           "Arizona Cardinals",
           "the Arizona Cardinals",
           "Arizona Cardinals"
          ]
         ],
         "Arizona Cardinals"
        ],
        [
         "56bead5a3aeaaa14008c91ea",
         "Super_Bowl_50",
         "The Panthers finished the regular season with a 15–1 record, and quarterback Cam Newton was named the NFL Most Valuable Player (MVP). They defeated the Arizona Cardinals 49–15 in the NFC Championship Game and advanced to their second Super Bowl appearance since the franchise was founded in 1995. The Broncos finished the regular season with a 12–4 record, and denied the New England Patriots a chance to defend their title from Super Bowl XLIX by defeating them 20–18 in the AFC Championship Game. They joined the Patriots, Dallas Cowboys, and Pittsburgh Steelers as one of four teams that have made eight appearances in the Super Bowl.",
         "Who lost to the Broncos in the AFC Championship?",
         [
          [
           372,
           368,
           372
          ],
          [
           "New England Patriots",
           "the New England Patriots",
           "New England Patriots"
          ]
         ],
         "Arizona Cardinals"
        ],
        [
         "56bead5a3aeaaa14008c91eb",
         "Super_Bowl_50",
         "The Panthers finished the regular season with a 15–1 record, and quarterback Cam Newton was named the NFL Most Valuable Player (MVP). They defeated the Arizona Cardinals 49–15 in the NFC Championship Game and advanced to their second Super Bowl appearance since the franchise was founded in 1995. The Broncos finished the regular season with a 12–4 record, and denied the New England Patriots a chance to defend their title from Super Bowl XLIX by defeating them 20–18 in the AFC Championship Game. They joined the Patriots, Dallas Cowboys, and Pittsburgh Steelers as one of four teams that have made eight appearances in the Super Bowl.",
         "Who were the defending Super Bowl champions?",
         [
          [
           372,
           368,
           372
          ],
          [
           "New England Patriots",
           "the New England Patriots",
           "New England Patriots"
          ]
         ],
         "New England Patriots"
        ],
        [
         "56bead5a3aeaaa14008c91ec",
         "Super_Bowl_50",
         "The Panthers finished the regular season with a 15–1 record, and quarterback Cam Newton was named the NFL Most Valuable Player (MVP). They defeated the Arizona Cardinals 49–15 in the NFC Championship Game and advanced to their second Super Bowl appearance since the franchise was founded in 1995. The Broncos finished the regular season with a 12–4 record, and denied the New England Patriots a chance to defend their title from Super Bowl XLIX by defeating them 20–18 in the AFC Championship Game. They joined the Patriots, Dallas Cowboys, and Pittsburgh Steelers as one of four teams that have made eight appearances in the Super Bowl.",
         "How many teams have been in the Super Bowl eight times?",
         [
          [
           575,
           575,
           575
          ],
          [
           "four",
           "four",
           "four"
          ]
         ],
         "four"
        ],
        [
         "56bead5a3aeaaa14008c91ed",
         "Super_Bowl_50",
         "The Panthers finished the regular season with a 15–1 record, and quarterback Cam Newton was named the NFL Most Valuable Player (MVP). They defeated the Arizona Cardinals 49–15 in the NFC Championship Game and advanced to their second Super Bowl appearance since the franchise was founded in 1995. The Broncos finished the regular season with a 12–4 record, and denied the New England Patriots a chance to defend their title from Super Bowl XLIX by defeating them 20–18 in the AFC Championship Game. They joined the Patriots, Dallas Cowboys, and Pittsburgh Steelers as one of four teams that have made eight appearances in the Super Bowl.",
         "Who was this season's NFL MVP?",
         [
          [
           77,
           77,
           77
          ],
          [
           "Cam Newton",
           "Cam Newton",
           "Cam Newton"
          ]
         ],
         "Cam Newton"
        ],
        [
         "56bf159b3aeaaa14008c9507",
         "Super_Bowl_50",
         "The Panthers finished the regular season with a 15–1 record, and quarterback Cam Newton was named the NFL Most Valuable Player (MVP). They defeated the Arizona Cardinals 49–15 in the NFC Championship Game and advanced to their second Super Bowl appearance since the franchise was founded in 1995. The Broncos finished the regular season with a 12–4 record, and denied the New England Patriots a chance to defend their title from Super Bowl XLIX by defeating them 20–18 in the AFC Championship Game. They joined the Patriots, Dallas Cowboys, and Pittsburgh Steelers as one of four teams that have made eight appearances in the Super Bowl.",
         "What was the win/loss ratio in 2015 for the Carolina Panthers during their regular season?",
         [
          [
           48,
           48,
           48
          ],
          [
           "15–1",
           "15–1",
           "15–1"
          ]
         ],
         "15–1"
        ],
        [
         "56bf159b3aeaaa14008c9508",
         "Super_Bowl_50",
         "The Panthers finished the regular season with a 15–1 record, and quarterback Cam Newton was named the NFL Most Valuable Player (MVP). They defeated the Arizona Cardinals 49–15 in the NFC Championship Game and advanced to their second Super Bowl appearance since the franchise was founded in 1995. The Broncos finished the regular season with a 12–4 record, and denied the New England Patriots a chance to defend their title from Super Bowl XLIX by defeating them 20–18 in the AFC Championship Game. They joined the Patriots, Dallas Cowboys, and Pittsburgh Steelers as one of four teams that have made eight appearances in the Super Bowl.",
         "Which Carolina Panthers team member was picked as the team's MVP in 2015? ",
         [
          [
           77,
           77,
           77
          ],
          [
           "Cam Newton",
           "Cam Newton",
           "Cam Newton"
          ]
         ],
         "Cam Newton"
        ],
        [
         "56bf159b3aeaaa14008c9509",
         "Super_Bowl_50",
         "The Panthers finished the regular season with a 15–1 record, and quarterback Cam Newton was named the NFL Most Valuable Player (MVP). They defeated the Arizona Cardinals 49–15 in the NFC Championship Game and advanced to their second Super Bowl appearance since the franchise was founded in 1995. The Broncos finished the regular season with a 12–4 record, and denied the New England Patriots a chance to defend their title from Super Bowl XLIX by defeating them 20–18 in the AFC Championship Game. They joined the Patriots, Dallas Cowboys, and Pittsburgh Steelers as one of four teams that have made eight appearances in the Super Bowl.",
         "What were the win/loss game stats for the Denver Bronco's regular season in 2015?",
         [
          [
           344,
           344,
           344
          ],
          [
           "12–4",
           "12–4",
           "12–4"
          ]
         ],
         "15–1 record"
        ],
        [
         "56bf159b3aeaaa14008c950a",
         "Super_Bowl_50",
         "The Panthers finished the regular season with a 15–1 record, and quarterback Cam Newton was named the NFL Most Valuable Player (MVP). They defeated the Arizona Cardinals 49–15 in the NFC Championship Game and advanced to their second Super Bowl appearance since the franchise was founded in 1995. The Broncos finished the regular season with a 12–4 record, and denied the New England Patriots a chance to defend their title from Super Bowl XLIX by defeating them 20–18 in the AFC Championship Game. They joined the Patriots, Dallas Cowboys, and Pittsburgh Steelers as one of four teams that have made eight appearances in the Super Bowl.",
         "How many teams have played in the Super Bowl eight times?",
         [
          [
           170,
           575,
           575
          ],
          [
           "4",
           "four",
           "four"
          ]
         ],
         "four"
        ],
        [
         "56bf159b3aeaaa14008c950b",
         "Super_Bowl_50",
         "The Panthers finished the regular season with a 15–1 record, and quarterback Cam Newton was named the NFL Most Valuable Player (MVP). They defeated the Arizona Cardinals 49–15 in the NFC Championship Game and advanced to their second Super Bowl appearance since the franchise was founded in 1995. The Broncos finished the regular season with a 12–4 record, and denied the New England Patriots a chance to defend their title from Super Bowl XLIX by defeating them 20–18 in the AFC Championship Game. They joined the Patriots, Dallas Cowboys, and Pittsburgh Steelers as one of four teams that have made eight appearances in the Super Bowl.",
         "Which team did not get a chance to defend their Super Bowl XLIX win in Super Bowl 50?",
         [
          [
           372,
           368,
           372
          ],
          [
           "New England Patriots",
           "the New England Patriots",
           "New England Patriots"
          ]
         ],
         "New England Patriots"
        ],
        [
         "56d2045de7d4791d009025f3",
         "Super_Bowl_50",
         "The Panthers finished the regular season with a 15–1 record, and quarterback Cam Newton was named the NFL Most Valuable Player (MVP). They defeated the Arizona Cardinals 49–15 in the NFC Championship Game and advanced to their second Super Bowl appearance since the franchise was founded in 1995. The Broncos finished the regular season with a 12–4 record, and denied the New England Patriots a chance to defend their title from Super Bowl XLIX by defeating them 20–18 in the AFC Championship Game. They joined the Patriots, Dallas Cowboys, and Pittsburgh Steelers as one of four teams that have made eight appearances in the Super Bowl.",
         "Who is the quarterback for the Panthers?",
         [
          [
           77,
           77,
           77
          ],
          [
           "Cam Newton",
           "Cam Newton",
           "Cam Newton"
          ]
         ],
         "Cam Newton"
        ],
        [
         "56d2045de7d4791d009025f4",
         "Super_Bowl_50",
         "The Panthers finished the regular season with a 15–1 record, and quarterback Cam Newton was named the NFL Most Valuable Player (MVP). They defeated the Arizona Cardinals 49–15 in the NFC Championship Game and advanced to their second Super Bowl appearance since the franchise was founded in 1995. The Broncos finished the regular season with a 12–4 record, and denied the New England Patriots a chance to defend their title from Super Bowl XLIX by defeating them 20–18 in the AFC Championship Game. They joined the Patriots, Dallas Cowboys, and Pittsburgh Steelers as one of four teams that have made eight appearances in the Super Bowl.",
         "Who did Carolina beat in the NFC championship game?",
         [
          [
           152,
           148,
           152
          ],
          [
           "Arizona Cardinals",
           "the Arizona Cardinals",
           "Arizona Cardinals"
          ]
         ],
         "Arizona Cardinals"
        ],
        [
         "56d2045de7d4791d009025f5",
         "Super_Bowl_50",
         "The Panthers finished the regular season with a 15–1 record, and quarterback Cam Newton was named the NFL Most Valuable Player (MVP). They defeated the Arizona Cardinals 49–15 in the NFC Championship Game and advanced to their second Super Bowl appearance since the franchise was founded in 1995. The Broncos finished the regular season with a 12–4 record, and denied the New England Patriots a chance to defend their title from Super Bowl XLIX by defeating them 20–18 in the AFC Championship Game. They joined the Patriots, Dallas Cowboys, and Pittsburgh Steelers as one of four teams that have made eight appearances in the Super Bowl.",
         "How many times have the Panthers been in the Super Bowl?",
         [
          [
           345,
           227,
           227
          ],
          [
           "2",
           "second",
           "second"
          ]
         ],
         "eight"
        ],
        [
         "56d2045de7d4791d009025f6",
         "Super_Bowl_50",
         "The Panthers finished the regular season with a 15–1 record, and quarterback Cam Newton was named the NFL Most Valuable Player (MVP). They defeated the Arizona Cardinals 49–15 in the NFC Championship Game and advanced to their second Super Bowl appearance since the franchise was founded in 1995. The Broncos finished the regular season with a 12–4 record, and denied the New England Patriots a chance to defend their title from Super Bowl XLIX by defeating them 20–18 in the AFC Championship Game. They joined the Patriots, Dallas Cowboys, and Pittsburgh Steelers as one of four teams that have made eight appearances in the Super Bowl.",
         "Who did Denver beat in the AFC championship?",
         [
          [
           372,
           368,
           372
          ],
          [
           "New England Patriots",
           "the New England Patriots",
           "New England Patriots"
          ]
         ],
         "Arizona Cardinals"
        ],
        [
         "56d6017d1c85041400946ebe",
         "Super_Bowl_50",
         "The Panthers finished the regular season with a 15–1 record, and quarterback Cam Newton was named the NFL Most Valuable Player (MVP). They defeated the Arizona Cardinals 49–15 in the NFC Championship Game and advanced to their second Super Bowl appearance since the franchise was founded in 1995. The Broncos finished the regular season with a 12–4 record, and denied the New England Patriots a chance to defend their title from Super Bowl XLIX by defeating them 20–18 in the AFC Championship Game. They joined the Patriots, Dallas Cowboys, and Pittsburgh Steelers as one of four teams that have made eight appearances in the Super Bowl.",
         "Who was the Most Valuable Player for the 2015 NFL season?",
         [
          [
           77,
           77,
           77
          ],
          [
           "Cam Newton",
           "Cam Newton",
           "Cam Newton"
          ]
         ],
         "Cam Newton"
        ],
        [
         "56d6017d1c85041400946ec1",
         "Super_Bowl_50",
         "The Panthers finished the regular season with a 15–1 record, and quarterback Cam Newton was named the NFL Most Valuable Player (MVP). They defeated the Arizona Cardinals 49–15 in the NFC Championship Game and advanced to their second Super Bowl appearance since the franchise was founded in 1995. The Broncos finished the regular season with a 12–4 record, and denied the New England Patriots a chance to defend their title from Super Bowl XLIX by defeating them 20–18 in the AFC Championship Game. They joined the Patriots, Dallas Cowboys, and Pittsburgh Steelers as one of four teams that have made eight appearances in the Super Bowl.",
         "Who did Denver beat in the 2015 AFC Championship game?",
         [
          [
           372,
           368,
           372
          ],
          [
           "New England Patriots",
           "the New England Patriots",
           "New England Patriots"
          ]
         ],
         "Arizona Cardinals"
        ],
        [
         "56d6017d1c85041400946ec2",
         "Super_Bowl_50",
         "The Panthers finished the regular season with a 15–1 record, and quarterback Cam Newton was named the NFL Most Valuable Player (MVP). They defeated the Arizona Cardinals 49–15 in the NFC Championship Game and advanced to their second Super Bowl appearance since the franchise was founded in 1995. The Broncos finished the regular season with a 12–4 record, and denied the New England Patriots a chance to defend their title from Super Bowl XLIX by defeating them 20–18 in the AFC Championship Game. They joined the Patriots, Dallas Cowboys, and Pittsburgh Steelers as one of four teams that have made eight appearances in the Super Bowl.",
         "Who did the Carolina Panthers beat in the 2015 NFC Championship game?",
         [
          [
           152,
           148,
           152
          ],
          [
           "Arizona Cardinals",
           "the Arizona Cardinals",
           "Arizona Cardinals"
          ]
         ],
         "Arizona Cardinals"
        ],
        [
         "56d98a59dc89441400fdb52a",
         "Super_Bowl_50",
         "The Panthers finished the regular season with a 15–1 record, and quarterback Cam Newton was named the NFL Most Valuable Player (MVP). They defeated the Arizona Cardinals 49–15 in the NFC Championship Game and advanced to their second Super Bowl appearance since the franchise was founded in 1995. The Broncos finished the regular season with a 12–4 record, and denied the New England Patriots a chance to defend their title from Super Bowl XLIX by defeating them 20–18 in the AFC Championship Game. They joined the Patriots, Dallas Cowboys, and Pittsburgh Steelers as one of four teams that have made eight appearances in the Super Bowl.",
         "Who was the 2015 NFL MVP?",
         [
          [
           77,
           77,
           77
          ],
          [
           "Cam Newton",
           "Cam Newton",
           "Cam Newton"
          ]
         ],
         "Cam Newton"
        ],
        [
         "56d98a59dc89441400fdb52b",
         "Super_Bowl_50",
         "The Panthers finished the regular season with a 15–1 record, and quarterback Cam Newton was named the NFL Most Valuable Player (MVP). They defeated the Arizona Cardinals 49–15 in the NFC Championship Game and advanced to their second Super Bowl appearance since the franchise was founded in 1995. The Broncos finished the regular season with a 12–4 record, and denied the New England Patriots a chance to defend their title from Super Bowl XLIX by defeating them 20–18 in the AFC Championship Game. They joined the Patriots, Dallas Cowboys, and Pittsburgh Steelers as one of four teams that have made eight appearances in the Super Bowl.",
         "Who did the Panthers beat to become the NFC champs?",
         [
          [
           152,
           148,
           152
          ],
          [
           "Arizona Cardinals",
           "the Arizona Cardinals",
           "Arizona Cardinals"
          ]
         ],
         "Arizona Cardinals"
        ],
        [
         "56d98a59dc89441400fdb52e",
         "Super_Bowl_50",
         "The Panthers finished the regular season with a 15–1 record, and quarterback Cam Newton was named the NFL Most Valuable Player (MVP). They defeated the Arizona Cardinals 49–15 in the NFC Championship Game and advanced to their second Super Bowl appearance since the franchise was founded in 1995. The Broncos finished the regular season with a 12–4 record, and denied the New England Patriots a chance to defend their title from Super Bowl XLIX by defeating them 20–18 in the AFC Championship Game. They joined the Patriots, Dallas Cowboys, and Pittsburgh Steelers as one of four teams that have made eight appearances in the Super Bowl.",
         "What year did the Carolina Panthers form?",
         [
          [
           291,
           291,
           291
          ],
          [
           "1995.",
           "1995",
           "1995"
          ]
         ],
         "1995"
        ],
        [
         "56be4eafacb8001400a50302",
         "Super_Bowl_50",
         "The Broncos took an early lead in Super Bowl 50 and never trailed. Newton was limited by Denver's defense, which sacked him seven times and forced him into three turnovers, including a fumble which they recovered for a touchdown. Denver linebacker Von Miller was named Super Bowl MVP, recording five solo tackles, 2½ sacks, and two forced fumbles.",
         "Who was the Super Bowl 50 MVP?",
         [
          [
           248,
           248,
           252
          ],
          [
           "Von Miller",
           "Von Miller",
           "Miller"
          ]
         ],
         "Von Miller"
        ],
        [
         "56be4eafacb8001400a50303",
         "Super_Bowl_50",
         "The Broncos took an early lead in Super Bowl 50 and never trailed. Newton was limited by Denver's defense, which sacked him seven times and forced him into three turnovers, including a fumble which they recovered for a touchdown. Denver linebacker Von Miller was named Super Bowl MVP, recording five solo tackles, 2½ sacks, and two forced fumbles.",
         "How many fumbles did Von Miller force in Super Bowl 50?",
         [
          [
           314,
           328,
           328
          ],
          [
           "2",
           "two",
           "two"
          ]
         ],
         "two"
        ],
        [
         "56be4eafacb8001400a50304",
         "Super_Bowl_50",
         "The Broncos took an early lead in Super Bowl 50 and never trailed. Newton was limited by Denver's defense, which sacked him seven times and forced him into three turnovers, including a fumble which they recovered for a touchdown. Denver linebacker Von Miller was named Super Bowl MVP, recording five solo tackles, 2½ sacks, and two forced fumbles.",
         "Which team held the scoring lead throughout the entire game?",
         [
          [
           4,
           0,
           4
          ],
          [
           "Broncos",
           "The Broncos",
           "Broncos"
          ]
         ],
         "Broncos"
        ],
        [
         "56beab833aeaaa14008c91d2",
         "Super_Bowl_50",
         "The Broncos took an early lead in Super Bowl 50 and never trailed. Newton was limited by Denver's defense, which sacked him seven times and forced him into three turnovers, including a fumble which they recovered for a touchdown. Denver linebacker Von Miller was named Super Bowl MVP, recording five solo tackles, 2½ sacks, and two forced fumbles.",
         "Which Denver linebacker was named Super Bowl MVP?",
         [
          [
           237,
           248,
           252
          ],
          [
           "linebacker Von Miller",
           "Von Miller",
           "Miller"
          ]
         ],
         "Von Miller"
        ],
        [
         "56beab833aeaaa14008c91d3",
         "Super_Bowl_50",
         "The Broncos took an early lead in Super Bowl 50 and never trailed. Newton was limited by Denver's defense, which sacked him seven times and forced him into three turnovers, including a fumble which they recovered for a touchdown. Denver linebacker Von Miller was named Super Bowl MVP, recording five solo tackles, 2½ sacks, and two forced fumbles.",
         "How many solo tackles did Von Miller make at Super Bowl 50?",
         [
          [
           295,
           295,
           295
          ],
          [
           "five solo tackles",
           "five",
           "five"
          ]
         ],
         "five"
        ],
        [
         "56beab833aeaaa14008c91d4",
         "Super_Bowl_50",
         "The Broncos took an early lead in Super Bowl 50 and never trailed. Newton was limited by Denver's defense, which sacked him seven times and forced him into three turnovers, including a fumble which they recovered for a touchdown. Denver linebacker Von Miller was named Super Bowl MVP, recording five solo tackles, 2½ sacks, and two forced fumbles.",
         "Who was limited by Denver's defense?",
         [
          [
           67,
           67,
           67
          ],
          [
           "Newton was limited by Denver's defense",
           "Newton",
           "Newton"
          ]
         ],
         "Newton"
        ],
        [
         "56beae423aeaaa14008c91f4",
         "Super_Bowl_50",
         "The Broncos took an early lead in Super Bowl 50 and never trailed. Newton was limited by Denver's defense, which sacked him seven times and forced him into three turnovers, including a fumble which they recovered for a touchdown. Denver linebacker Von Miller was named Super Bowl MVP, recording five solo tackles, 2½ sacks, and two forced fumbles.",
         "How many times was Cam Newton sacked?",
         [
          [
           124,
           124,
           124
          ],
          [
           "seven",
           "seven",
           "seven"
          ]
         ],
         "seven"
        ],
        [
         "56beae423aeaaa14008c91f5",
         "Super_Bowl_50",
         "The Broncos took an early lead in Super Bowl 50 and never trailed. Newton was limited by Denver's defense, which sacked him seven times and forced him into three turnovers, including a fumble which they recovered for a touchdown. Denver linebacker Von Miller was named Super Bowl MVP, recording five solo tackles, 2½ sacks, and two forced fumbles.",
         "Who won the Super Bowl MVP?",
         [
          [
           248,
           0,
           252
          ],
          [
           "Von Miller",
           "The Broncos",
           "Miller"
          ]
         ],
         "Von Miller"
        ],
        [
         "56beae423aeaaa14008c91f6",
         "Super_Bowl_50",
         "The Broncos took an early lead in Super Bowl 50 and never trailed. Newton was limited by Denver's defense, which sacked him seven times and forced him into three turnovers, including a fumble which they recovered for a touchdown. Denver linebacker Von Miller was named Super Bowl MVP, recording five solo tackles, 2½ sacks, and two forced fumbles.",
         "How many turnovers did Cam Newton have?",
         [
          [
           156,
           156,
           156
          ],
          [
           "three",
           "three",
           "three"
          ]
         ],
         "three"
        ],
        [
         "56beae423aeaaa14008c91f7",
         "Super_Bowl_50",
         "The Broncos took an early lead in Super Bowl 50 and never trailed. Newton was limited by Denver's defense, which sacked him seven times and forced him into three turnovers, including a fumble which they recovered for a touchdown. Denver linebacker Von Miller was named Super Bowl MVP, recording five solo tackles, 2½ sacks, and two forced fumbles.",
         "How many fumbles did Von Miller force?",
         [
          [
           328,
           328,
           328
          ],
          [
           "two",
           "two",
           "two"
          ]
         ],
         "two"
        ],
        [
         "56bf17653aeaaa14008c9511",
         "Super_Bowl_50",
         "The Broncos took an early lead in Super Bowl 50 and never trailed. Newton was limited by Denver's defense, which sacked him seven times and forced him into three turnovers, including a fumble which they recovered for a touchdown. Denver linebacker Von Miller was named Super Bowl MVP, recording five solo tackles, 2½ sacks, and two forced fumbles.",
         "Who was given the esteemed status of MVP for Super Bowl 50?",
         [
          [
           248,
           248,
           252
          ],
          [
           "Von Miller",
           "Von Miller",
           "Miller"
          ]
         ],
         "Von Miller"
        ],
        [
         "56bf17653aeaaa14008c9513",
         "Super_Bowl_50",
         "The Broncos took an early lead in Super Bowl 50 and never trailed. Newton was limited by Denver's defense, which sacked him seven times and forced him into three turnovers, including a fumble which they recovered for a touchdown. Denver linebacker Von Miller was named Super Bowl MVP, recording five solo tackles, 2½ sacks, and two forced fumbles.",
         "What position does Von Miller play for the Denver Broncos?",
         [
          [
           237,
           237,
           237
          ],
          [
           "linebacker",
           "linebacker",
           "linebacker"
          ]
         ],
         "linebacker"
        ],
        [
         "56bf17653aeaaa14008c9514",
         "Super_Bowl_50",
         "The Broncos took an early lead in Super Bowl 50 and never trailed. Newton was limited by Denver's defense, which sacked him seven times and forced him into three turnovers, including a fumble which they recovered for a touchdown. Denver linebacker Von Miller was named Super Bowl MVP, recording five solo tackles, 2½ sacks, and two forced fumbles.",
         "What was the number of solo tackles that Von Miller had in Super Bowl 50?",
         [
          [
           45,
           295,
           295
          ],
          [
           "5",
           "five",
           "five"
          ]
         ],
         "five"
        ],
        [
         "56bf17653aeaaa14008c9515",
         "Super_Bowl_50",
         "The Broncos took an early lead in Super Bowl 50 and never trailed. Newton was limited by Denver's defense, which sacked him seven times and forced him into three turnovers, including a fumble which they recovered for a touchdown. Denver linebacker Von Miller was named Super Bowl MVP, recording five solo tackles, 2½ sacks, and two forced fumbles.",
         "How many forced fumbles did Von Miller have during the Super Bowl 50 game?",
         [
          [
           314,
           328,
           328
          ],
          [
           "2",
           "two",
           "two"
          ]
         ],
         "two"
        ],
        [
         "56d204ade7d4791d00902603",
         "Super_Bowl_50",
         "The Broncos took an early lead in Super Bowl 50 and never trailed. Newton was limited by Denver's defense, which sacked him seven times and forced him into three turnovers, including a fumble which they recovered for a touchdown. Denver linebacker Von Miller was named Super Bowl MVP, recording five solo tackles, 2½ sacks, and two forced fumbles.",
         "Who won the MVP for the Super Bowl?",
         [
          [
           248,
           248,
           248
          ],
          [
           "Von Miller",
           "Von Miller",
           "Von Miller"
          ]
         ],
         "Von Miller"
        ],
        [
         "56d204ade7d4791d00902604",
         "Super_Bowl_50",
         "The Broncos took an early lead in Super Bowl 50 and never trailed. Newton was limited by Denver's defense, which sacked him seven times and forced him into three turnovers, including a fumble which they recovered for a touchdown. Denver linebacker Von Miller was named Super Bowl MVP, recording five solo tackles, 2½ sacks, and two forced fumbles.",
         "How many tackles did Von Miller get during the game?",
         [
          [
           45,
           295,
           295
          ],
          [
           "5",
           "five",
           "five"
          ]
         ],
         "five"
        ],
        [
         "56d601e41c85041400946ece",
         "Super_Bowl_50",
         "The Broncos took an early lead in Super Bowl 50 and never trailed. Newton was limited by Denver's defense, which sacked him seven times and forced him into three turnovers, including a fumble which they recovered for a touchdown. Denver linebacker Von Miller was named Super Bowl MVP, recording five solo tackles, 2½ sacks, and two forced fumbles.",
         "How many times was Cam Newton sacked in Super Bowl 50?",
         [
          [
           124,
           124,
           124
          ],
          [
           "seven",
           "seven",
           "seven"
          ]
         ],
         "seven"
        ],
        [
         "56d601e41c85041400946ecf",
         "Super_Bowl_50",
         "The Broncos took an early lead in Super Bowl 50 and never trailed. Newton was limited by Denver's defense, which sacked him seven times and forced him into three turnovers, including a fumble which they recovered for a touchdown. Denver linebacker Von Miller was named Super Bowl MVP, recording five solo tackles, 2½ sacks, and two forced fumbles.",
         "How many times did the Denver defense force Newton into turnovers?",
         [
          [
           156,
           156,
           156
          ],
          [
           "three",
           "three",
           "three"
          ]
         ],
         "three"
        ],
        [
         "56d601e41c85041400946ed0",
         "Super_Bowl_50",
         "The Broncos took an early lead in Super Bowl 50 and never trailed. Newton was limited by Denver's defense, which sacked him seven times and forced him into three turnovers, including a fumble which they recovered for a touchdown. Denver linebacker Von Miller was named Super Bowl MVP, recording five solo tackles, 2½ sacks, and two forced fumbles.",
         "Which Newton turnover resulted in seven points for Denver?",
         [
          [
           183,
           183,
           185
          ],
          [
           "a fumble",
           "a fumble",
           "fumble"
          ]
         ],
         "a fumble"
        ],
        [
         "56d601e41c85041400946ed1",
         "Super_Bowl_50",
         "The Broncos took an early lead in Super Bowl 50 and never trailed. Newton was limited by Denver's defense, which sacked him seven times and forced him into three turnovers, including a fumble which they recovered for a touchdown. Denver linebacker Von Miller was named Super Bowl MVP, recording five solo tackles, 2½ sacks, and two forced fumbles.",
         "Who was the Most Valuable Player of Super Bowl 50?",
         [
          [
           248,
           248,
           248
          ],
          [
           "Von Miller",
           "Von Miller",
           "Von Miller"
          ]
         ],
         "Von Miller"
        ],
        [
         "56d601e41c85041400946ed2",
         "Super_Bowl_50",
         "The Broncos took an early lead in Super Bowl 50 and never trailed. Newton was limited by Denver's defense, which sacked him seven times and forced him into three turnovers, including a fumble which they recovered for a touchdown. Denver linebacker Von Miller was named Super Bowl MVP, recording five solo tackles, 2½ sacks, and two forced fumbles.",
         "What position does Von Miller play?",
         [
          [
           237,
           237,
           237
          ],
          [
           "linebacker",
           "linebacker",
           "linebacker"
          ]
         ],
         "linebacker"
        ],
        [
         "56d98b33dc89441400fdb53b",
         "Super_Bowl_50",
         "The Broncos took an early lead in Super Bowl 50 and never trailed. Newton was limited by Denver's defense, which sacked him seven times and forced him into three turnovers, including a fumble which they recovered for a touchdown. Denver linebacker Von Miller was named Super Bowl MVP, recording five solo tackles, 2½ sacks, and two forced fumbles.",
         "How many times was the Panthers' quarterback sacked?",
         [
          [
           124,
           124,
           124
          ],
          [
           "seven",
           "seven",
           "seven"
          ]
         ],
         "seven"
        ],
        [
         "56d98b33dc89441400fdb53c",
         "Super_Bowl_50",
         "The Broncos took an early lead in Super Bowl 50 and never trailed. Newton was limited by Denver's defense, which sacked him seven times and forced him into three turnovers, including a fumble which they recovered for a touchdown. Denver linebacker Von Miller was named Super Bowl MVP, recording five solo tackles, 2½ sacks, and two forced fumbles.",
         "How many times did the Broncos cause turnovers in the game?",
         [
          [
           156,
           156,
           156
          ],
          [
           "three",
           "three",
           "three"
          ]
         ],
         "three"
        ],
        [
         "56d98b33dc89441400fdb53d",
         "Super_Bowl_50",
         "The Broncos took an early lead in Super Bowl 50 and never trailed. Newton was limited by Denver's defense, which sacked him seven times and forced him into three turnovers, including a fumble which they recovered for a touchdown. Denver linebacker Von Miller was named Super Bowl MVP, recording five solo tackles, 2½ sacks, and two forced fumbles.",
         "What Denver player caused two fumbles for the Panthers?",
         [
          [
           248,
           248,
           248
          ],
          [
           "Von Miller",
           "Von Miller",
           "Von Miller"
          ]
         ],
         "Von Miller"
        ],
        [
         "56d98b33dc89441400fdb53e",
         "Super_Bowl_50",
         "The Broncos took an early lead in Super Bowl 50 and never trailed. Newton was limited by Denver's defense, which sacked him seven times and forced him into three turnovers, including a fumble which they recovered for a touchdown. Denver linebacker Von Miller was named Super Bowl MVP, recording five solo tackles, 2½ sacks, and two forced fumbles.",
         "How many tackles did Von Miller accomlish by himself in the game?",
         [
          [
           295,
           295,
           295
          ],
          [
           "five",
           "five",
           "five"
          ]
         ],
         "five"
        ],
        [
         "56be5333acb8001400a5030a",
         "Super_Bowl_50",
         "CBS broadcast Super Bowl 50 in the U.S., and charged an average of $5 million for a 30-second commercial during the game. The Super Bowl 50 halftime show was headlined by the British rock group Coldplay with special guest performers Beyoncé and Bruno Mars, who headlined the Super Bowl XLVII and Super Bowl XLVIII halftime shows, respectively. It was the third-most watched U.S. broadcast ever.",
         "Which network broadcasted Super Bowl 50 in the U.S.?",
         [
          [
           0,
           0,
           0
          ],
          [
           "CBS",
           "CBS",
           "CBS"
          ]
         ],
         "CBS"
        ],
        [
         "56be5333acb8001400a5030b",
         "Super_Bowl_50",
         "CBS broadcast Super Bowl 50 in the U.S., and charged an average of $5 million for a 30-second commercial during the game. The Super Bowl 50 halftime show was headlined by the British rock group Coldplay with special guest performers Beyoncé and Bruno Mars, who headlined the Super Bowl XLVII and Super Bowl XLVIII halftime shows, respectively. It was the third-most watched U.S. broadcast ever.",
         "What was the average cost for a 30 second commercial during Super Bowl 50?",
         [
          [
           67,
           67,
           67
          ],
          [
           "$5 million",
           "$5 million",
           "$5 million"
          ]
         ],
         "$5 million"
        ],
        [
         "56be5333acb8001400a5030c",
         "Super_Bowl_50",
         "CBS broadcast Super Bowl 50 in the U.S., and charged an average of $5 million for a 30-second commercial during the game. The Super Bowl 50 halftime show was headlined by the British rock group Coldplay with special guest performers Beyoncé and Bruno Mars, who headlined the Super Bowl XLVII and Super Bowl XLVIII halftime shows, respectively. It was the third-most watched U.S. broadcast ever.",
         "Which group headlined the Super Bowl 50 halftime show?",
         [
          [
           194,
           194,
           194
          ],
          [
           "Coldplay",
           "Coldplay",
           "Coldplay"
          ]
         ],
         "Coldplay"
        ],
        [
         "56be5333acb8001400a5030d",
         "Super_Bowl_50",
         "CBS broadcast Super Bowl 50 in the U.S., and charged an average of $5 million for a 30-second commercial during the game. The Super Bowl 50 halftime show was headlined by the British rock group Coldplay with special guest performers Beyoncé and Bruno Mars, who headlined the Super Bowl XLVII and Super Bowl XLVIII halftime shows, respectively. It was the third-most watched U.S. broadcast ever.",
         "Which performers joined the headliner during the Super Bowl 50 halftime show?",
         [
          [
           233,
           233,
           233
          ],
          [
           "Beyoncé and Bruno Mars",
           "Beyoncé and Bruno Mars",
           "Beyoncé and Bruno Mars"
          ]
         ],
         "Beyoncé and Bruno Mars"
        ],
        [
         "56be5333acb8001400a5030e",
         "Super_Bowl_50",
         "CBS broadcast Super Bowl 50 in the U.S., and charged an average of $5 million for a 30-second commercial during the game. The Super Bowl 50 halftime show was headlined by the British rock group Coldplay with special guest performers Beyoncé and Bruno Mars, who headlined the Super Bowl XLVII and Super Bowl XLVIII halftime shows, respectively. It was the third-most watched U.S. broadcast ever.",
         "At which Super Bowl did Beyonce headline the halftime show?",
         [
          [
           275,
           275,
           286
          ],
          [
           "Super Bowl XLVII",
           "Super Bowl XLVII",
           "XLVII"
          ]
         ],
         "Super Bowl 50"
        ],
        [
         "56beaf5e3aeaaa14008c91fd",
         "Super_Bowl_50",
         "CBS broadcast Super Bowl 50 in the U.S., and charged an average of $5 million for a 30-second commercial during the game. The Super Bowl 50 halftime show was headlined by the British rock group Coldplay with special guest performers Beyoncé and Bruno Mars, who headlined the Super Bowl XLVII and Super Bowl XLVIII halftime shows, respectively. It was the third-most watched U.S. broadcast ever.",
         "Who was the broadcaster for Super Bowl 50 in the United States?",
         [
          [
           0,
           0,
           0
          ],
          [
           "CBS",
           "CBS",
           "CBS"
          ]
         ],
         "CBS"
        ],
        [
         "56beaf5e3aeaaa14008c91fe",
         "Super_Bowl_50",
         "CBS broadcast Super Bowl 50 in the U.S., and charged an average of $5 million for a 30-second commercial during the game. The Super Bowl 50 halftime show was headlined by the British rock group Coldplay with special guest performers Beyoncé and Bruno Mars, who headlined the Super Bowl XLVII and Super Bowl XLVIII halftime shows, respectively. It was the third-most watched U.S. broadcast ever.",
         "What was the average cost of a 30-second commercial?",
         [
          [
           67,
           67,
           67
          ],
          [
           "$5 million",
           "$5 million",
           "$5 million"
          ]
         ],
         "$5 million"
        ],
        [
         "56beaf5e3aeaaa14008c91ff",
         "Super_Bowl_50",
         "CBS broadcast Super Bowl 50 in the U.S., and charged an average of $5 million for a 30-second commercial during the game. The Super Bowl 50 halftime show was headlined by the British rock group Coldplay with special guest performers Beyoncé and Bruno Mars, who headlined the Super Bowl XLVII and Super Bowl XLVIII halftime shows, respectively. It was the third-most watched U.S. broadcast ever.",
         "What halftime performer previously headlined Super Bowl XLVII?",
         [
          [
           233,
           233,
           233
          ],
          [
           "Beyoncé",
           "Beyoncé",
           "Beyoncé"
          ]
         ],
         "Beyoncé and Bruno Mars"
        ],
        [
         "56beaf5e3aeaaa14008c9200",
         "Super_Bowl_50",
         "CBS broadcast Super Bowl 50 in the U.S., and charged an average of $5 million for a 30-second commercial during the game. The Super Bowl 50 halftime show was headlined by the British rock group Coldplay with special guest performers Beyoncé and Bruno Mars, who headlined the Super Bowl XLVII and Super Bowl XLVIII halftime shows, respectively. It was the third-most watched U.S. broadcast ever.",
         "What halftime performer previously headlined Super Bowl XLVIII?",
         [
          [
           245,
           245,
           251
          ],
          [
           "Bruno Mars",
           "Bruno Mars",
           "Mars"
          ]
         ],
         "Beyoncé and Bruno Mars"
        ],
        [
         "56beaf5e3aeaaa14008c9201",
         "Super_Bowl_50",
         "CBS broadcast Super Bowl 50 in the U.S., and charged an average of $5 million for a 30-second commercial during the game. The Super Bowl 50 halftime show was headlined by the British rock group Coldplay with special guest performers Beyoncé and Bruno Mars, who headlined the Super Bowl XLVII and Super Bowl XLVIII halftime shows, respectively. It was the third-most watched U.S. broadcast ever.",
         "Who was the main performer at this year's halftime show?",
         [
          [
           194,
           194,
           194
          ],
          [
           "Coldplay",
           "Coldplay",
           "Coldplay"
          ]
         ],
         "Beyoncé and Bruno Mars"
        ],
        [
         "56bf1ae93aeaaa14008c951b",
         "Super_Bowl_50",
         "CBS broadcast Super Bowl 50 in the U.S., and charged an average of $5 million for a 30-second commercial during the game. The Super Bowl 50 halftime show was headlined by the British rock group Coldplay with special guest performers Beyoncé and Bruno Mars, who headlined the Super Bowl XLVII and Super Bowl XLVIII halftime shows, respectively. It was the third-most watched U.S. broadcast ever.",
         "Which network broadcasted the 50th Super Bowl game? ",
         [
          [
           0,
           0,
           0
          ],
          [
           "CBS",
           "CBS",
           "CBS"
          ]
         ],
         "CBS"
        ],
        [
         "56bf1ae93aeaaa14008c951c",
         "Super_Bowl_50",
         "CBS broadcast Super Bowl 50 in the U.S., and charged an average of $5 million for a 30-second commercial during the game. The Super Bowl 50 halftime show was headlined by the British rock group Coldplay with special guest performers Beyoncé and Bruno Mars, who headlined the Super Bowl XLVII and Super Bowl XLVIII halftime shows, respectively. It was the third-most watched U.S. broadcast ever.",
         "What was the average cost for a TV ad lasting 30 seconds during Super Bowl 50?",
         [
          [
           67,
           67,
           67
          ],
          [
           "$5 million",
           "$5 million",
           "$5 million"
          ]
         ],
         "$5 million"
        ],
        [
         "56bf1ae93aeaaa14008c951e",
         "Super_Bowl_50",
         "CBS broadcast Super Bowl 50 in the U.S., and charged an average of $5 million for a 30-second commercial during the game. The Super Bowl 50 halftime show was headlined by the British rock group Coldplay with special guest performers Beyoncé and Bruno Mars, who headlined the Super Bowl XLVII and Super Bowl XLVIII halftime shows, respectively. It was the third-most watched U.S. broadcast ever.",
         "Who was the male singer who performed as a special guest during Super Bowl 50?",
         [
          [
           245,
           245,
           245
          ],
          [
           "Bruno Mars",
           "Bruno Mars",
           "Bruno Mars,"
          ]
         ],
         "Beyoncé and Bruno Mars"
        ],
        [
         "56bf1ae93aeaaa14008c951f",
         "Super_Bowl_50",
         "CBS broadcast Super Bowl 50 in the U.S., and charged an average of $5 million for a 30-second commercial during the game. The Super Bowl 50 halftime show was headlined by the British rock group Coldplay with special guest performers Beyoncé and Bruno Mars, who headlined the Super Bowl XLVII and Super Bowl XLVIII halftime shows, respectively. It was the third-most watched U.S. broadcast ever.",
         "What ranking does the Super Bowl 50 halftime show have on the list of most watched TV broadcasts?",
         [
          [
           355,
           355,
           355
          ],
          [
           "third",
           "third",
           "third"
          ]
         ],
         "third"
        ],
        [
         "56d2051ce7d4791d00902608",
         "Super_Bowl_50",
         "CBS broadcast Super Bowl 50 in the U.S., and charged an average of $5 million for a 30-second commercial during the game. The Super Bowl 50 halftime show was headlined by the British rock group Coldplay with special guest performers Beyoncé and Bruno Mars, who headlined the Super Bowl XLVII and Super Bowl XLVIII halftime shows, respectively. It was the third-most watched U.S. broadcast ever.",
         "What station aired the Super Bowl?",
         [
          [
           0,
           0,
           0
          ],
          [
           "CBS",
           "CBS",
           "CBS"
          ]
         ],
         "CBS"
        ],
        [
         "56d2051ce7d4791d00902609",
         "Super_Bowl_50",
         "CBS broadcast Super Bowl 50 in the U.S., and charged an average of $5 million for a 30-second commercial during the game. The Super Bowl 50 halftime show was headlined by the British rock group Coldplay with special guest performers Beyoncé and Bruno Mars, who headlined the Super Bowl XLVII and Super Bowl XLVIII halftime shows, respectively. It was the third-most watched U.S. broadcast ever.",
         "How much money did a 1/2 minute commercial cost?",
         [
          [
           67,
           67,
           67
          ],
          [
           "$5 million",
           "$5 million",
           "$5 million"
          ]
         ],
         "$5 million"
        ],
        [
         "56d2051ce7d4791d0090260a",
         "Super_Bowl_50",
         "CBS broadcast Super Bowl 50 in the U.S., and charged an average of $5 million for a 30-second commercial during the game. The Super Bowl 50 halftime show was headlined by the British rock group Coldplay with special guest performers Beyoncé and Bruno Mars, who headlined the Super Bowl XLVII and Super Bowl XLVIII halftime shows, respectively. It was the third-most watched U.S. broadcast ever.",
         "What band headlined half-time during Super Bowl 50?",
         [
          [
           194,
           194,
           194
          ],
          [
           "Coldplay",
           "Coldplay",
           "Coldplay"
          ]
         ],
         "Coldplay"
        ],
        [
         "56d2051ce7d4791d0090260b",
         "Super_Bowl_50",
         "CBS broadcast Super Bowl 50 in the U.S., and charged an average of $5 million for a 30-second commercial during the game. The Super Bowl 50 halftime show was headlined by the British rock group Coldplay with special guest performers Beyoncé and Bruno Mars, who headlined the Super Bowl XLVII and Super Bowl XLVIII halftime shows, respectively. It was the third-most watched U.S. broadcast ever.",
         "What two artists came out with Coldplay during the half-time show?",
         [
          [
           233,
           233,
           233
          ],
          [
           "Beyoncé and Bruno Mars",
           "Beyoncé and Bruno Mars",
           "Beyoncé and Bruno Mars"
          ]
         ],
         "Beyoncé and Bruno Mars"
        ],
        [
         "56d602631c85041400946ed8",
         "Super_Bowl_50",
         "CBS broadcast Super Bowl 50 in the U.S., and charged an average of $5 million for a 30-second commercial during the game. The Super Bowl 50 halftime show was headlined by the British rock group Coldplay with special guest performers Beyoncé and Bruno Mars, who headlined the Super Bowl XLVII and Super Bowl XLVIII halftime shows, respectively. It was the third-most watched U.S. broadcast ever.",
         "Who broadcast the Super Bowl on TV?",
         [
          [
           0,
           0,
           0
          ],
          [
           "CBS",
           "CBS",
           "CBS"
          ]
         ],
         "CBS"
        ],
        [
         "56d602631c85041400946eda",
         "Super_Bowl_50",
         "CBS broadcast Super Bowl 50 in the U.S., and charged an average of $5 million for a 30-second commercial during the game. The Super Bowl 50 halftime show was headlined by the British rock group Coldplay with special guest performers Beyoncé and Bruno Mars, who headlined the Super Bowl XLVII and Super Bowl XLVIII halftime shows, respectively. It was the third-most watched U.S. broadcast ever.",
         "Who headlined the halftime show for Super Bowl 50?",
         [
          [
           194,
           194,
           194
          ],
          [
           "Coldplay",
           "Coldplay",
           "Coldplay"
          ]
         ],
         "Coldplay with special guest performers Beyoncé and Bruno Mars"
        ]
       ],
       "datasetInfos": [],
       "dbfsResultPath": null,
       "isJsonSchema": true,
       "metadata": {},
       "overflow": false,
       "plotOptions": {
        "customPlotOptions": {},
        "displayType": "table",
        "pivotAggregation": null,
        "pivotColumns": null,
        "xColumns": null,
        "yColumns": null
       },
       "removedWidgets": [],
       "schema": [
        {
         "metadata": "{}",
         "name": "id",
         "type": "\"string\""
        },
        {
         "metadata": "{}",
         "name": "title",
         "type": "\"string\""
        },
        {
         "metadata": "{}",
         "name": "context",
         "type": "\"string\""
        },
        {
         "metadata": "{}",
         "name": "question",
         "type": "\"string\""
        },
        {
         "metadata": "{}",
         "name": "answers",
         "type": "{\"type\":\"struct\",\"fields\":[{\"name\":\"answer_start\",\"type\":{\"type\":\"array\",\"elementType\":\"integer\",\"containsNull\":true},\"nullable\":true,\"metadata\":{}},{\"name\":\"text\",\"type\":{\"type\":\"array\",\"elementType\":\"string\",\"containsNull\":true},\"nullable\":true,\"metadata\":{}}]}"
        },
        {
         "metadata": "{}",
         "name": "generated_answer",
         "type": "\"string\""
        }
       ],
       "type": "table"
      }
     },
     "output_type": "display_data"
    }
   ],
   "source": [
    "##\n",
    "from pyspark.sql.functions import col\n",
    "\n",
    "## Ensure that the input DataFrame contains 'question' and 'context' columns\n",
    "prod_data_df = prod_data_df.withColumn(\"question\", col(\"question\"))\n",
    "prod_data_df = prod_data_df.withColumn(\"context\", col(\"context\"))\n",
    "\n",
    "prod_model_udf = mlflow.pyfunc.spark_udf(\n",
    "    spark,\n",
    "    model_uri=f\"models:/{model_name}@champion\",\n",
    "    env_manager=\"local\",\n",
    "    result_type=\"string\",\n",
    ")\n",
    "batch_inference_results_df = prod_data_df.withColumn(\"generated_answer\", prod_model_udf(\"question\", \"context\"))\n",
    "## Display the DataFrame containing the results of the batch inference with generated answers\n",
    "display(batch_inference_results_df)"
   ]
  },
  {
   "cell_type": "markdown",
   "metadata": {
    "application/vnd.databricks.v1+cell": {
     "cellMetadata": {
      "byteLimit": 2048000,
      "rowLimit": 10000
     },
     "inputWidgets": {},
     "nuid": "8ce01170-9183-4129-973c-86f7cee36bd3",
     "showTitle": false,
     "tableResultSettingsMap": {},
     "title": ""
    }
   },
   "source": [
    "###4.4: Write Inference Results to Delta Table\n",
    "Store the inference results in a Delta table to ensure data integrity and enable further analysis.\n",
    "\n"
   ]
  },
  {
   "cell_type": "code",
   "execution_count": 0,
   "metadata": {
    "application/vnd.databricks.v1+cell": {
     "cellMetadata": {
      "byteLimit": 2048000,
      "rowLimit": 10000
     },
     "inputWidgets": {},
     "nuid": "ae138ff2-24bf-4bbf-85b6-d4e9e0b09e89",
     "showTitle": false,
     "tableResultSettingsMap": {},
     "title": ""
    }
   },
   "outputs": [],
   "source": [
    "prod_data_summaries_table_name = f\"{DA.catalog_name}.{DA.schema_name}.m4_1_lab_batch_inference\"\n",
    "batch_inference_results_df.write.mode(\"append\").saveAsTable(prod_data_summaries_table_name)"
   ]
  },
  {
   "cell_type": "markdown",
   "metadata": {
    "application/vnd.databricks.v1+cell": {
     "cellMetadata": {
      "byteLimit": 2048000,
      "rowLimit": 10000
     },
     "inputWidgets": {},
     "nuid": "1b5544be-06a0-4ec0-9a38-fc154041e150",
     "showTitle": false,
     "tableResultSettingsMap": {},
     "title": ""
    }
   },
   "source": [
    "##Task 5: Batch Inference Using `ai_query()`\n",
    "\n",
    "Utilize SQL capabilities to perform batch inference directly using SQL queries, integrating AI functions for broader accessibility and efficiency."
   ]
  },
  {
   "cell_type": "markdown",
   "metadata": {
    "application/vnd.databricks.v1+cell": {
     "cellMetadata": {
      "byteLimit": 2048000,
      "rowLimit": 10000
     },
     "inputWidgets": {},
     "nuid": "2d583420-f34d-4374-9861-fb390f477491",
     "showTitle": false,
     "tableResultSettingsMap": {},
     "title": ""
    }
   },
   "source": [
    "### 5.1: Run SQL Batch Inference\n",
    "\n",
    "Create a SQL query that executes an AI model inference directly within the SQL. This approach utilizes the `ai_query()` function in SQL to process batch queries against the dataset.\n"
   ]
  },
  {
   "cell_type": "markdown",
   "metadata": {
    "application/vnd.databricks.v1+cell": {
     "cellMetadata": {
      "byteLimit": 2048000,
      "rowLimit": 10000
     },
     "inputWidgets": {},
     "nuid": "d27ee0f3-66fe-4d5e-8263-208772a1cc7c",
     "showTitle": false,
     "tableResultSettingsMap": {},
     "title": ""
    }
   },
   "source": [
    "###Step 1: Run SQL Batch Inference"
   ]
  },
  {
   "cell_type": "code",
   "execution_count": 0,
   "metadata": {
    "application/vnd.databricks.v1+cell": {
     "cellMetadata": {
      "byteLimit": 2048000,
      "implicitDf": true,
      "rowLimit": 10000
     },
     "inputWidgets": {},
     "nuid": "ba7ab763-2bc0-40b0-859f-d0beb6099e48",
     "showTitle": false,
     "tableResultSettingsMap": {},
     "title": ""
    }
   },
   "outputs": [
    {
     "output_type": "display_data",
     "data": {
      "text/html": [
       "<style scoped>\n",
       "  .table-result-container {\n",
       "    max-height: 300px;\n",
       "    overflow: auto;\n",
       "  }\n",
       "  table, th, td {\n",
       "    border: 1px solid black;\n",
       "    border-collapse: collapse;\n",
       "  }\n",
       "  th, td {\n",
       "    padding: 5px;\n",
       "  }\n",
       "  th {\n",
       "    text-align: left;\n",
       "  }\n",
       "</style><div class='table-result-container'><table class='table-result'><thead style='background-color: white'><tr><th>num_affected_rows</th><th>num_inserted_rows</th></tr></thead><tbody></tbody></table></div>"
      ]
     },
     "metadata": {
      "application/vnd.databricks.v1+output": {
       "addedWidgets": {},
       "aggData": [],
       "aggError": "",
       "aggOverflow": false,
       "aggSchema": [],
       "aggSeriesLimitReached": false,
       "aggType": "",
       "arguments": {},
       "columnCustomDisplayInfos": {},
       "data": [],
       "datasetInfos": [],
       "dbfsResultPath": null,
       "isJsonSchema": true,
       "metadata": {
        "createTempViewForImplicitDf": true,
        "dataframeName": "_sqldf",
        "executionCount": 19
       },
       "overflow": false,
       "plotOptions": {
        "customPlotOptions": {},
        "displayType": "table",
        "pivotAggregation": null,
        "pivotColumns": null,
        "xColumns": null,
        "yColumns": null
       },
       "removedWidgets": [],
       "schema": [
        {
         "metadata": "{}",
         "name": "num_affected_rows",
         "type": "\"long\""
        },
        {
         "metadata": "{}",
         "name": "num_inserted_rows",
         "type": "\"long\""
        }
       ],
       "type": "table"
      }
     },
     "output_type": "display_data"
    }
   ],
   "source": [
    "%sql\n",
    "CREATE OR REPLACE TABLE ai_query_inference AS (\n",
    "  SELECT\n",
    "    id,\n",
    "    ai_query(\n",
    "      \"databricks-meta-llama-3-3-70b-instruct\",\n",
    "      CONCAT(\"Asking question: \", question, \" Answer: \", CAST(answers AS STRING))\n",
    "    ) as generated_answer\n",
    "  FROM m4_1_lab_prod_data LIMIT 100\n",
    ");"
   ]
  },
  {
   "cell_type": "markdown",
   "metadata": {
    "application/vnd.databricks.v1+cell": {
     "cellMetadata": {
      "byteLimit": 2048000,
      "rowLimit": 10000
     },
     "inputWidgets": {},
     "nuid": "8a75f3ca-5454-4057-bc4b-f04fbeab440b",
     "showTitle": false,
     "tableResultSettingsMap": {},
     "title": ""
    }
   },
   "source": [
    "###5.2: Query Inference Results\n",
    "Query the generated table to view the inference results."
   ]
  },
  {
   "cell_type": "code",
   "execution_count": 0,
   "metadata": {
    "application/vnd.databricks.v1+cell": {
     "cellMetadata": {
      "byteLimit": 2048000,
      "implicitDf": true,
      "rowLimit": 10000
     },
     "inputWidgets": {},
     "nuid": "ec60639a-b94c-4d80-9299-35c210d4359f",
     "showTitle": false,
     "tableResultSettingsMap": {},
     "title": ""
    }
   },
   "outputs": [
    {
     "output_type": "display_data",
     "data": {
      "text/html": [
       "<style scoped>\n",
       "  .table-result-container {\n",
       "    max-height: 300px;\n",
       "    overflow: auto;\n",
       "  }\n",
       "  table, th, td {\n",
       "    border: 1px solid black;\n",
       "    border-collapse: collapse;\n",
       "  }\n",
       "  th, td {\n",
       "    padding: 5px;\n",
       "  }\n",
       "  th {\n",
       "    text-align: left;\n",
       "  }\n",
       "</style><div class='table-result-container'><table class='table-result'><thead style='background-color: white'><tr><th>id</th><th>generated_answer</th></tr></thead><tbody><tr><td>56be4db0acb8001400a502ec</td><td>The Denver Broncos represented the AFC at Super Bowl 50.</td></tr><tr><td>56be4db0acb8001400a502ed</td><td>The Carolina Panthers represented the NFC at Super Bowl 50.</td></tr><tr><td>56be4db0acb8001400a502ee</td><td>Super Bowl 50 took place at Levi's Stadium in Santa Clara, California, in the San Francisco Bay Area.</td></tr><tr><td>56be4db0acb8001400a502ef</td><td>The Denver Broncos won Super Bowl 50.</td></tr><tr><td>56be4db0acb8001400a502f0</td><td>The color used to emphasize the 50th anniversary of the Super Bowl was gold.</td></tr><tr><td>56be8e613aeaaa14008c90d1</td><td>The theme of Super Bowl 50 was a \"golden anniversary\" theme, which was reflected in the gold-themed branding and decor used throughout the event.</td></tr><tr><td>56be8e613aeaaa14008c90d2</td><td>The game was played on February 7, 2016.</td></tr><tr><td>56be8e613aeaaa14008c90d3</td><td>The AFC is short for American Football Conference.</td></tr><tr><td>56bea9923aeaaa14008c91b9</td><td>The theme of Super Bowl 50 was a \"golden anniversary\" theme, which incorporated gold-themed elements to commemorate the 50th edition of the Super Bowl.</td></tr><tr><td>56bea9923aeaaa14008c91ba</td><td>AFC stands for American Football Conference.</td></tr><tr><td>56bea9923aeaaa14008c91bb</td><td>The Super Bowl was played on February 7, 2016.</td></tr><tr><td>56beace93aeaaa14008c91df</td><td>The Denver Broncos won Super Bowl 50.</td></tr><tr><td>56beace93aeaaa14008c91e0</td><td>Super Bowl 50 took place at Levi's Stadium in the San Francisco Bay Area at Santa Clara.</td></tr><tr><td>56beace93aeaaa14008c91e1</td><td>The answer is Santa Clara. Super Bowl 50 took place in Santa Clara, California, at Levi's Stadium on February 7, 2016.</td></tr><tr><td>56beace93aeaaa14008c91e2</td><td>If Roman numerals were used, Super Bowl 50 would have been called Super Bowl L.</td></tr><tr><td>56beace93aeaaa14008c91e3</td><td>Super Bowl 50 decided the NFL champion for the 2015 season.</td></tr><tr><td>56bf10f43aeaaa14008c94fd</td><td>The Denver Broncos secured a Super Bowl title for the third time in 2015.</td></tr><tr><td>56bf10f43aeaaa14008c94fe</td><td>The answer is Santa Clara. Super Bowl 50 took place in Santa Clara, California, at Levi's Stadium on February 7, 2016.</td></tr><tr><td>56bf10f43aeaaa14008c94ff</td><td>Super Bowl 50 took place in Levi's Stadium.</td></tr><tr><td>56bf10f43aeaaa14008c9500</td><td>The final score of Super Bowl 50 was Denver Broncos 24, Carolina Panthers 10.</td></tr><tr><td>56bf10f43aeaaa14008c9501</td><td>Super Bowl 50 took place on February 7, 2016.</td></tr><tr><td>56d20362e7d4791d009025e8</td><td>Super Bowl 50 was played on February 7, 2016.</td></tr><tr><td>56d20362e7d4791d009025e9</td><td>The Denver Broncos were the AFC champion.</td></tr><tr><td>56d20362e7d4791d009025ea</td><td>The Carolina Panthers were the NFC champions.</td></tr><tr><td>56d20362e7d4791d009025eb</td><td>The Denver Broncos won Super Bowl 50.</td></tr><tr><td>56d600e31c85041400946eae</td><td>Super Bowl 50 determined the NFL champion for the 2015 season.</td></tr><tr><td>56d600e31c85041400946eb0</td><td>The Denver Broncos won Super Bowl 50.</td></tr><tr><td>56d600e31c85041400946eb1</td><td>Super Bowl 50 was held at Levi's Stadium in Santa Clara, California.</td></tr><tr><td>56d9895ddc89441400fdb50e</td><td>The answer is: Super Bowl.</td></tr><tr><td>56d9895ddc89441400fdb510</td><td>It seems like there's a bit of confusion in the way the question and answer are formatted. To clarify, the question seems to be asking which NFL team won the AFC playoff in 2015. Based on the information provided in the answer, it appears the team that won is the Denver Broncos. \n",
       "\n",
       "To provide a clear and direct answer without the confusion of the formatted response:\n",
       "\n",
       "The Denver Broncos won the AFC playoff in 2015, ultimately going on to win Super Bowl 50 that year.</td></tr><tr><td>56be4e1facb8001400a502f6</td><td>Cam Newton was named the Most Valuable Player.</td></tr><tr><td>56be4e1facb8001400a502f9</td><td>The Denver Broncos have made 8 appearances in the Super Bowl.</td></tr><tr><td>56be4e1facb8001400a502fa</td><td>The Carolina Panthers franchise was founded in 1995.</td></tr><tr><td>56beaa4a3aeaaa14008c91c2</td><td>The Panthers defeated the Arizona Cardinals.</td></tr><tr><td>56beaa4a3aeaaa14008c91c3</td><td>The Broncos prevented the New England Patriots from going to the Super Bowl.</td></tr><tr><td>56bead5a3aeaaa14008c91e9</td><td>The Panthers beat the Arizona Cardinals in the NFC Championship Game.</td></tr><tr><td>56bead5a3aeaaa14008c91ea</td><td>The New England Patriots lost to the Broncos in the AFC Championship.</td></tr><tr><td>56bead5a3aeaaa14008c91eb</td><td>The defending Super Bowl champions were the New England Patriots.</td></tr><tr><td>56bead5a3aeaaa14008c91ec</td><td>The answer is: The New England Patriots and the Denver Broncos are the only teams to have appeared in the Super Bowl eight times.</td></tr><tr><td>56bead5a3aeaaa14008c91ed</td><td>It seems like you're providing a response in a specific format, possibly for a machine learning or data processing task. To break it down:\n",
       "\n",
       "- The numbers `[77, 77, 77]` could represent a variety of things depending on the context, such as IDs, scores, or rankings, but without more information, it's hard to say exactly what they refer to.\n",
       "- The names `[Cam Newton, Cam Newton, Cam Newton]` clearly indicate that Cam Newton is being referenced as the answer to the question about who was this season's NFL MVP.\n",
       "\n",
       "Cam Newton is a well-known American football quarterback who has played for several teams, including the Carolina Panthers and the New England Patriots. He was indeed named the NFL's Most Valuable Player (MVP) for the 2015 season, after leading the Panthers to a 15-1 regular season record and eventually to Super Bowl 50, where they lost to the Denver Broncos.\n",
       "\n",
       "If you're asking about a specific season and the provided answer suggests Cam Newton, it would be referring to his MVP season in 2015. However, if you're inquiring about a different season, the answer would naturally be different, as the NFL MVP award is given annually to the most outstanding player of each season.</td></tr><tr><td>56bf159b3aeaaa14008c9507</td><td>The win/loss ratio for the Carolina Panthers during their regular season in 2015 was 15-1.</td></tr><tr><td>56bf159b3aeaaa14008c9508</td><td>The Carolina Panthers team member who was picked as the team's MVP in 2015 was Cam Newton.</td></tr><tr><td>56bf159b3aeaaa14008c9509</td><td>The Denver Broncos' regular season record in 2015 was 12-4.</td></tr><tr><td>56bf159b3aeaaa14008c950a</td><td>The answer is: Four teams, specifically the Denver Broncos, the New England Patriots, the Dallas Cowboys, and the Pittsburgh Steelers, have played in the Super Bowl eight or more times, but only one team, the New England Patriots, has played in the Super Bowl eight or more times with a total of 11 appearances.</td></tr><tr><td>56bf159b3aeaaa14008c950b</td><td>The New England Patriots did not get a chance to defend their Super Bowl XLIX win in Super Bowl 50.</td></tr><tr><td>56d2045de7d4791d009025f3</td><td>It seems like you're providing an answer in a unique format. To break it down:\n",
       "\n",
       "- The numbers `[77, 77, 77]` could potentially represent a code, ranking, or some form of identifier, but without context, it's hard to determine their relevance to the question about the Panthers' quarterback.\n",
       "- The names `[Cam Newton, Cam Newton, Cam Newton]` clearly indicate that Cam Newton is being identified as the quarterback for the Panthers.\n",
       "\n",
       "However, it's worth noting that NFL team rosters can change frequently due to trades, free agency, and injuries. As of my last update, Cam Newton has indeed played for the Carolina Panthers, but confirming the current quarterback for any team requires checking the most recent sports news or the official team roster.\n",
       "\n",
       "If you're looking for the most current information on who the quarterback for the Panthers is, I recommend checking the latest sports news or the Carolina Panthers' official website for the most up-to-date roster information.</td></tr><tr><td>56d2045de7d4791d009025f4</td><td>The Carolina Panthers beat the Arizona Cardinals in the NFC Championship game.</td></tr><tr><td>56d2045de7d4791d009025f5</td><td>The Carolina Panthers have appeared in the Super Bowl twice.</td></tr><tr><td>56d2045de7d4791d009025f6</td><td>The Denver Broncos beat the New England Patriots in the AFC championship.</td></tr><tr><td>56d6017d1c85041400946ebe</td><td>The Most Valuable Player for the 2015 NFL season was Cam Newton.</td></tr><tr><td>56d6017d1c85041400946ec1</td><td>The Denver Broncos beat the New England Patriots in the 2015 AFC Championship game.</td></tr><tr><td>56d6017d1c85041400946ec2</td><td>The Carolina Panthers beat the Arizona Cardinals in the 2015 NFC Championship game.</td></tr><tr><td>56d98a59dc89441400fdb52a</td><td>The 2015 NFL MVP was Cam Newton.</td></tr><tr><td>56d98a59dc89441400fdb52b</td><td>The Panthers beat the Arizona Cardinals to become the NFC champs.</td></tr><tr><td>56d98a59dc89441400fdb52e</td><td>The Carolina Panthers formed in 1995.</td></tr><tr><td>56be4eafacb8001400a50302</td><td>The Super Bowl 50 MVP was Von Miller.</td></tr><tr><td>56be4eafacb8001400a50303</td><td>Von Miller forced 2 fumbles in Super Bowl 50.</td></tr><tr><td>56be4eafacb8001400a50304</td><td>It appears that the answer is indicating that the Broncos held the scoring lead throughout the entire game. The numerical values [4, 0, 4] likely represent the score at different points in the game, but the key information is that the Broncos maintained the lead. \n",
       "\n",
       "So, to answer your question directly: The Broncos held the scoring lead throughout the entire game.</td></tr><tr><td>56beab833aeaaa14008c91d2</td><td>The answer is Von Miller. He was the Denver linebacker named Super Bowl MVP.</td></tr><tr><td>56beab833aeaaa14008c91d3</td><td>Von Miller made 5 solo tackles at Super Bowl 50.</td></tr><tr><td>56beab833aeaaa14008c91d4</td><td>Newton was limited by Denver's defense.</td></tr><tr><td>56beae423aeaaa14008c91f4</td><td>It seems like there's a bit of confusion in the way the question and answer are presented. To clarify, if we're asking how many times Cam Newton was sacked and the answer provided is in the format {[124, 124, 124], [seven, seven, seven]}, it appears to be a mix of numerical and textual representations.\n",
       "\n",
       "Breaking it down:\n",
       "- The numerical part, [124, 124, 124], suggests that Cam Newton was sacked 124 times, and this number is repeated three times, possibly referring to different seasons or contexts.\n",
       "- The textual part, [seven, seven, seven], indicates the number seven, repeated three times. Without additional context, it's unclear how this relates to the number of times Cam Newton was sacked, as the primary numerical answer provided is 124.\n",
       "\n",
       "If we're focusing on the numerical answer provided, Cam Newton was sacked 124 times, according to the information given. However, without more context about what the repetitions or the textual part signify, it's challenging to provide a more detailed explanation.</td></tr><tr><td>56beae423aeaaa14008c91f5</td><td>Von Miller, a player for The Broncos, won the Super Bowl MVP.</td></tr><tr><td>56beae423aeaaa14008c91f6</td><td>It seems like you're asking about the number of turnovers Cam Newton had, and the answer provided is a bit unusual, including both numerical and textual representations. To clarify, if we're talking about a specific game or season, I'd need more context to give an accurate answer. However, if the answer {[156, 156, 156], [three, three, three]} is meant to convey that Cam Newton had 156 turnovers, with \"three\" being a redundant or incorrect textual representation, here's a general approach to understanding such a query:\n",
       "\n",
       "1. **Clarify the Context**: First, it's essential to understand the context of the question. Are we discussing a specific season, game, or perhaps his entire career in the NFL? Cam Newton, being a prominent quarterback, has played in numerous games, and his turnover statistics can vary significantly from one season to another.\n",
       "\n",
       "2. **Interpret the Answer**: The answer given is {[156, 156, 156], [three, three, three]}. This seems to be a mix of a specific number (156) repeated, which could potentially refer to the total number of turnovers Cam Newton had in a certain timeframe, and the textual representation \"three,\" which is clearly not applicable if we're discussing a total of 156 turnovers.\n",
       "\n",
       "3. **Provide Accurate Information**: Without specific context, it's challenging to provide an accurate number of turnovers Cam Newton had. However, I can suggest where to find this information. The official NFL website, sports statistics websites like ESPN or Fox Sports, and Cam Newton's player profile on various sports databases would be good places to look for his turnover statistics.\n",
       "\n",
       "4. **Conclusion**: If the question pertains to Cam Newton's career or a specific period, the answer of 156 turnovers would need verification. As of my last update, Cam Newton has indeed had a significant number of turnovers throughout his career, but the exact number can fluctuate based on the timeframe considered. For the most accurate and up-to-date information, consulting the latest sports statistics would be advisable.</td></tr><tr><td>56beae423aeaaa14008c91f7</td><td>Von Miller forced 28 fumbles in his NFL career, but the provided answer seems to be incorrect or unclear. The answer given is {[328, 328, 328], [two, two, two]}, which does not directly relate to the number of fumbles Von Miller forced. If you're looking for the correct number, according to available data up to my last update, Von Miller has indeed forced a significant number of fumbles, but the exact figure should be verified through a reliable source such as official NFL statistics or sports databases.</td></tr><tr><td>56bf17653aeaaa14008c9511</td><td>Von Miller was given the esteemed status of MVP for Super Bowl 50.</td></tr><tr><td>56bf17653aeaaa14008c9513</td><td>Von Miller plays the position of linebacker for the Denver Broncos.</td></tr><tr><td>56bf17653aeaaa14008c9514</td><td>According to the data, Von Miller had 5 solo tackles in Super Bowl 50.</td></tr><tr><td>56bf17653aeaaa14008c9515</td><td>Von Miller had 2 forced fumbles during the Super Bowl 50 game.</td></tr><tr><td>56d204ade7d4791d00902603</td><td>It seems like there's a bit of confusion in your question and the format of the answer provided. To clarify, the answer you've given seems to be in a format that's not directly interpretable without context. However, I can provide information on who won the MVP for a specific Super Bowl if you provide the number of the Super Bowl you're interested in.\n",
       "\n",
       "For example, if you're asking about Super Bowl 50 (2016), the MVP was indeed Von Miller, a linebacker for the Denver Broncos. He had a phenomenal game, helping his team secure a victory over the Carolina Panthers.\n",
       "\n",
       "If you could provide more details or specify which Super Bowl you're referring to, I'd be happy to give you a more accurate and helpful response.</td></tr><tr><td>56d204ade7d4791d00902604</td><td>It seems like there's been a misunderstanding. The information provided doesn't directly answer the question about how many tackles Von Miller got during the game. The answer seems to be a mix of numbers and words that don't clearly relate to the question about Von Miller's tackles. Could you provide more context or clarify the answer?</td></tr><tr><td>56d601e41c85041400946ece</td><td>According to the information provided, Cam Newton was sacked 7 times in Super Bowl 50.</td></tr><tr><td>56d601e41c85041400946ecf</td><td>The Denver defense forced Newton into turnovers three times.</td></tr><tr><td>56d601e41c85041400946ed0</td><td>It seems like you're asking about a specific play involving Cam Newton, where a turnover led to seven points for the Denver team. However, without more context or details about the specific game or situation you're referring to, it's challenging to provide a precise answer.\n",
       "\n",
       "The information you've provided, {[183, 183, 185], [a fumble, a fumble, fumble]}, doesn't directly answer the question in a way that's easy to understand without additional context. It appears to be a coded or abbreviated form of information that might relate to play numbers, types of turnovers, or some other aspect of the game, but it doesn't clearly explain which Newton turnover resulted in seven points for Denver.\n",
       "\n",
       "To better understand and answer your question, could you provide more details or clarify what you mean by the numbers and terms you've used? For example, what game are you referring to, and what type of turnover (interception, fumble, etc.) are you asking about?</td></tr><tr><td>56d601e41c85041400946ed1</td><td>The Most Valuable Player of Super Bowl 50 was Von Miller.</td></tr><tr><td>56d601e41c85041400946ed2</td><td>Von Miller plays the position of linebacker.</td></tr><tr><td>56d98b33dc89441400fdb53b</td><td>The Panthers' quarterback was sacked 7 times.</td></tr><tr><td>56d98b33dc89441400fdb53c</td><td>The Broncos caused turnovers three times in the game.</td></tr><tr><td>56d98b33dc89441400fdb53d</td><td>It looks like you're providing the answer in a specific format!\n",
       "\n",
       "To break it down, the answer is: Von Miller.\n",
       "\n",
       "He is the Denver player who caused two fumbles for the Panthers. Von Miller is a well-known linebacker for the Denver Broncos, and it's no surprise that he made significant plays in a game!</td></tr><tr><td>56d98b33dc89441400fdb53e</td><td>To answer your question about how many tackles Von Miller accomplished by himself in the game, I need a bit more context or specific details about the game you're referring to. The information provided, {[295, 295, 295], [five, five, five]}, doesn't directly relate to the typical format of sports statistics, which are usually presented in a more straightforward numerical format.\n",
       "\n",
       "In football, tackles are a common statistic used to measure a player's defensive performance. Von Miller, being a prominent linebacker, has had many notable games throughout his career. However, without knowing the specific game or context, it's challenging to provide an accurate answer.\n",
       "\n",
       "If you're looking for information on a particular game, could you please provide more details such as the date of the game, the teams involved, or any other relevant context? This would help in giving a more precise answer to your question about Von Miller's tackles.</td></tr><tr><td>56be5333acb8001400a5030a</td><td>The network that broadcasted Super Bowl 50 in the U.S. was CBS.</td></tr><tr><td>56be5333acb8001400a5030b</td><td>The average cost for a 30-second commercial during Super Bowl 50 was $5 million.</td></tr><tr><td>56be5333acb8001400a5030c</td><td>Coldplay headlined the Super Bowl 50 halftime show.</td></tr><tr><td>56be5333acb8001400a5030d</td><td>Beyoncé and Bruno Mars joined the headliner during the Super Bowl 50 halftime show.</td></tr><tr><td>56be5333acb8001400a5030e</td><td>Beyoncé headlined the halftime show at Super Bowl XLVII.</td></tr><tr><td>56beaf5e3aeaaa14008c91fd</td><td>The broadcaster for Super Bowl 50 in the United States was CBS.</td></tr><tr><td>56beaf5e3aeaaa14008c91fe</td><td>It appears that the average cost of a 30-second commercial was $5 million, based on the provided data where all three instances list the cost as $5 million.</td></tr><tr><td>56beaf5e3aeaaa14008c91ff</td><td>Beyoncé previously headlined Super Bowl XLVII.</td></tr><tr><td>56beaf5e3aeaaa14008c9200</td><td>Bruno Mars previously headlined Super Bowl XLVIII.</td></tr><tr><td>56beaf5e3aeaaa14008c9201</td><td>It seems like there's a bit of confusion in your question. The format you've provided doesn't directly answer the question about who the main performer at this year's halftime show was. However, based on the information given, it appears that Coldplay was mentioned as the performer. \n",
       "\n",
       "To clarify, if you're asking about a specific year's halftime show, the main performer for the 2016 Super Bowl 50 halftime show was indeed Coldplay, along with guest performers Beyoncé and Bruno Mars. If you're referring to a different year, could you please specify the year you're interested in? I'd be happy to provide more accurate information based on the correct year.</td></tr><tr><td>56bf1ae93aeaaa14008c951b</td><td>The network that broadcasted the 50th Super Bowl game was CBS.</td></tr><tr><td>56bf1ae93aeaaa14008c951c</td><td>The average cost for a TV ad lasting 30 seconds during Super Bowl 50 was $5 million.</td></tr><tr><td>56bf1ae93aeaaa14008c951e</td><td>The answer is Bruno Mars. He performed as a special guest during Super Bowl 50, also known as the Super Bowl 50 halftime show, alongside Coldplay and Beyoncé.</td></tr><tr><td>56bf1ae93aeaaa14008c951f</td><td>The Super Bowl 50 halftime show ranks third on the list of most watched TV broadcasts.</td></tr><tr><td>56d2051ce7d4791d00902608</td><td>The station that aired the Super Bowl was CBS.</td></tr><tr><td>56d2051ce7d4791d00902609</td><td>It seems like you're asking about the cost of a 30-second (1/2 minute) commercial, possibly during a significant event like the Super Bowl, which is known for its high advertising costs. According to the information provided:\n",
       "\n",
       "- The cost for a 30-second commercial is $5 million.\n",
       "- This cost is consistent across the three instances mentioned ([67, 67, 67] likely refers to a code, index, or another form of identifier not directly relevant to the cost).\n",
       "\n",
       "Therefore, a 30-second commercial costs $5 million.</td></tr><tr><td>56d2051ce7d4791d0090260a</td><td>Coldplay headlined the half-time show during Super Bowl 50.</td></tr><tr><td>56d2051ce7d4791d0090260b</td><td>It seems like you're asking about the Super Bowl 50 halftime show, which featured Coldplay as the main performer. During that show, the two guest artists who performed alongside Coldplay were indeed Beyoncé and Bruno Mars.</td></tr><tr><td>56d602631c85041400946ed8</td><td>It seems like you're asking about the TV broadcast of the Super Bowl, and the answer provided suggests that CBS has broadcast the Super Bowl on TV multiple times. To give a more detailed answer:\n",
       "\n",
       "The Super Bowl, the annual championship game of the National Football League (NFL), is broadcast on television by various networks through a rotation system. The main networks involved in this rotation are CBS (Columbia Broadcasting System), NBC (National Broadcasting Company), and FOX (Fox Broadcasting Company). This rotation ensures that each network gets a turn to broadcast the Super Bowl, typically on a yearly rotation basis.\n",
       "\n",
       "Given the answer format you've provided, {[0, 0, 0], [CBS, CBS, CBS]}, it implies that CBS has been one of the primary broadcasters of the Super Bowl, at least for the specific years being referenced. However, without more context or specific years mentioned, it's difficult to provide a more detailed breakdown of which network broadcast the Super Bowl in any given year.\n",
       "\n",
       "For a more accurate and up-to-date answer, if you're looking for information on a specific Super Bowl (e.g., Super Bowl LV, which would be the 55th edition), you would need to specify the year or the Roman numeral of the Super Bowl you're interested in. Each year, one of the major networks (CBS, NBC, FOX) broadcasts the game, with the rights to broadcast the Super Bowl rotating among them.</td></tr><tr><td>56d602631c85041400946eda</td><td>Coldplay headlined the halftime show for Super Bowl 50.</td></tr></tbody></table></div>"
      ]
     },
     "metadata": {
      "application/vnd.databricks.v1+output": {
       "addedWidgets": {},
       "aggData": [],
       "aggError": "",
       "aggOverflow": false,
       "aggSchema": [],
       "aggSeriesLimitReached": false,
       "aggType": "",
       "arguments": {},
       "columnCustomDisplayInfos": {},
       "data": [
        [
         "56be4db0acb8001400a502ec",
         "The Denver Broncos represented the AFC at Super Bowl 50."
        ],
        [
         "56be4db0acb8001400a502ed",
         "The Carolina Panthers represented the NFC at Super Bowl 50."
        ],
        [
         "56be4db0acb8001400a502ee",
         "Super Bowl 50 took place at Levi's Stadium in Santa Clara, California, in the San Francisco Bay Area."
        ],
        [
         "56be4db0acb8001400a502ef",
         "The Denver Broncos won Super Bowl 50."
        ],
        [
         "56be4db0acb8001400a502f0",
         "The color used to emphasize the 50th anniversary of the Super Bowl was gold."
        ],
        [
         "56be8e613aeaaa14008c90d1",
         "The theme of Super Bowl 50 was a \"golden anniversary\" theme, which was reflected in the gold-themed branding and decor used throughout the event."
        ],
        [
         "56be8e613aeaaa14008c90d2",
         "The game was played on February 7, 2016."
        ],
        [
         "56be8e613aeaaa14008c90d3",
         "The AFC is short for American Football Conference."
        ],
        [
         "56bea9923aeaaa14008c91b9",
         "The theme of Super Bowl 50 was a \"golden anniversary\" theme, which incorporated gold-themed elements to commemorate the 50th edition of the Super Bowl."
        ],
        [
         "56bea9923aeaaa14008c91ba",
         "AFC stands for American Football Conference."
        ],
        [
         "56bea9923aeaaa14008c91bb",
         "The Super Bowl was played on February 7, 2016."
        ],
        [
         "56beace93aeaaa14008c91df",
         "The Denver Broncos won Super Bowl 50."
        ],
        [
         "56beace93aeaaa14008c91e0",
         "Super Bowl 50 took place at Levi's Stadium in the San Francisco Bay Area at Santa Clara."
        ],
        [
         "56beace93aeaaa14008c91e1",
         "The answer is Santa Clara. Super Bowl 50 took place in Santa Clara, California, at Levi's Stadium on February 7, 2016."
        ],
        [
         "56beace93aeaaa14008c91e2",
         "If Roman numerals were used, Super Bowl 50 would have been called Super Bowl L."
        ],
        [
         "56beace93aeaaa14008c91e3",
         "Super Bowl 50 decided the NFL champion for the 2015 season."
        ],
        [
         "56bf10f43aeaaa14008c94fd",
         "The Denver Broncos secured a Super Bowl title for the third time in 2015."
        ],
        [
         "56bf10f43aeaaa14008c94fe",
         "The answer is Santa Clara. Super Bowl 50 took place in Santa Clara, California, at Levi's Stadium on February 7, 2016."
        ],
        [
         "56bf10f43aeaaa14008c94ff",
         "Super Bowl 50 took place in Levi's Stadium."
        ],
        [
         "56bf10f43aeaaa14008c9500",
         "The final score of Super Bowl 50 was Denver Broncos 24, Carolina Panthers 10."
        ],
        [
         "56bf10f43aeaaa14008c9501",
         "Super Bowl 50 took place on February 7, 2016."
        ],
        [
         "56d20362e7d4791d009025e8",
         "Super Bowl 50 was played on February 7, 2016."
        ],
        [
         "56d20362e7d4791d009025e9",
         "The Denver Broncos were the AFC champion."
        ],
        [
         "56d20362e7d4791d009025ea",
         "The Carolina Panthers were the NFC champions."
        ],
        [
         "56d20362e7d4791d009025eb",
         "The Denver Broncos won Super Bowl 50."
        ],
        [
         "56d600e31c85041400946eae",
         "Super Bowl 50 determined the NFL champion for the 2015 season."
        ],
        [
         "56d600e31c85041400946eb0",
         "The Denver Broncos won Super Bowl 50."
        ],
        [
         "56d600e31c85041400946eb1",
         "Super Bowl 50 was held at Levi's Stadium in Santa Clara, California."
        ],
        [
         "56d9895ddc89441400fdb50e",
         "The answer is: Super Bowl."
        ],
        [
         "56d9895ddc89441400fdb510",
         "It seems like there's a bit of confusion in the way the question and answer are formatted. To clarify, the question seems to be asking which NFL team won the AFC playoff in 2015. Based on the information provided in the answer, it appears the team that won is the Denver Broncos. \n\nTo provide a clear and direct answer without the confusion of the formatted response:\n\nThe Denver Broncos won the AFC playoff in 2015, ultimately going on to win Super Bowl 50 that year."
        ],
        [
         "56be4e1facb8001400a502f6",
         "Cam Newton was named the Most Valuable Player."
        ],
        [
         "56be4e1facb8001400a502f9",
         "The Denver Broncos have made 8 appearances in the Super Bowl."
        ],
        [
         "56be4e1facb8001400a502fa",
         "The Carolina Panthers franchise was founded in 1995."
        ],
        [
         "56beaa4a3aeaaa14008c91c2",
         "The Panthers defeated the Arizona Cardinals."
        ],
        [
         "56beaa4a3aeaaa14008c91c3",
         "The Broncos prevented the New England Patriots from going to the Super Bowl."
        ],
        [
         "56bead5a3aeaaa14008c91e9",
         "The Panthers beat the Arizona Cardinals in the NFC Championship Game."
        ],
        [
         "56bead5a3aeaaa14008c91ea",
         "The New England Patriots lost to the Broncos in the AFC Championship."
        ],
        [
         "56bead5a3aeaaa14008c91eb",
         "The defending Super Bowl champions were the New England Patriots."
        ],
        [
         "56bead5a3aeaaa14008c91ec",
         "The answer is: The New England Patriots and the Denver Broncos are the only teams to have appeared in the Super Bowl eight times."
        ],
        [
         "56bead5a3aeaaa14008c91ed",
         "It seems like you're providing a response in a specific format, possibly for a machine learning or data processing task. To break it down:\n\n- The numbers `[77, 77, 77]` could represent a variety of things depending on the context, such as IDs, scores, or rankings, but without more information, it's hard to say exactly what they refer to.\n- The names `[Cam Newton, Cam Newton, Cam Newton]` clearly indicate that Cam Newton is being referenced as the answer to the question about who was this season's NFL MVP.\n\nCam Newton is a well-known American football quarterback who has played for several teams, including the Carolina Panthers and the New England Patriots. He was indeed named the NFL's Most Valuable Player (MVP) for the 2015 season, after leading the Panthers to a 15-1 regular season record and eventually to Super Bowl 50, where they lost to the Denver Broncos.\n\nIf you're asking about a specific season and the provided answer suggests Cam Newton, it would be referring to his MVP season in 2015. However, if you're inquiring about a different season, the answer would naturally be different, as the NFL MVP award is given annually to the most outstanding player of each season."
        ],
        [
         "56bf159b3aeaaa14008c9507",
         "The win/loss ratio for the Carolina Panthers during their regular season in 2015 was 15-1."
        ],
        [
         "56bf159b3aeaaa14008c9508",
         "The Carolina Panthers team member who was picked as the team's MVP in 2015 was Cam Newton."
        ],
        [
         "56bf159b3aeaaa14008c9509",
         "The Denver Broncos' regular season record in 2015 was 12-4."
        ],
        [
         "56bf159b3aeaaa14008c950a",
         "The answer is: Four teams, specifically the Denver Broncos, the New England Patriots, the Dallas Cowboys, and the Pittsburgh Steelers, have played in the Super Bowl eight or more times, but only one team, the New England Patriots, has played in the Super Bowl eight or more times with a total of 11 appearances."
        ],
        [
         "56bf159b3aeaaa14008c950b",
         "The New England Patriots did not get a chance to defend their Super Bowl XLIX win in Super Bowl 50."
        ],
        [
         "56d2045de7d4791d009025f3",
         "It seems like you're providing an answer in a unique format. To break it down:\n\n- The numbers `[77, 77, 77]` could potentially represent a code, ranking, or some form of identifier, but without context, it's hard to determine their relevance to the question about the Panthers' quarterback.\n- The names `[Cam Newton, Cam Newton, Cam Newton]` clearly indicate that Cam Newton is being identified as the quarterback for the Panthers.\n\nHowever, it's worth noting that NFL team rosters can change frequently due to trades, free agency, and injuries. As of my last update, Cam Newton has indeed played for the Carolina Panthers, but confirming the current quarterback for any team requires checking the most recent sports news or the official team roster.\n\nIf you're looking for the most current information on who the quarterback for the Panthers is, I recommend checking the latest sports news or the Carolina Panthers' official website for the most up-to-date roster information."
        ],
        [
         "56d2045de7d4791d009025f4",
         "The Carolina Panthers beat the Arizona Cardinals in the NFC Championship game."
        ],
        [
         "56d2045de7d4791d009025f5",
         "The Carolina Panthers have appeared in the Super Bowl twice."
        ],
        [
         "56d2045de7d4791d009025f6",
         "The Denver Broncos beat the New England Patriots in the AFC championship."
        ],
        [
         "56d6017d1c85041400946ebe",
         "The Most Valuable Player for the 2015 NFL season was Cam Newton."
        ],
        [
         "56d6017d1c85041400946ec1",
         "The Denver Broncos beat the New England Patriots in the 2015 AFC Championship game."
        ],
        [
         "56d6017d1c85041400946ec2",
         "The Carolina Panthers beat the Arizona Cardinals in the 2015 NFC Championship game."
        ],
        [
         "56d98a59dc89441400fdb52a",
         "The 2015 NFL MVP was Cam Newton."
        ],
        [
         "56d98a59dc89441400fdb52b",
         "The Panthers beat the Arizona Cardinals to become the NFC champs."
        ],
        [
         "56d98a59dc89441400fdb52e",
         "The Carolina Panthers formed in 1995."
        ],
        [
         "56be4eafacb8001400a50302",
         "The Super Bowl 50 MVP was Von Miller."
        ],
        [
         "56be4eafacb8001400a50303",
         "Von Miller forced 2 fumbles in Super Bowl 50."
        ],
        [
         "56be4eafacb8001400a50304",
         "It appears that the answer is indicating that the Broncos held the scoring lead throughout the entire game. The numerical values [4, 0, 4] likely represent the score at different points in the game, but the key information is that the Broncos maintained the lead. \n\nSo, to answer your question directly: The Broncos held the scoring lead throughout the entire game."
        ],
        [
         "56beab833aeaaa14008c91d2",
         "The answer is Von Miller. He was the Denver linebacker named Super Bowl MVP."
        ],
        [
         "56beab833aeaaa14008c91d3",
         "Von Miller made 5 solo tackles at Super Bowl 50."
        ],
        [
         "56beab833aeaaa14008c91d4",
         "Newton was limited by Denver's defense."
        ],
        [
         "56beae423aeaaa14008c91f4",
         "It seems like there's a bit of confusion in the way the question and answer are presented. To clarify, if we're asking how many times Cam Newton was sacked and the answer provided is in the format {[124, 124, 124], [seven, seven, seven]}, it appears to be a mix of numerical and textual representations.\n\nBreaking it down:\n- The numerical part, [124, 124, 124], suggests that Cam Newton was sacked 124 times, and this number is repeated three times, possibly referring to different seasons or contexts.\n- The textual part, [seven, seven, seven], indicates the number seven, repeated three times. Without additional context, it's unclear how this relates to the number of times Cam Newton was sacked, as the primary numerical answer provided is 124.\n\nIf we're focusing on the numerical answer provided, Cam Newton was sacked 124 times, according to the information given. However, without more context about what the repetitions or the textual part signify, it's challenging to provide a more detailed explanation."
        ],
        [
         "56beae423aeaaa14008c91f5",
         "Von Miller, a player for The Broncos, won the Super Bowl MVP."
        ],
        [
         "56beae423aeaaa14008c91f6",
         "It seems like you're asking about the number of turnovers Cam Newton had, and the answer provided is a bit unusual, including both numerical and textual representations. To clarify, if we're talking about a specific game or season, I'd need more context to give an accurate answer. However, if the answer {[156, 156, 156], [three, three, three]} is meant to convey that Cam Newton had 156 turnovers, with \"three\" being a redundant or incorrect textual representation, here's a general approach to understanding such a query:\n\n1. **Clarify the Context**: First, it's essential to understand the context of the question. Are we discussing a specific season, game, or perhaps his entire career in the NFL? Cam Newton, being a prominent quarterback, has played in numerous games, and his turnover statistics can vary significantly from one season to another.\n\n2. **Interpret the Answer**: The answer given is {[156, 156, 156], [three, three, three]}. This seems to be a mix of a specific number (156) repeated, which could potentially refer to the total number of turnovers Cam Newton had in a certain timeframe, and the textual representation \"three,\" which is clearly not applicable if we're discussing a total of 156 turnovers.\n\n3. **Provide Accurate Information**: Without specific context, it's challenging to provide an accurate number of turnovers Cam Newton had. However, I can suggest where to find this information. The official NFL website, sports statistics websites like ESPN or Fox Sports, and Cam Newton's player profile on various sports databases would be good places to look for his turnover statistics.\n\n4. **Conclusion**: If the question pertains to Cam Newton's career or a specific period, the answer of 156 turnovers would need verification. As of my last update, Cam Newton has indeed had a significant number of turnovers throughout his career, but the exact number can fluctuate based on the timeframe considered. For the most accurate and up-to-date information, consulting the latest sports statistics would be advisable."
        ],
        [
         "56beae423aeaaa14008c91f7",
         "Von Miller forced 28 fumbles in his NFL career, but the provided answer seems to be incorrect or unclear. The answer given is {[328, 328, 328], [two, two, two]}, which does not directly relate to the number of fumbles Von Miller forced. If you're looking for the correct number, according to available data up to my last update, Von Miller has indeed forced a significant number of fumbles, but the exact figure should be verified through a reliable source such as official NFL statistics or sports databases."
        ],
        [
         "56bf17653aeaaa14008c9511",
         "Von Miller was given the esteemed status of MVP for Super Bowl 50."
        ],
        [
         "56bf17653aeaaa14008c9513",
         "Von Miller plays the position of linebacker for the Denver Broncos."
        ],
        [
         "56bf17653aeaaa14008c9514",
         "According to the data, Von Miller had 5 solo tackles in Super Bowl 50."
        ],
        [
         "56bf17653aeaaa14008c9515",
         "Von Miller had 2 forced fumbles during the Super Bowl 50 game."
        ],
        [
         "56d204ade7d4791d00902603",
         "It seems like there's a bit of confusion in your question and the format of the answer provided. To clarify, the answer you've given seems to be in a format that's not directly interpretable without context. However, I can provide information on who won the MVP for a specific Super Bowl if you provide the number of the Super Bowl you're interested in.\n\nFor example, if you're asking about Super Bowl 50 (2016), the MVP was indeed Von Miller, a linebacker for the Denver Broncos. He had a phenomenal game, helping his team secure a victory over the Carolina Panthers.\n\nIf you could provide more details or specify which Super Bowl you're referring to, I'd be happy to give you a more accurate and helpful response."
        ],
        [
         "56d204ade7d4791d00902604",
         "It seems like there's been a misunderstanding. The information provided doesn't directly answer the question about how many tackles Von Miller got during the game. The answer seems to be a mix of numbers and words that don't clearly relate to the question about Von Miller's tackles. Could you provide more context or clarify the answer?"
        ],
        [
         "56d601e41c85041400946ece",
         "According to the information provided, Cam Newton was sacked 7 times in Super Bowl 50."
        ],
        [
         "56d601e41c85041400946ecf",
         "The Denver defense forced Newton into turnovers three times."
        ],
        [
         "56d601e41c85041400946ed0",
         "It seems like you're asking about a specific play involving Cam Newton, where a turnover led to seven points for the Denver team. However, without more context or details about the specific game or situation you're referring to, it's challenging to provide a precise answer.\n\nThe information you've provided, {[183, 183, 185], [a fumble, a fumble, fumble]}, doesn't directly answer the question in a way that's easy to understand without additional context. It appears to be a coded or abbreviated form of information that might relate to play numbers, types of turnovers, or some other aspect of the game, but it doesn't clearly explain which Newton turnover resulted in seven points for Denver.\n\nTo better understand and answer your question, could you provide more details or clarify what you mean by the numbers and terms you've used? For example, what game are you referring to, and what type of turnover (interception, fumble, etc.) are you asking about?"
        ],
        [
         "56d601e41c85041400946ed1",
         "The Most Valuable Player of Super Bowl 50 was Von Miller."
        ],
        [
         "56d601e41c85041400946ed2",
         "Von Miller plays the position of linebacker."
        ],
        [
         "56d98b33dc89441400fdb53b",
         "The Panthers' quarterback was sacked 7 times."
        ],
        [
         "56d98b33dc89441400fdb53c",
         "The Broncos caused turnovers three times in the game."
        ],
        [
         "56d98b33dc89441400fdb53d",
         "It looks like you're providing the answer in a specific format!\n\nTo break it down, the answer is: Von Miller.\n\nHe is the Denver player who caused two fumbles for the Panthers. Von Miller is a well-known linebacker for the Denver Broncos, and it's no surprise that he made significant plays in a game!"
        ],
        [
         "56d98b33dc89441400fdb53e",
         "To answer your question about how many tackles Von Miller accomplished by himself in the game, I need a bit more context or specific details about the game you're referring to. The information provided, {[295, 295, 295], [five, five, five]}, doesn't directly relate to the typical format of sports statistics, which are usually presented in a more straightforward numerical format.\n\nIn football, tackles are a common statistic used to measure a player's defensive performance. Von Miller, being a prominent linebacker, has had many notable games throughout his career. However, without knowing the specific game or context, it's challenging to provide an accurate answer.\n\nIf you're looking for information on a particular game, could you please provide more details such as the date of the game, the teams involved, or any other relevant context? This would help in giving a more precise answer to your question about Von Miller's tackles."
        ],
        [
         "56be5333acb8001400a5030a",
         "The network that broadcasted Super Bowl 50 in the U.S. was CBS."
        ],
        [
         "56be5333acb8001400a5030b",
         "The average cost for a 30-second commercial during Super Bowl 50 was $5 million."
        ],
        [
         "56be5333acb8001400a5030c",
         "Coldplay headlined the Super Bowl 50 halftime show."
        ],
        [
         "56be5333acb8001400a5030d",
         "Beyoncé and Bruno Mars joined the headliner during the Super Bowl 50 halftime show."
        ],
        [
         "56be5333acb8001400a5030e",
         "Beyoncé headlined the halftime show at Super Bowl XLVII."
        ],
        [
         "56beaf5e3aeaaa14008c91fd",
         "The broadcaster for Super Bowl 50 in the United States was CBS."
        ],
        [
         "56beaf5e3aeaaa14008c91fe",
         "It appears that the average cost of a 30-second commercial was $5 million, based on the provided data where all three instances list the cost as $5 million."
        ],
        [
         "56beaf5e3aeaaa14008c91ff",
         "Beyoncé previously headlined Super Bowl XLVII."
        ],
        [
         "56beaf5e3aeaaa14008c9200",
         "Bruno Mars previously headlined Super Bowl XLVIII."
        ],
        [
         "56beaf5e3aeaaa14008c9201",
         "It seems like there's a bit of confusion in your question. The format you've provided doesn't directly answer the question about who the main performer at this year's halftime show was. However, based on the information given, it appears that Coldplay was mentioned as the performer. \n\nTo clarify, if you're asking about a specific year's halftime show, the main performer for the 2016 Super Bowl 50 halftime show was indeed Coldplay, along with guest performers Beyoncé and Bruno Mars. If you're referring to a different year, could you please specify the year you're interested in? I'd be happy to provide more accurate information based on the correct year."
        ],
        [
         "56bf1ae93aeaaa14008c951b",
         "The network that broadcasted the 50th Super Bowl game was CBS."
        ],
        [
         "56bf1ae93aeaaa14008c951c",
         "The average cost for a TV ad lasting 30 seconds during Super Bowl 50 was $5 million."
        ],
        [
         "56bf1ae93aeaaa14008c951e",
         "The answer is Bruno Mars. He performed as a special guest during Super Bowl 50, also known as the Super Bowl 50 halftime show, alongside Coldplay and Beyoncé."
        ],
        [
         "56bf1ae93aeaaa14008c951f",
         "The Super Bowl 50 halftime show ranks third on the list of most watched TV broadcasts."
        ],
        [
         "56d2051ce7d4791d00902608",
         "The station that aired the Super Bowl was CBS."
        ],
        [
         "56d2051ce7d4791d00902609",
         "It seems like you're asking about the cost of a 30-second (1/2 minute) commercial, possibly during a significant event like the Super Bowl, which is known for its high advertising costs. According to the information provided:\n\n- The cost for a 30-second commercial is $5 million.\n- This cost is consistent across the three instances mentioned ([67, 67, 67] likely refers to a code, index, or another form of identifier not directly relevant to the cost).\n\nTherefore, a 30-second commercial costs $5 million."
        ],
        [
         "56d2051ce7d4791d0090260a",
         "Coldplay headlined the half-time show during Super Bowl 50."
        ],
        [
         "56d2051ce7d4791d0090260b",
         "It seems like you're asking about the Super Bowl 50 halftime show, which featured Coldplay as the main performer. During that show, the two guest artists who performed alongside Coldplay were indeed Beyoncé and Bruno Mars."
        ],
        [
         "56d602631c85041400946ed8",
         "It seems like you're asking about the TV broadcast of the Super Bowl, and the answer provided suggests that CBS has broadcast the Super Bowl on TV multiple times. To give a more detailed answer:\n\nThe Super Bowl, the annual championship game of the National Football League (NFL), is broadcast on television by various networks through a rotation system. The main networks involved in this rotation are CBS (Columbia Broadcasting System), NBC (National Broadcasting Company), and FOX (Fox Broadcasting Company). This rotation ensures that each network gets a turn to broadcast the Super Bowl, typically on a yearly rotation basis.\n\nGiven the answer format you've provided, {[0, 0, 0], [CBS, CBS, CBS]}, it implies that CBS has been one of the primary broadcasters of the Super Bowl, at least for the specific years being referenced. However, without more context or specific years mentioned, it's difficult to provide a more detailed breakdown of which network broadcast the Super Bowl in any given year.\n\nFor a more accurate and up-to-date answer, if you're looking for information on a specific Super Bowl (e.g., Super Bowl LV, which would be the 55th edition), you would need to specify the year or the Roman numeral of the Super Bowl you're interested in. Each year, one of the major networks (CBS, NBC, FOX) broadcasts the game, with the rights to broadcast the Super Bowl rotating among them."
        ],
        [
         "56d602631c85041400946eda",
         "Coldplay headlined the halftime show for Super Bowl 50."
        ]
       ],
       "datasetInfos": [],
       "dbfsResultPath": null,
       "isJsonSchema": true,
       "metadata": {
        "createTempViewForImplicitDf": true,
        "dataframeName": "_sqldf",
        "executionCount": 20
       },
       "overflow": false,
       "plotOptions": {
        "customPlotOptions": {},
        "displayType": "table",
        "pivotAggregation": null,
        "pivotColumns": null,
        "xColumns": null,
        "yColumns": null
       },
       "removedWidgets": [],
       "schema": [
        {
         "metadata": "{}",
         "name": "id",
         "type": "\"string\""
        },
        {
         "metadata": "{}",
         "name": "generated_answer",
         "type": "\"string\""
        }
       ],
       "type": "table"
      }
     },
     "output_type": "display_data"
    }
   ],
   "source": [
    "%sql\n",
    "---- Retrieve all records from the 'ai_query_inference' table to view the results\n",
    "SELECT * FROM ai_query_inference;\n"
   ]
  },
  {
   "cell_type": "markdown",
   "metadata": {
    "application/vnd.databricks.v1+cell": {
     "cellMetadata": {
      "byteLimit": 2048000,
      "rowLimit": 10000
     },
     "inputWidgets": {},
     "nuid": "4e5e84c2-1fed-4982-8dab-6e4703390183",
     "showTitle": false,
     "tableResultSettingsMap": {},
     "title": ""
    }
   },
   "source": [
    "## Conclusion\n",
    "\n",
    "In this lab, you successfully implemented a batch inference workflow using a small language model. You created a question-answering pipeline, tracked and registered the model using MLflow, managed model versions and stages with Unity Catalog, and performed both single-node and multinode batch inference. Finally, you explored an alternative method for batch inference using the `ai_query` SQL function."
   ]
  },
  {
   "cell_type": "markdown",
   "metadata": {
    "application/vnd.databricks.v1+cell": {
     "cellMetadata": {
      "byteLimit": 2048000,
      "rowLimit": 10000
     },
     "inputWidgets": {},
     "nuid": "1f215fb2-48e1-485e-a578-eea7b752e954",
     "showTitle": false,
     "tableResultSettingsMap": {},
     "title": ""
    }
   },
   "source": [
    "\n",
    "&copy; 2025 Databricks, Inc. All rights reserved. Apache, Apache Spark, Spark, the Spark Logo, Apache Iceberg, Iceberg, and the Apache Iceberg logo are trademarks of the <a href=\"https://www.apache.org/\" target=\"blank\">Apache Software Foundation</a>.<br/>\n",
    "<br/><a href=\"https://databricks.com/privacy-policy\" target=\"blank\">Privacy Policy</a> | \n",
    "<a href=\"https://databricks.com/terms-of-use\" target=\"blank\">Terms of Use</a> | \n",
    "<a href=\"https://help.databricks.com/\" target=\"blank\">Support</a>"
   ]
  }
 ],
 "metadata": {
  "application/vnd.databricks.v1+notebook": {
   "computePreferences": null,
   "dashboards": [],
   "environmentMetadata": null,
   "inputWidgetPreferences": null,
   "language": "python",
   "notebookMetadata": {
    "mostRecentlyExecutedCommandWithImplicitDF": {
     "commandId": 198782775599018,
     "dataframes": [
      "_sqldf"
     ]
    },
    "pythonIndentUnit": 4
   },
   "notebookName": "1.LAB - Batch Inference using SLM",
   "widgets": {}
  },
  "language_info": {
   "name": "python"
  }
 },
 "nbformat": 4,
 "nbformat_minor": 0
}