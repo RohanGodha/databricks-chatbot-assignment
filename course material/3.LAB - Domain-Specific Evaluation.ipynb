{
 "cells": [
  {
   "cell_type": "markdown",
   "metadata": {
    "application/vnd.databricks.v1+cell": {
     "cellMetadata": {},
     "inputWidgets": {},
     "nuid": "8a1f10bb-22c8-4159-9538-b5f59255c690",
     "showTitle": false,
     "tableResultSettingsMap": {},
     "title": ""
    }
   },
   "source": [
    "\n",
    "<div style=\"text-align: center; line-height: 0; padding-top: 9px;\">\n",
    "  <img src=\"https://databricks.com/wp-content/uploads/2018/03/db-academy-rgb-1200px.png\" alt=\"Databricks Learning\">\n",
    "</div>\n"
   ]
  },
  {
   "cell_type": "markdown",
   "metadata": {
    "application/vnd.databricks.v1+cell": {
     "cellMetadata": {},
     "inputWidgets": {},
     "nuid": "cfccf24b-fb0c-45dc-9d85-f825172a21b3",
     "showTitle": false,
     "tableResultSettingsMap": {},
     "title": ""
    }
   },
   "source": [
    "\n",
    "# LAB - Domain-Specific Evaluation \n",
    "\n",
    "\n",
    "In this lab, you will have the opportunity to evaluate a large language model on a specific task **using a dataset designed for this exact evaluation.**\n",
    "\n",
    "**Lab Outline:**\n",
    "\n",
    "*In this lab, you will need to complete the following tasks:*\n",
    "\n",
    "- **Task 1:** Create a Benchmark Dataset\n",
    "- **Task 2:** Compute ROUGE on Custom Benchmark Data\n",
    "- **Task 3:** Use an LLM-as-a-Judge approach to evaluate custom metrics"
   ]
  },
  {
   "cell_type": "markdown",
   "metadata": {
    "application/vnd.databricks.v1+cell": {
     "cellMetadata": {},
     "inputWidgets": {},
     "nuid": "cdb4bc5d-b331-4f4c-900f-6e338bbf1b5d",
     "showTitle": false,
     "tableResultSettingsMap": {},
     "title": ""
    }
   },
   "source": [
    "## REQUIRED - SELECT CLASSIC COMPUTE\n",
    "Before executing cells in this notebook, please select your classic compute cluster in the lab. Be aware that **Serverless** is enabled by default.\n",
    "\n",
    "Follow these steps to select the classic compute cluster:\n",
    "1. Navigate to the top-right of this notebook and click the drop-down menu to select your cluster. By default, the notebook will use **Serverless**.\n",
    "\n",
    "2. If your cluster is available, select it and continue to the next cell. If the cluster is not shown:\n",
    "\n",
    "   - Click **More** in the drop-down.\n",
    "   \n",
    "   - In the **Attach to an existing compute resource** window, use the first drop-down to select your unique cluster.\n",
    "\n",
    "**NOTE:** If your cluster has terminated, you might need to restart it in order to select it. To do this:\n",
    "\n",
    "1. Right-click on **Compute** in the left navigation pane and select *Open in new tab*.\n",
    "\n",
    "2. Find the triangle icon to the right of your compute cluster name and click it.\n",
    "\n",
    "3. Wait a few minutes for the cluster to start.\n",
    "\n",
    "4. Once the cluster is running, complete the steps above to select your cluster."
   ]
  },
  {
   "cell_type": "markdown",
   "metadata": {
    "application/vnd.databricks.v1+cell": {
     "cellMetadata": {},
     "inputWidgets": {},
     "nuid": "cd4ad981-66e0-4703-b43c-a638090c2052",
     "showTitle": false,
     "tableResultSettingsMap": {},
     "title": ""
    }
   },
   "source": [
    "## Requirements\n",
    "\n",
    "Please review the following requirements before starting the lesson:\n",
    "\n",
    "* To run this notebook, you need to use one of the following Databricks runtime(s): **15.4.x-cpu-ml-scala2.12**\n"
   ]
  },
  {
   "cell_type": "markdown",
   "metadata": {
    "application/vnd.databricks.v1+cell": {
     "cellMetadata": {},
     "inputWidgets": {},
     "nuid": "14fa5fae-74dc-4227-a02a-5cea56557246",
     "showTitle": false,
     "tableResultSettingsMap": {},
     "title": ""
    }
   },
   "source": [
    "\n",
    "## Classroom Setup\n",
    "\n",
    "Install required libraries."
   ]
  },
  {
   "cell_type": "code",
   "execution_count": 0,
   "metadata": {
    "application/vnd.databricks.v1+cell": {
     "cellMetadata": {
      "byteLimit": 2048000,
      "rowLimit": 10000
     },
     "inputWidgets": {},
     "nuid": "624f4ce8-3bfe-437b-9d60-b063d5a7ed57",
     "showTitle": false,
     "tableResultSettingsMap": {},
     "title": ""
    }
   },
   "outputs": [
    {
     "output_type": "stream",
     "name": "stdout",
     "output_type": "stream",
     "text": [
      "\u001B[43mNote: you may need to restart the kernel using %restart_python or dbutils.library.restartPython() to use updated packages.\u001B[0m\n"
     ]
    }
   ],
   "source": [
    "%pip install -U -qq databricks-sdk rouge_score textstat\n",
    "dbutils.library.restartPython()"
   ]
  },
  {
   "cell_type": "markdown",
   "metadata": {
    "application/vnd.databricks.v1+cell": {
     "cellMetadata": {},
     "inputWidgets": {},
     "nuid": "f906236a-19a1-49eb-86f8-3121b51da9b5",
     "showTitle": false,
     "tableResultSettingsMap": {},
     "title": ""
    }
   },
   "source": [
    "Before starting the Lab, run the provided classroom setup script. This script will define configuration variables necessary for the lab. Execute the following cell:"
   ]
  },
  {
   "cell_type": "code",
   "execution_count": 0,
   "metadata": {
    "application/vnd.databricks.v1+cell": {
     "cellMetadata": {
      "byteLimit": 2048000,
      "rowLimit": 10000
     },
     "inputWidgets": {},
     "nuid": "e742e03a-0aca-43c2-8586-885f45edcd9e",
     "showTitle": false,
     "tableResultSettingsMap": {},
     "title": ""
    }
   },
   "outputs": [
    {
     "output_type": "stream",
     "name": "stdout",
     "output_type": "stream",
     "text": [
      "\nThe examples and models presented in this course are intended solely for demonstration and educational purposes.\n Please note that the models and prompt examples may sometimes contain offensive, inaccurate, biased, or harmful content.\n"
     ]
    }
   ],
   "source": [
    "%run ../Includes/Classroom-Setup-03"
   ]
  },
  {
   "cell_type": "markdown",
   "metadata": {
    "application/vnd.databricks.v1+cell": {
     "cellMetadata": {},
     "inputWidgets": {},
     "nuid": "44ab8d2e-7135-4717-bb18-bc5c68a485d3",
     "showTitle": false,
     "tableResultSettingsMap": {},
     "title": ""
    }
   },
   "source": [
    "**Other Conventions:**\n",
    "\n",
    "Throughout this lab, we'll refer to the object `DA`. This object, provided by Databricks Academy, contains variables such as your username, catalog name, schema name, working directory, and dataset locations. Run the code block below to view these details:"
   ]
  },
  {
   "cell_type": "code",
   "execution_count": 0,
   "metadata": {
    "application/vnd.databricks.v1+cell": {
     "cellMetadata": {
      "byteLimit": 2048000,
      "rowLimit": 10000
     },
     "inputWidgets": {},
     "nuid": "c394dd40-2ac3-4613-81db-79695830d2db",
     "showTitle": false,
     "tableResultSettingsMap": {},
     "title": ""
    }
   },
   "outputs": [
    {
     "output_type": "stream",
     "name": "stdout",
     "output_type": "stream",
     "text": [
      "Username:          labuser11185624_1754988112@vocareum.com\nCatalog Name:      dbacademy\nSchema Name:       labuser11185624_1754988112\nWorking Directory: /Volumes/dbacademy/ops/labuser11185624_1754988112@vocareum_com\nDataset Location:  NestedNamespace (news='/Volumes/dbacademy_news/v01', arxiv='/Volumes/dbacademy_arxiv/v01')\n"
     ]
    }
   ],
   "source": [
    "print(f\"Username:          {DA.username}\")\n",
    "print(f\"Catalog Name:      {DA.catalog_name}\")\n",
    "print(f\"Schema Name:       {DA.schema_name}\")\n",
    "print(f\"Working Directory: {DA.paths.working_dir}\")\n",
    "print(f\"Dataset Location:  {DA.paths.datasets}\")"
   ]
  },
  {
   "cell_type": "markdown",
   "metadata": {
    "application/vnd.databricks.v1+cell": {
     "cellMetadata": {},
     "inputWidgets": {},
     "isMarkdownSandbox": true,
     "nuid": "bfdcb525-2ec0-4954-8964-5d67fd037c5e",
     "showTitle": false,
     "tableResultSettingsMap": {},
     "title": ""
    }
   },
   "source": [
    "# Lab Overview\n",
    "\n",
    "In this lab, you will again be evaluating the performance of an AI system designed to summarize text."
   ]
  },
  {
   "cell_type": "code",
   "execution_count": 0,
   "metadata": {
    "application/vnd.databricks.v1+cell": {
     "cellMetadata": {
      "byteLimit": 2048000,
      "rowLimit": 10000
     },
     "inputWidgets": {},
     "nuid": "45d8afe0-8cc4-4a0d-a7c0-1a2fac0c82c1",
     "showTitle": false,
     "tableResultSettingsMap": {},
     "title": ""
    }
   },
   "outputs": [
    {
     "output_type": "execute_result",
     "data": {
      "text/plain": [
       "\"I think this is the best frozen pizza I've ever had, with a delicious taste similar to a pizzeria's, and I would buy it again despite its high price.\""
      ]
     },
     "execution_count": 10,
     "metadata": {},
     "output_type": "execute_result"
    }
   ],
   "source": [
    "query_product_summary_system(\n",
    "    \"This is the best frozen pizza I've ever had! Sure, it's not the healthiest, but it tasted just like it was delivered from our favorite pizzeria down the street. The cheese browned nicely and fresh tomatoes are a nice touch, too! I would buy it again despite it's high price. If I could change one thing, I'd made it a little healthier – could we get a gluten-free crust option? My son would love that.\"\n",
    ")"
   ]
  },
  {
   "cell_type": "markdown",
   "metadata": {
    "application/vnd.databricks.v1+cell": {
     "cellMetadata": {},
     "inputWidgets": {},
     "nuid": "9f659459-b134-4818-92b0-616bbe685864",
     "showTitle": false,
     "tableResultSettingsMap": {},
     "title": ""
    }
   },
   "source": [
    "However, you will evaluate the LLM using a curated benchmark set specific to our evaluation.\n",
    "\n",
    "This lab will follow the below steps:\n",
    "\n",
    "1. Create a custom benchmark dataset specific to the use case\n",
    "2. Compute summarization-specific evaluation metrics using the custom benchmark data set\n",
    "3. Use an LLM-as-a-Judge approach to evaluate custom metrics"
   ]
  },
  {
   "cell_type": "markdown",
   "metadata": {
    "application/vnd.databricks.v1+cell": {
     "cellMetadata": {},
     "inputWidgets": {},
     "nuid": "e39d0e71-9f6b-4bb8-895e-ab758082f786",
     "showTitle": false,
     "tableResultSettingsMap": {},
     "title": ""
    }
   },
   "source": [
    "## Task 1: Create a Benchmark Dataset\n",
    "\n",
    "Recall that ROUGE requires reference sets to compute scores. In our demo, we used a large, generic benchmark set.\n",
    "\n",
    "In this lab, you have to use a domain-specific benchmark set specific to the use case.\n",
    "\n",
    "### Case-Specific Benchmark Set\n",
    "\n",
    "While the base-specific data set likely won't be as large, it does have the advantage of being **more representative of the task we're actually asking the LLM to perform.**\n",
    "\n",
    "Below, we've started to create a dataset for grocery product review summaries. It's your task to create **two more** product summaries to this dataset.\n",
    "\n",
    "**Hint:** Try opening up another tab and using AI Playground to generate some examples! Just be sure to manually check them since this is our *ground-truth evaluation data*.\n",
    "\n",
    "**Note:** For this task, we're creating an *extremely small* reference set. In practice, you'll want to create one with far more example records."
   ]
  },
  {
   "cell_type": "code",
   "execution_count": 0,
   "metadata": {
    "application/vnd.databricks.v1+cell": {
     "cellMetadata": {
      "byteLimit": 2048000,
      "rowLimit": 10000
     },
     "inputWidgets": {},
     "nuid": "475cd133-13e4-4fe1-ac35-c0bc36a75bd4",
     "showTitle": false,
     "tableResultSettingsMap": {},
     "title": ""
    }
   },
   "outputs": [
    {
     "output_type": "display_data",
     "data": {
      "text/html": [
       "<style scoped>\n",
       "  .table-result-container {\n",
       "    max-height: 300px;\n",
       "    overflow: auto;\n",
       "  }\n",
       "  table, th, td {\n",
       "    border: 1px solid black;\n",
       "    border-collapse: collapse;\n",
       "  }\n",
       "  th, td {\n",
       "    padding: 5px;\n",
       "  }\n",
       "  th {\n",
       "    text-align: left;\n",
       "  }\n",
       "</style><div class='table-result-container'><table class='table-result'><thead style='background-color: white'><tr><th>inputs</th><th>ground_truth</th></tr></thead><tbody><tr><td>This coffee is exceptional. Its intensely bold flavor profile is both nutty and fruity – especially with notes of plum and citrus. While the price is relatively good, I find myself needing to purchase bags too often. If this came in 16oz bags instead of just 12oz bags, I'd purchase it all the time. I highly recommend they start scaling up their bag size.</td><td>This bold, nutty, and fruity coffee is delicious, and they need to start selling it in larger bags.</td></tr><tr><td>The moment I opened the tub of Chocolate-Covered Strawberry Delight ice cream, I was greeted by the enticing aroma of fresh strawberries and rich chocolate. The appearance of the ice cream was equally appealing, with a swirl of pink strawberry ice cream and chunks of chocolate-covered strawberries scattered throughout. The first bite did not disappoint. The strawberry ice cream was creamy and flavorful, with a natural sweetness that was not overpowering. The chocolate-covered strawberries added a satisfying crunch fruity bite.</td><td>Chocolate-Covered Strawberry Delight ice cream looks delicious with its aroma of strawberry and chocolate, and its creamy, naturally sweet taste did not disappoint.</td></tr><tr><td>Arroz Delicioso is a must-try for Mexican cuisine enthusiasts! This authentic Mexican rice, infused with a blend of tomatoes, onions, and garlic, brings a burst of flavor to any meal. Its vibrant color and delightful aroma will transport you straight to the heart of Mexico. The rice cooks evenly, resulting in separate, fluffy grains that hold their shape, making it perfect for dishes like arroz con pollo or as a side for tacos. With a cook time of just 20 minutes, Arroz Delicioso is a convenient and delicious addition to your pantry. Give it a try and elevate your Mexican food game!</td><td>Arroz Delicioso offers authentic, flavorful Mexican rice with a blend of tomatoes, onions, and garlic, cooking evenly into separate, fluffy grains in just 20 minutes, making it a convenient and delicious choice for dishes like arroz con pollo or as a side for tacos.</td></tr><tr><td>FreshCrunch salad mixes are revolutionizing the way we think about packaged salads! Each bag is packed with a vibrant blend of crisp, nutrient-rich greens, including baby spinach, arugula, and kale. The veggies are pre-washed and ready to eat, making meal prep a breeze. FreshCrunch sets itself apart with its innovative packaging that keeps the greens fresh for up to 10 days, reducing food waste and ensuring you always have a healthy option on hand. The salad mixes are versatile and pair well with various dressings and toppings. Try FreshCrunch for a convenient, delicious, and nutritious meal solution that doesn't compromise on quality or taste!</td><td>FreshCrunch salad mixes offer convenient, pre-washed, nutrient-rich greens in an innovative packaging that keeps them fresh for up to 10 days, providing a versatile, tasty, and waste-reducing healthy meal solution.</td></tr><tr><td>If you're a grill enthusiast like me, you know the importance of having the right tools for the job. That's why I was thrilled to get my hands on the new Click-Clack Grill Tongs. These tongs are not just any ordinary grilling utensil; they're a game-changer. First impressions matter, and the Click-Clack Grill Tongs certainly deliver. The sleek, stainless steel design exudes a professional feel, and the ergonomic handle ensures a comfortable grip even during those long grilling sessions. But what truly sets these tongs apart is their innovative 'Click-Clack' mechanism. With a simple press of a button, the tongs automatically open and close, allowing for precise control when flipping or turning your food. No more struggling with stiff, unwieldy tongs that can ruin your carefully prepared meals. The tongs also feature a scalloped edge, which provides a secure grip on everything from juicy steaks to delicate vegetables. And with their generous length, you can keep your hands safely away from the heat while still maintaining optimal control. Cleanup is a breeze thanks to the dishwasher-safe construction, and the integrated hanging loop makes storage a snap. In conclusion, the Click-Clack Grill Tongs have earned a permanent spot in my grilling arsenal. They've made my grilling experience more enjoyable and efficient, and I'm confident they'll do the same for you. So, if you're looking to up your grilling game, I highly recommend giving these tongs a try. Happy grilling!</td><td>The Click-Clack Grill Tongs are a high-quality, innovative grilling tool with a sleek design, comfortable grip, and an automatic opening/closing mechanism for precise control. These tongs have made grilling more enjoyable and efficient, and are highly recommended for anyone looking to improve their grilling experience.</td></tr><tr><td>As a parent, I understand the importance of providing my child with nutritious, wholesome food. That's why I was thrilled to discover Fresh 'n' Quik Baby Food, a new product that promises to deliver fresh, homemade baby food in minutes. The concept behind Fresh 'n' Quik is simple yet ingenious. The system consists of pre-portioned, organic fruit and vegetable purees that can be quickly and easily blended with breast milk, formula, or water to create a nutritious meal for your little one. The purees are made with high-quality ingredients, free from additives, preservatives, and artificial flavors, ensuring that your baby receives only the best. One of the standout features of Fresh 'n' Quik is the convenience it offers. The purees come in individual, resealable pouches that can be stored in the freezer until you're ready to use them. When it's time to feed your baby, simply pop a pouch into the Fresh 'n' Quik blender, add your liquid of choice, and blend. In less than a minute, you have a fresh, homemade meal that's ready to serve. The blender itself is compact, easy to use, and even easier to clean. The blades are removable, making it a breeze to rinse off any leftover puree. And the best part? The blender is whisper-quiet, so you don't have to worry about waking your sleeping baby while preparing their meal. But what truly sets Fresh 'n' Quik apart is the variety of flavors available. From classic combinations like apple and banana to more adventurous options like mango and kale, there's something for every palate. And because the purees are made with real fruits and vegetables, your baby is exposed to a wide range of flavors and textures, helping to cultivate a diverse and adventurous palate from an early age. In conclusion, Fresh 'n' Quik Baby Food is a game-changer for parents seeking a convenient, nutritious, and delicious option for their little ones. The system is easy to use, quick to clean, and offers a wide variety of flavors to keep your baby's taste buds excited. I highly recommend giving Fresh 'n' Quik a try – your baby (and your schedule) will thank you!</td><td>Fresh 'n' Quik Baby Food is a revolutionary product that delivers fresh, homemade baby food in minutes. With pre-portioned, organic fruit and vegetable purees, the system offers convenience, high-quality ingredients, and a wide range of flavors to cultivate a diverse palate in your little one. The blender is compact, easy to use, and whisper-quiet, making mealtime a breeze. Fresh 'n' Quik Baby Food is a must-try for parents seeking a nutritious and delicious option for their babies.</td></tr></tbody></table></div>"
      ]
     },
     "metadata": {
      "application/vnd.databricks.v1+output": {
       "addedWidgets": {},
       "aggData": [],
       "aggError": "",
       "aggOverflow": false,
       "aggSchema": [],
       "aggSeriesLimitReached": false,
       "aggType": "",
       "arguments": {},
       "columnCustomDisplayInfos": {},
       "data": [
        [
         "This coffee is exceptional. Its intensely bold flavor profile is both nutty and fruity – especially with notes of plum and citrus. While the price is relatively good, I find myself needing to purchase bags too often. If this came in 16oz bags instead of just 12oz bags, I'd purchase it all the time. I highly recommend they start scaling up their bag size.",
         "This bold, nutty, and fruity coffee is delicious, and they need to start selling it in larger bags."
        ],
        [
         "The moment I opened the tub of Chocolate-Covered Strawberry Delight ice cream, I was greeted by the enticing aroma of fresh strawberries and rich chocolate. The appearance of the ice cream was equally appealing, with a swirl of pink strawberry ice cream and chunks of chocolate-covered strawberries scattered throughout. The first bite did not disappoint. The strawberry ice cream was creamy and flavorful, with a natural sweetness that was not overpowering. The chocolate-covered strawberries added a satisfying crunch fruity bite.",
         "Chocolate-Covered Strawberry Delight ice cream looks delicious with its aroma of strawberry and chocolate, and its creamy, naturally sweet taste did not disappoint."
        ],
        [
         "Arroz Delicioso is a must-try for Mexican cuisine enthusiasts! This authentic Mexican rice, infused with a blend of tomatoes, onions, and garlic, brings a burst of flavor to any meal. Its vibrant color and delightful aroma will transport you straight to the heart of Mexico. The rice cooks evenly, resulting in separate, fluffy grains that hold their shape, making it perfect for dishes like arroz con pollo or as a side for tacos. With a cook time of just 20 minutes, Arroz Delicioso is a convenient and delicious addition to your pantry. Give it a try and elevate your Mexican food game!",
         "Arroz Delicioso offers authentic, flavorful Mexican rice with a blend of tomatoes, onions, and garlic, cooking evenly into separate, fluffy grains in just 20 minutes, making it a convenient and delicious choice for dishes like arroz con pollo or as a side for tacos."
        ],
        [
         "FreshCrunch salad mixes are revolutionizing the way we think about packaged salads! Each bag is packed with a vibrant blend of crisp, nutrient-rich greens, including baby spinach, arugula, and kale. The veggies are pre-washed and ready to eat, making meal prep a breeze. FreshCrunch sets itself apart with its innovative packaging that keeps the greens fresh for up to 10 days, reducing food waste and ensuring you always have a healthy option on hand. The salad mixes are versatile and pair well with various dressings and toppings. Try FreshCrunch for a convenient, delicious, and nutritious meal solution that doesn't compromise on quality or taste!",
         "FreshCrunch salad mixes offer convenient, pre-washed, nutrient-rich greens in an innovative packaging that keeps them fresh for up to 10 days, providing a versatile, tasty, and waste-reducing healthy meal solution."
        ],
        [
         "If you're a grill enthusiast like me, you know the importance of having the right tools for the job. That's why I was thrilled to get my hands on the new Click-Clack Grill Tongs. These tongs are not just any ordinary grilling utensil; they're a game-changer. First impressions matter, and the Click-Clack Grill Tongs certainly deliver. The sleek, stainless steel design exudes a professional feel, and the ergonomic handle ensures a comfortable grip even during those long grilling sessions. But what truly sets these tongs apart is their innovative 'Click-Clack' mechanism. With a simple press of a button, the tongs automatically open and close, allowing for precise control when flipping or turning your food. No more struggling with stiff, unwieldy tongs that can ruin your carefully prepared meals. The tongs also feature a scalloped edge, which provides a secure grip on everything from juicy steaks to delicate vegetables. And with their generous length, you can keep your hands safely away from the heat while still maintaining optimal control. Cleanup is a breeze thanks to the dishwasher-safe construction, and the integrated hanging loop makes storage a snap. In conclusion, the Click-Clack Grill Tongs have earned a permanent spot in my grilling arsenal. They've made my grilling experience more enjoyable and efficient, and I'm confident they'll do the same for you. So, if you're looking to up your grilling game, I highly recommend giving these tongs a try. Happy grilling!",
         "The Click-Clack Grill Tongs are a high-quality, innovative grilling tool with a sleek design, comfortable grip, and an automatic opening/closing mechanism for precise control. These tongs have made grilling more enjoyable and efficient, and are highly recommended for anyone looking to improve their grilling experience."
        ],
        [
         "As a parent, I understand the importance of providing my child with nutritious, wholesome food. That's why I was thrilled to discover Fresh 'n' Quik Baby Food, a new product that promises to deliver fresh, homemade baby food in minutes. The concept behind Fresh 'n' Quik is simple yet ingenious. The system consists of pre-portioned, organic fruit and vegetable purees that can be quickly and easily blended with breast milk, formula, or water to create a nutritious meal for your little one. The purees are made with high-quality ingredients, free from additives, preservatives, and artificial flavors, ensuring that your baby receives only the best. One of the standout features of Fresh 'n' Quik is the convenience it offers. The purees come in individual, resealable pouches that can be stored in the freezer until you're ready to use them. When it's time to feed your baby, simply pop a pouch into the Fresh 'n' Quik blender, add your liquid of choice, and blend. In less than a minute, you have a fresh, homemade meal that's ready to serve. The blender itself is compact, easy to use, and even easier to clean. The blades are removable, making it a breeze to rinse off any leftover puree. And the best part? The blender is whisper-quiet, so you don't have to worry about waking your sleeping baby while preparing their meal. But what truly sets Fresh 'n' Quik apart is the variety of flavors available. From classic combinations like apple and banana to more adventurous options like mango and kale, there's something for every palate. And because the purees are made with real fruits and vegetables, your baby is exposed to a wide range of flavors and textures, helping to cultivate a diverse and adventurous palate from an early age. In conclusion, Fresh 'n' Quik Baby Food is a game-changer for parents seeking a convenient, nutritious, and delicious option for their little ones. The system is easy to use, quick to clean, and offers a wide variety of flavors to keep your baby's taste buds excited. I highly recommend giving Fresh 'n' Quik a try – your baby (and your schedule) will thank you!",
         "Fresh 'n' Quik Baby Food is a revolutionary product that delivers fresh, homemade baby food in minutes. With pre-portioned, organic fruit and vegetable purees, the system offers convenience, high-quality ingredients, and a wide range of flavors to cultivate a diverse palate in your little one. The blender is compact, easy to use, and whisper-quiet, making mealtime a breeze. Fresh 'n' Quik Baby Food is a must-try for parents seeking a nutritious and delicious option for their babies."
        ]
       ],
       "datasetInfos": [],
       "dbfsResultPath": null,
       "isJsonSchema": true,
       "metadata": {},
       "overflow": false,
       "plotOptions": {
        "customPlotOptions": {},
        "displayType": "table",
        "pivotAggregation": null,
        "pivotColumns": null,
        "xColumns": null,
        "yColumns": null
       },
       "removedWidgets": [],
       "schema": [
        {
         "metadata": "{}",
         "name": "inputs",
         "type": "\"string\""
        },
        {
         "metadata": "{}",
         "name": "ground_truth",
         "type": "\"string\""
        }
       ],
       "type": "table"
      }
     },
     "output_type": "display_data"
    }
   ],
   "source": [
    "\n",
    "import pandas as pd\n",
    "\n",
    "eval_data = pd.DataFrame(\n",
    "    {\n",
    "        \"inputs\": [\n",
    "            \"This coffee is exceptional. Its intensely bold flavor profile is both nutty and fruity – especially with notes of plum and citrus. While the price is relatively good, I find myself needing to purchase bags too often. If this came in 16oz bags instead of just 12oz bags, I'd purchase it all the time. I highly recommend they start scaling up their bag size.\",\n",
    "            \"The moment I opened the tub of Chocolate-Covered Strawberry Delight ice cream, I was greeted by the enticing aroma of fresh strawberries and rich chocolate. The appearance of the ice cream was equally appealing, with a swirl of pink strawberry ice cream and chunks of chocolate-covered strawberries scattered throughout. The first bite did not disappoint. The strawberry ice cream was creamy and flavorful, with a natural sweetness that was not overpowering. The chocolate-covered strawberries added a satisfying crunch fruity bite.\",\n",
    "            \"Arroz Delicioso is a must-try for Mexican cuisine enthusiasts! This authentic Mexican rice, infused with a blend of tomatoes, onions, and garlic, brings a burst of flavor to any meal. Its vibrant color and delightful aroma will transport you straight to the heart of Mexico. The rice cooks evenly, resulting in separate, fluffy grains that hold their shape, making it perfect for dishes like arroz con pollo or as a side for tacos. With a cook time of just 20 minutes, Arroz Delicioso is a convenient and delicious addition to your pantry. Give it a try and elevate your Mexican food game!\",\n",
    "            \"FreshCrunch salad mixes are revolutionizing the way we think about packaged salads! Each bag is packed with a vibrant blend of crisp, nutrient-rich greens, including baby spinach, arugula, and kale. The veggies are pre-washed and ready to eat, making meal prep a breeze. FreshCrunch sets itself apart with its innovative packaging that keeps the greens fresh for up to 10 days, reducing food waste and ensuring you always have a healthy option on hand. The salad mixes are versatile and pair well with various dressings and toppings. Try FreshCrunch for a convenient, delicious, and nutritious meal solution that doesn't compromise on quality or taste!\",\n",
    "            \"If you're a grill enthusiast like me, you know the importance of having the right tools for the job. That's why I was thrilled to get my hands on the new Click-Clack Grill Tongs. These tongs are not just any ordinary grilling utensil; they're a game-changer. First impressions matter, and the Click-Clack Grill Tongs certainly deliver. The sleek, stainless steel design exudes a professional feel, and the ergonomic handle ensures a comfortable grip even during those long grilling sessions. But what truly sets these tongs apart is their innovative 'Click-Clack' mechanism. With a simple press of a button, the tongs automatically open and close, allowing for precise control when flipping or turning your food. No more struggling with stiff, unwieldy tongs that can ruin your carefully prepared meals. The tongs also feature a scalloped edge, which provides a secure grip on everything from juicy steaks to delicate vegetables. And with their generous length, you can keep your hands safely away from the heat while still maintaining optimal control. Cleanup is a breeze thanks to the dishwasher-safe construction, and the integrated hanging loop makes storage a snap. In conclusion, the Click-Clack Grill Tongs have earned a permanent spot in my grilling arsenal. They've made my grilling experience more enjoyable and efficient, and I'm confident they'll do the same for you. So, if you're looking to up your grilling game, I highly recommend giving these tongs a try. Happy grilling!\",\n",
    "            \"As a parent, I understand the importance of providing my child with nutritious, wholesome food. That's why I was thrilled to discover Fresh 'n' Quik Baby Food, a new product that promises to deliver fresh, homemade baby food in minutes. The concept behind Fresh 'n' Quik is simple yet ingenious. The system consists of pre-portioned, organic fruit and vegetable purees that can be quickly and easily blended with breast milk, formula, or water to create a nutritious meal for your little one. The purees are made with high-quality ingredients, free from additives, preservatives, and artificial flavors, ensuring that your baby receives only the best. One of the standout features of Fresh 'n' Quik is the convenience it offers. The purees come in individual, resealable pouches that can be stored in the freezer until you're ready to use them. When it's time to feed your baby, simply pop a pouch into the Fresh 'n' Quik blender, add your liquid of choice, and blend. In less than a minute, you have a fresh, homemade meal that's ready to serve. The blender itself is compact, easy to use, and even easier to clean. The blades are removable, making it a breeze to rinse off any leftover puree. And the best part? The blender is whisper-quiet, so you don't have to worry about waking your sleeping baby while preparing their meal. But what truly sets Fresh 'n' Quik apart is the variety of flavors available. From classic combinations like apple and banana to more adventurous options like mango and kale, there's something for every palate. And because the purees are made with real fruits and vegetables, your baby is exposed to a wide range of flavors and textures, helping to cultivate a diverse and adventurous palate from an early age. In conclusion, Fresh 'n' Quik Baby Food is a game-changer for parents seeking a convenient, nutritious, and delicious option for their little ones. The system is easy to use, quick to clean, and offers a wide variety of flavors to keep your baby's taste buds excited. I highly recommend giving Fresh 'n' Quik a try – your baby (and your schedule) will thank you!\"\n",
    "        ],\n",
    "        \"ground_truth\": [\n",
    "            \"This bold, nutty, and fruity coffee is delicious, and they need to start selling it in larger bags.\",\n",
    "            \"Chocolate-Covered Strawberry Delight ice cream looks delicious with its aroma of strawberry and chocolate, and its creamy, naturally sweet taste did not disappoint.\",\n",
    "            \"Arroz Delicioso offers authentic, flavorful Mexican rice with a blend of tomatoes, onions, and garlic, cooking evenly into separate, fluffy grains in just 20 minutes, making it a convenient and delicious choice for dishes like arroz con pollo or as a side for tacos.\",\n",
    "            \"FreshCrunch salad mixes offer convenient, pre-washed, nutrient-rich greens in an innovative packaging that keeps them fresh for up to 10 days, providing a versatile, tasty, and waste-reducing healthy meal solution.\",\n",
    "            \"The Click-Clack Grill Tongs are a high-quality, innovative grilling tool with a sleek design, comfortable grip, and an automatic opening/closing mechanism for precise control. These tongs have made grilling more enjoyable and efficient, and are highly recommended for anyone looking to improve their grilling experience.\",\n",
    "            \"Fresh 'n' Quik Baby Food is a revolutionary product that delivers fresh, homemade baby food in minutes. With pre-portioned, organic fruit and vegetable purees, the system offers convenience, high-quality ingredients, and a wide range of flavors to cultivate a diverse palate in your little one. The blender is compact, easy to use, and whisper-quiet, making mealtime a breeze. Fresh 'n' Quik Baby Food is a must-try for parents seeking a nutritious and delicious option for their babies.\"\n",
    "        ],\n",
    "    }\n",
    ")\n",
    "\n",
    "display(eval_data)"
   ]
  },
  {
   "cell_type": "markdown",
   "metadata": {
    "application/vnd.databricks.v1+cell": {
     "cellMetadata": {},
     "inputWidgets": {},
     "nuid": "811a7749-6427-40dd-b3fa-711c04673d83",
     "showTitle": false,
     "tableResultSettingsMap": {},
     "title": ""
    }
   },
   "source": [
    "**Question:** What are some strategies for evaluating your custom-generated benchmark data set? For example:\n",
    "* How can you scale the curation?\n",
    "* How do you know if the ground truth is correct?\n",
    "* Who should have input?\n",
    "* Should it remain static over time?\n",
    "\n",
    "Next, we're saving this reference data set for future use."
   ]
  },
  {
   "cell_type": "code",
   "execution_count": 0,
   "metadata": {
    "application/vnd.databricks.v1+cell": {
     "cellMetadata": {
      "byteLimit": 2048000,
      "rowLimit": 10000
     },
     "inputWidgets": {},
     "nuid": "4764495a-f91e-453b-9f2b-8a1c5229feda",
     "showTitle": false,
     "tableResultSettingsMap": {},
     "title": ""
    }
   },
   "outputs": [],
   "source": [
    "spark_df = spark.createDataFrame(eval_data)\n",
    "spark_df.write.mode(\"overwrite\").saveAsTable(f\"{DA.catalog_name}.{DA.schema_name}.case_spec_summ_eval\")"
   ]
  },
  {
   "cell_type": "markdown",
   "metadata": {
    "application/vnd.databricks.v1+cell": {
     "cellMetadata": {},
     "inputWidgets": {},
     "nuid": "4dcc56e0-64f4-40d3-955b-8e4efd266570",
     "showTitle": false,
     "tableResultSettingsMap": {},
     "title": ""
    }
   },
   "source": [
    "## Task 2: Compute ROUGE on Custom Benchmark Data\n",
    "\n",
    "Next, we will want to compute our ROUGE-N metric to understand how well our system summarizes grocery product reviews based on the reference of reviews that was just created.\n",
    "\n",
    "Remember that the `mlflow.evaluate` function accepts the following parameters for this use case:\n",
    "\n",
    "* An LLM model\n",
    "* Reference data for evaluation\n",
    "* Column with ground truth data\n",
    "* The model/task type (e.g. `\"text-summarization\"`)\n"
   ]
  },
  {
   "cell_type": "markdown",
   "metadata": {
    "application/vnd.databricks.v1+cell": {
     "cellMetadata": {},
     "inputWidgets": {},
     "nuid": "02d6e794-6a24-48e3-917a-6c25804e1c34",
     "showTitle": false,
     "tableResultSettingsMap": {},
     "title": ""
    }
   },
   "source": [
    "### Step 2.1: Run the Evaluation\n",
    "\n",
    "Instead of using the generic benchmark dataset like in the demo, your task is to **compute ROUGE metrics using the case-specific benchmark data that we just created.**\n",
    "\n",
    "**Note:** If needed, refer back to the demo to complete the below code blocks.\n",
    "\n",
    "First, the function that you can use to iterate through rows for `mlflow.evaluate`."
   ]
  },
  {
   "cell_type": "code",
   "execution_count": 0,
   "metadata": {
    "application/vnd.databricks.v1+cell": {
     "cellMetadata": {
      "byteLimit": 2048000,
      "rowLimit": 10000
     },
     "inputWidgets": {},
     "nuid": "cb985316-7c58-4466-9e66-9a8b90aa112e",
     "showTitle": false,
     "tableResultSettingsMap": {},
     "title": ""
    }
   },
   "outputs": [
    {
     "output_type": "execute_result",
     "data": {
      "text/plain": [
       "['I highly recommend this exceptional coffee with its intensely bold and fruity flavor profile, but I wish it came in larger bag sizes to reduce frequent purchases.',\n",
       " 'I was thoroughly impressed with the Chocolate-Covered Strawberry Delight ice cream, which had a delicious aroma, appealing appearance, and a creamy, flavorful taste with a perfect balance of sweet and fruity notes.',\n",
       " 'I highly recommend Arroz Delicioso, an authentic Mexican rice that brings a burst of flavor to any meal with its blend of tomatoes, onions, and garlic, and cooks evenly in just 20 minutes.',\n",
       " 'I love FreshCrunch salad mixes because they offer a convenient and nutritious meal solution with their pre-washed, long-lasting, and versatile blends of crisp greens.',\n",
       " \"I'm thoroughly impressed with the Click-Clack Grill Tongs, which have become a game-changer in my grilling experience with their innovative mechanism, comfortable design, and ease of use.\",\n",
       " \"I highly recommend Fresh 'n' Quik Baby Food, a convenient and nutritious system that allows me to quickly create homemade baby food in minutes using high-quality, organic ingredients and a variety of delicious flavors.\"]"
      ]
     },
     "execution_count": 13,
     "metadata": {},
     "output_type": "execute_result"
    }
   ],
   "source": [
    "\n",
    "## A custom function to iterate through our eval DF\n",
    "def query_iteration(inputs):\n",
    "    answers = []\n",
    "\n",
    "    for index, row in inputs.iterrows():\n",
    "        completion = query_product_summary_system(row[\"inputs\"])\n",
    "        answers.append(completion)\n",
    "\n",
    "    return answers\n",
    "\n",
    "## Test query_iteration function – it needs to return a list of output strings\n",
    "query_iteration(eval_data)"
   ]
  },
  {
   "cell_type": "markdown",
   "metadata": {
    "application/vnd.databricks.v1+cell": {
     "cellMetadata": {},
     "inputWidgets": {},
     "nuid": "2fd6af3b-f37b-47ff-bd09-9797ff95aae2",
     "showTitle": false,
     "tableResultSettingsMap": {},
     "title": ""
    }
   },
   "source": [
    "Next, use the above function and `mlflow.evaluate` to perform the `text-summarization` evaluation."
   ]
  },
  {
   "cell_type": "code",
   "execution_count": 0,
   "metadata": {
    "application/vnd.databricks.v1+cell": {
     "cellMetadata": {
      "byteLimit": 2048000,
      "rowLimit": 10000
     },
     "inputWidgets": {},
     "nuid": "b1918e3e-22c1-4f69-a529-a20da0ccac6f",
     "showTitle": false,
     "tableResultSettingsMap": {},
     "title": ""
    }
   },
   "outputs": [
    {
     "output_type": "stream",
     "name": "stderr",
     "output_type": "stream",
     "text": [
      "2025/08/12 09:14:27 INFO mlflow.models.evaluation.utils.trace: Auto tracing is temporarily enabled during the model evaluation for computing some metrics and debugging. To disable tracing, call `mlflow.autolog(disable=True)`.\n2025/08/12 09:14:27 INFO mlflow.models.evaluation.evaluators.default: Computing model predictions.\n2025/08/12 09:14:32 INFO mlflow.models.evaluation.default_evaluator: Testing metrics on first row...\n2025-08-12 09:14:40.846443: I external/local_tsl/tsl/cuda/cudart_stub.cc:32] Could not find cuda drivers on your machine, GPU will not be used.\n2025-08-12 09:14:40.850814: I external/local_tsl/tsl/cuda/cudart_stub.cc:32] Could not find cuda drivers on your machine, GPU will not be used.\n2025-08-12 09:14:40.902003: I tensorflow/core/platform/cpu_feature_guard.cc:210] This TensorFlow binary is optimized to use available CPU instructions in performance-critical operations.\nTo enable the following instructions: AVX2 FMA, in other operations, rebuild TensorFlow with the appropriate compiler flags.\n2025-08-12 09:14:44.320341: W tensorflow/compiler/tf2tensorrt/utils/py_utils.cc:38] TF-TRT Warning: Could not find TensorRT\n2025/08/12 09:14:46 WARNING mlflow.metrics.metric_definitions: Failed to load 'toxicity' metric (error: FileNotFoundError(\"Couldn't find a module script at /Workspace/Users/labuser11185624_1754988112@vocareum.com/generative-ai-evaluation-and-governance-2.0.8/03 - Gen AI Evaluation Techniques/toxicity/toxicity.py. Module 'toxicity' doesn't exist on the Hugging Face Hub either.\")), skipping metric logging.\n2025/08/12 09:14:46 WARNING mlflow.models.evaluation.utils.metric: Did not log metric 'toxicity' at index 1 in the `extra_metrics` parameter because it returned None.\n2025/08/12 09:14:49 WARNING mlflow.metrics.metric_definitions: Failed to load 'rouge' metric (error: FileNotFoundError(\"Couldn't find a module script at /Workspace/Users/labuser11185624_1754988112@vocareum.com/generative-ai-evaluation-and-governance-2.0.8/03 - Gen AI Evaluation Techniques/rouge/rouge.py. Module 'rouge' doesn't exist on the Hugging Face Hub either.\")), skipping metric logging.\n2025/08/12 09:14:49 WARNING mlflow.models.evaluation.utils.metric: Did not log metric 'rouge1' at index 4 in the `extra_metrics` parameter because it returned None.\n2025/08/12 09:14:50 WARNING mlflow.metrics.metric_definitions: Failed to load 'rouge' metric (error: FileNotFoundError(\"Couldn't find a module script at /Workspace/Users/labuser11185624_1754988112@vocareum.com/generative-ai-evaluation-and-governance-2.0.8/03 - Gen AI Evaluation Techniques/rouge/rouge.py. Module 'rouge' doesn't exist on the Hugging Face Hub either.\")), skipping metric logging.\n2025/08/12 09:14:50 WARNING mlflow.models.evaluation.utils.metric: Did not log metric 'rouge2' at index 5 in the `extra_metrics` parameter because it returned None.\n2025/08/12 09:14:52 WARNING mlflow.metrics.metric_definitions: Failed to load 'rouge' metric (error: FileNotFoundError(\"Couldn't find a module script at /Workspace/Users/labuser11185624_1754988112@vocareum.com/generative-ai-evaluation-and-governance-2.0.8/03 - Gen AI Evaluation Techniques/rouge/rouge.py. Module 'rouge' doesn't exist on the Hugging Face Hub either.\")), skipping metric logging.\n2025/08/12 09:14:52 WARNING mlflow.models.evaluation.utils.metric: Did not log metric 'rougeL' at index 6 in the `extra_metrics` parameter because it returned None.\n2025/08/12 09:14:53 WARNING mlflow.metrics.metric_definitions: Failed to load 'rouge' metric (error: FileNotFoundError(\"Couldn't find a module script at /Workspace/Users/labuser11185624_1754988112@vocareum.com/generative-ai-evaluation-and-governance-2.0.8/03 - Gen AI Evaluation Techniques/rouge/rouge.py. Module 'rouge' doesn't exist on the Hugging Face Hub either.\")), skipping metric logging.\n2025/08/12 09:14:53 WARNING mlflow.models.evaluation.utils.metric: Did not log metric 'rougeLsum' at index 7 in the `extra_metrics` parameter because it returned None.\n2025/08/12 09:14:53 WARNING mlflow.metrics.metric_definitions: Failed to load 'toxicity' metric (error: FileNotFoundError(\"Couldn't find a module script at /Workspace/Users/labuser11185624_1754988112@vocareum.com/generative-ai-evaluation-and-governance-2.0.8/03 - Gen AI Evaluation Techniques/toxicity/toxicity.py. Module 'toxicity' doesn't exist on the Hugging Face Hub either.\")), skipping metric logging.\n2025/08/12 09:14:53 WARNING mlflow.models.evaluation.utils.metric: Did not log metric 'toxicity' at index 1 in the `extra_metrics` parameter because it returned None.\n2025/08/12 09:14:55 WARNING mlflow.metrics.metric_definitions: Failed to load 'rouge' metric (error: FileNotFoundError(\"Couldn't find a module script at /Workspace/Users/labuser11185624_1754988112@vocareum.com/generative-ai-evaluation-and-governance-2.0.8/03 - Gen AI Evaluation Techniques/rouge/rouge.py. Module 'rouge' doesn't exist on the Hugging Face Hub either.\")), skipping metric logging.\n2025/08/12 09:14:55 WARNING mlflow.models.evaluation.utils.metric: Did not log metric 'rouge1' at index 4 in the `extra_metrics` parameter because it returned None.\n2025/08/12 09:14:56 WARNING mlflow.metrics.metric_definitions: Failed to load 'rouge' metric (error: FileNotFoundError(\"Couldn't find a module script at /Workspace/Users/labuser11185624_1754988112@vocareum.com/generative-ai-evaluation-and-governance-2.0.8/03 - Gen AI Evaluation Techniques/rouge/rouge.py. Module 'rouge' doesn't exist on the Hugging Face Hub either.\")), skipping metric logging.\n2025/08/12 09:14:56 WARNING mlflow.models.evaluation.utils.metric: Did not log metric 'rouge2' at index 5 in the `extra_metrics` parameter because it returned None.\n2025/08/12 09:14:57 WARNING mlflow.metrics.metric_definitions: Failed to load 'rouge' metric (error: FileNotFoundError(\"Couldn't find a module script at /Workspace/Users/labuser11185624_1754988112@vocareum.com/generative-ai-evaluation-and-governance-2.0.8/03 - Gen AI Evaluation Techniques/rouge/rouge.py. Module 'rouge' doesn't exist on the Hugging Face Hub either.\")), skipping metric logging.\n2025/08/12 09:14:57 WARNING mlflow.models.evaluation.utils.metric: Did not log metric 'rougeL' at index 6 in the `extra_metrics` parameter because it returned None.\n2025/08/12 09:14:59 WARNING mlflow.metrics.metric_definitions: Failed to load 'rouge' metric (error: FileNotFoundError(\"Couldn't find a module script at /Workspace/Users/labuser11185624_1754988112@vocareum.com/generative-ai-evaluation-and-governance-2.0.8/03 - Gen AI Evaluation Techniques/rouge/rouge.py. Module 'rouge' doesn't exist on the Hugging Face Hub either.\")), skipping metric logging.\n2025/08/12 09:14:59 WARNING mlflow.models.evaluation.utils.metric: Did not log metric 'rougeLsum' at index 7 in the `extra_metrics` parameter because it returned None.\n"
     ]
    },
    {
     "output_type": "stream",
     "name": "stdout",
     "output_type": "stream",
     "text": [
      "\uD83C\uDFC3 View run crawling-kite-109 at: https://dbc-c1d36e8f-7273.cloud.databricks.com/ml/experiments/3841843043480765/runs/9a8f70a3db3b4b6eacef718501d63fa2\n\uD83E\uDDEA View experiment at: https://dbc-c1d36e8f-7273.cloud.databricks.com/ml/experiments/3841843043480765\n"
     ]
    }
   ],
   "source": [
    "\n",
    "import mlflow\n",
    "\n",
    "## MLflow's `evaluate` with a custom function\n",
    "results = mlflow.evaluate(\n",
    "    query_iteration,                      ## iterative function from above\n",
    "    eval_data,                            ## eval DF\n",
    "    targets=\"ground_truth\",               ## column with expected or \"good\" output\n",
    "    model_type=\"text-summarization\"       ## type of model or task\n",
    ")"
   ]
  },
  {
   "cell_type": "markdown",
   "metadata": {
    "application/vnd.databricks.v1+cell": {
     "cellMetadata": {},
     "inputWidgets": {},
     "nuid": "a2f2d199-d946-401a-9f92-f90ddd991e0e",
     "showTitle": false,
     "tableResultSettingsMap": {},
     "title": ""
    }
   },
   "source": [
    "### Step 2.2: Evaluate the Results\n",
    "\n",
    "Next, take a look at the results."
   ]
  },
  {
   "cell_type": "code",
   "execution_count": 0,
   "metadata": {
    "application/vnd.databricks.v1+cell": {
     "cellMetadata": {
      "byteLimit": 2048000,
      "rowLimit": 10000
     },
     "inputWidgets": {},
     "nuid": "cbc50654-d836-4d8a-8a43-00d1918f23d8",
     "showTitle": false,
     "tableResultSettingsMap": {},
     "title": ""
    }
   },
   "outputs": [
    {
     "output_type": "display_data",
     "data": {
      "application/vnd.jupyter.widget-view+json": {
       "model_id": "66b9adfc0d2f42ba91f8ae318a2a4bf5",
       "version_major": 2,
       "version_minor": 0
      },
      "text/plain": [
       "Downloading artifacts:   0%|          | 0/1 [00:00<?, ?it/s]"
      ]
     },
     "metadata": {},
     "output_type": "display_data"
    },
    {
     "output_type": "display_data",
     "data": {
      "text/html": [
       "<style scoped>\n",
       "  .table-result-container {\n",
       "    max-height: 300px;\n",
       "    overflow: auto;\n",
       "  }\n",
       "  table, th, td {\n",
       "    border: 1px solid black;\n",
       "    border-collapse: collapse;\n",
       "  }\n",
       "  th, td {\n",
       "    padding: 5px;\n",
       "  }\n",
       "  th {\n",
       "    text-align: left;\n",
       "  }\n",
       "</style><div class='table-result-container'><table class='table-result'><thead style='background-color: white'><tr><th>inputs</th><th>ground_truth</th><th>outputs</th><th>token_count</th><th>flesch_kincaid_grade_level/v1/score</th><th>ari_grade_level/v1/score</th></tr></thead><tbody><tr><td>This coffee is exceptional. Its intensely bold flavor profile is both nutty and fruity – especially with notes of plum and citrus. While the price is relatively good, I find myself needing to purchase bags too often. If this came in 16oz bags instead of just 12oz bags, I'd purchase it all the time. I highly recommend they start scaling up their bag size.</td><td>This bold, nutty, and fruity coffee is delicious, and they need to start selling it in larger bags.</td><td>I highly recommend this exceptional coffee with its intensely bold and fruity flavor profile, but I wish it came in larger bag sizes to reduce frequent purchases.</td><td>29</td><td>14.6066666667</td><td>15.7944444444</td></tr><tr><td>The moment I opened the tub of Chocolate-Covered Strawberry Delight ice cream, I was greeted by the enticing aroma of fresh strawberries and rich chocolate. The appearance of the ice cream was equally appealing, with a swirl of pink strawberry ice cream and chunks of chocolate-covered strawberries scattered throughout. The first bite did not disappoint. The strawberry ice cream was creamy and flavorful, with a natural sweetness that was not overpowering. The chocolate-covered strawberries added a satisfying crunch fruity bite.</td><td>Chocolate-Covered Strawberry Delight ice cream looks delicious with its aroma of strawberry and chocolate, and its creamy, naturally sweet taste did not disappoint.</td><td>I loved the Chocolate-Covered Strawberry Delight ice cream, which had a delicious aroma, appealing appearance, and a perfect balance of creamy strawberry ice cream and crunchy chocolate-covered strawberries.</td><td>37</td><td>17.6657142857</td><td>22.8485714286</td></tr><tr><td>Arroz Delicioso is a must-try for Mexican cuisine enthusiasts! This authentic Mexican rice, infused with a blend of tomatoes, onions, and garlic, brings a burst of flavor to any meal. Its vibrant color and delightful aroma will transport you straight to the heart of Mexico. The rice cooks evenly, resulting in separate, fluffy grains that hold their shape, making it perfect for dishes like arroz con pollo or as a side for tacos. With a cook time of just 20 minutes, Arroz Delicioso is a convenient and delicious addition to your pantry. Give it a try and elevate your Mexican food game!</td><td>Arroz Delicioso offers authentic, flavorful Mexican rice with a blend of tomatoes, onions, and garlic, cooking evenly into separate, fluffy grains in just 20 minutes, making it a convenient and delicious choice for dishes like arroz con pollo or as a side for tacos.</td><td>I highly recommend Arroz Delicioso, an authentic and delicious Mexican rice that brings a burst of flavor to any meal with its blend of tomatoes, onions, and garlic.</td><td>35</td><td>14.7157142857</td><td>15.7835714286</td></tr><tr><td>FreshCrunch salad mixes are revolutionizing the way we think about packaged salads! Each bag is packed with a vibrant blend of crisp, nutrient-rich greens, including baby spinach, arugula, and kale. The veggies are pre-washed and ready to eat, making meal prep a breeze. FreshCrunch sets itself apart with its innovative packaging that keeps the greens fresh for up to 10 days, reducing food waste and ensuring you always have a healthy option on hand. The salad mixes are versatile and pair well with various dressings and toppings. Try FreshCrunch for a convenient, delicious, and nutritious meal solution that doesn't compromise on quality or taste!</td><td>FreshCrunch salad mixes offer convenient, pre-washed, nutrient-rich greens in an innovative packaging that keeps them fresh for up to 10 days, providing a versatile, tasty, and waste-reducing healthy meal solution.</td><td>I love FreshCrunch salad mixes because they offer a convenient, delicious, and nutritious meal solution with their pre-washed and long-lasting blends of crisp greens.</td><td>32</td><td>12.945</td><td>18.63375</td></tr><tr><td>If you're a grill enthusiast like me, you know the importance of having the right tools for the job. That's why I was thrilled to get my hands on the new Click-Clack Grill Tongs. These tongs are not just any ordinary grilling utensil; they're a game-changer. First impressions matter, and the Click-Clack Grill Tongs certainly deliver. The sleek, stainless steel design exudes a professional feel, and the ergonomic handle ensures a comfortable grip even during those long grilling sessions. But what truly sets these tongs apart is their innovative 'Click-Clack' mechanism. With a simple press of a button, the tongs automatically open and close, allowing for precise control when flipping or turning your food. No more struggling with stiff, unwieldy tongs that can ruin your carefully prepared meals. The tongs also feature a scalloped edge, which provides a secure grip on everything from juicy steaks to delicate vegetables. And with their generous length, you can keep your hands safely away from the heat while still maintaining optimal control. Cleanup is a breeze thanks to the dishwasher-safe construction, and the integrated hanging loop makes storage a snap. In conclusion, the Click-Clack Grill Tongs have earned a permanent spot in my grilling arsenal. They've made my grilling experience more enjoyable and efficient, and I'm confident they'll do the same for you. So, if you're looking to up your grilling game, I highly recommend giving these tongs a try. Happy grilling!</td><td>The Click-Clack Grill Tongs are a high-quality, innovative grilling tool with a sleek design, comfortable grip, and an automatic opening/closing mechanism for precise control. These tongs have made grilling more enjoyable and efficient, and are highly recommended for anyone looking to improve their grilling experience.</td><td>I'm thrilled with the Click-Clack Grill Tongs, which have become a game-changer in my grilling experience with their innovative mechanism, ergonomic design, and ease of use.</td><td>38</td><td>14.0653846154</td><td>18.3807692308</td></tr><tr><td>As a parent, I understand the importance of providing my child with nutritious, wholesome food. That's why I was thrilled to discover Fresh 'n' Quik Baby Food, a new product that promises to deliver fresh, homemade baby food in minutes. The concept behind Fresh 'n' Quik is simple yet ingenious. The system consists of pre-portioned, organic fruit and vegetable purees that can be quickly and easily blended with breast milk, formula, or water to create a nutritious meal for your little one. The purees are made with high-quality ingredients, free from additives, preservatives, and artificial flavors, ensuring that your baby receives only the best. One of the standout features of Fresh 'n' Quik is the convenience it offers. The purees come in individual, resealable pouches that can be stored in the freezer until you're ready to use them. When it's time to feed your baby, simply pop a pouch into the Fresh 'n' Quik blender, add your liquid of choice, and blend. In less than a minute, you have a fresh, homemade meal that's ready to serve. The blender itself is compact, easy to use, and even easier to clean. The blades are removable, making it a breeze to rinse off any leftover puree. And the best part? The blender is whisper-quiet, so you don't have to worry about waking your sleeping baby while preparing their meal. But what truly sets Fresh 'n' Quik apart is the variety of flavors available. From classic combinations like apple and banana to more adventurous options like mango and kale, there's something for every palate. And because the purees are made with real fruits and vegetables, your baby is exposed to a wide range of flavors and textures, helping to cultivate a diverse and adventurous palate from an early age. In conclusion, Fresh 'n' Quik Baby Food is a game-changer for parents seeking a convenient, nutritious, and delicious option for their little ones. The system is easy to use, quick to clean, and offers a wide variety of flavors to keep your baby's taste buds excited. I highly recommend giving Fresh 'n' Quik a try – your baby (and your schedule) will thank you!</td><td>Fresh 'n' Quik Baby Food is a revolutionary product that delivers fresh, homemade baby food in minutes. With pre-portioned, organic fruit and vegetable purees, the system offers convenience, high-quality ingredients, and a wide range of flavors to cultivate a diverse palate in your little one. The blender is compact, easy to use, and whisper-quiet, making mealtime a breeze. Fresh 'n' Quik Baby Food is a must-try for parents seeking a nutritious and delicious option for their babies.</td><td>I highly recommend Fresh 'n' Quik Baby Food, a convenient and nutritious system that allows me to quickly and easily prepare healthy, homemade meals for my baby with its pre-portioned organic purees and compact blender.</td><td>45</td><td>17.6142857143</td><td>20.9657142857</td></tr></tbody></table></div>"
      ]
     },
     "metadata": {
      "application/vnd.databricks.v1+output": {
       "addedWidgets": {},
       "aggData": [],
       "aggError": "",
       "aggOverflow": false,
       "aggSchema": [],
       "aggSeriesLimitReached": false,
       "aggType": "",
       "arguments": {},
       "columnCustomDisplayInfos": {},
       "data": [
        [
         "This coffee is exceptional. Its intensely bold flavor profile is both nutty and fruity – especially with notes of plum and citrus. While the price is relatively good, I find myself needing to purchase bags too often. If this came in 16oz bags instead of just 12oz bags, I'd purchase it all the time. I highly recommend they start scaling up their bag size.",
         "This bold, nutty, and fruity coffee is delicious, and they need to start selling it in larger bags.",
         "I highly recommend this exceptional coffee with its intensely bold and fruity flavor profile, but I wish it came in larger bag sizes to reduce frequent purchases.",
         29,
         14.6066666667,
         15.7944444444
        ],
        [
         "The moment I opened the tub of Chocolate-Covered Strawberry Delight ice cream, I was greeted by the enticing aroma of fresh strawberries and rich chocolate. The appearance of the ice cream was equally appealing, with a swirl of pink strawberry ice cream and chunks of chocolate-covered strawberries scattered throughout. The first bite did not disappoint. The strawberry ice cream was creamy and flavorful, with a natural sweetness that was not overpowering. The chocolate-covered strawberries added a satisfying crunch fruity bite.",
         "Chocolate-Covered Strawberry Delight ice cream looks delicious with its aroma of strawberry and chocolate, and its creamy, naturally sweet taste did not disappoint.",
         "I loved the Chocolate-Covered Strawberry Delight ice cream, which had a delicious aroma, appealing appearance, and a perfect balance of creamy strawberry ice cream and crunchy chocolate-covered strawberries.",
         37,
         17.6657142857,
         22.8485714286
        ],
        [
         "Arroz Delicioso is a must-try for Mexican cuisine enthusiasts! This authentic Mexican rice, infused with a blend of tomatoes, onions, and garlic, brings a burst of flavor to any meal. Its vibrant color and delightful aroma will transport you straight to the heart of Mexico. The rice cooks evenly, resulting in separate, fluffy grains that hold their shape, making it perfect for dishes like arroz con pollo or as a side for tacos. With a cook time of just 20 minutes, Arroz Delicioso is a convenient and delicious addition to your pantry. Give it a try and elevate your Mexican food game!",
         "Arroz Delicioso offers authentic, flavorful Mexican rice with a blend of tomatoes, onions, and garlic, cooking evenly into separate, fluffy grains in just 20 minutes, making it a convenient and delicious choice for dishes like arroz con pollo or as a side for tacos.",
         "I highly recommend Arroz Delicioso, an authentic and delicious Mexican rice that brings a burst of flavor to any meal with its blend of tomatoes, onions, and garlic.",
         35,
         14.7157142857,
         15.7835714286
        ],
        [
         "FreshCrunch salad mixes are revolutionizing the way we think about packaged salads! Each bag is packed with a vibrant blend of crisp, nutrient-rich greens, including baby spinach, arugula, and kale. The veggies are pre-washed and ready to eat, making meal prep a breeze. FreshCrunch sets itself apart with its innovative packaging that keeps the greens fresh for up to 10 days, reducing food waste and ensuring you always have a healthy option on hand. The salad mixes are versatile and pair well with various dressings and toppings. Try FreshCrunch for a convenient, delicious, and nutritious meal solution that doesn't compromise on quality or taste!",
         "FreshCrunch salad mixes offer convenient, pre-washed, nutrient-rich greens in an innovative packaging that keeps them fresh for up to 10 days, providing a versatile, tasty, and waste-reducing healthy meal solution.",
         "I love FreshCrunch salad mixes because they offer a convenient, delicious, and nutritious meal solution with their pre-washed and long-lasting blends of crisp greens.",
         32,
         12.945,
         18.63375
        ],
        [
         "If you're a grill enthusiast like me, you know the importance of having the right tools for the job. That's why I was thrilled to get my hands on the new Click-Clack Grill Tongs. These tongs are not just any ordinary grilling utensil; they're a game-changer. First impressions matter, and the Click-Clack Grill Tongs certainly deliver. The sleek, stainless steel design exudes a professional feel, and the ergonomic handle ensures a comfortable grip even during those long grilling sessions. But what truly sets these tongs apart is their innovative 'Click-Clack' mechanism. With a simple press of a button, the tongs automatically open and close, allowing for precise control when flipping or turning your food. No more struggling with stiff, unwieldy tongs that can ruin your carefully prepared meals. The tongs also feature a scalloped edge, which provides a secure grip on everything from juicy steaks to delicate vegetables. And with their generous length, you can keep your hands safely away from the heat while still maintaining optimal control. Cleanup is a breeze thanks to the dishwasher-safe construction, and the integrated hanging loop makes storage a snap. In conclusion, the Click-Clack Grill Tongs have earned a permanent spot in my grilling arsenal. They've made my grilling experience more enjoyable and efficient, and I'm confident they'll do the same for you. So, if you're looking to up your grilling game, I highly recommend giving these tongs a try. Happy grilling!",
         "The Click-Clack Grill Tongs are a high-quality, innovative grilling tool with a sleek design, comfortable grip, and an automatic opening/closing mechanism for precise control. These tongs have made grilling more enjoyable and efficient, and are highly recommended for anyone looking to improve their grilling experience.",
         "I'm thrilled with the Click-Clack Grill Tongs, which have become a game-changer in my grilling experience with their innovative mechanism, ergonomic design, and ease of use.",
         38,
         14.0653846154,
         18.3807692308
        ],
        [
         "As a parent, I understand the importance of providing my child with nutritious, wholesome food. That's why I was thrilled to discover Fresh 'n' Quik Baby Food, a new product that promises to deliver fresh, homemade baby food in minutes. The concept behind Fresh 'n' Quik is simple yet ingenious. The system consists of pre-portioned, organic fruit and vegetable purees that can be quickly and easily blended with breast milk, formula, or water to create a nutritious meal for your little one. The purees are made with high-quality ingredients, free from additives, preservatives, and artificial flavors, ensuring that your baby receives only the best. One of the standout features of Fresh 'n' Quik is the convenience it offers. The purees come in individual, resealable pouches that can be stored in the freezer until you're ready to use them. When it's time to feed your baby, simply pop a pouch into the Fresh 'n' Quik blender, add your liquid of choice, and blend. In less than a minute, you have a fresh, homemade meal that's ready to serve. The blender itself is compact, easy to use, and even easier to clean. The blades are removable, making it a breeze to rinse off any leftover puree. And the best part? The blender is whisper-quiet, so you don't have to worry about waking your sleeping baby while preparing their meal. But what truly sets Fresh 'n' Quik apart is the variety of flavors available. From classic combinations like apple and banana to more adventurous options like mango and kale, there's something for every palate. And because the purees are made with real fruits and vegetables, your baby is exposed to a wide range of flavors and textures, helping to cultivate a diverse and adventurous palate from an early age. In conclusion, Fresh 'n' Quik Baby Food is a game-changer for parents seeking a convenient, nutritious, and delicious option for their little ones. The system is easy to use, quick to clean, and offers a wide variety of flavors to keep your baby's taste buds excited. I highly recommend giving Fresh 'n' Quik a try – your baby (and your schedule) will thank you!",
         "Fresh 'n' Quik Baby Food is a revolutionary product that delivers fresh, homemade baby food in minutes. With pre-portioned, organic fruit and vegetable purees, the system offers convenience, high-quality ingredients, and a wide range of flavors to cultivate a diverse palate in your little one. The blender is compact, easy to use, and whisper-quiet, making mealtime a breeze. Fresh 'n' Quik Baby Food is a must-try for parents seeking a nutritious and delicious option for their babies.",
         "I highly recommend Fresh 'n' Quik Baby Food, a convenient and nutritious system that allows me to quickly and easily prepare healthy, homemade meals for my baby with its pre-portioned organic purees and compact blender.",
         45,
         17.6142857143,
         20.9657142857
        ]
       ],
       "datasetInfos": [],
       "dbfsResultPath": null,
       "isJsonSchema": true,
       "metadata": {},
       "overflow": false,
       "plotOptions": {
        "customPlotOptions": {},
        "displayType": "table",
        "pivotAggregation": null,
        "pivotColumns": null,
        "xColumns": null,
        "yColumns": null
       },
       "removedWidgets": [],
       "schema": [
        {
         "metadata": "{}",
         "name": "inputs",
         "type": "\"string\""
        },
        {
         "metadata": "{}",
         "name": "ground_truth",
         "type": "\"string\""
        },
        {
         "metadata": "{}",
         "name": "outputs",
         "type": "\"string\""
        },
        {
         "metadata": "{}",
         "name": "token_count",
         "type": "\"long\""
        },
        {
         "metadata": "{}",
         "name": "flesch_kincaid_grade_level/v1/score",
         "type": "\"double\""
        },
        {
         "metadata": "{}",
         "name": "ari_grade_level/v1/score",
         "type": "\"double\""
        }
       ],
       "type": "table"
      }
     },
     "output_type": "display_data"
    }
   ],
   "source": [
    "\n",
    "display(results.tables[\"eval_results_table\"])"
   ]
  },
  {
   "cell_type": "markdown",
   "metadata": {
    "application/vnd.databricks.v1+cell": {
     "cellMetadata": {},
     "inputWidgets": {},
     "nuid": "567ce8dc-24f1-4bc4-b005-a1de839efaf2",
     "showTitle": false,
     "tableResultSettingsMap": {},
     "title": ""
    }
   },
   "source": [
    "**Question:** How do we interpret these results? What does it tell us about the summarization quality? About our LLM?\n",
    "\n",
    "Next, compute the summarized metrics to view the performance of the LLM on the entire dataset."
   ]
  },
  {
   "cell_type": "code",
   "execution_count": 0,
   "metadata": {
    "application/vnd.databricks.v1+cell": {
     "cellMetadata": {
      "byteLimit": 2048000,
      "rowLimit": 10000
     },
     "inputWidgets": {},
     "nuid": "aaebb778-e562-43a7-9c1b-13414637d2c1",
     "showTitle": false,
     "tableResultSettingsMap": {},
     "title": ""
    }
   },
   "outputs": [
    {
     "output_type": "execute_result",
     "data": {
      "text/plain": [
       "{'flesch_kincaid_grade_level/v1/mean': 15.268794261294262,\n",
       " 'flesch_kincaid_grade_level/v1/variance': 3.139846785861506,\n",
       " 'flesch_kincaid_grade_level/v1/p90': 17.64,\n",
       " 'ari_grade_level/v1/mean': 18.734470136345134,\n",
       " 'ari_grade_level/v1/variance': 6.565180504306558,\n",
       " 'ari_grade_level/v1/p90': 21.907142857142855}"
      ]
     },
     "execution_count": 16,
     "metadata": {},
     "output_type": "execute_result"
    }
   ],
   "source": [
    "results.metrics"
   ]
  },
  {
   "cell_type": "markdown",
   "metadata": {
    "application/vnd.databricks.v1+cell": {
     "cellMetadata": {},
     "inputWidgets": {},
     "nuid": "c0b935d3-6c0d-45f6-8550-686da5e67739",
     "showTitle": false,
     "tableResultSettingsMap": {},
     "title": ""
    }
   },
   "source": [
    "**Bonus:** Take a look at the results in the Experiment Tracking UI.\n",
    "\n",
    "Do you see any summaries that you think are particularly good or problematic?"
   ]
  },
  {
   "cell_type": "markdown",
   "metadata": {
    "application/vnd.databricks.v1+cell": {
     "cellMetadata": {},
     "inputWidgets": {},
     "nuid": "ec9a8113-b722-48c0-93eb-e2569a9d3dc3",
     "showTitle": false,
     "tableResultSettingsMap": {},
     "title": ""
    }
   },
   "source": [
    "## Task 3: Use an LLM-as-a-Judge Approach to Evaluate Custom Metrics\n",
    "\n",
    "In this task, you will define and evaluate a custom metric called \"professionalism\" using an LLM-as-a-Judge approach. The goal is to assess how professionally written the summaries generated by the language model are, based on a set of predefined criteria.\n"
   ]
  },
  {
   "cell_type": "markdown",
   "metadata": {
    "application/vnd.databricks.v1+cell": {
     "cellMetadata": {},
     "inputWidgets": {},
     "nuid": "078e4d4d-840b-4e73-9351-791e56213ffd",
     "showTitle": false,
     "tableResultSettingsMap": {},
     "title": ""
    }
   },
   "source": [
    "### Step 3.1: Define a Humor Metric\n",
    "\n",
    "- Define humor and create a grading prompt.\n",
    "\n",
    "  **To Do:**\n",
    "\n",
    "  For this task, you are provided with an initial example of humor (humor_example_score_1). Your task is to generate another evaluation example (humor_example_score_2). \n",
    "\n",
    "  **Hint:** You can use AI Playground for this. Ensure that the generated example is relevant to the prompt and reflects a different humor score. Manually verify the generated example to ensure its correctness.\n"
   ]
  },
  {
   "cell_type": "code",
   "execution_count": 0,
   "metadata": {
    "application/vnd.databricks.v1+cell": {
     "cellMetadata": {
      "byteLimit": 2048000,
      "rowLimit": 10000
     },
     "inputWidgets": {},
     "nuid": "8c885a1e-4c48-41fb-9331-3fa47aa79c97",
     "showTitle": false,
     "tableResultSettingsMap": {},
     "title": ""
    }
   },
   "outputs": [],
   "source": [
    "## Define an evaluation example for humor with a score of 2\n",
    "humor_example_score_1 = mlflow.metrics.genai.EvaluationExample(\n",
    "    input=\"Tell me a joke!\",  \n",
    "    output=(\n",
    "        \"Why don't scientists trust atoms? Because they make up everything!\"  \n",
    "    ),\n",
    "    score=2,  ## Humor score assigned to the output\n",
    "    justification=(\n",
    "        \"The joke uses a common pun and is somewhat humorous, but it may not elicit strong laughter or amusement from everyone.\"  ## Justification for the assigned score\n",
    "    ),\n",
    ")\n",
    "\n",
    "## Define another evaluation example for humor with a score of 4\n",
    "humor_example_score_2 = mlflow.metrics.genai.EvaluationExample(\n",
    "    input=\"Tell me a joke!\",  \n",
    "    output=(\n",
    "        \"I told my wife she was drawing her eyebrows too high. She looked surprised!\"  \n",
    "    ),\n",
    "    score=4,  ## Humor score assigned to the output\n",
    "    justification=(\n",
    "        \"The joke is clever and unexpected, resulting in genuine amusement and laughter. It demonstrates wit and creativity, making it highly enjoyable.\"  ## Justification for the assigned score\n",
    "    ),\n",
    ")"
   ]
  },
  {
   "cell_type": "markdown",
   "metadata": {
    "application/vnd.databricks.v1+cell": {
     "cellMetadata": {},
     "inputWidgets": {},
     "nuid": "1493a957-3668-4a08-aaf2-fd5a22e66258",
     "showTitle": false,
     "tableResultSettingsMap": {},
     "title": ""
    }
   },
   "source": [
    "### Step 3.2: LLM-as-a-Judge to Compare Metric\n",
    "\n",
    "* **3.2.1:  Create a metric for comparing the responses for humor**\n",
    "\n",
    "  Define a custom metric to evaluate the humor in generated responses. This metric will assess the level of humor present in the responses generated by the language model."
   ]
  },
  {
   "cell_type": "code",
   "execution_count": 0,
   "metadata": {
    "application/vnd.databricks.v1+cell": {
     "cellMetadata": {
      "byteLimit": 2048000,
      "rowLimit": 10000
     },
     "inputWidgets": {},
     "nuid": "d295b8f0-0ac9-4697-b291-b36d476dca48",
     "showTitle": false,
     "tableResultSettingsMap": {},
     "title": ""
    }
   },
   "outputs": [],
   "source": [
    "## Define the metric for the evaluation\n",
    "comparison_humor_metric = mlflow.metrics.genai.make_genai_metric(\n",
    "    name=\"comparison_humor\",\n",
    "    definition=(\n",
    "        \"Humor refers to the ability to evoke laughter, amusement, or enjoyment through cleverness, wit, or unexpected twists.\"\n",
    "    ),\n",
    "    grading_prompt=(\n",
    "        \"Humor: If the response is funny and induces laughter or amusement, below are the details for different scores: \"\n",
    "        \"- Score 1: The response attempts humor but falls flat, eliciting little to no laughter or amusement.\"\n",
    "        \"- Score 2: The response is somewhat humorous, eliciting mild laughter or amusement from some individuals.\"\n",
    "        \"- Score 3: The response is moderately funny, eliciting genuine laughter or amusement from most individuals.\"\n",
    "        \"- Score 4: The response is highly humorous, eliciting strong laughter or amusement from nearly everyone.\"\n",
    "        \"- Score 5: The response is exceptionally funny, resulting in uncontrollable laughter or intense enjoyment.\"\n",
    "    ),\n",
    "    ## Examples for humor\n",
    "    examples=[\n",
    "        humor_example_score_1, \n",
    "        humor_example_score_2\n",
    "    ],\n",
    "    model=\"endpoints:/databricks-meta-llama-3-3-70b-instruct\",\n",
    "    parameters={\"temperature\": 0.0},\n",
    "    aggregations=[\"mean\", \"variance\"],\n",
    "    greater_is_better=True,\n",
    ")"
   ]
  },
  {
   "cell_type": "markdown",
   "metadata": {
    "application/vnd.databricks.v1+cell": {
     "cellMetadata": {},
     "inputWidgets": {},
     "nuid": "2320d58c-888f-47e6-8719-ee20db87504d",
     "showTitle": false,
     "tableResultSettingsMap": {},
     "title": ""
    }
   },
   "source": [
    "* **3.2.2: Generate data with varying humor levels**\n",
    "\n",
    "  Add input prompts and corresponding output responses with different levels of humor. \n",
    "  \n",
    "  **Hint:** You can utilize AI playgrounds to generate these values."
   ]
  },
  {
   "cell_type": "code",
   "execution_count": 0,
   "metadata": {
    "application/vnd.databricks.v1+cell": {
     "cellMetadata": {
      "byteLimit": 2048000,
      "rowLimit": 10000
     },
     "inputWidgets": {},
     "nuid": "0e49fea1-ea05-4ae0-8805-6323fc1e4cc5",
     "showTitle": false,
     "tableResultSettingsMap": {},
     "title": ""
    }
   },
   "outputs": [],
   "source": [
    "## Define testing data with different humor scores for comparison\n",
    "humor_data = pd.DataFrame(\n",
    "    {\n",
    "        \"inputs\": [\n",
    "            \"Tell me a joke about pandas.\",\n",
    "            \"What's a programmer's favorite place to hang out?\",\n",
    "            \"Why don't scientists trust atoms?\",\n",
    "            \"Why did the scarecrow win an award?\"\n",
    "        ],\n",
    "        \"ground_truth\": [\n",
    "            \"Why did the pandas break up? Because they couldn't bamboo-zle their problems away!\",\n",
    "            \"The Foo Bar!\",\n",
    "            \"Because they make up everything!\",\n",
    "            \"Because he was outstanding in his field!\"\n",
    "        ],\n",
    "    }\n",
    ")"
   ]
  },
  {
   "cell_type": "markdown",
   "metadata": {
    "application/vnd.databricks.v1+cell": {
     "cellMetadata": {},
     "inputWidgets": {},
     "nuid": "fbdd91b4-ca70-49a7-a5d1-b7cd751cc5ad",
     "showTitle": false,
     "tableResultSettingsMap": {},
     "title": ""
    }
   },
   "source": [
    "* **3.2.3: Evaluate the Comparison**\n",
    "\n",
    "  Next, evaluate the comparison between the responses generated by the language model. This evaluation will provide you with a metric for assessing the professionalism of the generated summaries based on predefined criteria.\n"
   ]
  },
  {
   "cell_type": "code",
   "execution_count": 0,
   "metadata": {
    "application/vnd.databricks.v1+cell": {
     "cellMetadata": {
      "byteLimit": 2048000,
      "rowLimit": 10000
     },
     "inputWidgets": {},
     "nuid": "04713b1a-8a8e-4aef-a5a4-cd66925dacb7",
     "showTitle": false,
     "tableResultSettingsMap": {},
     "title": ""
    }
   },
   "outputs": [
    {
     "output_type": "stream",
     "name": "stderr",
     "output_type": "stream",
     "text": [
      "2025/08/12 09:18:10 INFO mlflow.models.evaluation.evaluators.default: Computing model predictions.\n2025/08/12 09:18:14 INFO mlflow.models.evaluation.default_evaluator: Testing metrics on first row...\n2025/08/12 09:18:15 WARNING mlflow.metrics.metric_definitions: Failed to load 'toxicity' metric (error: FileNotFoundError(\"Couldn't find a module script at /Workspace/Users/labuser11185624_1754988112@vocareum.com/generative-ai-evaluation-and-governance-2.0.8/03 - Gen AI Evaluation Techniques/toxicity/toxicity.py. Module 'toxicity' doesn't exist on the Hugging Face Hub either.\")), skipping metric logging.\n2025/08/12 09:18:15 WARNING mlflow.models.evaluation.utils.metric: Did not log metric 'toxicity' at index 1 in the `extra_metrics` parameter because it returned None.\n2025/08/12 09:18:16 WARNING mlflow.metrics.metric_definitions: Failed to load 'rouge' metric (error: FileNotFoundError(\"Couldn't find a module script at /Workspace/Users/labuser11185624_1754988112@vocareum.com/generative-ai-evaluation-and-governance-2.0.8/03 - Gen AI Evaluation Techniques/rouge/rouge.py. Module 'rouge' doesn't exist on the Hugging Face Hub either.\")), skipping metric logging.\n2025/08/12 09:18:16 WARNING mlflow.models.evaluation.utils.metric: Did not log metric 'rouge1' at index 4 in the `extra_metrics` parameter because it returned None.\n2025/08/12 09:18:17 WARNING mlflow.metrics.metric_definitions: Failed to load 'rouge' metric (error: FileNotFoundError(\"Couldn't find a module script at /Workspace/Users/labuser11185624_1754988112@vocareum.com/generative-ai-evaluation-and-governance-2.0.8/03 - Gen AI Evaluation Techniques/rouge/rouge.py. Module 'rouge' doesn't exist on the Hugging Face Hub either.\")), skipping metric logging.\n2025/08/12 09:18:17 WARNING mlflow.models.evaluation.utils.metric: Did not log metric 'rouge2' at index 5 in the `extra_metrics` parameter because it returned None.\n2025/08/12 09:18:19 WARNING mlflow.metrics.metric_definitions: Failed to load 'rouge' metric (error: FileNotFoundError(\"Couldn't find a module script at /Workspace/Users/labuser11185624_1754988112@vocareum.com/generative-ai-evaluation-and-governance-2.0.8/03 - Gen AI Evaluation Techniques/rouge/rouge.py. Module 'rouge' doesn't exist on the Hugging Face Hub either.\")), skipping metric logging.\n2025/08/12 09:18:19 WARNING mlflow.models.evaluation.utils.metric: Did not log metric 'rougeL' at index 6 in the `extra_metrics` parameter because it returned None.\n2025/08/12 09:18:20 WARNING mlflow.metrics.metric_definitions: Failed to load 'rouge' metric (error: FileNotFoundError(\"Couldn't find a module script at /Workspace/Users/labuser11185624_1754988112@vocareum.com/generative-ai-evaluation-and-governance-2.0.8/03 - Gen AI Evaluation Techniques/rouge/rouge.py. Module 'rouge' doesn't exist on the Hugging Face Hub either.\")), skipping metric logging.\n2025/08/12 09:18:20 WARNING mlflow.models.evaluation.utils.metric: Did not log metric 'rougeLsum' at index 7 in the `extra_metrics` parameter because it returned None.\n"
     ]
    },
    {
     "output_type": "display_data",
     "data": {
      "application/vnd.jupyter.widget-view+json": {
       "model_id": "21785a770e03412bbab3b7fa78434589",
       "version_major": 2,
       "version_minor": 0
      },
      "text/plain": [
       "  0%|          | 0/1 [00:00<?, ?it/s]"
      ]
     },
     "metadata": {},
     "output_type": "display_data"
    },
    {
     "output_type": "stream",
     "name": "stderr",
     "output_type": "stream",
     "text": [
      "2025/08/12 09:18:21 WARNING mlflow.metrics.metric_definitions: Failed to load 'toxicity' metric (error: FileNotFoundError(\"Couldn't find a module script at /Workspace/Users/labuser11185624_1754988112@vocareum.com/generative-ai-evaluation-and-governance-2.0.8/03 - Gen AI Evaluation Techniques/toxicity/toxicity.py. Module 'toxicity' doesn't exist on the Hugging Face Hub either.\")), skipping metric logging.\n2025/08/12 09:18:21 WARNING mlflow.models.evaluation.utils.metric: Did not log metric 'toxicity' at index 1 in the `extra_metrics` parameter because it returned None.\n2025/08/12 09:18:23 WARNING mlflow.metrics.metric_definitions: Failed to load 'rouge' metric (error: FileNotFoundError(\"Couldn't find a module script at /Workspace/Users/labuser11185624_1754988112@vocareum.com/generative-ai-evaluation-and-governance-2.0.8/03 - Gen AI Evaluation Techniques/rouge/rouge.py. Module 'rouge' doesn't exist on the Hugging Face Hub either.\")), skipping metric logging.\n2025/08/12 09:18:23 WARNING mlflow.models.evaluation.utils.metric: Did not log metric 'rouge1' at index 4 in the `extra_metrics` parameter because it returned None.\n2025/08/12 09:18:24 WARNING mlflow.metrics.metric_definitions: Failed to load 'rouge' metric (error: FileNotFoundError(\"Couldn't find a module script at /Workspace/Users/labuser11185624_1754988112@vocareum.com/generative-ai-evaluation-and-governance-2.0.8/03 - Gen AI Evaluation Techniques/rouge/rouge.py. Module 'rouge' doesn't exist on the Hugging Face Hub either.\")), skipping metric logging.\n2025/08/12 09:18:24 WARNING mlflow.models.evaluation.utils.metric: Did not log metric 'rouge2' at index 5 in the `extra_metrics` parameter because it returned None.\n2025/08/12 09:18:25 WARNING mlflow.metrics.metric_definitions: Failed to load 'rouge' metric (error: FileNotFoundError(\"Couldn't find a module script at /Workspace/Users/labuser11185624_1754988112@vocareum.com/generative-ai-evaluation-and-governance-2.0.8/03 - Gen AI Evaluation Techniques/rouge/rouge.py. Module 'rouge' doesn't exist on the Hugging Face Hub either.\")), skipping metric logging.\n2025/08/12 09:18:25 WARNING mlflow.models.evaluation.utils.metric: Did not log metric 'rougeL' at index 6 in the `extra_metrics` parameter because it returned None.\n2025/08/12 09:18:27 WARNING mlflow.metrics.metric_definitions: Failed to load 'rouge' metric (error: FileNotFoundError(\"Couldn't find a module script at /Workspace/Users/labuser11185624_1754988112@vocareum.com/generative-ai-evaluation-and-governance-2.0.8/03 - Gen AI Evaluation Techniques/rouge/rouge.py. Module 'rouge' doesn't exist on the Hugging Face Hub either.\")), skipping metric logging.\n2025/08/12 09:18:27 WARNING mlflow.models.evaluation.utils.metric: Did not log metric 'rougeLsum' at index 7 in the `extra_metrics` parameter because it returned None.\n"
     ]
    },
    {
     "output_type": "display_data",
     "data": {
      "application/vnd.jupyter.widget-view+json": {
       "model_id": "e5e9f943264647bcbb64d8437afbbc57",
       "version_major": 2,
       "version_minor": 0
      },
      "text/plain": [
       "  0%|          | 0/4 [00:00<?, ?it/s]"
      ]
     },
     "metadata": {},
     "output_type": "display_data"
    },
    {
     "output_type": "stream",
     "name": "stdout",
     "output_type": "stream",
     "text": [
      "\uD83C\uDFC3 View run calm-snake-882 at: https://dbc-c1d36e8f-7273.cloud.databricks.com/ml/experiments/3841843043480765/runs/d9ef9cbcee2448b595e673ebd945f3e7\n\uD83E\uDDEA View experiment at: https://dbc-c1d36e8f-7273.cloud.databricks.com/ml/experiments/3841843043480765\n"
     ]
    }
   ],
   "source": [
    "benchmark_comparison_results = mlflow.evaluate(\n",
    "    model=\"endpoints:/databricks-meta-llama-3-3-70b-instruct\",  ## Model used for evaluation\n",
    "    data=humor_data,                               ## Data for evaluation\n",
    "    targets=\"ground_truth\",                       ## Column with the ground truth data\n",
    "    model_type=\"text-summarization\",              ## Type of model or task\n",
    "    extra_metrics=[comparison_humor_metric],  ## Custom metric for evaluating professionalism\n",
    ")"
   ]
  },
  {
   "cell_type": "markdown",
   "metadata": {
    "application/vnd.databricks.v1+cell": {
     "cellMetadata": {},
     "inputWidgets": {},
     "nuid": "b04a6c2b-163f-42d9-aa36-88ac4b440207",
     "showTitle": false,
     "tableResultSettingsMap": {},
     "title": ""
    }
   },
   "source": [
    "* **3.2.4: View Comparison Results**\n",
    "\n",
    "  Now, let's take a look at the results of the comparison between the responses generated by the language model. This comparison provides insights into the professionalism of the generated summaries based on the predefined criteria.\n"
   ]
  },
  {
   "cell_type": "code",
   "execution_count": 0,
   "metadata": {
    "application/vnd.databricks.v1+cell": {
     "cellMetadata": {
      "byteLimit": 2048000,
      "rowLimit": 10000
     },
     "inputWidgets": {},
     "nuid": "ba6eca27-d1f7-4d44-9bae-8ed43d41256d",
     "showTitle": false,
     "tableResultSettingsMap": {},
     "title": ""
    }
   },
   "outputs": [
    {
     "output_type": "display_data",
     "data": {
      "application/vnd.jupyter.widget-view+json": {
       "model_id": "556fa27ed74f426ebe090819232596b3",
       "version_major": 2,
       "version_minor": 0
      },
      "text/plain": [
       "Downloading artifacts:   0%|          | 0/1 [00:00<?, ?it/s]"
      ]
     },
     "metadata": {},
     "output_type": "display_data"
    },
    {
     "output_type": "display_data",
     "data": {
      "application/vnd.jupyter.widget-view+json": {
       "model_id": "e12a269800354ff8966b08f96b3b0deb",
       "version_major": 2,
       "version_minor": 0
      },
      "text/plain": [
       "Downloading artifacts:   0%|          | 0/1 [00:00<?, ?it/s]"
      ]
     },
     "metadata": {},
     "output_type": "display_data"
    },
    {
     "output_type": "display_data",
     "data": {
      "text/html": [
       "<style scoped>\n",
       "  .table-result-container {\n",
       "    max-height: 300px;\n",
       "    overflow: auto;\n",
       "  }\n",
       "  table, th, td {\n",
       "    border: 1px solid black;\n",
       "    border-collapse: collapse;\n",
       "  }\n",
       "  th, td {\n",
       "    padding: 5px;\n",
       "  }\n",
       "  th {\n",
       "    text-align: left;\n",
       "  }\n",
       "</style><div class='table-result-container'><table class='table-result'><thead style='background-color: white'><tr><th>inputs</th><th>ground_truth</th><th>outputs</th><th>token_count</th><th>flesch_kincaid_grade_level/v1/score</th><th>ari_grade_level/v1/score</th><th>comparison_humor/v1/score</th><th>comparison_humor/v1/justification</th></tr></thead><tbody><tr><td>Tell me a joke about pandas.</td><td>Why did the pandas break up? Because they couldn't bamboo-zle their problems away!</td><td>Why did the panda go to the party?\n",
       "\n",
       "Because it was a paws-itively good time and it wanted to bear-ly have some fun! (get it?)</td><td>34</td><td>4.389</td><td>3.66</td><td>4</td><td>The joke about the panda is clever and uses wordplay with \"paws-itively\" and \"bear-ly\", which is likely to elicit genuine laughter or amusement from most individuals, demonstrating a good level of wit and creativity, making it highly enjoyable.</td></tr><tr><td>What's a programmer's favorite place to hang out?</td><td>The Foo Bar!</td><td>I sense a pun coming!\n",
       "\n",
       "Is the answer... \"The Stack Overflow\"?</td><td>15</td><td>1.9309090909000002</td><td>1.8124242424</td><td>4</td><td>The response is highly humorous as it not only recognizes the incoming pun but also plays along with it, adding an extra layer of cleverness by referencing \"The Stack Overflow\", a well-known platform for programmers, thus eliciting strong laughter or amusement from nearly everyone.</td></tr><tr><td>Why don't scientists trust atoms?</td><td>Because they make up everything!</td><td>That's a clever joke! Scientists actually do trust atoms, as they are the fundamental building blocks of matter and are governed by well-understood physical laws. Atoms are the smallest units of a chemical element, and they are the foundation of chemistry and physics.\n",
       "\n",
       "In fact, scientists have developed a vast understanding of atomic structure, behavior, and interactions through extensive research and experimentation. The atomic model, which describes the arrangement of protons, neutrons, and electrons within an atom, is a cornerstone of modern physics and chemistry.\n",
       "\n",
       "So, to answer your question, scientists do trust atoms, and they are a fundamental part of our understanding of the natural world!</td><td>131</td><td>12.4285514019</td><td>13.7658255452</td><td>1</td><td>The response does not attempt to be humorous, instead providing a serious and informative answer to the question, and therefore does not elicit any laughter or amusement.</td></tr><tr><td>Why did the scarecrow win an award?</td><td>Because he was outstanding in his field!</td><td>The answer is: \"Because he was outstanding in his field!\" (get it?)</td><td>17</td><td>4.8233333333</td><td>6.55</td><td>4</td><td>The response is a classic play on words, using the phrase \"outstanding in his field\" in a literal and figurative sense, which is clever and unexpected, resulting in genuine amusement and laughter, making it highly enjoyable and humorous.</td></tr></tbody></table></div>"
      ]
     },
     "metadata": {
      "application/vnd.databricks.v1+output": {
       "addedWidgets": {},
       "aggData": [],
       "aggError": "",
       "aggOverflow": false,
       "aggSchema": [],
       "aggSeriesLimitReached": false,
       "aggType": "",
       "arguments": {},
       "columnCustomDisplayInfos": {},
       "data": [
        [
         "Tell me a joke about pandas.",
         "Why did the pandas break up? Because they couldn't bamboo-zle their problems away!",
         "Why did the panda go to the party?\n\nBecause it was a paws-itively good time and it wanted to bear-ly have some fun! (get it?)",
         34,
         4.389,
         3.66,
         4,
         "The joke about the panda is clever and uses wordplay with \"paws-itively\" and \"bear-ly\", which is likely to elicit genuine laughter or amusement from most individuals, demonstrating a good level of wit and creativity, making it highly enjoyable."
        ],
        [
         "What's a programmer's favorite place to hang out?",
         "The Foo Bar!",
         "I sense a pun coming!\n\nIs the answer... \"The Stack Overflow\"?",
         15,
         1.9309090909000002,
         1.8124242424,
         4,
         "The response is highly humorous as it not only recognizes the incoming pun but also plays along with it, adding an extra layer of cleverness by referencing \"The Stack Overflow\", a well-known platform for programmers, thus eliciting strong laughter or amusement from nearly everyone."
        ],
        [
         "Why don't scientists trust atoms?",
         "Because they make up everything!",
         "That's a clever joke! Scientists actually do trust atoms, as they are the fundamental building blocks of matter and are governed by well-understood physical laws. Atoms are the smallest units of a chemical element, and they are the foundation of chemistry and physics.\n\nIn fact, scientists have developed a vast understanding of atomic structure, behavior, and interactions through extensive research and experimentation. The atomic model, which describes the arrangement of protons, neutrons, and electrons within an atom, is a cornerstone of modern physics and chemistry.\n\nSo, to answer your question, scientists do trust atoms, and they are a fundamental part of our understanding of the natural world!",
         131,
         12.4285514019,
         13.7658255452,
         1,
         "The response does not attempt to be humorous, instead providing a serious and informative answer to the question, and therefore does not elicit any laughter or amusement."
        ],
        [
         "Why did the scarecrow win an award?",
         "Because he was outstanding in his field!",
         "The answer is: \"Because he was outstanding in his field!\" (get it?)",
         17,
         4.8233333333,
         6.55,
         4,
         "The response is a classic play on words, using the phrase \"outstanding in his field\" in a literal and figurative sense, which is clever and unexpected, resulting in genuine amusement and laughter, making it highly enjoyable and humorous."
        ]
       ],
       "datasetInfos": [],
       "dbfsResultPath": null,
       "isJsonSchema": true,
       "metadata": {},
       "overflow": false,
       "plotOptions": {
        "customPlotOptions": {},
        "displayType": "table",
        "pivotAggregation": null,
        "pivotColumns": null,
        "xColumns": null,
        "yColumns": null
       },
       "removedWidgets": [],
       "schema": [
        {
         "metadata": "{}",
         "name": "inputs",
         "type": "\"string\""
        },
        {
         "metadata": "{}",
         "name": "ground_truth",
         "type": "\"string\""
        },
        {
         "metadata": "{}",
         "name": "outputs",
         "type": "\"string\""
        },
        {
         "metadata": "{}",
         "name": "token_count",
         "type": "\"long\""
        },
        {
         "metadata": "{}",
         "name": "flesch_kincaid_grade_level/v1/score",
         "type": "\"double\""
        },
        {
         "metadata": "{}",
         "name": "ari_grade_level/v1/score",
         "type": "\"double\""
        },
        {
         "metadata": "{}",
         "name": "comparison_humor/v1/score",
         "type": "\"long\""
        },
        {
         "metadata": "{}",
         "name": "comparison_humor/v1/justification",
         "type": "\"string\""
        }
       ],
       "type": "table"
      }
     },
     "output_type": "display_data"
    }
   ],
   "source": [
    "display(benchmark_comparison_results.tables[\"eval_results_table\"])"
   ]
  },
  {
   "cell_type": "markdown",
   "metadata": {
    "application/vnd.databricks.v1+cell": {
     "cellMetadata": {},
     "inputWidgets": {},
     "nuid": "19615a41-0c84-4757-b723-b62dfff3bd93",
     "showTitle": false,
     "tableResultSettingsMap": {},
     "title": ""
    }
   },
   "source": [
    "\n",
    "## Conclusion\n",
    "\n",
    "This lab provided a hands-on experience in creating and evaluating a custom benchmark dataset, computing task-specific evaluation metrics, and leveraging an LLM-as-a-Judge approach to assess custom metrics. These techniques are essential for evaluating the performance of AI systems in domain-specific tasks and ensuring their effectiveness in real-world applications."
   ]
  },
  {
   "cell_type": "markdown",
   "metadata": {
    "application/vnd.databricks.v1+cell": {
     "cellMetadata": {},
     "inputWidgets": {},
     "nuid": "96ef7471-60ba-498a-a035-fd7f69d502b1",
     "showTitle": false,
     "tableResultSettingsMap": {},
     "title": ""
    }
   },
   "source": [
    "\n",
    "&copy; 2025 Databricks, Inc. All rights reserved. Apache, Apache Spark, Spark, the Spark Logo, Apache Iceberg, Iceberg, and the Apache Iceberg logo are trademarks of the <a href=\"https://www.apache.org/\" target=\"blank\">Apache Software Foundation</a>.<br/>\n",
    "<br/><a href=\"https://databricks.com/privacy-policy\" target=\"blank\">Privacy Policy</a> | \n",
    "<a href=\"https://databricks.com/terms-of-use\" target=\"blank\">Terms of Use</a> | \n",
    "<a href=\"https://help.databricks.com/\" target=\"blank\">Support</a>"
   ]
  }
 ],
 "metadata": {
  "application/vnd.databricks.v1+notebook": {
   "computePreferences": null,
   "dashboards": [],
   "environmentMetadata": null,
   "inputWidgetPreferences": null,
   "language": "python",
   "notebookMetadata": {
    "pythonIndentUnit": 4
   },
   "notebookName": "3.LAB - Domain-Specific Evaluation",
   "widgets": {}
  },
  "language_info": {
   "name": "python"
  }
 },
 "nbformat": 4,
 "nbformat_minor": 0
}