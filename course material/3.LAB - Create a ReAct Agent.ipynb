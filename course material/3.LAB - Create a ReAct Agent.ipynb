{
 "cells": [
  {
   "cell_type": "markdown",
   "metadata": {
    "application/vnd.databricks.v1+cell": {
     "cellMetadata": {},
     "inputWidgets": {},
     "nuid": "5e63cf17-b09d-4b9c-94df-9ed85df7c1c0",
     "showTitle": false,
     "tableResultSettingsMap": {},
     "title": ""
    }
   },
   "source": [
    "\n",
    "<div style=\"text-align: center; line-height: 0; padding-top: 9px;\">\n",
    "  <img src=\"https://databricks.com/wp-content/uploads/2018/03/db-academy-rgb-1200px.png\" alt=\"Databricks Learning\">\n",
    "</div>\n"
   ]
  },
  {
   "cell_type": "markdown",
   "metadata": {
    "application/vnd.databricks.v1+cell": {
     "cellMetadata": {},
     "inputWidgets": {},
     "nuid": "eee73341-5e3f-41f6-a202-0016710156e5",
     "showTitle": false,
     "tableResultSettingsMap": {},
     "title": ""
    }
   },
   "source": [
    "\n",
    "# LAB - Create a ReAct Agent\n",
    "\n",
    "In this lab, we will create a virtual stock advisor agent that uses the **ReAct** prompting framework. This agent will reason and act based on the prompts and tools provided.\n",
    "\n",
    "Of course, the agent is built for demonstration purposes and the answers shouldn't be used as investment advice!\n",
    "\n",
    "\n",
    "**Lab Outline:**\n",
    "\n",
    "In this lab, you will need to complete the following tasks;\n",
    "\n",
    "* **Task 1 :** Define the agent brain\n",
    "\n",
    "* **Task 2 :** Define the agent tools\n",
    "\n",
    "* **Task 3 :** Define an agent logic\n",
    "\n",
    "* **Task 4 :** Create the agent \n",
    "\n",
    "* **Task 5 :** Run the agent\n",
    "\n",
    "**\uD83D\uDCDD Your task:** Complete the **`<FILL_IN>`** sections in the code blocks and follow the other steps as instructed."
   ]
  },
  {
   "cell_type": "markdown",
   "metadata": {
    "application/vnd.databricks.v1+cell": {
     "cellMetadata": {},
     "inputWidgets": {},
     "nuid": "5769cc2c-f6ab-4df6-8d36-4947d4f95978",
     "showTitle": false,
     "tableResultSettingsMap": {},
     "title": ""
    }
   },
   "source": [
    "## REQUIRED - SELECT CLASSIC COMPUTE\n",
    "Before executing cells in this notebook, please select your classic compute cluster in the lab. Be aware that **Serverless** is enabled by default.\n",
    "\n",
    "Follow these steps to select the classic compute cluster:\n",
    "1. Navigate to the top-right of this notebook and click the drop-down menu to select your cluster. By default, the notebook will use **Serverless**.\n",
    "\n",
    "2. If your cluster is available, select it and continue to the next cell. If the cluster is not shown:\n",
    "\n",
    "   - Click **More** in the drop-down.\n",
    "   \n",
    "   - In the **Attach to an existing compute resource** window, use the first drop-down to select your unique cluster.\n",
    "\n",
    "**NOTE:** If your cluster has terminated, you might need to restart it in order to select it. To do this:\n",
    "\n",
    "1. Right-click on **Compute** in the left navigation pane and select *Open in new tab*.\n",
    "\n",
    "2. Find the triangle icon to the right of your compute cluster name and click it.\n",
    "\n",
    "3. Wait a few minutes for the cluster to start.\n",
    "\n",
    "4. Once the cluster is running, complete the steps above to select your cluster."
   ]
  },
  {
   "cell_type": "markdown",
   "metadata": {
    "application/vnd.databricks.v1+cell": {
     "cellMetadata": {},
     "inputWidgets": {},
     "nuid": "815b9209-b3b9-4dec-a44c-22a3cd2f06c7",
     "showTitle": false,
     "tableResultSettingsMap": {},
     "title": ""
    }
   },
   "source": [
    "## Requirements\n",
    "\n",
    "Please review the following requirements before starting the lesson:\n",
    "\n",
    "* To run this notebook, you need to use one of the following Databricks runtime(s): **15.4.x-cpu-ml-scala2.12**"
   ]
  },
  {
   "cell_type": "markdown",
   "metadata": {
    "application/vnd.databricks.v1+cell": {
     "cellMetadata": {},
     "inputWidgets": {},
     "nuid": "4788bede-e671-4009-8428-231cea8f643c",
     "showTitle": false,
     "tableResultSettingsMap": {},
     "title": ""
    }
   },
   "source": [
    "\n",
    "## Classroom Setup\n",
    "\n",
    "Before starting the lab, run the provided classroom setup scripts. These scripts will install the required libraries and configure variables which are needed for the lab."
   ]
  },
  {
   "cell_type": "code",
   "execution_count": 0,
   "metadata": {
    "application/vnd.databricks.v1+cell": {
     "cellMetadata": {
      "byteLimit": 2048000,
      "rowLimit": 10000
     },
     "inputWidgets": {},
     "nuid": "ac198fb3-7671-4d72-875b-781fb0755c2c",
     "showTitle": false,
     "tableResultSettingsMap": {},
     "title": ""
    }
   },
   "outputs": [
    {
     "output_type": "stream",
     "name": "stdout",
     "output_type": "stream",
     "text": [
      "\u001B[31mERROR: pip's dependency resolver does not currently take into account all the packages that are installed. This behaviour is the source of the following dependency conflicts.\npetastorm 0.12.1 requires pyspark>=2.1.0, which is not installed.\njupyter-server 1.23.4 requires anyio<4,>=3.1.0, but you have anyio 4.10.0 which is incompatible.\nnumba 0.57.1 requires numpy<1.25,>=1.21, but you have numpy 1.26.4 which is incompatible.\nydata-profiling 4.5.1 requires numpy<1.24,>=1.16.0, but you have numpy 1.26.4 which is incompatible.\nydata-profiling 4.5.1 requires pydantic<2,>=1.8.1, but you have pydantic 2.11.7 which is incompatible.\u001B[0m\u001B[31m\n\u001B[0m\u001B[43mNote: you may need to restart the kernel using %restart_python or dbutils.library.restartPython() to use updated packages.\u001B[0m\n"
     ]
    }
   ],
   "source": [
    "%pip install -U -qq langchain-databricks langchain==0.3.7 langchain_community==0.3.5 wikipedia==1.4.0 youtube-search duckduckgo-search\n",
    "\n",
    "dbutils.library.restartPython()"
   ]
  },
  {
   "cell_type": "code",
   "execution_count": 0,
   "metadata": {
    "application/vnd.databricks.v1+cell": {
     "cellMetadata": {
      "byteLimit": 2048000,
      "rowLimit": 10000
     },
     "inputWidgets": {},
     "nuid": "1b2f200b-a980-40ba-a052-93ddb751adda",
     "showTitle": false,
     "tableResultSettingsMap": {},
     "title": ""
    }
   },
   "outputs": [
    {
     "output_type": "stream",
     "name": "stdout",
     "output_type": "stream",
     "text": [
      "\u001B[43mNote: you may need to restart the kernel using %restart_python or dbutils.library.restartPython() to use updated packages.\u001B[0m\n"
     ]
    },
    {
     "output_type": "stream",
     "name": "stderr",
     "output_type": "stream",
     "text": [
      "No such comm: LSP_COMM_ID\n"
     ]
    },
    {
     "output_type": "stream",
     "name": "stdout",
     "output_type": "stream",
     "text": [
      "30\n30\n"
     ]
    },
    {
     "output_type": "stream",
     "name": "stdout",
     "output_type": "stream",
     "text": [
      "\nThe examples and models presented in this course are intended solely for demonstration and educational purposes.\n Please note that the models and prompt examples may sometimes contain offensive, inaccurate, biased, or harmful content.\n"
     ]
    }
   ],
   "source": [
    "%run ../Includes/Classroom-Setup-03LAB"
   ]
  },
  {
   "cell_type": "markdown",
   "metadata": {
    "application/vnd.databricks.v1+cell": {
     "cellMetadata": {},
     "inputWidgets": {},
     "nuid": "7b6ec9a7-2b5e-454e-aeea-04587b0a3c79",
     "showTitle": false,
     "tableResultSettingsMap": {},
     "title": ""
    }
   },
   "source": [
    "**Enable MLflow Auto-Log**"
   ]
  },
  {
   "cell_type": "code",
   "execution_count": 0,
   "metadata": {
    "application/vnd.databricks.v1+cell": {
     "cellMetadata": {
      "byteLimit": 2048000,
      "rowLimit": 10000
     },
     "inputWidgets": {},
     "nuid": "30ac3aee-c0e1-4e02-9797-42f4bd63a24b",
     "showTitle": false,
     "tableResultSettingsMap": {},
     "title": ""
    }
   },
   "outputs": [],
   "source": [
    "import mlflow\n",
    "mlflow.langchain.autolog()"
   ]
  },
  {
   "cell_type": "markdown",
   "metadata": {
    "application/vnd.databricks.v1+cell": {
     "cellMetadata": {},
     "inputWidgets": {},
     "nuid": "53789ff2-83a1-4cfd-9aad-27aed112e447",
     "showTitle": false,
     "tableResultSettingsMap": {},
     "title": ""
    }
   },
   "source": [
    "**Other Conventions:**\n",
    "\n",
    "Throughout this demo, we'll refer to the object `DA`. This object, provided by Databricks Academy, contains variables such as your username, catalog name, schema name, working directory, and dataset locations. Run the code block below to view these details:"
   ]
  },
  {
   "cell_type": "code",
   "execution_count": 0,
   "metadata": {
    "application/vnd.databricks.v1+cell": {
     "cellMetadata": {
      "byteLimit": 2048000,
      "rowLimit": 10000
     },
     "inputWidgets": {},
     "nuid": "88f1bb80-f5a2-476f-ae5f-ca55a9060a7f",
     "showTitle": false,
     "tableResultSettingsMap": {},
     "title": ""
    }
   },
   "outputs": [
    {
     "output_type": "stream",
     "name": "stdout",
     "output_type": "stream",
     "text": [
      "Username:          labuser11182879_1754974636@vocareum.com\nCatalog Name:      dbacademy\nSchema Name:       labuser11182879_1754974636\nWorking Directory: /Volumes/dbacademy/ops/labuser11182879_1754974636@vocareum_com\nDataset Location:  NestedNamespace (dais='/Volumes/dbacademy_dais/v01', docs='/Volumes/dbacademy_docs/v01')\n"
     ]
    }
   ],
   "source": [
    "print(f\"Username:          {DA.username}\")\n",
    "print(f\"Catalog Name:      {DA.catalog_name}\")\n",
    "print(f\"Schema Name:       {DA.schema_name}\")\n",
    "print(f\"Working Directory: {DA.paths.working_dir}\")\n",
    "print(f\"Dataset Location:  {DA.paths.datasets}\")"
   ]
  },
  {
   "cell_type": "markdown",
   "metadata": {
    "application/vnd.databricks.v1+cell": {
     "cellMetadata": {},
     "inputWidgets": {},
     "nuid": "fba836f4-b33d-4722-8c7f-a341b59cc017",
     "showTitle": false,
     "tableResultSettingsMap": {},
     "title": ""
    }
   },
   "source": [
    "## Task 1: Define the Brain of the Agent\n",
    "\n",
    "Let's start by defining the agent brain using one of the available LLMs on Databricks.\n",
    "\n",
    "* For this lab, use **databricks-meta-llama-3-3-70b-instruct** \n",
    "\n",
    "* Define the maximum number of tokens"
   ]
  },
  {
   "cell_type": "code",
   "execution_count": 0,
   "metadata": {
    "application/vnd.databricks.v1+cell": {
     "cellMetadata": {
      "byteLimit": 2048000,
      "rowLimit": 10000
     },
     "inputWidgets": {},
     "nuid": "48a1565b-d197-4d44-a08c-d46de5c3f5b7",
     "showTitle": false,
     "tableResultSettingsMap": {},
     "title": ""
    }
   },
   "outputs": [
    {
     "output_type": "stream",
     "name": "stderr",
     "output_type": "stream",
     "text": [
      "/root/.ipykernel/8503/command-3554075450802205-465907747:5: LangChainDeprecationWarning: Use databricks_langchain.ChatDatabricks\n  llm_llama = ChatDatabricks(endpoint=\"databricks-meta-llama-3-3-70b-instruct\", max_tokens = 2500)\n"
     ]
    }
   ],
   "source": [
    "from langchain.agents import AgentType, initialize_agent\n",
    "from langchain_databricks import ChatDatabricks\n",
    "\n",
    "## define the brain\n",
    "llm_llama = ChatDatabricks(endpoint=\"databricks-meta-llama-3-3-70b-instruct\", max_tokens = 2500)"
   ]
  },
  {
   "cell_type": "code",
   "execution_count": 0,
   "metadata": {
    "application/vnd.databricks.v1+cell": {
     "cellMetadata": {
      "byteLimit": 2048000,
      "rowLimit": 10000
     },
     "inputWidgets": {},
     "nuid": "d2ab9377-c89d-47a8-8b77-ab0b86d8b3fd",
     "showTitle": false,
     "tableResultSettingsMap": {},
     "title": ""
    }
   },
   "outputs": [
    {
     "output_type": "execute_result",
     "data": {
      "text/plain": [
       "AIMessage(content=\"Hello! I'm just a language model, so I don't have feelings or emotions like humans do, but I'm functioning properly and ready to help with any questions or tasks you may have! How about you? How's your day going so far?\", additional_kwargs={}, response_metadata={'prompt_tokens': 16, 'completion_tokens': 52, 'total_tokens': 68}, id='run--ef86eab3-05be-4561-851b-0e9fa93e9c54-0')"
      ]
     },
     "execution_count": 11,
     "metadata": {},
     "output_type": "execute_result"
    },
    {
     "output_type": "display_data",
     "data": {
      "application/databricks.mlflow.trace": "\"tr-02ad5d1c3735416ea3230c2b978b5fcc\"",
      "text/plain": [
       "Trace(request_id=tr-02ad5d1c3735416ea3230c2b978b5fcc)"
      ]
     },
     "metadata": {},
     "output_type": "display_data"
    }
   ],
   "source": [
    "## let's test the brain\n",
    "llm_llama.invoke(\"Hi! How are you?\")"
   ]
  },
  {
   "cell_type": "markdown",
   "metadata": {
    "application/vnd.databricks.v1+cell": {
     "cellMetadata": {},
     "inputWidgets": {},
     "nuid": "17a8292a-8096-4e91-bc97-6f4db5f78905",
     "showTitle": false,
     "tableResultSettingsMap": {},
     "title": ""
    }
   },
   "source": [
    "## Task 2 : Define Tools that the Agent Will Use\n",
    "\n",
    "For an agent, the toolset is a crucial component to complete the defined task. The agent will reason about the next action to take and use an appropriate tool to complete that action.\n",
    "\n",
    "For our stock advisor agent, we will use the following tools:\n",
    "\n",
    "* **Wikipedia tool**: For searching company details. [[LangChain Doc](https://python.langchain.com/docs/integrations/tools/wikipedia/)]\n",
    "\n",
    "* **DuckDuckGo Search tool**: This will be used for searching the latest news and updates about a stock.[[LangChain Doc](https://python.langchain.com/docs/integrations/tools/ddg/)]\n",
    "\n",
    "* **YouTube search tool**: This will be used to search for review videos about the latest financial reports. [[LangChain Doc](https://python.langchain.com/docs/integrations/tools/youtube/)]"
   ]
  },
  {
   "cell_type": "markdown",
   "metadata": {
    "application/vnd.databricks.v1+cell": {
     "cellMetadata": {},
     "inputWidgets": {},
     "nuid": "e287b7ea-52de-4570-b887-2154f790fdc0",
     "showTitle": false,
     "tableResultSettingsMap": {},
     "title": ""
    }
   },
   "source": [
    "### Wikipedia Tool"
   ]
  },
  {
   "cell_type": "code",
   "execution_count": 0,
   "metadata": {
    "application/vnd.databricks.v1+cell": {
     "cellMetadata": {
      "byteLimit": 2048000,
      "rowLimit": 10000
     },
     "inputWidgets": {},
     "nuid": "2e8a1313-5b8a-4845-8ac1-b6b9e2efa28c",
     "showTitle": false,
     "tableResultSettingsMap": {},
     "title": ""
    }
   },
   "outputs": [],
   "source": [
    "from langchain.tools import WikipediaQueryRun\n",
    "from langchain_community.utilities import WikipediaAPIWrapper\n",
    "\n",
    "api_wrapper = WikipediaAPIWrapper(top_k_results=3, doc_content_chars_max=1000)\n",
    "tool_wiki = WikipediaQueryRun(api_wrapper=api_wrapper)"
   ]
  },
  {
   "cell_type": "code",
   "execution_count": 0,
   "metadata": {
    "application/vnd.databricks.v1+cell": {
     "cellMetadata": {
      "byteLimit": 2048000,
      "rowLimit": 10000
     },
     "inputWidgets": {},
     "nuid": "0d4468d1-829c-463c-a8b9-c88365b1b0d7",
     "showTitle": false,
     "tableResultSettingsMap": {},
     "title": ""
    }
   },
   "outputs": [
    {
     "output_type": "execute_result",
     "data": {
      "text/plain": [
       "\"Page: Apple Inc.\\nSummary: Apple Inc. is an American multinational corporation and technology company headquartered in Cupertino, California, in Silicon Valley. It is best known for its consumer electronics, software, and services. Founded in 1976 as Apple Computer Company by Steve Jobs, Steve Wozniak and Ronald Wayne, the company was incorporated by Jobs and Wozniak as Apple Computer, Inc. the following year. It was renamed Apple Inc. in 2007 as the company had expanded its focus from computers to consumer electronics. Apple is the largest technology company by revenue, with US$391.04 billion in the 2024 fiscal year.\\nThe company was founded to produce and market Wozniak's Apple I personal computer. Its second computer, the Apple II, became a best seller as one of the first mass-produced microcomputers. Apple introduced the Lisa in 1983 and the Macintosh in 1984, as some of the first computers to use a graphical user interface and a mouse. By 1985, internal company problems led to Jobs \""
      ]
     },
     "execution_count": 13,
     "metadata": {},
     "output_type": "execute_result"
    },
    {
     "output_type": "display_data",
     "data": {
      "application/databricks.mlflow.trace": "\"tr-92a57c6ee72e4858ad2b4c074f2eb07e\"",
      "text/plain": [
       "Trace(request_id=tr-92a57c6ee72e4858ad2b4c074f2eb07e)"
      ]
     },
     "metadata": {},
     "output_type": "display_data"
    }
   ],
   "source": [
    "## Test the Wikipedia tool\n",
    "tool_wiki.run(\"Apple company history\")"
   ]
  },
  {
   "cell_type": "markdown",
   "metadata": {
    "application/vnd.databricks.v1+cell": {
     "cellMetadata": {},
     "inputWidgets": {},
     "nuid": "b4e1298b-8a09-463c-9b89-73ed538f2b06",
     "showTitle": false,
     "tableResultSettingsMap": {},
     "title": ""
    }
   },
   "source": [
    "### DuckDuckGo Search Tool"
   ]
  },
  {
   "cell_type": "code",
   "execution_count": 0,
   "metadata": {
    "application/vnd.databricks.v1+cell": {
     "cellMetadata": {
      "byteLimit": 2048000,
      "rowLimit": 10000
     },
     "inputWidgets": {},
     "nuid": "cfe851fd-f797-4390-aaec-b5c3c36e5b4a",
     "showTitle": false,
     "tableResultSettingsMap": {},
     "title": ""
    }
   },
   "outputs": [],
   "source": [
    "## DuckDuckGo Search Tool\n",
    "from langchain_community.tools.ddg_search import DuckDuckGoSearchRun\n",
    "\n",
    "tool_news = DuckDuckGoSearchRun()"
   ]
  },
  {
   "cell_type": "code",
   "execution_count": 0,
   "metadata": {
    "application/vnd.databricks.v1+cell": {
     "cellMetadata": {
      "byteLimit": 2048000,
      "rowLimit": 10000
     },
     "inputWidgets": {},
     "nuid": "3df5973b-f917-4363-be40-749888ebcd87",
     "showTitle": false,
     "tableResultSettingsMap": {},
     "title": ""
    }
   },
   "outputs": [
    {
     "output_type": "stream",
     "name": "stderr",
     "output_type": "stream",
     "text": [
      "/local_disk0/.ephemeral_nfs/envs/pythonEnv-4878a7f2-7fe8-4a6d-a0e4-27bf0d98e559/lib/python3.11/site-packages/langchain_community/utilities/duckduckgo_search.py:63: RuntimeWarning: This package (`duckduckgo_search`) has been renamed to `ddgs`! Use `pip install ddgs` instead.\n  with DDGS() as ddgs:\n/local_disk0/.ephemeral_nfs/envs/pythonEnv-4878a7f2-7fe8-4a6d-a0e4-27bf0d98e559/lib/python3.11/site-packages/langchain_community/utilities/duckduckgo_search.py:64: UserWarning: backend='api' is deprecated, using backend='auto'\n  ddgs_gen = ddgs.text(\n"
     ]
    },
    {
     "output_type": "execute_result",
     "data": {
      "text/plain": [
       "\"The latest lottery results, news and information for UK National Lottery draws including Lotto and more. From The National Lottery comes the Lotto Game. Lotto is the original lottery game. It's been loved by millions since 1994. You could become the UK’s latest millionaire by winning the … May 27, 2023 · From The National Lottery comes the Lotto Game. Lotto is the original lottery game. It's been loved by millions since 1994. You could become the UK’s latest millionaire by … The latest Lotto HotPicks results, news and information for UK National Lottery draws including Lotto and more. From The National Lottery comes the Lotto Game. Lotto is the original lottery game. It's been loved by millions since 1994. You could become the UK’s latest millionaire by winning the …\""
      ]
     },
     "execution_count": 15,
     "metadata": {},
     "output_type": "execute_result"
    },
    {
     "output_type": "display_data",
     "data": {
      "application/databricks.mlflow.trace": "\"tr-1db3ad1ebde2434dabb53230b3d7b864\"",
      "text/plain": [
       "Trace(request_id=tr-1db3ad1ebde2434dabb53230b3d7b864)"
      ]
     },
     "metadata": {},
     "output_type": "display_data"
    }
   ],
   "source": [
    "## Test DuckDuckGo tool\n",
    "tool_news.run(\"Latest news about Apple stock\")"
   ]
  },
  {
   "cell_type": "markdown",
   "metadata": {
    "application/vnd.databricks.v1+cell": {
     "cellMetadata": {},
     "inputWidgets": {},
     "nuid": "6ba65e95-a67f-47b1-b8df-581de70e923f",
     "showTitle": false,
     "tableResultSettingsMap": {},
     "title": ""
    }
   },
   "source": [
    "### YouTube Search Tool"
   ]
  },
  {
   "cell_type": "code",
   "execution_count": 0,
   "metadata": {
    "application/vnd.databricks.v1+cell": {
     "cellMetadata": {
      "byteLimit": 2048000,
      "rowLimit": 10000
     },
     "inputWidgets": {},
     "nuid": "cde2d21e-bf1a-47bc-acac-187564eda391",
     "showTitle": false,
     "tableResultSettingsMap": {},
     "title": ""
    }
   },
   "outputs": [
    {
     "output_type": "stream",
     "name": "stderr",
     "output_type": "stream",
     "text": [
      "<frozen importlib._bootstrap>:1047: ImportWarning: ImportHookFinder.find_spec() not found; falling back to find_module()\n<frozen importlib._bootstrap>:1047: ImportWarning: ImportHookFinder.find_spec() not found; falling back to find_module()\n"
     ]
    }
   ],
   "source": [
    "from langchain_community.tools import YouTubeSearchTool\n",
    "\n",
    "tool_youtube = YouTubeSearchTool()"
   ]
  },
  {
   "cell_type": "code",
   "execution_count": 0,
   "metadata": {
    "application/vnd.databricks.v1+cell": {
     "cellMetadata": {
      "byteLimit": 2048000,
      "rowLimit": 10000
     },
     "inputWidgets": {},
     "nuid": "290dd9ec-0443-47c6-9805-d3f796aefaf6",
     "showTitle": false,
     "tableResultSettingsMap": {},
     "title": ""
    }
   },
   "outputs": [
    {
     "output_type": "stream",
     "name": "stderr",
     "output_type": "stream",
     "text": [
      "<frozen importlib._bootstrap>:1047: ImportWarning: ImportHookFinder.find_spec() not found; falling back to find_module()\n"
     ]
    },
    {
     "output_type": "execute_result",
     "data": {
      "text/plain": [
       "\"['https://www.youtube.com/watch?v=VZ4dKqocSu0&pp=ygUTQXBwbGUgY29tcGFueSBzdG9jaw%3D%3D', 'https://www.youtube.com/watch?v=yvQluY2wIeU&pp=ygUTQXBwbGUgY29tcGFueSBzdG9jaw%3D%3D']\""
      ]
     },
     "execution_count": 17,
     "metadata": {},
     "output_type": "execute_result"
    },
    {
     "output_type": "display_data",
     "data": {
      "application/databricks.mlflow.trace": "\"tr-b17d0f074e064b31811305989e833a8e\"",
      "text/plain": [
       "Trace(request_id=tr-b17d0f074e064b31811305989e833a8e)"
      ]
     },
     "metadata": {},
     "output_type": "display_data"
    }
   ],
   "source": [
    "## Test the YouTube search tool \n",
    "tool_youtube.run(\"Apple company stock\")"
   ]
  },
  {
   "cell_type": "markdown",
   "metadata": {
    "application/vnd.databricks.v1+cell": {
     "cellMetadata": {},
     "inputWidgets": {},
     "nuid": "a9408727-f5eb-487d-aa58-d232c44b027a",
     "showTitle": false,
     "tableResultSettingsMap": {},
     "title": ""
    }
   },
   "source": [
    "### Define Toolset\n",
    "\n",
    "Next, add all tools together to be used in the next step."
   ]
  },
  {
   "cell_type": "code",
   "execution_count": 0,
   "metadata": {
    "application/vnd.databricks.v1+cell": {
     "cellMetadata": {
      "byteLimit": 2048000,
      "rowLimit": 10000
     },
     "inputWidgets": {},
     "nuid": "25ea59e9-bd98-41e5-bfcd-97e8da6ef4e7",
     "showTitle": false,
     "tableResultSettingsMap": {},
     "title": ""
    }
   },
   "outputs": [],
   "source": [
    "tools = [tool_wiki, tool_youtube, tool_news]"
   ]
  },
  {
   "cell_type": "markdown",
   "metadata": {
    "application/vnd.databricks.v1+cell": {
     "cellMetadata": {},
     "inputWidgets": {},
     "nuid": "94966f94-c1a8-45b1-afd2-014fbd30c842",
     "showTitle": false,
     "tableResultSettingsMap": {},
     "title": ""
    }
   },
   "source": [
    "## Task 3: Define Agent Logic\n",
    "\n",
    "An agent requires a planning prompt that defines how it should **reason and act**. LangChain provides a few ready-to-use prompt templates through its **[LangChain Hub](https://smith.langchain.com/hub)**, including those that follow the **ReAct (Reason + Act)** style.\n",
    "\n",
    "In this task, you'll pull a pre-defined ReAct-style prompt from LangChain Hub, which is designed to work with tool-using agents.\n",
    "\n",
    "> \uD83D\uDCA1 Using the Hub simplifies your code and ensures you're working with prompt templates that are community-tested and regularly maintained.\n",
    "\n",
    "\uD83D\uDCDA [Learn more: LangChain Agent Executor Documentation](https://python.langchain.com/docs/how_to/agent_executor/#create-the-agent)"
   ]
  },
  {
   "cell_type": "code",
   "execution_count": 0,
   "metadata": {
    "application/vnd.databricks.v1+cell": {
     "cellMetadata": {
      "byteLimit": 2048000,
      "rowLimit": 10000
     },
     "inputWidgets": {},
     "nuid": "0f52faae-9d64-4a69-8f71-d4288d209801",
     "showTitle": false,
     "tableResultSettingsMap": {},
     "title": ""
    }
   },
   "outputs": [
    {
     "output_type": "stream",
     "name": "stderr",
     "output_type": "stream",
     "text": [
      "<frozen importlib._bootstrap>:1047: ImportWarning: ImportHookFinder.find_spec() not found; falling back to find_module()\n/local_disk0/.ephemeral_nfs/envs/pythonEnv-4878a7f2-7fe8-4a6d-a0e4-27bf0d98e559/lib/python3.11/site-packages/langsmith/client.py:241: LangSmithMissingAPIKeyWarning: API key must be provided when using hosted LangSmith API\n  warnings.warn(\n<frozen importlib._bootstrap>:1047: ImportWarning: ImportHookFinder.find_spec() not found; falling back to find_module()\n"
     ]
    },
    {
     "output_type": "execute_result",
     "data": {
      "text/plain": [
       "[SystemMessagePromptTemplate(prompt=PromptTemplate(input_variables=[], input_types={}, partial_variables={}, template='You are a helpful assistant'), additional_kwargs={}),\n",
       " MessagesPlaceholder(variable_name='chat_history', optional=True),\n",
       " HumanMessagePromptTemplate(prompt=PromptTemplate(input_variables=['input'], input_types={}, partial_variables={}, template='{input}'), additional_kwargs={}),\n",
       " MessagesPlaceholder(variable_name='agent_scratchpad')]"
      ]
     },
     "execution_count": 19,
     "metadata": {},
     "output_type": "execute_result"
    }
   ],
   "source": [
    "## Import LangChain Hub\n",
    "from langchain import hub\n",
    "\n",
    "## Pull a ReAct-style prompt for function/tool-calling agents\n",
    "prompt = hub.pull(\"hwchase17/openai-functions-agent\")\n",
    "\n",
    "## Display the prompt structure\n",
    "prompt.messages"
   ]
  },
  {
   "cell_type": "markdown",
   "metadata": {
    "application/vnd.databricks.v1+cell": {
     "cellMetadata": {},
     "inputWidgets": {},
     "nuid": "81ca4374-db28-45c3-9029-91b89915fbda",
     "showTitle": false,
     "tableResultSettingsMap": {},
     "title": ""
    }
   },
   "source": [
    "## Task 4: Create the Agent\n",
    "\n",
    "The final step is to create the agent using the LLM, planning prompt and toolset."
   ]
  },
  {
   "cell_type": "code",
   "execution_count": 0,
   "metadata": {
    "application/vnd.databricks.v1+cell": {
     "cellMetadata": {
      "byteLimit": 2048000,
      "rowLimit": 10000
     },
     "inputWidgets": {},
     "nuid": "3c6f1203-1e85-4db9-911d-bc154061728a",
     "showTitle": false,
     "tableResultSettingsMap": {},
     "title": ""
    }
   },
   "outputs": [],
   "source": [
    "from langchain.agents import AgentExecutor, create_tool_calling_agent\n",
    "\n",
    "agent = create_tool_calling_agent(llm_llama, tools, prompt)\n",
    "agent_exec  = AgentExecutor(agent=agent, tools=tools, verbose=True, handle_parsing_errors=True)"
   ]
  },
  {
   "cell_type": "markdown",
   "metadata": {
    "application/vnd.databricks.v1+cell": {
     "cellMetadata": {},
     "inputWidgets": {},
     "nuid": "46513cf8-3078-4b17-b3da-0ea86db8acd0",
     "showTitle": false,
     "tableResultSettingsMap": {},
     "title": ""
    }
   },
   "source": [
    "## Task 5: Run the Agent\n",
    "\n",
    "Let's test the agent!\n",
    "\n",
    "Note: YouTube search might not return the best results. For better results, you could use a paid API/Service that supports better search.\n",
    "\n",
    "**Use this prompt:**\n",
    "<blockquote>\n",
    "What do you think about investing in Apple stock? Provide an overview of the latest news about the company. Next, search a video on YouTube which reviews Apple's latest financials.\n",
    "\n",
    "Format the final answer as HTML.\n",
    "</blockquote>\n"
   ]
  },
  {
   "cell_type": "code",
   "execution_count": 0,
   "metadata": {
    "application/vnd.databricks.v1+cell": {
     "cellMetadata": {
      "byteLimit": 2048000,
      "rowLimit": 10000
     },
     "inputWidgets": {},
     "nuid": "f9b8b915-9808-4e55-a6a5-bad21f39bf65",
     "showTitle": false,
     "tableResultSettingsMap": {},
     "title": ""
    }
   },
   "outputs": [
    {
     "output_type": "stream",
     "name": "stdout",
     "output_type": "stream",
     "text": [
      "\n\n\u001B[1m> Entering new AgentExecutor chain...\u001B[0m\n"
     ]
    },
    {
     "output_type": "stream",
     "name": "stderr",
     "output_type": "stream",
     "text": [
      "<frozen importlib._bootstrap>:1047: ImportWarning: ImportHookFinder.find_spec() not found; falling back to find_module()\n<frozen importlib._bootstrap>:1047: ImportWarning: ImportHookFinder.find_spec() not found; falling back to find_module()\n<frozen importlib._bootstrap>:1047: ImportWarning: ImportHookFinder.find_spec() not found; falling back to find_module()\n"
     ]
    },
    {
     "output_type": "stream",
     "name": "stdout",
     "output_type": "stream",
     "text": [
      "\u001B[32;1m\u001B[1;3m<p>Investing in Apple stock can be a viable option for those looking to diversify their portfolio with a well-established technology company. As one of the world's largest and most successful companies, Apple has a strong track record of innovation and customer loyalty. However, it's essential to stay up-to-date with the latest news and trends affecting the company's stock performance.</p>\n\n<p>To get an overview of the latest news about Apple, let's check what's currently available on DuckDuckGo:</p>\n<function=duckduckgo_search>{\"query\": \"Apple latest news)}</function>\u001B[0m\n\n\u001B[1m> Finished chain.\u001B[0m\n"
     ]
    },
    {
     "output_type": "display_data",
     "data": {
      "text/html": [
       "<p>Investing in Apple stock can be a viable option for those looking to diversify their portfolio with a well-established technology company. As one of the world's largest and most successful companies, Apple has a strong track record of innovation and customer loyalty. However, it's essential to stay up-to-date with the latest news and trends affecting the company's stock performance.</p>\n",
       "\n",
       "<p>To get an overview of the latest news about Apple, let's check what's currently available on DuckDuckGo:</p>\n",
       "<function=duckduckgo_search>{\"query\": \"Apple latest news)}</function>"
      ]
     },
     "metadata": {},
     "output_type": "display_data"
    },
    {
     "output_type": "display_data",
     "data": {
      "application/databricks.mlflow.trace": "\"tr-fcc9bcdd99e9464186f1227fcf116ea8\"",
      "text/plain": [
       "Trace(request_id=tr-fcc9bcdd99e9464186f1227fcf116ea8)"
      ]
     },
     "metadata": {},
     "output_type": "display_data"
    }
   ],
   "source": [
    "response = agent_exec.invoke({\"input\": \n",
    "    \"\"\"\n",
    "    What do you think about investing in Apple stock? Provide an overview of the latest news about the company. Next, search a video on YouTube which reviews Apple's latest financials.\n",
    "\n",
    "    Format the final answer as HTML.\n",
    "    \"\"\"})\n",
    "\n",
    "displayHTML(response[\"output\"])"
   ]
  },
  {
   "cell_type": "markdown",
   "metadata": {
    "application/vnd.databricks.v1+cell": {
     "cellMetadata": {},
     "inputWidgets": {},
     "nuid": "25462141-d911-47e8-afef-b04da66d57e9",
     "showTitle": false,
     "tableResultSettingsMap": {},
     "title": ""
    }
   },
   "source": [
    "It seems like the agent uses company name only when searching for videos. **Let's play with the prompt to get better results.**\n",
    "\n",
    "In real-world, the agent would be used in a conversational way and we would just chat with the agent to tweak the search query or to adjust the response in a desired format. \n",
    "\n",
    "**Use this prompt:**\n",
    "<blockquote>\n",
    "What do you think about investing in Apple stock? Provide an overview of the latest news about the company. Next, search a video on YouTube which reviews Apple's latest financials.\n",
    "\n",
    "When searching on YouTube use such as \"Apple  stock finance investment earnings valuation\".\n",
    "\n",
    "Write a nice summary of the results.\n",
    "\n",
    "Format the final answer as HTML.\n",
    "</blockquote>"
   ]
  },
  {
   "cell_type": "code",
   "execution_count": 0,
   "metadata": {
    "application/vnd.databricks.v1+cell": {
     "cellMetadata": {
      "byteLimit": 2048000,
      "rowLimit": 10000
     },
     "inputWidgets": {},
     "nuid": "22d58826-5e91-4d1a-91ed-ad780da4e595",
     "showTitle": false,
     "tableResultSettingsMap": {},
     "title": ""
    }
   },
   "outputs": [
    {
     "output_type": "stream",
     "name": "stdout",
     "output_type": "stream",
     "text": [
      "\n\n\u001B[1m> Entering new AgentExecutor chain...\u001B[0m\n\u001B[32;1m\u001B[1;3m\nInvoking: `duckduckgo_search` with `{'query': 'Apple latest news'}`\n\n\n\u001B[0m"
     ]
    },
    {
     "output_type": "stream",
     "name": "stderr",
     "output_type": "stream",
     "text": [
      "/local_disk0/.ephemeral_nfs/envs/pythonEnv-4878a7f2-7fe8-4a6d-a0e4-27bf0d98e559/lib/python3.11/site-packages/langchain_community/utilities/duckduckgo_search.py:63: RuntimeWarning: This package (`duckduckgo_search`) has been renamed to `ddgs`! Use `pip install ddgs` instead.\n  with DDGS() as ddgs:\n/local_disk0/.ephemeral_nfs/envs/pythonEnv-4878a7f2-7fe8-4a6d-a0e4-27bf0d98e559/lib/python3.11/site-packages/langchain_community/utilities/duckduckgo_search.py:64: UserWarning: backend='api' is deprecated, using backend='auto'\n  ddgs_gen = ddgs.text(\n"
     ]
    },
    {
     "output_type": "stream",
     "name": "stdout",
     "output_type": "stream",
     "text": [
      "\u001B[38;5;200m\u001B[1;3m1 day ago · Apple News and RumorsApple also continues to test the new Siri with its own apps, he said. Apple's own example was an iPhone user asking Siri about their mother's flight and lunch …Apple added Thunderbolt 5 connectivity to its latest M4 Pro and M4 Max machines, …iPhone 16e Can i return an apple product within 14 days if, within the 14 days, it has …AirPods 4 are Apple's newest AirPods with improved sound and comfort. Two models …Otherwise, reliable Black Friday deals every year include those on Apple TV 4K, …Apple Pay is Apple's mobile payment service, which lets users with an iPhone 6 or …Apple says the Pro Display XDR features the industry's best polarizer technology for a …Apple Studio Display Apple's 27-inch 5K display with A13 chip, 12-megapixel …Apple's revamped 4K Apple TV features an A15 Bionic processor, 64GB or 128GB of … 3 days ago · Taking a look back at this week’s news and headlines from across the Apple world, including iPhone 17 launch dates,iPhone 17 Pro pricing, leaked MacBook Pro upgrades, improving … 6 hours ago · Apple is expected to unveil the iPhone 17 lineup on Sept. 9, with leaks pointing to design changes, upgraded cameras, and possible price increases for the Pro models. 3 days ago · Find latest Apple News on Gadgets 360. Get the latest apple news headlines including analysis on top apple news, stories, photos and more on apple 6 days ago · The Cook-Trump meeting will mark the rise of Apple's total investment in the U.S. to $600 billion over the next four years, a White House official said.\u001B[0m\u001B[32;1m\u001B[1;3m\nInvoking: `youtube_search` with `{'query': 'Apple stock finance investment earnings valuation'}`\n\n\n\u001B[0m\u001B[33;1m\u001B[1;3m['https://www.youtube.com/watch?v=seWLO2qAPcY&pp=ygUxQXBwbGUgc3RvY2sgZmluYW5jZSBpbnZlc3RtZW50IGVhcm5pbmdzIHZhbHVhdGlvbg%3D%3D', 'https://www.youtube.com/watch?v=HvOrs-mO2Zo&pp=ygUxQXBwbGUgc3RvY2sgZmluYW5jZSBpbnZlc3RtZW50IGVhcm5pbmdzIHZhbHVhdGlvbg%3D%3D']\u001B[0m\u001B[32;1m\u001B[1;3m<p>Investing in Apple stock can be a viable option for those looking to diversify their portfolio. Recently, Apple has been testing its new Siri with its own apps and has added Thunderbolt 5 connectivity to its latest M4 Pro and M4 Max machines. The company has also released new AirPods with improved sound and comfort, and its Pro Display XDR features the industry's best polarizer technology.</p>\n\n<p>In terms of financials, Apple is expected to unveil its iPhone 17 lineup on September 9, with leaks pointing to design changes, upgraded cameras, and possible price increases for the Pro models. The company has also announced that it will be investing $600 billion in the US over the next four years.</p>\n\n<p>A video on YouTube reviewing Apple's latest financials can be found at https://www.youtube.com/watch?v=seWLO2qAPcY and https://www.youtube.com/watch?v=HvOrs-mO2Zo. These videos provide an in-depth analysis of Apple's financial performance and offer insights into the company's future prospects.</p>\n\n<p>Overall, Apple's latest news and financials suggest that the company is continuing to innovate and invest in its products and services. While there are risks associated with investing in any stock, Apple's strong track record and commitment to innovation make it an attractive option for investors.</p>\u001B[0m\n\n\u001B[1m> Finished chain.\u001B[0m\n"
     ]
    },
    {
     "output_type": "display_data",
     "data": {
      "text/html": [
       "<p>Investing in Apple stock can be a viable option for those looking to diversify their portfolio. Recently, Apple has been testing its new Siri with its own apps and has added Thunderbolt 5 connectivity to its latest M4 Pro and M4 Max machines. The company has also released new AirPods with improved sound and comfort, and its Pro Display XDR features the industry's best polarizer technology.</p>\n",
       "\n",
       "<p>In terms of financials, Apple is expected to unveil its iPhone 17 lineup on September 9, with leaks pointing to design changes, upgraded cameras, and possible price increases for the Pro models. The company has also announced that it will be investing $600 billion in the US over the next four years.</p>\n",
       "\n",
       "<p>A video on YouTube reviewing Apple's latest financials can be found at https://www.youtube.com/watch?v=seWLO2qAPcY and https://www.youtube.com/watch?v=HvOrs-mO2Zo. These videos provide an in-depth analysis of Apple's financial performance and offer insights into the company's future prospects.</p>\n",
       "\n",
       "<p>Overall, Apple's latest news and financials suggest that the company is continuing to innovate and invest in its products and services. While there are risks associated with investing in any stock, Apple's strong track record and commitment to innovation make it an attractive option for investors.</p>"
      ]
     },
     "metadata": {},
     "output_type": "display_data"
    },
    {
     "output_type": "display_data",
     "data": {
      "application/databricks.mlflow.trace": "\"tr-0bee5ded1adf461b8353d95f0eaba199\"",
      "text/plain": [
       "Trace(request_id=tr-0bee5ded1adf461b8353d95f0eaba199)"
      ]
     },
     "metadata": {},
     "output_type": "display_data"
    }
   ],
   "source": [
    "response = agent_exec.invoke({\"input\": \n",
    "    \"\"\"\n",
    "    What do you think about investing in Apple stock? Provide an overview of the latest news about the company. Next, search a video on YouTube which reviews Apple's latest financials.\n",
    "    When searching on YouTube use such as \"Apple  stock finance investment earnings valuation\".\n",
    "\n",
    "    Write a nice summary of the results.\n",
    "\n",
    "    Format the final answer as HTML.\n",
    "\n",
    "    \"\"\"})\n",
    "displayHTML(response[\"output\"])"
   ]
  },
  {
   "cell_type": "markdown",
   "metadata": {
    "application/vnd.databricks.v1+cell": {
     "cellMetadata": {},
     "inputWidgets": {},
     "nuid": "7a3c3a61-fdf1-405e-85b4-4012deb81e4b",
     "showTitle": false,
     "tableResultSettingsMap": {},
     "title": ""
    }
   },
   "source": [
    "\n",
    "## Conclusion\n",
    "\n",
    "In this lab, you successfully created a virtual stock advisor agent using the ReAct prompting framework. By defining the agent's brain, tools, logic, and execution flow, you demonstrated how the agent can interact with various data sources to provide investment insights."
   ]
  },
  {
   "cell_type": "markdown",
   "metadata": {
    "application/vnd.databricks.v1+cell": {
     "cellMetadata": {},
     "inputWidgets": {},
     "nuid": "34ada37e-d533-4532-976b-2daeaa9b95df",
     "showTitle": false,
     "tableResultSettingsMap": {},
     "title": ""
    }
   },
   "source": [
    "\n",
    "&copy; 2025 Databricks, Inc. All rights reserved. Apache, Apache Spark, Spark, the Spark Logo, Apache Iceberg, Iceberg, and the Apache Iceberg logo are trademarks of the <a href=\"https://www.apache.org/\" target=\"blank\">Apache Software Foundation</a>.<br/>\n",
    "<br/><a href=\"https://databricks.com/privacy-policy\" target=\"blank\">Privacy Policy</a> | \n",
    "<a href=\"https://databricks.com/terms-of-use\" target=\"blank\">Terms of Use</a> | \n",
    "<a href=\"https://help.databricks.com/\" target=\"blank\">Support</a>"
   ]
  }
 ],
 "metadata": {
  "application/vnd.databricks.v1+notebook": {
   "computePreferences": null,
   "dashboards": [],
   "environmentMetadata": null,
   "inputWidgetPreferences": null,
   "language": "python",
   "notebookMetadata": {
    "pythonIndentUnit": 4
   },
   "notebookName": "3.LAB - Create a ReAct Agent",
   "widgets": {}
  },
  "language_info": {
   "name": "python"
  }
 },
 "nbformat": 4,
 "nbformat_minor": 0
}